{
  "nbformat": 4,
  "nbformat_minor": 0,
  "metadata": {
    "colab": {
      "name": "In_class_exercise_06.ipynb",
      "provenance": [],
      "collapsed_sections": [],
      "toc_visible": true,
      "include_colab_link": true
    },
    "kernelspec": {
      "display_name": "Python 3",
      "language": "python",
      "name": "python3"
    },
    "language_info": {
      "codemirror_mode": {
        "name": "ipython",
        "version": 3
      },
      "file_extension": ".py",
      "mimetype": "text/x-python",
      "name": "python",
      "nbconvert_exporter": "python",
      "pygments_lexer": "ipython3",
      "version": "3.7.4"
    }
  },
  "cells": [
    {
      "cell_type": "markdown",
      "metadata": {
        "id": "view-in-github",
        "colab_type": "text"
      },
      "source": [
        "<a href=\"https://colab.research.google.com/github/rajitakolla/computational_methods/blob/master/In_class_exercise_06.ipynb\" target=\"_parent\"><img src=\"https://colab.research.google.com/assets/colab-badge.svg\" alt=\"Open In Colab\"/></a>"
      ]
    },
    {
      "cell_type": "markdown",
      "metadata": {
        "id": "z7TahL04sVvR"
      },
      "source": [
        "# **The sixth in-class-exercise (20 points in total, 10/14/2020)**"
      ]
    },
    {
      "cell_type": "markdown",
      "metadata": {
        "id": "ejyZITr8sjnh"
      },
      "source": [
        "## **1. Rule-based information extraction (10 points)**\n",
        "\n",
        "Use any keywords related to data science, natural language processing, machine learning to search from google scholar, get the **titles** of 100 articles (either by web scraping or manually) about this topic, define a set of patterns to extract the research questions/problems, methods/algorithms/models, datasets, applications, or any other important information about this topic. "
      ]
    },
    {
      "cell_type": "code",
      "metadata": {
        "id": "wDrGoFxecxjy",
        "outputId": "a8a6d9b3-3da5-4457-a7b4-abce9cf8ed13",
        "colab": {
          "base_uri": "https://localhost:8080/",
          "height": 1000
        }
      },
      "source": [
        "import pandas as pd\n",
        "\n",
        "files = pd.read_csv(\"/content/q1_data.csv\")\n",
        "\n",
        "files"
      ],
      "execution_count": 63,
      "outputs": [
        {
          "output_type": "execute_result",
          "data": {
            "text/html": [
              "<div>\n",
              "<style scoped>\n",
              "    .dataframe tbody tr th:only-of-type {\n",
              "        vertical-align: middle;\n",
              "    }\n",
              "\n",
              "    .dataframe tbody tr th {\n",
              "        vertical-align: top;\n",
              "    }\n",
              "\n",
              "    .dataframe thead th {\n",
              "        text-align: right;\n",
              "    }\n",
              "</style>\n",
              "<table border=\"1\" class=\"dataframe\">\n",
              "  <thead>\n",
              "    <tr style=\"text-align: right;\">\n",
              "      <th></th>\n",
              "      <th>Title</th>\n",
              "      <th>Author</th>\n",
              "    </tr>\n",
              "  </thead>\n",
              "  <tbody>\n",
              "    <tr>\n",
              "      <th>0</th>\n",
              "      <td>Data science in action</td>\n",
              "      <td>W Van Der Aalst - Process mining, 2016 - Springer</td>\n",
              "    </tr>\n",
              "    <tr>\n",
              "      <th>1</th>\n",
              "      <td>Data science and its relationship to big data ...</td>\n",
              "      <td>F Provost, T Fawcett - Big data, 2013 - lieber...</td>\n",
              "    </tr>\n",
              "    <tr>\n",
              "      <th>2</th>\n",
              "      <td>Data Science for Business: What you need to kn...</td>\n",
              "      <td>F Provost, T Fawcett - 2013 - books.google.com</td>\n",
              "    </tr>\n",
              "    <tr>\n",
              "      <th>3</th>\n",
              "      <td>Data science and prediction</td>\n",
              "      <td>V Dhar - Communications of the ACM, 2013 - dl....</td>\n",
              "    </tr>\n",
              "    <tr>\n",
              "      <th>4</th>\n",
              "      <td>Data science, predictive analytics, and big da...</td>\n",
              "      <td>MA Waller, SE Fawcett - Journal of Business Lo...</td>\n",
              "    </tr>\n",
              "    <tr>\n",
              "      <th>5</th>\n",
              "      <td>The quantified self: Fundamental disruption in...</td>\n",
              "      <td>M Swan - Big data, 2013 - liebertpub.com</td>\n",
              "    </tr>\n",
              "    <tr>\n",
              "      <th>6</th>\n",
              "      <td>Big data: astronomical or genomical?</td>\n",
              "      <td>ZD Stephens, SY Lee, F Faghri, RH Campbell… - ...</td>\n",
              "    </tr>\n",
              "    <tr>\n",
              "      <th>7</th>\n",
              "      <td>Data Mining</td>\n",
              "      <td>DJ Hand, NM Adams - Wiley StatsRef: Statistics...</td>\n",
              "    </tr>\n",
              "    <tr>\n",
              "      <th>8</th>\n",
              "      <td>The fourth paradigm: data-intensive scientific...</td>\n",
              "      <td>T Hey, S Tansley, K Tolle - 2009 - indico.esrf.fr</td>\n",
              "    </tr>\n",
              "    <tr>\n",
              "      <th>9</th>\n",
              "      <td>A survey of data provenance in e-science</td>\n",
              "      <td>YL Simmhan, B Plale, D Gannon - ACM Sigmod Rec...</td>\n",
              "    </tr>\n",
              "    <tr>\n",
              "      <th>10</th>\n",
              "      <td>Analyzing social science data: 50 key problems...</td>\n",
              "      <td>D De Vaus - 2002 - books.google.com</td>\n",
              "    </tr>\n",
              "    <tr>\n",
              "      <th>11</th>\n",
              "      <td>Analyzing incomplete political science data: A...</td>\n",
              "      <td>G King, J Honaker, A Joseph, K Scheve - Americ...</td>\n",
              "    </tr>\n",
              "    <tr>\n",
              "      <th>12</th>\n",
              "      <td>Cloudy, increasingly FAIR; revisiting the FAIR...</td>\n",
              "      <td>B Mons, C Neylon, J Velterop… - … Services &amp; U...</td>\n",
              "    </tr>\n",
              "    <tr>\n",
              "      <th>13</th>\n",
              "      <td>Mastering data mining: The art and science of ...</td>\n",
              "      <td>MA Berry, GS Linoff - Industrial Management &amp; ...</td>\n",
              "    </tr>\n",
              "    <tr>\n",
              "      <th>14</th>\n",
              "      <td>The data deluge: An e-science perspective</td>\n",
              "      <td>T Hey, A Trefethen - … : Making the global inf...</td>\n",
              "    </tr>\n",
              "    <tr>\n",
              "      <th>15</th>\n",
              "      <td>The analysis of social science data with missi...</td>\n",
              "      <td>RJA Little, DB Rubin - Sociological Methods &amp; ...</td>\n",
              "    </tr>\n",
              "    <tr>\n",
              "      <th>16</th>\n",
              "      <td>Analysis of multivariate social science data</td>\n",
              "      <td>DJ Bartholomew, F Steele, I Moustaki - 2008 - ...</td>\n",
              "    </tr>\n",
              "    <tr>\n",
              "      <th>17</th>\n",
              "      <td>ENDF/B-VII. 1 nuclear data for science and tec...</td>\n",
              "      <td>MB Chadwick, M Herman, P Obložinský, ME Dunn… ...</td>\n",
              "    </tr>\n",
              "    <tr>\n",
              "      <th>18</th>\n",
              "      <td>Online analysis enhances use of NASA earth sci...</td>\n",
              "      <td>JG Acker, G Leptoukh - Eos, Transactions Ameri...</td>\n",
              "    </tr>\n",
              "    <tr>\n",
              "      <th>19</th>\n",
              "      <td>Statistics: methods and applications: a compre...</td>\n",
              "      <td>T Hill, P Lewicki, P Lewicki - 2006 - books.go...</td>\n",
              "    </tr>\n",
              "    <tr>\n",
              "      <th>20</th>\n",
              "      <td>AIRS/AMSU/HSB on the Aqua mission: Design, sci...</td>\n",
              "      <td>HH Aumann, MT Chahine, C Gautier… - … on Geosc...</td>\n",
              "    </tr>\n",
              "    <tr>\n",
              "      <th>21</th>\n",
              "      <td>The role of anomalous data in knowledge acquis...</td>\n",
              "      <td>CA Chinn, WF Brewer - Review of educational re...</td>\n",
              "    </tr>\n",
              "    <tr>\n",
              "      <th>22</th>\n",
              "      <td>ENDF/B-VII. 0: next generation evaluated nucle...</td>\n",
              "      <td>MB Chadwick, P Obložinský, M Herman, NM Greene...</td>\n",
              "    </tr>\n",
              "    <tr>\n",
              "      <th>23</th>\n",
              "      <td>Citation indexes for science</td>\n",
              "      <td>E Garfield - Science, 1955 - JSTOR</td>\n",
              "    </tr>\n",
              "    <tr>\n",
              "      <th>24</th>\n",
              "      <td>Discovering knowledge in data: an introduction...</td>\n",
              "      <td>DT Larose, CD Larose - 2014 - books.google.com</td>\n",
              "    </tr>\n",
              "    <tr>\n",
              "      <th>25</th>\n",
              "      <td>Machine learning: the art and science of algor...</td>\n",
              "      <td>P Flach - 2012 - books.google.com</td>\n",
              "    </tr>\n",
              "    <tr>\n",
              "      <th>26</th>\n",
              "      <td>Opening the archive: How free data has enabled...</td>\n",
              "      <td>MA Wulder, JG Masek, WB Cohen, TR Loveland… - ...</td>\n",
              "    </tr>\n",
              "    <tr>\n",
              "      <th>27</th>\n",
              "      <td>Color science</td>\n",
              "      <td>G Wyszecki, WS Stiles - 1982 - academia.edu</td>\n",
              "    </tr>\n",
              "    <tr>\n",
              "      <th>28</th>\n",
              "      <td>Statistics of earth science data: their distri...</td>\n",
              "      <td>GJ Borradaile - 2003 - books.google.com</td>\n",
              "    </tr>\n",
              "    <tr>\n",
              "      <th>29</th>\n",
              "      <td>The Herschel data processing system-HIPE and p...</td>\n",
              "      <td>S Ott, HS Centre, ES Agency - arXiv preprint a...</td>\n",
              "    </tr>\n",
              "    <tr>\n",
              "      <th>...</th>\n",
              "      <td>...</td>\n",
              "      <td>...</td>\n",
              "    </tr>\n",
              "    <tr>\n",
              "      <th>70</th>\n",
              "      <td>Competing on analytics: Updated, with a new in...</td>\n",
              "      <td>T Davenport, J Harris - 2017 - books.google.com</td>\n",
              "    </tr>\n",
              "    <tr>\n",
              "      <th>71</th>\n",
              "      <td>How many scientists fabricate and falsify rese...</td>\n",
              "      <td>D Fanelli - PloS one, 2009 - journals.plos.org</td>\n",
              "    </tr>\n",
              "    <tr>\n",
              "      <th>72</th>\n",
              "      <td>Detecting novel associations in large data sets</td>\n",
              "      <td>DN Reshef, YA Reshef, HK Finucane… - …, 2011 -...</td>\n",
              "    </tr>\n",
              "    <tr>\n",
              "      <th>73</th>\n",
              "      <td>TURBOVEG, a comprehensive data base management...</td>\n",
              "      <td>SM Hennekens, JHJ Schaminée - Journal of veget...</td>\n",
              "    </tr>\n",
              "    <tr>\n",
              "      <th>74</th>\n",
              "      <td>Qualitative research methods for science educa...</td>\n",
              "      <td>F Erickson - Second international handbook of ...</td>\n",
              "    </tr>\n",
              "    <tr>\n",
              "      <th>75</th>\n",
              "      <td>Characterization of the LIGO detectors during ...</td>\n",
              "      <td>J Aasi, J Abadie, BP Abbott, R Abbott… - … and...</td>\n",
              "    </tr>\n",
              "    <tr>\n",
              "      <th>76</th>\n",
              "      <td>Business intelligence and analytics: From big ...</td>\n",
              "      <td>H Chen, RHL Chiang, VC Storey - MIS quarterly,...</td>\n",
              "    </tr>\n",
              "    <tr>\n",
              "      <th>77</th>\n",
              "      <td>Challenges of data integration and interoperab...</td>\n",
              "      <td>A Kadadi, R Agrawal, C Nyamful… - … on big dat...</td>\n",
              "    </tr>\n",
              "    <tr>\n",
              "      <th>78</th>\n",
              "      <td>Big data: New tricks for econometrics</td>\n",
              "      <td>HR Varian - Journal of Economic Perspectives, ...</td>\n",
              "    </tr>\n",
              "    <tr>\n",
              "      <th>79</th>\n",
              "      <td>Life in the network: the coming age of computa...</td>\n",
              "      <td>D Lazer, AS Pentland, L Adamic, S Aral… - Scie...</td>\n",
              "    </tr>\n",
              "    <tr>\n",
              "      <th>80</th>\n",
              "      <td>Global mineralogical and aqueous Mars history ...</td>\n",
              "      <td>JP Bibring, Y Langevin, JF Mustard, F Poulet… ...</td>\n",
              "    </tr>\n",
              "    <tr>\n",
              "      <th>81</th>\n",
              "      <td>Statistical data analysis in the computer age</td>\n",
              "      <td>B Efron, R Tibshirani - Science, 1991 - scienc...</td>\n",
              "    </tr>\n",
              "    <tr>\n",
              "      <th>82</th>\n",
              "      <td>The medical review article: state of the science</td>\n",
              "      <td>CD Mulrow - Annals of internal medicine, 1987 ...</td>\n",
              "    </tr>\n",
              "    <tr>\n",
              "      <th>83</th>\n",
              "      <td>A Bayesian networks approach for predicting pr...</td>\n",
              "      <td>R Jansen, H Yu, D Greenbaum, Y Kluger… - …, 20...</td>\n",
              "    </tr>\n",
              "    <tr>\n",
              "      <th>84</th>\n",
              "      <td>Beyond the hype: Big data concepts, methods, a...</td>\n",
              "      <td>A Gandomi, M Haider - International journal of...</td>\n",
              "    </tr>\n",
              "    <tr>\n",
              "      <th>85</th>\n",
              "      <td>Visualizing science by citation mapping</td>\n",
              "      <td>H Small - … of the American society for Inform...</td>\n",
              "    </tr>\n",
              "    <tr>\n",
              "      <th>86</th>\n",
              "      <td>Mars reconnaissance orbiter's high resolution ...</td>\n",
              "      <td>AS McEwen, EM Eliason, JW Bergstrom… - Journal...</td>\n",
              "    </tr>\n",
              "    <tr>\n",
              "      <th>87</th>\n",
              "      <td>Global change and local solutions: Tapping the...</td>\n",
              "      <td>EJ Theobald, AK Ettinger, HK Burgess, LB DeBey...</td>\n",
              "    </tr>\n",
              "    <tr>\n",
              "      <th>88</th>\n",
              "      <td>Opportunistic data structures with applications</td>\n",
              "      <td>P Ferragina, G Manzini - … on Foundations of C...</td>\n",
              "    </tr>\n",
              "    <tr>\n",
              "      <th>89</th>\n",
              "      <td>Linked data: The story so far</td>\n",
              "      <td>C Bizer, T Heath, T Berners-Lee - Semantic ser...</td>\n",
              "    </tr>\n",
              "    <tr>\n",
              "      <th>90</th>\n",
              "      <td>A kingdom-level phylogeny of eukaryotes based ...</td>\n",
              "      <td>SL Baldauf, AJ Roger, I Wenk-Siefert… - Scienc...</td>\n",
              "    </tr>\n",
              "    <tr>\n",
              "      <th>91</th>\n",
              "      <td>Clustering data streams</td>\n",
              "      <td>S Guha, N Mishra, R Motwani… - … of Computer S...</td>\n",
              "    </tr>\n",
              "    <tr>\n",
              "      <th>92</th>\n",
              "      <td>Atmospheric modeling, data assimilation and pr...</td>\n",
              "      <td>E Kalnay - 2003 - books.google.com</td>\n",
              "    </tr>\n",
              "    <tr>\n",
              "      <th>93</th>\n",
              "      <td>Concrete mathematics: a foundation for compute...</td>\n",
              "      <td>RL Graham, DE Knuth, O Patashnik, S Liu - Comp...</td>\n",
              "    </tr>\n",
              "    <tr>\n",
              "      <th>94</th>\n",
              "      <td>Administrative science as socially constructed...</td>\n",
              "      <td>WG Astley - Administrative Science Quarterly, ...</td>\n",
              "    </tr>\n",
              "    <tr>\n",
              "      <th>95</th>\n",
              "      <td>The nature of science and instructional practi...</td>\n",
              "      <td>F Abd‐El‐Khalick, RL Bell, NG Lederman - Scien...</td>\n",
              "    </tr>\n",
              "    <tr>\n",
              "      <th>96</th>\n",
              "      <td>Biomaterials science: an introduction to mater...</td>\n",
              "      <td>BD Ratner, AS Hoffman, FJ Schoen, JE Lemons - ...</td>\n",
              "    </tr>\n",
              "    <tr>\n",
              "      <th>97</th>\n",
              "      <td>Causal protein-signaling networks derived from...</td>\n",
              "      <td>K Sachs, O Perez, D Pe'er, DA Lauffenburger… -...</td>\n",
              "    </tr>\n",
              "    <tr>\n",
              "      <th>98</th>\n",
              "      <td>Geographical information science</td>\n",
              "      <td>MF Goodchild - International journal of geogra...</td>\n",
              "    </tr>\n",
              "    <tr>\n",
              "      <th>99</th>\n",
              "      <td>Statistics for sensory and consumer science</td>\n",
              "      <td>T Næs, PB Brockhoff, O Tomić - 2010 - Wiley On...</td>\n",
              "    </tr>\n",
              "  </tbody>\n",
              "</table>\n",
              "<p>100 rows × 2 columns</p>\n",
              "</div>"
            ],
            "text/plain": [
              "                                                Title                                             Author\n",
              "0                              Data science in action  W Van Der Aalst - Process mining, 2016 - Springer\n",
              "1   Data science and its relationship to big data ...  F Provost, T Fawcett - Big data, 2013 - lieber...\n",
              "2   Data Science for Business: What you need to kn...     F Provost, T Fawcett - 2013 - books.google.com\n",
              "3                         Data science and prediction  V Dhar - Communications of the ACM, 2013 - dl....\n",
              "4   Data science, predictive analytics, and big da...  MA Waller, SE Fawcett - Journal of Business Lo...\n",
              "5   The quantified self: Fundamental disruption in...           M Swan - Big data, 2013 - liebertpub.com\n",
              "6                Big data: astronomical or genomical?  ZD Stephens, SY Lee, F Faghri, RH Campbell… - ...\n",
              "7                                         Data Mining  DJ Hand, NM Adams - Wiley StatsRef: Statistics...\n",
              "8   The fourth paradigm: data-intensive scientific...  T Hey, S Tansley, K Tolle - 2009 - indico.esrf.fr\n",
              "9            A survey of data provenance in e-science  YL Simmhan, B Plale, D Gannon - ACM Sigmod Rec...\n",
              "10  Analyzing social science data: 50 key problems...                D De Vaus - 2002 - books.google.com\n",
              "11  Analyzing incomplete political science data: A...  G King, J Honaker, A Joseph, K Scheve - Americ...\n",
              "12  Cloudy, increasingly FAIR; revisiting the FAIR...  B Mons, C Neylon, J Velterop… - … Services & U...\n",
              "13  Mastering data mining: The art and science of ...  MA Berry, GS Linoff - Industrial Management & ...\n",
              "14          The data deluge: An e-science perspective  T Hey, A Trefethen - … : Making the global inf...\n",
              "15  The analysis of social science data with missi...  RJA Little, DB Rubin - Sociological Methods & ...\n",
              "16       Analysis of multivariate social science data  DJ Bartholomew, F Steele, I Moustaki - 2008 - ...\n",
              "17  ENDF/B-VII. 1 nuclear data for science and tec...  MB Chadwick, M Herman, P Obložinský, ME Dunn… ...\n",
              "18  Online analysis enhances use of NASA earth sci...  JG Acker, G Leptoukh - Eos, Transactions Ameri...\n",
              "19  Statistics: methods and applications: a compre...  T Hill, P Lewicki, P Lewicki - 2006 - books.go...\n",
              "20  AIRS/AMSU/HSB on the Aqua mission: Design, sci...  HH Aumann, MT Chahine, C Gautier… - … on Geosc...\n",
              "21  The role of anomalous data in knowledge acquis...  CA Chinn, WF Brewer - Review of educational re...\n",
              "22  ENDF/B-VII. 0: next generation evaluated nucle...  MB Chadwick, P Obložinský, M Herman, NM Greene...\n",
              "23                       Citation indexes for science                 E Garfield - Science, 1955 - JSTOR\n",
              "24  Discovering knowledge in data: an introduction...     DT Larose, CD Larose - 2014 - books.google.com\n",
              "25  Machine learning: the art and science of algor...                  P Flach - 2012 - books.google.com\n",
              "26  Opening the archive: How free data has enabled...  MA Wulder, JG Masek, WB Cohen, TR Loveland… - ...\n",
              "27                                      Color science        G Wyszecki, WS Stiles - 1982 - academia.edu\n",
              "28  Statistics of earth science data: their distri...            GJ Borradaile - 2003 - books.google.com\n",
              "29  The Herschel data processing system-HIPE and p...  S Ott, HS Centre, ES Agency - arXiv preprint a...\n",
              "..                                                ...                                                ...\n",
              "70  Competing on analytics: Updated, with a new in...    T Davenport, J Harris - 2017 - books.google.com\n",
              "71  How many scientists fabricate and falsify rese...     D Fanelli - PloS one, 2009 - journals.plos.org\n",
              "72    Detecting novel associations in large data sets  DN Reshef, YA Reshef, HK Finucane… - …, 2011 -...\n",
              "73  TURBOVEG, a comprehensive data base management...  SM Hennekens, JHJ Schaminée - Journal of veget...\n",
              "74  Qualitative research methods for science educa...  F Erickson - Second international handbook of ...\n",
              "75  Characterization of the LIGO detectors during ...  J Aasi, J Abadie, BP Abbott, R Abbott… - … and...\n",
              "76  Business intelligence and analytics: From big ...  H Chen, RHL Chiang, VC Storey - MIS quarterly,...\n",
              "77  Challenges of data integration and interoperab...  A Kadadi, R Agrawal, C Nyamful… - … on big dat...\n",
              "78              Big data: New tricks for econometrics  HR Varian - Journal of Economic Perspectives, ...\n",
              "79  Life in the network: the coming age of computa...  D Lazer, AS Pentland, L Adamic, S Aral… - Scie...\n",
              "80  Global mineralogical and aqueous Mars history ...  JP Bibring, Y Langevin, JF Mustard, F Poulet… ...\n",
              "81      Statistical data analysis in the computer age  B Efron, R Tibshirani - Science, 1991 - scienc...\n",
              "82   The medical review article: state of the science  CD Mulrow - Annals of internal medicine, 1987 ...\n",
              "83  A Bayesian networks approach for predicting pr...  R Jansen, H Yu, D Greenbaum, Y Kluger… - …, 20...\n",
              "84  Beyond the hype: Big data concepts, methods, a...  A Gandomi, M Haider - International journal of...\n",
              "85            Visualizing science by citation mapping  H Small - … of the American society for Inform...\n",
              "86  Mars reconnaissance orbiter's high resolution ...  AS McEwen, EM Eliason, JW Bergstrom… - Journal...\n",
              "87  Global change and local solutions: Tapping the...  EJ Theobald, AK Ettinger, HK Burgess, LB DeBey...\n",
              "88    Opportunistic data structures with applications  P Ferragina, G Manzini - … on Foundations of C...\n",
              "89                      Linked data: The story so far  C Bizer, T Heath, T Berners-Lee - Semantic ser...\n",
              "90  A kingdom-level phylogeny of eukaryotes based ...  SL Baldauf, AJ Roger, I Wenk-Siefert… - Scienc...\n",
              "91                            Clustering data streams  S Guha, N Mishra, R Motwani… - … of Computer S...\n",
              "92  Atmospheric modeling, data assimilation and pr...                 E Kalnay - 2003 - books.google.com\n",
              "93  Concrete mathematics: a foundation for compute...  RL Graham, DE Knuth, O Patashnik, S Liu - Comp...\n",
              "94  Administrative science as socially constructed...  WG Astley - Administrative Science Quarterly, ...\n",
              "95  The nature of science and instructional practi...  F Abd‐El‐Khalick, RL Bell, NG Lederman - Scien...\n",
              "96  Biomaterials science: an introduction to mater...  BD Ratner, AS Hoffman, FJ Schoen, JE Lemons - ...\n",
              "97  Causal protein-signaling networks derived from...  K Sachs, O Perez, D Pe'er, DA Lauffenburger… -...\n",
              "98                   Geographical information science  MF Goodchild - International journal of geogra...\n",
              "99        Statistics for sensory and consumer science  T Næs, PB Brockhoff, O Tomić - 2010 - Wiley On...\n",
              "\n",
              "[100 rows x 2 columns]"
            ]
          },
          "metadata": {
            "tags": []
          },
          "execution_count": 63
        }
      ]
    },
    {
      "cell_type": "code",
      "metadata": {
        "id": "HrTKnmXedrYc",
        "outputId": "f99fff0b-afd1-473d-8034-2b9e957d4c87",
        "colab": {
          "base_uri": "https://localhost:8080/",
          "height": 166
        }
      },
      "source": [
        "#extract the author names which starts with A\n",
        "\n",
        "Names_starting_with_A = files['Author'].str.startswith(\"A\",na=False)\n",
        "\n",
        "files[Names_starting_with_A][[\"Author\"]]"
      ],
      "execution_count": 81,
      "outputs": [
        {
          "output_type": "execute_result",
          "data": {
            "text/html": [
              "<div>\n",
              "<style scoped>\n",
              "    .dataframe tbody tr th:only-of-type {\n",
              "        vertical-align: middle;\n",
              "    }\n",
              "\n",
              "    .dataframe tbody tr th {\n",
              "        vertical-align: top;\n",
              "    }\n",
              "\n",
              "    .dataframe thead th {\n",
              "        text-align: right;\n",
              "    }\n",
              "</style>\n",
              "<table border=\"1\" class=\"dataframe\">\n",
              "  <thead>\n",
              "    <tr style=\"text-align: right;\">\n",
              "      <th></th>\n",
              "      <th>Author</th>\n",
              "    </tr>\n",
              "  </thead>\n",
              "  <tbody>\n",
              "    <tr>\n",
              "      <th>51</th>\n",
              "      <td>AA Stone, CA Bachrach, JB Jobe, HS Kurtzman… -...</td>\n",
              "    </tr>\n",
              "    <tr>\n",
              "      <th>77</th>\n",
              "      <td>A Kadadi, R Agrawal, C Nyamful… - … on big dat...</td>\n",
              "    </tr>\n",
              "    <tr>\n",
              "      <th>84</th>\n",
              "      <td>A Gandomi, M Haider - International journal of...</td>\n",
              "    </tr>\n",
              "    <tr>\n",
              "      <th>86</th>\n",
              "      <td>AS McEwen, EM Eliason, JW Bergstrom… - Journal...</td>\n",
              "    </tr>\n",
              "  </tbody>\n",
              "</table>\n",
              "</div>"
            ],
            "text/plain": [
              "                                               Author\n",
              "51  AA Stone, CA Bachrach, JB Jobe, HS Kurtzman… -...\n",
              "77  A Kadadi, R Agrawal, C Nyamful… - … on big dat...\n",
              "84  A Gandomi, M Haider - International journal of...\n",
              "86  AS McEwen, EM Eliason, JW Bergstrom… - Journal..."
            ]
          },
          "metadata": {
            "tags": []
          },
          "execution_count": 81
        }
      ]
    },
    {
      "cell_type": "code",
      "metadata": {
        "id": "mT3TdOarhwZC"
      },
      "source": [
        "\n",
        "import spacy \n",
        "import pandas as pd \n",
        "import numpy as np \n",
        "import math \n",
        "from tqdm import tqdm \n",
        "\n",
        "from spacy.matcher import Matcher \n",
        "from spacy.tokens import Span \n",
        "from spacy import displacy \n",
        "\n",
        "nlp = spacy.load(\"en_core_web_sm\")"
      ],
      "execution_count": 84,
      "outputs": []
    },
    {
      "cell_type": "code",
      "metadata": {
        "id": "3yDZNthOiKZL",
        "outputId": "a7d98567-e463-4827-a08d-5556c9c4618d",
        "colab": {
          "base_uri": "https://localhost:8080/",
          "height": 1000
        }
      },
      "source": [
        "#Analyse the words in sentence\n",
        "documents = files[\"Title\"].tolist()\n",
        "for doc in documents:\n",
        "  res = nlp(doc)\n",
        "  for tok in res:\n",
        "    # print(tok)\n",
        "    print(tok.text, \"----->\", tok.dep_, \"---->\",tok.pos_)"
      ],
      "execution_count": 98,
      "outputs": [
        {
          "output_type": "stream",
          "text": [
            "Data -----> compound ----> NOUN\n",
            "science -----> ROOT ----> NOUN\n",
            "  ----->  ----> SPACE\n",
            "in -----> prep ----> ADP\n",
            "action -----> pobj ----> NOUN\n",
            "Data -----> compound ----> NOUN\n",
            "science -----> ROOT ----> NOUN\n",
            "  ----->  ----> SPACE\n",
            "and -----> cc ----> CCONJ\n",
            "its -----> poss ----> DET\n",
            "relationship -----> conj ----> NOUN\n",
            "to -----> prep ----> ADP\n",
            "big -----> amod ----> ADJ\n",
            "  ----->  ----> SPACE\n",
            "data -----> ROOT ----> NOUN\n",
            "  ----->  ----> SPACE\n",
            "and -----> cc ----> CCONJ\n",
            "  ----->  ----> SPACE\n",
            "data -----> npadvmod ----> NOUN\n",
            "- -----> punct ----> PUNCT\n",
            "driven -----> amod ----> VERB\n",
            "decision -----> conj ----> NOUN\n",
            "making -----> appos ----> NOUN\n",
            "Data -----> compound ----> NOUN\n",
            "Science -----> ROOT ----> NOUN\n",
            "  ----->  ----> SPACE\n",
            "for -----> prep ----> ADP\n",
            "Business -----> pobj ----> NOUN\n",
            ": -----> punct ----> PUNCT\n",
            "What -----> dobj ----> PRON\n",
            "you -----> nsubj ----> PRON\n",
            "need -----> ROOT ----> VERB\n",
            "to -----> aux ----> PART\n",
            "know -----> xcomp ----> VERB\n",
            "about -----> prep ----> ADP\n",
            "  ----->  ----> SPACE\n",
            "data -----> nmod ----> NOUN\n",
            "  ----->  ----> SPACE\n",
            "mining -----> pobj ----> NOUN\n",
            "and -----> cc ----> CCONJ\n",
            "  ----->  ----> SPACE\n",
            "data -----> npadvmod ----> NOUN\n",
            "- -----> punct ----> PUNCT\n",
            "analytic -----> amod ----> ADJ\n",
            "thinking -----> conj ----> NOUN\n",
            "Data -----> compound ----> NOUN\n",
            "science -----> ROOT ----> NOUN\n",
            "  ----->  ----> SPACE\n",
            "and -----> cc ----> CCONJ\n",
            "prediction -----> conj ----> NOUN\n",
            "Data -----> compound ----> NOUN\n",
            "science -----> ROOT ----> NOUN\n",
            ", -----> punct ----> PUNCT\n",
            "predictive -----> amod ----> ADJ\n",
            "analytics -----> conj ----> NOUN\n",
            ", -----> punct ----> PUNCT\n",
            "and -----> cc ----> CCONJ\n",
            "big -----> amod ----> ADJ\n",
            "  ----->  ----> SPACE\n",
            "data -----> conj ----> NOUN\n",
            ": -----> punct ----> PUNCT\n",
            "a -----> det ----> DET\n",
            "revolution -----> appos ----> NOUN\n",
            "that -----> nsubj ----> DET\n",
            "will -----> aux ----> VERB\n",
            "transform -----> relcl ----> VERB\n",
            "supply -----> compound ----> NOUN\n",
            "chain -----> compound ----> NOUN\n",
            "design -----> dobj ----> NOUN\n",
            "and -----> cc ----> CCONJ\n",
            "management -----> conj ----> NOUN\n",
            "The -----> det ----> DET\n",
            "quantified -----> amod ----> ADJ\n",
            "self -----> ROOT ----> NOUN\n",
            ": -----> punct ----> PUNCT\n",
            "Fundamental -----> amod ----> ADJ\n",
            "disruption -----> ROOT ----> NOUN\n",
            "in -----> prep ----> ADP\n",
            "big -----> amod ----> ADJ\n",
            "  ----->  ----> SPACE\n",
            "data -----> compound ----> NOUN\n",
            "science -----> pobj ----> NOUN\n",
            "  ----->  ----> SPACE\n",
            "and -----> cc ----> CCONJ\n",
            "biological -----> amod ----> ADJ\n",
            "discovery -----> conj ----> NOUN\n",
            "Big -----> amod ----> ADJ\n",
            "  ----->  ----> SPACE\n",
            "data -----> ROOT ----> NOUN\n",
            ": -----> punct ----> PUNCT\n",
            "astronomical -----> amod ----> ADJ\n",
            "or -----> cc ----> CCONJ\n",
            "genomical -----> conj ----> ADJ\n",
            "? -----> punct ----> PUNCT\n",
            "Data -----> compound ----> NOUN\n",
            "  ----->  ----> SPACE\n",
            "Mining -----> ROOT ----> NOUN\n",
            "The -----> det ----> DET\n",
            "fourth -----> amod ----> ADJ\n",
            "paradigm -----> ROOT ----> NOUN\n",
            ": -----> punct ----> PUNCT\n",
            "  ----->  ----> SPACE\n",
            "data -----> npadvmod ----> NOUN\n",
            "- -----> punct ----> PUNCT\n",
            "intensive -----> amod ----> ADJ\n",
            "scientific -----> amod ----> ADJ\n",
            "discovery -----> appos ----> NOUN\n",
            "A -----> det ----> DET\n",
            "survey -----> ROOT ----> NOUN\n",
            "of -----> prep ----> ADP\n",
            "  ----->  ----> SPACE\n",
            "data -----> compound ----> NOUN\n",
            "  ----->  ----> SPACE\n",
            "provenance -----> pobj ----> NOUN\n",
            "in -----> prep ----> ADP\n",
            "e -----> compound ----> NOUN\n",
            "- -----> punct ----> NOUN\n",
            "science -----> pobj ----> NOUN\n",
            "Analyzing -----> advcl ----> VERB\n",
            "social -----> amod ----> ADJ\n",
            "  ----->  ----> SPACE\n",
            "science -----> compound ----> NOUN\n",
            "data -----> dobj ----> NOUN\n",
            ": -----> punct ----> PUNCT\n",
            "50 -----> nummod ----> NUM\n",
            "key -----> amod ----> ADJ\n",
            "problems -----> ROOT ----> NOUN\n",
            "in -----> prep ----> ADP\n",
            "  ----->  ----> SPACE\n",
            "data -----> compound ----> NOUN\n",
            "  ----->  ----> SPACE\n",
            "analysis -----> appos ----> NOUN\n",
            "Analyzing -----> advcl ----> VERB\n",
            "incomplete -----> amod ----> ADJ\n",
            "political -----> amod ----> ADJ\n",
            "  ----->  ----> SPACE\n",
            "science -----> compound ----> NOUN\n",
            "data -----> dobj ----> NOUN\n",
            ": -----> punct ----> PUNCT\n",
            "An -----> det ----> DET\n",
            "alternative -----> amod ----> ADJ\n",
            "algorithm -----> ROOT ----> NOUN\n",
            "for -----> prep ----> ADP\n",
            "multiple -----> amod ----> ADJ\n",
            "imputation -----> pobj ----> NOUN\n",
            "Cloudy -----> ROOT ----> ADJ\n",
            ", -----> punct ----> PUNCT\n",
            "increasingly -----> advmod ----> ADV\n",
            "FAIR -----> appos ----> PROPN\n",
            "; -----> punct ----> PUNCT\n",
            "revisiting -----> conj ----> VERB\n",
            "the -----> det ----> DET\n",
            "FAIR -----> compound ----> PROPN\n",
            "Data -----> compound ----> PROPN\n",
            "guiding -----> amod ----> VERB\n",
            "principles -----> dobj ----> NOUN\n",
            "for -----> prep ----> ADP\n",
            "the -----> det ----> DET\n",
            "European -----> compound ----> PROPN\n",
            "Open -----> compound ----> PROPN\n",
            "Science -----> compound ----> NOUN\n",
            "Cloud -----> pobj ----> PROPN\n",
            "Mastering -----> csubj ----> VERB\n",
            "  ----->  ----> SPACE\n",
            "data -----> dobj ----> NOUN\n",
            "  ----->  ----> SPACE\n",
            "mining -----> ROOT ----> NOUN\n",
            ": -----> punct ----> PUNCT\n",
            "The -----> det ----> DET\n",
            "art -----> ROOT ----> NOUN\n",
            "and -----> cc ----> CCONJ\n",
            "  ----->  ----> SPACE\n",
            "science -----> conj ----> NOUN\n",
            "  ----->  ----> SPACE\n",
            "of -----> prep ----> ADP\n",
            "customer -----> compound ----> NOUN\n",
            "relationship -----> compound ----> NOUN\n",
            "management -----> pobj ----> NOUN\n",
            "The -----> det ----> DET\n",
            "data -----> compound ----> NOUN\n",
            "deluge -----> ROOT ----> NOUN\n",
            ": -----> punct ----> PUNCT\n",
            "An -----> det ----> DET\n",
            "e -----> compound ----> ADJ\n",
            "- -----> punct ----> PUNCT\n",
            "science -----> compound ----> NOUN\n",
            "perspective -----> ROOT ----> NOUN\n",
            "The -----> det ----> DET\n",
            "analysis -----> ROOT ----> NOUN\n",
            "of -----> prep ----> ADP\n",
            "social -----> amod ----> ADJ\n",
            "science -----> compound ----> NOUN\n",
            "data -----> pobj ----> NOUN\n",
            "with -----> prep ----> ADP\n",
            "missing -----> amod ----> VERB\n",
            "values -----> pobj ----> NOUN\n",
            "Analysis -----> ROOT ----> NOUN\n",
            "of -----> prep ----> ADP\n",
            "multivariate -----> nmod ----> NOUN\n",
            "social -----> amod ----> PROPN\n",
            "science -----> compound ----> PROPN\n",
            "data -----> pobj ----> NOUN\n",
            "ENDF -----> nmod ----> PROPN\n",
            "/ -----> punct ----> SYM\n",
            "B -----> compound ----> PROPN\n",
            "- -----> punct ----> PUNCT\n",
            "VII -----> ROOT ----> PROPN\n",
            ". -----> punct ----> PUNCT\n",
            "1 -----> nummod ----> NUM\n",
            "nuclear -----> amod ----> NOUN\n",
            "  ----->  ----> SPACE\n",
            "data -----> ROOT ----> NOUN\n",
            "  ----->  ----> SPACE\n",
            "for -----> prep ----> ADP\n",
            "  ----->  ----> SPACE\n",
            "science -----> pobj ----> NOUN\n",
            "  ----->  ----> SPACE\n",
            "and -----> cc ----> CCONJ\n",
            "technology -----> conj ----> NOUN\n",
            ": -----> punct ----> PUNCT\n",
            "cross -----> compound ----> NOUN\n",
            "sections -----> appos ----> NOUN\n",
            ", -----> punct ----> PUNCT\n",
            "covariances -----> conj ----> NOUN\n",
            ", -----> punct ----> PUNCT\n",
            "fission -----> compound ----> NOUN\n",
            "product -----> compound ----> NOUN\n",
            "yields -----> conj ----> NOUN\n",
            "and -----> cc ----> CCONJ\n",
            "decay -----> conj ----> VERB\n",
            "  ----->  ----> SPACE\n",
            "data -----> appos ----> NOUN\n",
            "Online -----> amod ----> ADJ\n",
            "analysis -----> nsubj ----> NOUN\n",
            "enhances -----> ROOT ----> VERB\n",
            "use -----> dobj ----> NOUN\n",
            "of -----> prep ----> ADP\n",
            "NASA -----> compound ----> PROPN\n",
            "earth -----> compound ----> NOUN\n",
            "science -----> compound ----> NOUN\n",
            "data -----> pobj ----> NOUN\n",
            "Statistics -----> ROOT ----> NOUN\n",
            ": -----> punct ----> PUNCT\n",
            "methods -----> appos ----> NOUN\n",
            "and -----> cc ----> CCONJ\n",
            "applications -----> conj ----> NOUN\n",
            ": -----> punct ----> PUNCT\n",
            "a -----> det ----> DET\n",
            "comprehensive -----> amod ----> ADJ\n",
            "reference -----> appos ----> NOUN\n",
            "for -----> prep ----> ADP\n",
            "science -----> pobj ----> NOUN\n",
            ", -----> punct ----> PUNCT\n",
            "industry -----> conj ----> NOUN\n",
            ", -----> punct ----> PUNCT\n",
            "and -----> cc ----> CCONJ\n",
            "data -----> compound ----> NOUN\n",
            "mining -----> conj ----> NOUN\n",
            "AIRS -----> nmod ----> PROPN\n",
            "/ -----> punct ----> SYM\n",
            "AMSU -----> nmod ----> PROPN\n",
            "/ -----> punct ----> SYM\n",
            "HSB -----> ROOT ----> PROPN\n",
            "on -----> prep ----> ADP\n",
            "the -----> det ----> DET\n",
            "Aqua -----> compound ----> PROPN\n",
            "mission -----> pobj ----> NOUN\n",
            ": -----> punct ----> PUNCT\n",
            "Design -----> ROOT ----> NOUN\n",
            ", -----> punct ----> PUNCT\n",
            "science -----> compound ----> NOUN\n",
            "objectives -----> conj ----> NOUN\n",
            ", -----> punct ----> PUNCT\n",
            "data -----> compound ----> NOUN\n",
            "products -----> conj ----> NOUN\n",
            ", -----> punct ----> PUNCT\n",
            "and -----> cc ----> CCONJ\n",
            "processing -----> compound ----> NOUN\n",
            "systems -----> conj ----> NOUN\n",
            "The -----> det ----> DET\n",
            "role -----> ROOT ----> NOUN\n",
            "of -----> prep ----> ADP\n",
            "anomalous -----> amod ----> ADJ\n",
            "  ----->  ----> SPACE\n",
            "data -----> pobj ----> NOUN\n",
            "  ----->  ----> SPACE\n",
            "in -----> prep ----> ADP\n",
            "knowledge -----> compound ----> NOUN\n",
            "acquisition -----> pobj ----> NOUN\n",
            ": -----> punct ----> PUNCT\n",
            "A -----> det ----> DET\n",
            "theoretical -----> amod ----> ADJ\n",
            "framework -----> appos ----> NOUN\n",
            "and -----> cc ----> CCONJ\n",
            "implications -----> conj ----> NOUN\n",
            "for -----> prep ----> ADP\n",
            "  ----->  ----> SPACE\n",
            "science -----> pobj ----> NOUN\n",
            "  ----->  ----> SPACE\n",
            "instruction -----> appos ----> NOUN\n",
            "ENDF -----> nmod ----> PROPN\n",
            "/ -----> punct ----> SYM\n",
            "B -----> compound ----> PROPN\n",
            "- -----> punct ----> PUNCT\n",
            "VII -----> ROOT ----> PROPN\n",
            ". -----> punct ----> PUNCT\n",
            "0 -----> punct ----> PUNCT\n",
            ": -----> punct ----> PUNCT\n",
            "next -----> amod ----> ADJ\n",
            "generation -----> nsubj ----> NOUN\n",
            "evaluated -----> ROOT ----> VERB\n",
            "nuclear -----> amod ----> ADJ\n",
            "data -----> compound ----> NOUN\n",
            "library -----> dobj ----> NOUN\n",
            "for -----> prep ----> ADP\n",
            "nuclear -----> amod ----> ADJ\n",
            "science -----> pobj ----> NOUN\n",
            "and -----> cc ----> CCONJ\n",
            "technology -----> conj ----> NOUN\n",
            "Citation -----> nsubj ----> NOUN\n",
            "indexes -----> ROOT ----> NOUN\n",
            "for -----> prep ----> ADP\n",
            "science -----> pobj ----> NOUN\n",
            "Discovering -----> amod ----> VERB\n",
            "knowledge -----> ROOT ----> NOUN\n",
            "in -----> prep ----> ADP\n",
            "data -----> pobj ----> NOUN\n",
            ": -----> punct ----> PUNCT\n",
            "an -----> det ----> DET\n",
            "introduction -----> appos ----> NOUN\n",
            "to -----> prep ----> ADP\n",
            "data -----> compound ----> NOUN\n",
            "mining -----> pobj ----> NOUN\n",
            "Machine -----> compound ----> NOUN\n",
            "learning -----> ROOT ----> NOUN\n",
            ": -----> punct ----> PUNCT\n",
            "the -----> det ----> DET\n",
            "art -----> appos ----> NOUN\n",
            "and -----> cc ----> CCONJ\n",
            "science -----> conj ----> NOUN\n",
            "of -----> prep ----> ADP\n",
            "algorithms -----> pobj ----> NOUN\n",
            "that -----> nsubj ----> DET\n",
            "make -----> relcl ----> VERB\n",
            "sense -----> dobj ----> NOUN\n",
            "of -----> prep ----> ADP\n",
            "data -----> pobj ----> NOUN\n",
            "Opening -----> advcl ----> VERB\n",
            "the -----> det ----> DET\n",
            "archive -----> dobj ----> NOUN\n",
            ": -----> punct ----> PUNCT\n",
            "How -----> advmod ----> ADV\n",
            "free -----> amod ----> ADJ\n",
            "data -----> nsubj ----> NOUN\n",
            "has -----> aux ----> AUX\n",
            "enabled -----> ROOT ----> VERB\n",
            "the -----> det ----> DET\n",
            "science -----> nmod ----> NOUN\n",
            "and -----> cc ----> CCONJ\n",
            "monitoring -----> conj ----> NOUN\n",
            "promise -----> dobj ----> NOUN\n",
            "of -----> prep ----> ADP\n",
            "Landsat -----> pobj ----> PROPN\n",
            "Color -----> compound ----> NOUN\n",
            "  ----->  ----> SPACE\n",
            "science -----> ROOT ----> NOUN\n",
            "Statistics -----> nsubj ----> NOUN\n",
            "of -----> prep ----> ADP\n",
            "earth -----> compound ----> NOUN\n",
            "science -----> pobj ----> NOUN\n",
            "data -----> ROOT ----> NOUN\n",
            ": -----> punct ----> PUNCT\n",
            "their -----> poss ----> DET\n",
            "distribution -----> appos ----> NOUN\n",
            "in -----> prep ----> ADP\n",
            "time -----> pobj ----> NOUN\n",
            ", -----> punct ----> PUNCT\n",
            "space -----> conj ----> NOUN\n",
            "and -----> cc ----> CCONJ\n",
            "orientation -----> conj ----> NOUN\n",
            "The -----> det ----> DET\n",
            "Herschel -----> nsubj ----> PROPN\n",
            "  ----->  ----> SPACE\n",
            "data -----> conj ----> NOUN\n",
            "  ----->  ----> SPACE\n",
            "processing -----> compound ----> NOUN\n",
            "system -----> nmod ----> NOUN\n",
            "- -----> punct ----> PUNCT\n",
            "HIPE -----> dobj ----> NOUN\n",
            "and -----> cc ----> CCONJ\n",
            "pipelines -----> conj ----> NOUN\n",
            "- -----> punct ----> PUNCT\n",
            "up -----> ROOT ----> NOUN\n",
            "and -----> cc ----> CCONJ\n",
            "running -----> conj ----> VERB\n",
            "since -----> prep ----> SCONJ\n",
            "the -----> det ----> DET\n",
            "start -----> pobj ----> NOUN\n",
            "of -----> prep ----> ADP\n",
            "the -----> det ----> DET\n",
            "mission -----> pobj ----> NOUN\n",
            "Impact -----> ROOT ----> NOUN\n",
            "of -----> prep ----> ADP\n",
            "data -----> compound ----> NOUN\n",
            "sources -----> pobj ----> NOUN\n",
            "on -----> prep ----> ADP\n",
            "citation -----> compound ----> NOUN\n",
            "counts -----> pobj ----> NOUN\n",
            "and -----> cc ----> CCONJ\n",
            "rankings -----> conj ----> NOUN\n",
            "of -----> prep ----> ADP\n",
            "LIS -----> compound ----> PROPN\n",
            "faculty -----> pobj ----> NOUN\n",
            ": -----> punct ----> PUNCT\n",
            "Web -----> appos ----> NOUN\n",
            "of -----> prep ----> ADP\n",
            "Science -----> pobj ----> PROPN\n",
            "versus -----> prep ----> X\n",
            "Scopus -----> pobj ----> PROPN\n",
            "and -----> cc ----> CCONJ\n",
            "Google -----> compound ----> PROPN\n",
            "Scholar -----> conj ----> PROPN\n",
            "Reproducible -----> amod ----> ADJ\n",
            "research -----> ROOT ----> NOUN\n",
            "in -----> prep ----> ADP\n",
            "computational -----> amod ----> ADJ\n",
            "science -----> pobj ----> NOUN\n",
            "Next -----> amod ----> ADJ\n",
            "steps -----> ROOT ----> NOUN\n",
            "for -----> prep ----> ADP\n",
            "citizen -----> compound ----> NOUN\n",
            "science -----> pobj ----> NOUN\n",
            "Reducing -----> ROOT ----> VERB\n",
            "the -----> det ----> DET\n",
            "dimensionality -----> dobj ----> NOUN\n",
            "of -----> prep ----> ADP\n",
            "data -----> pobj ----> NOUN\n",
            "with -----> prep ----> ADP\n",
            "neural -----> amod ----> ADJ\n",
            "networks -----> pobj ----> NOUN\n",
            "Mining -----> compound ----> NOUN\n",
            "text -----> compound ----> NOUN\n",
            "data -----> ROOT ----> NOUN\n",
            "The -----> det ----> DET\n",
            "grid -----> ROOT ----> NOUN\n",
            ": -----> punct ----> PUNCT\n",
            "A -----> det ----> DET\n",
            "new -----> amod ----> ADJ\n",
            "infrastructure -----> appos ----> NOUN\n",
            "for -----> prep ----> ADP\n",
            "21st -----> amod ----> ADJ\n",
            "century -----> compound ----> NOUN\n",
            "science -----> pobj ----> NOUN\n",
            "List -----> npadvmod ----> NOUN\n",
            "- -----> punct ----> PUNCT\n",
            "wise -----> amod ----> ADJ\n",
            "deletion -----> nsubj ----> NOUN\n",
            "is -----> ROOT ----> AUX\n",
            "evil -----> acomp ----> ADJ\n",
            ": -----> punct ----> PUNCT\n",
            "what -----> dobj ----> PRON\n",
            "to -----> aux ----> PART\n",
            "do -----> acl ----> AUX\n",
            "about -----> prep ----> ADP\n",
            "missing -----> pcomp ----> VERB\n",
            "data -----> dobj ----> NOUN\n",
            "in -----> prep ----> ADP\n",
            "political -----> amod ----> ADJ\n",
            "science -----> pobj ----> NOUN\n",
            "Citizen -----> compound ----> NOUN\n",
            "science -----> ROOT ----> NOUN\n",
            ": -----> punct ----> PUNCT\n",
            "a -----> det ----> DET\n",
            "developing -----> amod ----> VERB\n",
            "tool -----> appos ----> NOUN\n",
            "for -----> prep ----> ADP\n",
            "expanding -----> pcomp ----> VERB\n",
            "science -----> compound ----> NOUN\n",
            "knowledge -----> dobj ----> NOUN\n",
            "and -----> cc ----> CCONJ\n",
            "scientific -----> amod ----> ADJ\n",
            "literacy -----> conj ----> NOUN\n",
            "JENDL-4.0 -----> ROOT ----> PROPN\n",
            ": -----> punct ----> PUNCT\n",
            "a -----> det ----> DET\n",
            "new -----> amod ----> ADJ\n",
            "library -----> appos ----> NOUN\n",
            "for -----> prep ----> ADP\n",
            "nuclear -----> amod ----> ADJ\n",
            "science -----> pobj ----> NOUN\n",
            "and -----> cc ----> CCONJ\n",
            "engineering -----> conj ----> NOUN\n",
            "UK -----> compound ----> PROPN\n",
            "climate -----> compound ----> NOUN\n",
            "projections -----> ROOT ----> VERB\n",
            "science -----> compound ----> NOUN\n",
            "report -----> dobj ----> NOUN\n",
            ": -----> punct ----> PUNCT\n",
            "climate -----> nsubj ----> NOUN\n",
            "change -----> ROOT ----> NOUN\n",
            "projections -----> dobj ----> NOUN\n",
            "Landsat-8 -----> ROOT ----> X\n",
            ": -----> punct ----> PUNCT\n",
            "Science -----> nmod ----> NOUN\n",
            "and -----> cc ----> CCONJ\n",
            "product -----> compound ----> NOUN\n",
            "vision -----> ROOT ----> NOUN\n",
            "for -----> prep ----> ADP\n",
            "terrestrial -----> amod ----> ADJ\n",
            "global -----> amod ----> ADJ\n",
            "change -----> compound ----> NOUN\n",
            "research -----> pobj ----> NOUN\n",
            "The -----> det ----> DET\n",
            "conundrum -----> ROOT ----> NOUN\n",
            "of -----> prep ----> ADP\n",
            "sharing -----> pcomp ----> VERB\n",
            "research -----> compound ----> NOUN\n",
            "data -----> dobj ----> NOUN\n",
            "Ancillary -----> amod ----> ADJ\n",
            "data -----> compound ----> NOUN\n",
            "services -----> ROOT ----> NOUN\n",
            "of -----> prep ----> ADP\n",
            "NASA -----> poss ----> PROPN\n",
            "'s -----> case ----> PART\n",
            "navigation -----> nmod ----> NOUN\n",
            "and -----> cc ----> CCONJ\n",
            "ancillary -----> amod ----> ADJ\n",
            "information -----> compound ----> NOUN\n",
            "facility -----> pobj ----> NOUN\n",
            "Modeling -----> ROOT ----> VERB\n",
            "multilevel -----> compound ----> ADJ\n",
            "data -----> compound ----> NOUN\n",
            "structures -----> dobj ----> NOUN\n",
            "Workflows -----> ROOT ----> NOUN\n",
            "for -----> prep ----> ADP\n",
            "e -----> compound ----> NOUN\n",
            "- -----> punct ----> NOUN\n",
            "Science -----> pobj ----> NOUN\n",
            ": -----> punct ----> PUNCT\n",
            "scientific -----> amod ----> ADJ\n",
            "workflows -----> appos ----> NOUN\n",
            "for -----> prep ----> ADP\n",
            "grids -----> pobj ----> NOUN\n",
            "The -----> det ----> DET\n",
            "FAIR -----> compound ----> PROPN\n",
            "Guiding -----> compound ----> PROPN\n",
            "Principles -----> ROOT ----> PROPN\n",
            "for -----> prep ----> ADP\n",
            "scientific -----> amod ----> ADJ\n",
            "  ----->  ----> SPACE\n",
            "data -----> compound ----> NOUN\n",
            "  ----->  ----> SPACE\n",
            "management -----> pobj ----> NOUN\n",
            "and -----> cc ----> CCONJ\n",
            "stewardship -----> conj ----> NOUN\n",
            "TIMSS -----> ROOT ----> NOUN\n",
            "2011 -----> nummod ----> NUM\n",
            "International -----> compound ----> PROPN\n",
            "Results -----> dobj ----> PROPN\n",
            "in -----> prep ----> ADP\n",
            "Science -----> pobj ----> PROPN\n",
            ". -----> punct ----> PUNCT\n",
            "Data -----> compound ----> NOUN\n",
            "structures -----> ROOT ----> NOUN\n",
            "and -----> cc ----> CCONJ\n",
            "network -----> compound ----> NOUN\n",
            "algorithms -----> conj ----> NOUN\n",
            "Conceptual -----> amod ----> ADJ\n",
            "approaches -----> ROOT ----> NOUN\n",
            "for -----> prep ----> ADP\n",
            "defining -----> pcomp ----> VERB\n",
            "data -----> dobj ----> NOUN\n",
            ", -----> punct ----> PUNCT\n",
            "information -----> conj ----> NOUN\n",
            ", -----> punct ----> PUNCT\n",
            "and -----> cc ----> CCONJ\n",
            "knowledge -----> conj ----> NOUN\n",
            "Quality -----> compound ----> NOUN\n",
            "control -----> ROOT ----> NOUN\n",
            "of -----> prep ----> ADP\n",
            "age -----> compound ----> NOUN\n",
            "data -----> pobj ----> NOUN\n",
            "at -----> prep ----> ADP\n",
            "the -----> det ----> DET\n",
            "Alaska -----> compound ----> PROPN\n",
            "Fisheries -----> compound ----> PROPN\n",
            "Science -----> compound ----> PROPN\n",
            "Center -----> pobj ----> PROPN\n",
            "A -----> det ----> DET\n",
            "new -----> amod ----> ADJ\n",
            "dawn -----> ROOT ----> NOUN\n",
            "for -----> prep ----> ADP\n",
            "citizen -----> compound ----> NOUN\n",
            "science -----> pobj ----> NOUN\n",
            "The -----> det ----> DET\n",
            "science -----> ROOT ----> NOUN\n",
            "of -----> prep ----> ADP\n",
            "self -----> compound ----> NOUN\n",
            "- -----> punct ----> PUNCT\n",
            "report -----> pobj ----> NOUN\n",
            ": -----> punct ----> PUNCT\n",
            "Implications -----> appos ----> NOUN\n",
            "for -----> prep ----> ADP\n",
            "research -----> pobj ----> NOUN\n",
            "and -----> cc ----> CCONJ\n",
            "practice -----> conj ----> NOUN\n",
            "Linking -----> ROOT ----> VERB\n",
            "crystallographic -----> amod ----> ADJ\n",
            "model -----> dobj ----> NOUN\n",
            "and -----> cc ----> CCONJ\n",
            "data -----> compound ----> NOUN\n",
            "quality -----> conj ----> NOUN\n",
            "Data -----> compound ----> NOUN\n",
            "streams -----> ROOT ----> VERB\n",
            ": -----> punct ----> PUNCT\n",
            "models -----> appos ----> NOUN\n",
            "and -----> cc ----> CCONJ\n",
            "algorithms -----> conj ----> NOUN\n",
            "Investment -----> compound ----> NOUN\n",
            "science -----> ROOT ----> NOUN\n",
            "What -----> dobj ----> PRON\n",
            "“ -----> punct ----> PUNCT\n",
            "ideas‐about‐science -----> nsubjpass ----> NOUN\n",
            "” -----> punct ----> PUNCT\n",
            "should -----> aux ----> VERB\n",
            "be -----> auxpass ----> AUX\n",
            "taught -----> ROOT ----> VERB\n",
            "in -----> prep ----> ADP\n",
            "school -----> compound ----> NOUN\n",
            "science -----> pobj ----> NOUN\n",
            "? -----> punct ----> PUNCT\n",
            "A -----> det ----> DET\n",
            "Delphi -----> compound ----> PROPN\n",
            "study -----> ROOT ----> NOUN\n",
            "of -----> prep ----> ADP\n",
            "the -----> det ----> DET\n",
            "expert -----> compound ----> NOUN\n",
            "community -----> pobj ----> NOUN\n",
            "Clustering -----> csubj ----> VERB\n",
            "by -----> prep ----> ADP\n",
            "passing -----> pcomp ----> VERB\n",
            "messages -----> dobj ----> NOUN\n",
            "between -----> prep ----> ADP\n",
            "  ----->  ----> SPACE\n",
            "data -----> pobj ----> NOUN\n",
            "  ----->  ----> SPACE\n",
            "points -----> ROOT ----> NOUN\n",
            "A -----> det ----> DET\n",
            "correlated -----> amod ----> ADJ\n",
            "topic -----> compound ----> NOUN\n",
            "model -----> ROOT ----> NOUN\n",
            "of -----> prep ----> ADP\n",
            "science -----> pobj ----> NOUN\n",
            "Calibration -----> ROOT ----> NOUN\n",
            "of -----> prep ----> ADP\n",
            "the -----> det ----> DET\n",
            "computer -----> compound ----> NOUN\n",
            "science -----> pobj ----> NOUN\n",
            "and -----> cc ----> CCONJ\n",
            "applications -----> conj ----> NOUN\n",
            ", -----> punct ----> PUNCT\n",
            "Inc. -----> compound ----> PROPN\n",
            "accelerometer -----> ROOT ----> NOUN\n",
            "Distilling -----> ROOT ----> VERB\n",
            "free -----> amod ----> ADJ\n",
            "- -----> punct ----> PUNCT\n",
            "form -----> nmod ----> NOUN\n",
            "natural -----> amod ----> ADJ\n",
            "laws -----> dobj ----> NOUN\n",
            "from -----> prep ----> ADP\n",
            "experimental -----> amod ----> ADJ\n",
            "data -----> pobj ----> NOUN\n",
            "Data -----> nmod ----> NOUN\n",
            "  ----->  ----> SPACE\n",
            "management -----> nmod ----> NOUN\n",
            "and -----> cc ----> CCONJ\n",
            "analysis -----> compound ----> NOUN\n",
            "methods -----> ROOT ----> NOUN\n",
            "Citizen -----> compound ----> NOUN\n",
            "science -----> ROOT ----> NOUN\n",
            "as -----> prep ----> SCONJ\n",
            "an -----> det ----> DET\n",
            "ecological -----> amod ----> ADJ\n",
            "research -----> compound ----> NOUN\n",
            "tool -----> pobj ----> NOUN\n",
            ": -----> punct ----> PUNCT\n",
            "challenges -----> appos ----> NOUN\n",
            "and -----> cc ----> CCONJ\n",
            "benefits -----> conj ----> NOUN\n",
            "Fundamentals -----> ROOT ----> NOUN\n",
            "of -----> prep ----> ADP\n",
            "data -----> compound ----> NOUN\n",
            "structures -----> pobj ----> NOUN\n",
            "Semiconductors -----> ROOT ----> NOUN\n",
            ": -----> punct ----> PUNCT\n",
            "data -----> compound ----> NOUN\n",
            "handbook -----> appos ----> NOUN\n",
            "The -----> det ----> DET\n",
            "parable -----> ROOT ----> NOUN\n",
            "of -----> prep ----> ADP\n",
            "Google -----> compound ----> PROPN\n",
            "Flu -----> pobj ----> PROPN\n",
            ": -----> punct ----> PUNCT\n",
            "traps -----> appos ----> NOUN\n",
            "in -----> prep ----> ADP\n",
            "big -----> amod ----> ADJ\n",
            "data -----> compound ----> NOUN\n",
            "analysis -----> pobj ----> NOUN\n",
            "A -----> det ----> DET\n",
            "clustering -----> amod ----> NOUN\n",
            "technique -----> ROOT ----> NOUN\n",
            "for -----> prep ----> ADP\n",
            "summarizing -----> pcomp ----> VERB\n",
            "multivariate -----> compound ----> NOUN\n",
            "data -----> dobj ----> NOUN\n",
            "Volume -----> nmod ----> NOUN\n",
            "holographic -----> amod ----> ADJ\n",
            "storage -----> ROOT ----> NOUN\n",
            "and -----> cc ----> CCONJ\n",
            "retrieval -----> conj ----> NOUN\n",
            "of -----> prep ----> ADP\n",
            "digital -----> amod ----> PROPN\n",
            "  ----->  ----> SPACE\n",
            "data -----> pobj ----> PROPN\n",
            "Creating -----> ROOT ----> VERB\n",
            "the -----> det ----> DET\n",
            "CIPRES -----> compound ----> PROPN\n",
            "Science -----> compound ----> NOUN\n",
            "Gateway -----> dobj ----> PROPN\n",
            "for -----> prep ----> ADP\n",
            "inference -----> pobj ----> NOUN\n",
            "of -----> prep ----> ADP\n",
            "large -----> amod ----> ADJ\n",
            "phylogenetic -----> amod ----> ADJ\n",
            "trees -----> pobj ----> NOUN\n",
            "Toward -----> ROOT ----> ADP\n",
            "an -----> det ----> DET\n",
            "integrative -----> amod ----> ADJ\n",
            "  ----->  ----> SPACE\n",
            "science -----> pobj ----> NOUN\n",
            "  ----->  ----> SPACE\n",
            "of -----> prep ----> ADP\n",
            "the -----> det ----> DET\n",
            "person -----> pobj ----> NOUN\n",
            "Planning -----> ROOT ----> VERB\n",
            "early -----> advmod ----> ADV\n",
            "for -----> prep ----> ADP\n",
            "careers -----> pobj ----> NOUN\n",
            "in -----> prep ----> ADP\n",
            "science -----> pobj ----> NOUN\n",
            "Competing -----> ROOT ----> VERB\n",
            "on -----> prep ----> ADP\n",
            "analytics -----> pobj ----> NOUN\n",
            ": -----> punct ----> PUNCT\n",
            "Updated -----> amod ----> VERB\n",
            ", -----> punct ----> PUNCT\n",
            "with -----> intj ----> ADP\n",
            "a -----> det ----> DET\n",
            "new -----> amod ----> ADJ\n",
            "introduction -----> pobj ----> NOUN\n",
            ": -----> punct ----> PUNCT\n",
            "The -----> det ----> DET\n",
            "new -----> amod ----> ADJ\n",
            "science -----> npadvmod ----> NOUN\n",
            "of -----> prep ----> ADP\n",
            "winning -----> pcomp ----> VERB\n",
            "How -----> advmod ----> ADV\n",
            "many -----> amod ----> ADJ\n",
            "scientists -----> nsubj ----> NOUN\n",
            "fabricate -----> ROOT ----> VERB\n",
            "and -----> cc ----> CCONJ\n",
            "falsify -----> conj ----> VERB\n",
            "research -----> dobj ----> NOUN\n",
            "? -----> punct ----> PUNCT\n",
            "A -----> det ----> DET\n",
            "systematic -----> amod ----> ADJ\n",
            "review -----> ROOT ----> NOUN\n",
            "and -----> cc ----> CCONJ\n",
            "meta -----> compound ----> NOUN\n",
            "- -----> punct ----> PUNCT\n",
            "analysis -----> conj ----> NOUN\n",
            "of -----> prep ----> ADP\n",
            "survey -----> compound ----> NOUN\n",
            "data -----> pobj ----> NOUN\n",
            "Detecting -----> csubj ----> VERB\n",
            "novel -----> compound ----> NOUN\n",
            "associations -----> dobj ----> NOUN\n",
            "in -----> prep ----> ADP\n",
            "large -----> amod ----> ADJ\n",
            "  ----->  ----> SPACE\n",
            "data -----> pobj ----> NOUN\n",
            "  ----->  ----> SPACE\n",
            "sets -----> ROOT ----> NOUN\n",
            "TURBOVEG -----> ROOT ----> PROPN\n",
            ", -----> punct ----> PUNCT\n",
            "a -----> det ----> DET\n",
            "comprehensive -----> amod ----> ADJ\n",
            "data -----> compound ----> NOUN\n",
            "base -----> compound ----> NOUN\n",
            "management -----> compound ----> NOUN\n",
            "system -----> appos ----> NOUN\n",
            "for -----> prep ----> ADP\n",
            "vegetation -----> compound ----> NOUN\n",
            "data -----> pobj ----> NOUN\n",
            "Qualitative -----> amod ----> ADJ\n",
            "research -----> compound ----> NOUN\n",
            "methods -----> ROOT ----> NOUN\n",
            "for -----> prep ----> ADP\n",
            "science -----> compound ----> NOUN\n",
            "education -----> pobj ----> NOUN\n",
            "Characterization -----> ROOT ----> NOUN\n",
            "of -----> prep ----> ADP\n",
            "the -----> det ----> DET\n",
            "LIGO -----> compound ----> ADJ\n",
            "detectors -----> pobj ----> NOUN\n",
            "during -----> prep ----> ADP\n",
            "their -----> poss ----> DET\n",
            "sixth -----> amod ----> ADJ\n",
            "science -----> compound ----> NOUN\n",
            "run -----> pobj ----> NOUN\n",
            "Business -----> compound ----> NOUN\n",
            "intelligence -----> ROOT ----> NOUN\n",
            "and -----> cc ----> CCONJ\n",
            "analytics -----> conj ----> NOUN\n",
            ": -----> punct ----> PUNCT\n",
            "From -----> prep ----> ADP\n",
            "big -----> amod ----> ADJ\n",
            "data -----> pobj ----> NOUN\n",
            "to -----> prep ----> ADP\n",
            "big -----> amod ----> ADJ\n",
            "impact -----> pobj ----> NOUN\n",
            "Challenges -----> ROOT ----> NOUN\n",
            "of -----> prep ----> ADP\n",
            "data -----> compound ----> NOUN\n",
            "integration -----> pobj ----> NOUN\n",
            "and -----> cc ----> CCONJ\n",
            "interoperability -----> conj ----> NOUN\n",
            "in -----> prep ----> ADP\n",
            "big -----> amod ----> ADJ\n",
            "data -----> pobj ----> NOUN\n",
            "Big -----> amod ----> ADJ\n",
            "data -----> ROOT ----> NOUN\n",
            ": -----> punct ----> PUNCT\n",
            "New -----> amod ----> ADJ\n",
            "tricks -----> appos ----> NOUN\n",
            "for -----> prep ----> ADP\n",
            "econometrics -----> pobj ----> NOUN\n",
            "Life -----> ROOT ----> NOUN\n",
            "in -----> prep ----> ADP\n",
            "the -----> det ----> DET\n",
            "network -----> pobj ----> NOUN\n",
            ": -----> punct ----> PUNCT\n",
            "the -----> det ----> DET\n",
            "coming -----> amod ----> ADJ\n",
            "age -----> appos ----> NOUN\n",
            "of -----> prep ----> ADP\n",
            "computational -----> amod ----> ADJ\n",
            "social -----> amod ----> ADJ\n",
            "science -----> pobj ----> NOUN\n",
            "Global -----> amod ----> ADJ\n",
            "mineralogical -----> amod ----> ADJ\n",
            "and -----> cc ----> CCONJ\n",
            "aqueous -----> conj ----> ADJ\n",
            "Mars -----> compound ----> PROPN\n",
            "history -----> ROOT ----> NOUN\n",
            "derived -----> acl ----> VERB\n",
            "from -----> prep ----> ADP\n",
            "OMEGA -----> nmod ----> PROPN\n",
            "/ -----> punct ----> SYM\n",
            "Mars -----> compound ----> PROPN\n",
            "Express -----> compound ----> PROPN\n",
            "data -----> pobj ----> NOUN\n",
            "Statistical -----> amod ----> ADJ\n",
            "data -----> compound ----> NOUN\n",
            "analysis -----> ROOT ----> NOUN\n",
            "in -----> prep ----> ADP\n",
            "the -----> det ----> DET\n",
            "computer -----> compound ----> NOUN\n",
            "age -----> pobj ----> NOUN\n",
            "The -----> det ----> DET\n",
            "medical -----> amod ----> ADJ\n",
            "review -----> compound ----> NOUN\n",
            "article -----> ROOT ----> NOUN\n",
            ": -----> punct ----> PUNCT\n",
            "state -----> appos ----> NOUN\n",
            "of -----> prep ----> ADP\n",
            "the -----> det ----> DET\n",
            "  ----->  ----> SPACE\n",
            "science -----> pobj ----> NOUN\n",
            "A -----> det ----> DET\n",
            "Bayesian -----> amod ----> ADJ\n",
            "networks -----> nsubj ----> NOUN\n",
            "approach -----> ROOT ----> VERB\n",
            "for -----> prep ----> ADP\n",
            "predicting -----> pcomp ----> VERB\n",
            "protein -----> compound ----> NOUN\n",
            "- -----> punct ----> PUNCT\n",
            "protein -----> compound ----> NOUN\n",
            "interactions -----> dobj ----> NOUN\n",
            "from -----> prep ----> ADP\n",
            "genomic -----> amod ----> ADJ\n",
            "  ----->  ----> SPACE\n",
            "data -----> pobj ----> NOUN\n",
            "Beyond -----> prep ----> ADP\n",
            "the -----> det ----> DET\n",
            "hype -----> pobj ----> NOUN\n",
            ": -----> punct ----> PUNCT\n",
            "Big -----> amod ----> ADJ\n",
            "  ----->  ----> SPACE\n",
            "data -----> compound ----> NOUN\n",
            "  ----->  ----> SPACE\n",
            "concepts -----> ROOT ----> NOUN\n",
            ", -----> punct ----> PUNCT\n",
            "methods -----> conj ----> NOUN\n",
            ", -----> punct ----> PUNCT\n",
            "and -----> cc ----> CCONJ\n",
            "analytics -----> conj ----> NOUN\n",
            "Visualizing -----> ROOT ----> VERB\n",
            "science -----> dobj ----> NOUN\n",
            "by -----> prep ----> ADP\n",
            "citation -----> compound ----> NOUN\n",
            "mapping -----> pobj ----> NOUN\n",
            "Mars -----> compound ----> PROPN\n",
            "reconnaissance -----> compound ----> NOUN\n",
            "orbiter -----> poss ----> NOUN\n",
            "'s -----> case ----> PART\n",
            "high -----> amod ----> ADJ\n",
            "resolution -----> ROOT ----> NOUN\n",
            "imaging -----> acl ----> NOUN\n",
            "  ----->  ----> SPACE\n",
            "science -----> dobj ----> NOUN\n",
            "  ----->  ----> SPACE\n",
            "experiment -----> nmod ----> NOUN\n",
            "( -----> punct ----> PUNCT\n",
            "HiRISE -----> appos ----> PROPN\n",
            ") -----> punct ----> PUNCT\n",
            "Global -----> amod ----> ADJ\n",
            "change -----> ROOT ----> NOUN\n",
            "and -----> cc ----> CCONJ\n",
            "local -----> amod ----> ADJ\n",
            "solutions -----> conj ----> NOUN\n",
            ": -----> punct ----> PUNCT\n",
            "Tapping -----> acl ----> VERB\n",
            "the -----> det ----> DET\n",
            "unrealized -----> amod ----> ADJ\n",
            "potential -----> dobj ----> NOUN\n",
            "of -----> prep ----> ADP\n",
            "citizen -----> nmod ----> NOUN\n",
            "  ----->  ----> SPACE\n",
            "science -----> pobj ----> NOUN\n",
            "  ----->  ----> SPACE\n",
            "for -----> prep ----> ADP\n",
            "biodiversity -----> compound ----> NOUN\n",
            "research -----> pobj ----> NOUN\n",
            "Opportunistic -----> amod ----> ADJ\n",
            "  ----->  ----> SPACE\n",
            "data -----> nsubj ----> NOUN\n",
            "  ----->  ----> SPACE\n",
            "structures -----> ROOT ----> NOUN\n",
            "with -----> prep ----> ADP\n",
            "applications -----> pobj ----> NOUN\n",
            "Linked -----> amod ----> VERB\n",
            "  ----->  ----> SPACE\n",
            "data -----> ROOT ----> NOUN\n",
            ": -----> punct ----> PUNCT\n",
            "The -----> det ----> DET\n",
            "story -----> appos ----> NOUN\n",
            "so -----> advmod ----> ADV\n",
            "far -----> advmod ----> ADV\n",
            "A -----> det ----> DET\n",
            "kingdom -----> compound ----> NOUN\n",
            "- -----> punct ----> PUNCT\n",
            "level -----> compound ----> NOUN\n",
            "phylogeny -----> ROOT ----> NOUN\n",
            "of -----> prep ----> ADP\n",
            "eukaryotes -----> pobj ----> NOUN\n",
            "based -----> acl ----> VERB\n",
            "on -----> prep ----> ADP\n",
            "combined -----> amod ----> ADJ\n",
            "protein -----> pobj ----> NOUN\n",
            "  ----->  ----> SPACE\n",
            "data -----> conj ----> NOUN\n",
            "Clustering -----> ROOT ----> VERB\n",
            "  ----->  ----> SPACE\n",
            "data -----> dative ----> NOUN\n",
            "  ----->  ----> SPACE\n",
            "streams -----> aux ----> NOUN\n",
            "Atmospheric -----> amod ----> ADJ\n",
            "modeling -----> ROOT ----> NOUN\n",
            ", -----> punct ----> PUNCT\n",
            "  ----->  ----> SPACE\n",
            "data -----> conj ----> NOUN\n",
            "  ----->  ----> SPACE\n",
            "assimilation -----> conj ----> NOUN\n",
            "and -----> cc ----> CCONJ\n",
            "predictability -----> conj ----> NOUN\n",
            "Concrete -----> amod ----> ADJ\n",
            "mathematics -----> ROOT ----> NOUN\n",
            ": -----> punct ----> PUNCT\n",
            "a -----> det ----> DET\n",
            "foundation -----> appos ----> NOUN\n",
            "for -----> prep ----> ADP\n",
            "computer -----> pobj ----> NOUN\n",
            "  ----->  ----> SPACE\n",
            "science -----> appos ----> NOUN\n",
            "Administrative -----> amod ----> ADJ\n",
            "  ----->  ----> SPACE\n",
            "science -----> ROOT ----> NOUN\n",
            "  ----->  ----> SPACE\n",
            "as -----> prep ----> SCONJ\n",
            "socially -----> advmod ----> ADV\n",
            "constructed -----> amod ----> VERB\n",
            "truth -----> pobj ----> NOUN\n",
            "The -----> det ----> DET\n",
            "nature -----> ROOT ----> NOUN\n",
            "of -----> prep ----> ADP\n",
            "  ----->  ----> SPACE\n",
            "science -----> pobj ----> NOUN\n",
            "  ----->  ----> SPACE\n",
            "and -----> cc ----> CCONJ\n",
            "instructional -----> amod ----> ADJ\n",
            "practice -----> conj ----> NOUN\n",
            ": -----> punct ----> PUNCT\n",
            "Making -----> acl ----> VERB\n",
            "the -----> det ----> DET\n",
            "unnatural -----> amod ----> ADJ\n",
            "natural -----> dobj ----> ADJ\n",
            "Biomaterials -----> nsubj ----> NOUN\n",
            "  ----->  ----> SPACE\n",
            "science -----> ROOT ----> NOUN\n",
            ": -----> punct ----> PUNCT\n",
            "an -----> det ----> DET\n",
            "introduction -----> appos ----> NOUN\n",
            "to -----> prep ----> ADP\n",
            "materials -----> pobj ----> NOUN\n",
            "in -----> prep ----> ADP\n",
            "medicine -----> pobj ----> NOUN\n",
            "Causal -----> compound ----> ADJ\n",
            "protein -----> npadvmod ----> NOUN\n",
            "- -----> punct ----> PUNCT\n",
            "signaling -----> amod ----> VERB\n",
            "networks -----> ROOT ----> NOUN\n",
            "derived -----> acl ----> VERB\n",
            "from -----> prep ----> ADP\n",
            "multiparameter -----> nmod ----> PROPN\n",
            "single -----> amod ----> ADJ\n",
            "- -----> punct ----> PUNCT\n",
            "cell -----> compound ----> NOUN\n",
            "  ----->  ----> SPACE\n",
            "data -----> pobj ----> NOUN\n",
            "Geographical -----> amod ----> ADJ\n",
            "information -----> ROOT ----> NOUN\n",
            "  ----->  ----> SPACE\n",
            "science -----> appos ----> NOUN\n",
            "Statistics -----> ROOT ----> NOUN\n",
            "for -----> prep ----> ADP\n",
            "sensory -----> pobj ----> NOUN\n",
            "and -----> cc ----> CCONJ\n",
            "consumer -----> conj ----> NOUN\n",
            "  ----->  ----> SPACE\n",
            "science -----> npadvmod ----> NOUN\n"
          ],
          "name": "stdout"
        }
      ]
    },
    {
      "cell_type": "code",
      "metadata": {
        "id": "EAAohiiXsEaL"
      },
      "source": [
        "p1=list()\n",
        "p2=list()\n",
        "p3=list()"
      ],
      "execution_count": 101,
      "outputs": []
    },
    {
      "cell_type": "code",
      "metadata": {
        "id": "_e4-jMoWtZ1u"
      },
      "source": [
        "style1 = \"^[A-Za-z]$\"\n",
        "style2 = \"^[A-Za-z]+\\s+[A-Za-z]+\\s+(?:Data)$\"\n",
        "style3 = \"(.*):\\s*([^,]+)\"\n",
        "style4 = \"[^.!?;]*(?:for)[^.!?;]*\""
      ],
      "execution_count": 124,
      "outputs": []
    },
    {
      "cell_type": "code",
      "metadata": {
        "id": "xIlQG1gtqkR0"
      },
      "source": [
        "#Extract the author information who has the year 2003\n",
        "\n",
        "import re\n",
        "for i in files['Title']:\n",
        "     exp1=re.findall(style1,i)\n",
        "     exp2=re.findall(style2,i)\n",
        "     exp3=re.findall(style3,i)\n",
        "     exp4=re.findall(style4,i)\n",
        "     if len(exp1)!=0 or len(exp2)!=0:\n",
        "       p1.append(i)\n",
        "     elif len(exp3)!=0:\n",
        "       p2.append(i)\n",
        "     elif len(exp4)!=0:\n",
        "       p3.append(i)"
      ],
      "execution_count": 129,
      "outputs": []
    },
    {
      "cell_type": "code",
      "metadata": {
        "id": "2HN30B-7sRdu",
        "outputId": "56e13f0d-d7e7-40c1-8a80-b56997302f6b",
        "colab": {
          "base_uri": "https://localhost:8080/",
          "height": 34
        }
      },
      "source": [
        "res1 = [i.replace(u'\\xa0', u' ') for i in p1]\n",
        "\n",
        "print(res1)"
      ],
      "execution_count": 130,
      "outputs": [
        {
          "output_type": "stream",
          "text": [
            "['Mining text data']\n"
          ],
          "name": "stdout"
        }
      ]
    },
    {
      "cell_type": "code",
      "metadata": {
        "id": "WoXG1Ou0sTIB",
        "outputId": "999a7bef-8824-4c50-f7e9-230ab6e34f23",
        "colab": {
          "base_uri": "https://localhost:8080/",
          "height": 54
        }
      },
      "source": [
        "res2 = [i.replace(u'\\xa0', u' ') for i in p2]\n",
        "\n",
        "print(res2)"
      ],
      "execution_count": 131,
      "outputs": [
        {
          "output_type": "stream",
          "text": [
            "['Data Science for Business: What you need to know about data mining and data-analytic thinking', 'Data science, predictive analytics, and big data: a revolution that will transform supply chain design and management', 'The quantified self: Fundamental disruption in big data science and biological discovery', 'Big data: astronomical or genomical?', 'The fourth paradigm: data-intensive scientific discovery', 'Analyzing social science data: 50 key problems in data analysis', 'Analyzing incomplete political science data: An alternative algorithm for multiple imputation', 'Mastering data mining: The art and science of customer relationship management', 'The data deluge: An e-science perspective', 'ENDF/B-VII. 1 nuclear data for science and technology: cross sections, covariances, fission product yields and decay data', 'Statistics: methods and applications: a comprehensive reference for science, industry, and data mining', 'AIRS/AMSU/HSB on the Aqua mission: Design, science objectives, data products, and processing systems', 'The role of anomalous data in knowledge acquisition: A theoretical framework and implications for science instruction', 'ENDF/B-VII. 0: next generation evaluated nuclear data library for nuclear science and technology', 'Discovering knowledge in data: an introduction to data mining', 'Machine learning: the art and science of algorithms that make sense of data', 'Opening the archive: How free data has enabled the science and monitoring promise of Landsat', 'Statistics of earth science data: their distribution in time, space and orientation', 'Impact of data sources on citation counts and rankings of LIS faculty: Web of Science versus Scopus and Google Scholar', 'The grid: A new infrastructure for 21st century science', 'List-wise deletion is evil: what to do about missing data in political science', 'Citizen science: a developing tool for expanding science knowledge and scientific literacy', 'JENDL-4.0: a new library for nuclear science and engineering', 'UK climate projections science report: climate change projections', 'Landsat-8: Science and product vision for terrestrial global change research', 'Workflows for e-Science: scientific workflows for grids', 'The science of self-report: Implications for research and practice', 'Data streams: models and algorithms', 'Citizen science as an ecological research tool: challenges and benefits', 'Semiconductors: data handbook', 'The parable of Google Flu: traps in big data analysis', 'Competing on analytics: Updated, with a new introduction: The new science of winning', 'Business intelligence and analytics: From big data to big impact', 'Big data: New tricks for econometrics', 'Life in the network: the coming age of computational social science', 'The medical review article: state of the science', 'Beyond the hype: Big data concepts, methods, and analytics', 'Global change and local solutions: Tapping the unrealized potential of citizen science for biodiversity research', 'Linked data: The story so far', 'Concrete mathematics: a foundation for computer science', 'The nature of science and instructional practice: Making the unnatural natural', 'Biomaterials science: an introduction to materials in medicine', 'Data Science for Business: What you need to know about data mining and data-analytic thinking', 'Data science, predictive analytics, and big data: a revolution that will transform supply chain design and management', 'The quantified self: Fundamental disruption in big data science and biological discovery', 'Big data: astronomical or genomical?', 'The fourth paradigm: data-intensive scientific discovery', 'Analyzing social science data: 50 key problems in data analysis', 'Analyzing incomplete political science data: An alternative algorithm for multiple imputation', 'Mastering data mining: The art and science of customer relationship management', 'The data deluge: An e-science perspective', 'ENDF/B-VII. 1 nuclear data for science and technology: cross sections, covariances, fission product yields and decay data', 'Statistics: methods and applications: a comprehensive reference for science, industry, and data mining', 'AIRS/AMSU/HSB on the Aqua mission: Design, science objectives, data products, and processing systems', 'The role of anomalous data in knowledge acquisition: A theoretical framework and implications for science instruction', 'ENDF/B-VII. 0: next generation evaluated nuclear data library for nuclear science and technology', 'Discovering knowledge in data: an introduction to data mining', 'Machine learning: the art and science of algorithms that make sense of data', 'Opening the archive: How free data has enabled the science and monitoring promise of Landsat', 'Statistics of earth science data: their distribution in time, space and orientation', 'Impact of data sources on citation counts and rankings of LIS faculty: Web of Science versus Scopus and Google Scholar', 'The grid: A new infrastructure for 21st century science', 'List-wise deletion is evil: what to do about missing data in political science', 'Citizen science: a developing tool for expanding science knowledge and scientific literacy', 'JENDL-4.0: a new library for nuclear science and engineering', 'UK climate projections science report: climate change projections', 'Landsat-8: Science and product vision for terrestrial global change research', 'Workflows for e-Science: scientific workflows for grids', 'The science of self-report: Implications for research and practice', 'Data streams: models and algorithms', 'Citizen science as an ecological research tool: challenges and benefits', 'Semiconductors: data handbook', 'The parable of Google Flu: traps in big data analysis', 'Competing on analytics: Updated, with a new introduction: The new science of winning', 'Business intelligence and analytics: From big data to big impact', 'Big data: New tricks for econometrics', 'Life in the network: the coming age of computational social science', 'The medical review article: state of the science', 'Beyond the hype: Big data concepts, methods, and analytics', 'Global change and local solutions: Tapping the unrealized potential of citizen science for biodiversity research', 'Linked data: The story so far', 'Concrete mathematics: a foundation for computer science', 'The nature of science and instructional practice: Making the unnatural natural', 'Biomaterials science: an introduction to materials in medicine', 'Data Science for Business: What you need to know about data mining and data-analytic thinking', 'Data science, predictive analytics, and big data: a revolution that will transform supply chain design and management', 'The quantified self: Fundamental disruption in big data science and biological discovery', 'Big data: astronomical or genomical?', 'The fourth paradigm: data-intensive scientific discovery', 'Analyzing social science data: 50 key problems in data analysis', 'Analyzing incomplete political science data: An alternative algorithm for multiple imputation', 'Mastering data mining: The art and science of customer relationship management', 'The data deluge: An e-science perspective', 'ENDF/B-VII. 1 nuclear data for science and technology: cross sections, covariances, fission product yields and decay data', 'Statistics: methods and applications: a comprehensive reference for science, industry, and data mining', 'AIRS/AMSU/HSB on the Aqua mission: Design, science objectives, data products, and processing systems', 'The role of anomalous data in knowledge acquisition: A theoretical framework and implications for science instruction', 'ENDF/B-VII. 0: next generation evaluated nuclear data library for nuclear science and technology', 'Discovering knowledge in data: an introduction to data mining', 'Machine learning: the art and science of algorithms that make sense of data', 'Opening the archive: How free data has enabled the science and monitoring promise of Landsat', 'Statistics of earth science data: their distribution in time, space and orientation', 'Impact of data sources on citation counts and rankings of LIS faculty: Web of Science versus Scopus and Google Scholar', 'The grid: A new infrastructure for 21st century science', 'List-wise deletion is evil: what to do about missing data in political science', 'Citizen science: a developing tool for expanding science knowledge and scientific literacy', 'JENDL-4.0: a new library for nuclear science and engineering', 'UK climate projections science report: climate change projections', 'Landsat-8: Science and product vision for terrestrial global change research', 'Workflows for e-Science: scientific workflows for grids', 'The science of self-report: Implications for research and practice', 'Data streams: models and algorithms', 'Citizen science as an ecological research tool: challenges and benefits', 'Semiconductors: data handbook', 'The parable of Google Flu: traps in big data analysis', 'Competing on analytics: Updated, with a new introduction: The new science of winning', 'Business intelligence and analytics: From big data to big impact', 'Big data: New tricks for econometrics', 'Life in the network: the coming age of computational social science', 'The medical review article: state of the science', 'Beyond the hype: Big data concepts, methods, and analytics', 'Global change and local solutions: Tapping the unrealized potential of citizen science for biodiversity research', 'Linked data: The story so far', 'Concrete mathematics: a foundation for computer science', 'The nature of science and instructional practice: Making the unnatural natural', 'Biomaterials science: an introduction to materials in medicine', 'Data Science for Business: What you need to know about data mining and data-analytic thinking', 'Data science, predictive analytics, and big data: a revolution that will transform supply chain design and management', 'The quantified self: Fundamental disruption in big data science and biological discovery', 'Big data: astronomical or genomical?', 'The fourth paradigm: data-intensive scientific discovery', 'Analyzing social science data: 50 key problems in data analysis', 'Analyzing incomplete political science data: An alternative algorithm for multiple imputation', 'Mastering data mining: The art and science of customer relationship management', 'The data deluge: An e-science perspective', 'ENDF/B-VII. 1 nuclear data for science and technology: cross sections, covariances, fission product yields and decay data', 'Statistics: methods and applications: a comprehensive reference for science, industry, and data mining', 'AIRS/AMSU/HSB on the Aqua mission: Design, science objectives, data products, and processing systems', 'The role of anomalous data in knowledge acquisition: A theoretical framework and implications for science instruction', 'ENDF/B-VII. 0: next generation evaluated nuclear data library for nuclear science and technology', 'Discovering knowledge in data: an introduction to data mining', 'Machine learning: the art and science of algorithms that make sense of data', 'Opening the archive: How free data has enabled the science and monitoring promise of Landsat', 'Statistics of earth science data: their distribution in time, space and orientation', 'Impact of data sources on citation counts and rankings of LIS faculty: Web of Science versus Scopus and Google Scholar', 'The grid: A new infrastructure for 21st century science', 'List-wise deletion is evil: what to do about missing data in political science', 'Citizen science: a developing tool for expanding science knowledge and scientific literacy', 'JENDL-4.0: a new library for nuclear science and engineering', 'UK climate projections science report: climate change projections', 'Landsat-8: Science and product vision for terrestrial global change research', 'Workflows for e-Science: scientific workflows for grids', 'The science of self-report: Implications for research and practice', 'Data streams: models and algorithms', 'Citizen science as an ecological research tool: challenges and benefits', 'Semiconductors: data handbook', 'The parable of Google Flu: traps in big data analysis', 'Competing on analytics: Updated, with a new introduction: The new science of winning', 'Business intelligence and analytics: From big data to big impact', 'Big data: New tricks for econometrics', 'Life in the network: the coming age of computational social science', 'The medical review article: state of the science', 'Beyond the hype: Big data concepts, methods, and analytics', 'Global change and local solutions: Tapping the unrealized potential of citizen science for biodiversity research', 'Linked data: The story so far', 'Concrete mathematics: a foundation for computer science', 'The nature of science and instructional practice: Making the unnatural natural', 'Biomaterials science: an introduction to materials in medicine', 'Data Science for Business: What you need to know about data mining and data-analytic thinking', 'Data science, predictive analytics, and big data: a revolution that will transform supply chain design and management', 'The quantified self: Fundamental disruption in big data science and biological discovery', 'Big data: astronomical or genomical?', 'The fourth paradigm: data-intensive scientific discovery', 'Analyzing social science data: 50 key problems in data analysis', 'Analyzing incomplete political science data: An alternative algorithm for multiple imputation', 'Mastering data mining: The art and science of customer relationship management', 'The data deluge: An e-science perspective', 'ENDF/B-VII. 1 nuclear data for science and technology: cross sections, covariances, fission product yields and decay data', 'Statistics: methods and applications: a comprehensive reference for science, industry, and data mining', 'AIRS/AMSU/HSB on the Aqua mission: Design, science objectives, data products, and processing systems', 'The role of anomalous data in knowledge acquisition: A theoretical framework and implications for science instruction', 'ENDF/B-VII. 0: next generation evaluated nuclear data library for nuclear science and technology', 'Discovering knowledge in data: an introduction to data mining', 'Machine learning: the art and science of algorithms that make sense of data', 'Opening the archive: How free data has enabled the science and monitoring promise of Landsat', 'Statistics of earth science data: their distribution in time, space and orientation', 'Impact of data sources on citation counts and rankings of LIS faculty: Web of Science versus Scopus and Google Scholar', 'The grid: A new infrastructure for 21st century science', 'List-wise deletion is evil: what to do about missing data in political science', 'Citizen science: a developing tool for expanding science knowledge and scientific literacy', 'JENDL-4.0: a new library for nuclear science and engineering', 'UK climate projections science report: climate change projections', 'Landsat-8: Science and product vision for terrestrial global change research', 'Workflows for e-Science: scientific workflows for grids', 'The science of self-report: Implications for research and practice', 'Data streams: models and algorithms', 'Citizen science as an ecological research tool: challenges and benefits', 'Semiconductors: data handbook', 'The parable of Google Flu: traps in big data analysis', 'Competing on analytics: Updated, with a new introduction: The new science of winning', 'Business intelligence and analytics: From big data to big impact', 'Big data: New tricks for econometrics', 'Life in the network: the coming age of computational social science', 'The medical review article: state of the science', 'Beyond the hype: Big data concepts, methods, and analytics', 'Global change and local solutions: Tapping the unrealized potential of citizen science for biodiversity research', 'Linked data: The story so far', 'Concrete mathematics: a foundation for computer science', 'The nature of science and instructional practice: Making the unnatural natural', 'Biomaterials science: an introduction to materials in medicine', 'Data Science for Business: What you need to know about data mining and data-analytic thinking', 'Data science, predictive analytics, and big data: a revolution that will transform supply chain design and management', 'The quantified self: Fundamental disruption in big data science and biological discovery', 'Big data: astronomical or genomical?', 'The fourth paradigm: data-intensive scientific discovery', 'Analyzing social science data: 50 key problems in data analysis', 'Analyzing incomplete political science data: An alternative algorithm for multiple imputation', 'Mastering data mining: The art and science of customer relationship management', 'The data deluge: An e-science perspective', 'ENDF/B-VII. 1 nuclear data for science and technology: cross sections, covariances, fission product yields and decay data', 'Statistics: methods and applications: a comprehensive reference for science, industry, and data mining', 'AIRS/AMSU/HSB on the Aqua mission: Design, science objectives, data products, and processing systems', 'The role of anomalous data in knowledge acquisition: A theoretical framework and implications for science instruction', 'ENDF/B-VII. 0: next generation evaluated nuclear data library for nuclear science and technology', 'Discovering knowledge in data: an introduction to data mining', 'Machine learning: the art and science of algorithms that make sense of data', 'Opening the archive: How free data has enabled the science and monitoring promise of Landsat', 'Statistics of earth science data: their distribution in time, space and orientation', 'Impact of data sources on citation counts and rankings of LIS faculty: Web of Science versus Scopus and Google Scholar', 'The grid: A new infrastructure for 21st century science', 'List-wise deletion is evil: what to do about missing data in political science', 'Citizen science: a developing tool for expanding science knowledge and scientific literacy', 'JENDL-4.0: a new library for nuclear science and engineering', 'UK climate projections science report: climate change projections', 'Landsat-8: Science and product vision for terrestrial global change research', 'Workflows for e-Science: scientific workflows for grids', 'The science of self-report: Implications for research and practice', 'Data streams: models and algorithms', 'Citizen science as an ecological research tool: challenges and benefits', 'Semiconductors: data handbook', 'The parable of Google Flu: traps in big data analysis', 'Competing on analytics: Updated, with a new introduction: The new science of winning', 'Business intelligence and analytics: From big data to big impact', 'Big data: New tricks for econometrics', 'Life in the network: the coming age of computational social science', 'The medical review article: state of the science', 'Beyond the hype: Big data concepts, methods, and analytics', 'Global change and local solutions: Tapping the unrealized potential of citizen science for biodiversity research', 'Linked data: The story so far', 'Concrete mathematics: a foundation for computer science', 'The nature of science and instructional practice: Making the unnatural natural', 'Biomaterials science: an introduction to materials in medicine', 'Data Science for Business: What you need to know about data mining and data-analytic thinking', 'Data science, predictive analytics, and big data: a revolution that will transform supply chain design and management', 'The quantified self: Fundamental disruption in big data science and biological discovery', 'Big data: astronomical or genomical?', 'The fourth paradigm: data-intensive scientific discovery', 'Analyzing social science data: 50 key problems in data analysis', 'Analyzing incomplete political science data: An alternative algorithm for multiple imputation', 'Mastering data mining: The art and science of customer relationship management', 'The data deluge: An e-science perspective', 'ENDF/B-VII. 1 nuclear data for science and technology: cross sections, covariances, fission product yields and decay data', 'Statistics: methods and applications: a comprehensive reference for science, industry, and data mining', 'AIRS/AMSU/HSB on the Aqua mission: Design, science objectives, data products, and processing systems', 'The role of anomalous data in knowledge acquisition: A theoretical framework and implications for science instruction', 'ENDF/B-VII. 0: next generation evaluated nuclear data library for nuclear science and technology', 'Discovering knowledge in data: an introduction to data mining', 'Machine learning: the art and science of algorithms that make sense of data', 'Opening the archive: How free data has enabled the science and monitoring promise of Landsat', 'Statistics of earth science data: their distribution in time, space and orientation', 'Impact of data sources on citation counts and rankings of LIS faculty: Web of Science versus Scopus and Google Scholar', 'The grid: A new infrastructure for 21st century science', 'List-wise deletion is evil: what to do about missing data in political science', 'Citizen science: a developing tool for expanding science knowledge and scientific literacy', 'JENDL-4.0: a new library for nuclear science and engineering', 'UK climate projections science report: climate change projections', 'Landsat-8: Science and product vision for terrestrial global change research', 'Workflows for e-Science: scientific workflows for grids', 'The science of self-report: Implications for research and practice', 'Data streams: models and algorithms', 'Citizen science as an ecological research tool: challenges and benefits', 'Semiconductors: data handbook', 'The parable of Google Flu: traps in big data analysis', 'Competing on analytics: Updated, with a new introduction: The new science of winning', 'Business intelligence and analytics: From big data to big impact', 'Big data: New tricks for econometrics', 'Life in the network: the coming age of computational social science', 'The medical review article: state of the science', 'Beyond the hype: Big data concepts, methods, and analytics', 'Global change and local solutions: Tapping the unrealized potential of citizen science for biodiversity research', 'Linked data: The story so far', 'Concrete mathematics: a foundation for computer science', 'The nature of science and instructional practice: Making the unnatural natural', 'Biomaterials science: an introduction to materials in medicine']\n"
          ],
          "name": "stdout"
        }
      ]
    },
    {
      "cell_type": "code",
      "metadata": {
        "id": "4Kd4_lZRsaUn",
        "outputId": "4c121992-61a8-404c-c109-a70c0068c92c",
        "colab": {
          "base_uri": "https://localhost:8080/",
          "height": 54
        }
      },
      "source": [
        "print(p3)"
      ],
      "execution_count": 132,
      "outputs": [
        {
          "output_type": "stream",
          "text": [
            "['Cloudy, increasingly FAIR; revisiting the FAIR Data guiding principles for the European Open Science Cloud', 'Citation indexes for science', 'Next steps for citizen science', \"Ancillary data services of NASA's navigation and ancillary information facility\", 'The FAIR Guiding Principles for scientific\\xa0data\\xa0management and stewardship', 'Conceptual approaches for defining data, information, and knowledge', 'A new dawn for citizen science', 'Distilling free-form natural laws from experimental data', 'A clustering technique for summarizing multivariate data', 'Creating the CIPRES Science Gateway for inference of large phylogenetic trees', 'Planning early for careers in science', 'TURBOVEG, a comprehensive data base management system for vegetation data', 'Qualitative research methods for science education', 'A Bayesian networks approach for predicting protein-protein interactions from genomic\\xa0data', 'Geographical information\\xa0science', 'Statistics for sensory and consumer\\xa0science', 'Cloudy, increasingly FAIR; revisiting the FAIR Data guiding principles for the European Open Science Cloud', 'Citation indexes for science', 'Next steps for citizen science', \"Ancillary data services of NASA's navigation and ancillary information facility\", 'The FAIR Guiding Principles for scientific\\xa0data\\xa0management and stewardship', 'Conceptual approaches for defining data, information, and knowledge', 'A new dawn for citizen science', 'Distilling free-form natural laws from experimental data', 'A clustering technique for summarizing multivariate data', 'Creating the CIPRES Science Gateway for inference of large phylogenetic trees', 'Planning early for careers in science', 'TURBOVEG, a comprehensive data base management system for vegetation data', 'Qualitative research methods for science education', 'A Bayesian networks approach for predicting protein-protein interactions from genomic\\xa0data', 'Geographical information\\xa0science', 'Statistics for sensory and consumer\\xa0science', 'Cloudy, increasingly FAIR; revisiting the FAIR Data guiding principles for the European Open Science Cloud', 'Citation indexes for science', 'Next steps for citizen science', \"Ancillary data services of NASA's navigation and ancillary information facility\", 'The FAIR Guiding Principles for scientific\\xa0data\\xa0management and stewardship', 'Conceptual approaches for defining data, information, and knowledge', 'A new dawn for citizen science', 'Distilling free-form natural laws from experimental data', 'A clustering technique for summarizing multivariate data', 'Creating the CIPRES Science Gateway for inference of large phylogenetic trees', 'Planning early for careers in science', 'TURBOVEG, a comprehensive data base management system for vegetation data', 'Qualitative research methods for science education', 'A Bayesian networks approach for predicting protein-protein interactions from genomic\\xa0data', 'Geographical information\\xa0science', 'Statistics for sensory and consumer\\xa0science', 'Cloudy, increasingly FAIR; revisiting the FAIR Data guiding principles for the European Open Science Cloud', 'Citation indexes for science', 'Next steps for citizen science', \"Ancillary data services of NASA's navigation and ancillary information facility\", 'The FAIR Guiding Principles for scientific\\xa0data\\xa0management and stewardship', 'Conceptual approaches for defining data, information, and knowledge', 'A new dawn for citizen science', 'Distilling free-form natural laws from experimental data', 'A clustering technique for summarizing multivariate data', 'Creating the CIPRES Science Gateway for inference of large phylogenetic trees', 'Planning early for careers in science', 'TURBOVEG, a comprehensive data base management system for vegetation data', 'Qualitative research methods for science education', 'A Bayesian networks approach for predicting protein-protein interactions from genomic\\xa0data', 'Geographical information\\xa0science', 'Statistics for sensory and consumer\\xa0science', 'Cloudy, increasingly FAIR; revisiting the FAIR Data guiding principles for the European Open Science Cloud', 'Citation indexes for science', 'Next steps for citizen science', \"Ancillary data services of NASA's navigation and ancillary information facility\", 'The FAIR Guiding Principles for scientific\\xa0data\\xa0management and stewardship', 'Conceptual approaches for defining data, information, and knowledge', 'A new dawn for citizen science', 'Distilling free-form natural laws from experimental data', 'A clustering technique for summarizing multivariate data', 'Creating the CIPRES Science Gateway for inference of large phylogenetic trees', 'Planning early for careers in science', 'TURBOVEG, a comprehensive data base management system for vegetation data', 'Qualitative research methods for science education', 'A Bayesian networks approach for predicting protein-protein interactions from genomic\\xa0data', 'Geographical information\\xa0science', 'Statistics for sensory and consumer\\xa0science', 'Cloudy, increasingly FAIR; revisiting the FAIR Data guiding principles for the European Open Science Cloud', 'Citation indexes for science', 'Next steps for citizen science', \"Ancillary data services of NASA's navigation and ancillary information facility\", 'The FAIR Guiding Principles for scientific\\xa0data\\xa0management and stewardship', 'Conceptual approaches for defining data, information, and knowledge', 'A new dawn for citizen science', 'Distilling free-form natural laws from experimental data', 'A clustering technique for summarizing multivariate data', 'Creating the CIPRES Science Gateway for inference of large phylogenetic trees', 'Planning early for careers in science', 'TURBOVEG, a comprehensive data base management system for vegetation data', 'Qualitative research methods for science education', 'A Bayesian networks approach for predicting protein-protein interactions from genomic\\xa0data', 'Geographical information\\xa0science', 'Statistics for sensory and consumer\\xa0science', 'Cloudy, increasingly FAIR; revisiting the FAIR Data guiding principles for the European Open Science Cloud', 'Citation indexes for science', 'Next steps for citizen science', \"Ancillary data services of NASA's navigation and ancillary information facility\", 'The FAIR Guiding Principles for scientific\\xa0data\\xa0management and stewardship', 'Conceptual approaches for defining data, information, and knowledge', 'A new dawn for citizen science', 'Distilling free-form natural laws from experimental data', 'A clustering technique for summarizing multivariate data', 'Creating the CIPRES Science Gateway for inference of large phylogenetic trees', 'Planning early for careers in science', 'TURBOVEG, a comprehensive data base management system for vegetation data', 'Qualitative research methods for science education', 'A Bayesian networks approach for predicting protein-protein interactions from genomic\\xa0data', 'Geographical information\\xa0science', 'Statistics for sensory and consumer\\xa0science']\n"
          ],
          "name": "stdout"
        }
      ]
    },
    {
      "cell_type": "markdown",
      "metadata": {
        "id": "Dq_7VGmrsum4"
      },
      "source": [
        "## **2. Domain-specific information extraction (10 points)**\n",
        "\n",
        "For the legal case used in the data cleaning exercise: [01-05-1 Adams v Tanner.txt](https://github.com/unt-iialab/INFO5731_FALL2020/blob/master/In_class_exercise/01-05-1%20%20Adams%20v%20Tanner.txt), use [legalNLP](https://lexpredict-lexnlp.readthedocs.io/en/latest/modules/extract/extract.html#nlp-based-extraction-methods) to extract the following inforation from the text (if the information is not exist, just print None):\n",
        "\n",
        "(1) acts, e.g., “section 1 of the Advancing Hope Act, 1986”\n",
        "\n",
        "(2) amounts, e.g., “ten pounds” or “5.8 megawatts”\n",
        "\n",
        "(3) citations, e.g., “10 U.S. 100” or “1998 S. Ct. 1”\n",
        "\n",
        "(4) companies, e.g., “Lexpredict LLC”\n",
        "\n",
        "(5) conditions, e.g., “subject to …” or “unless and until …”\n",
        "\n",
        "(6) constraints, e.g., “no more than”\n",
        "\n",
        "(7) copyright, e.g., “(C) Copyright 2000 Acme”\n",
        "\n",
        "(8) courts, e.g., “Supreme Court of New York”\n",
        "\n",
        "(9) CUSIP, e.g., “392690QT3”\n",
        "\n",
        "(10) dates, e.g., “June 1, 2017” or “2018-01-01”\n",
        "\n",
        "(11) definitions, e.g., “Term shall mean …”\n",
        "\n",
        "(12) distances, e.g., “fifteen miles”\n",
        "\n",
        "(13) durations, e.g., “ten years” or “thirty days”\n",
        "\n",
        "(14) geographic and geopolitical entities, e.g., “New York” or “Norway”\n",
        "\n",
        "(15) money and currency usages, e.g., “$5” or “10 Euro”\n",
        "\n",
        "(16) percents and rates, e.g., “10%” or “50 bps”\n",
        "\n",
        "(17) PII, e.g., “212-212-2121” or “999-999-9999”\n",
        "\n",
        "(18) ratios, e.g.,” 3:1” or “four to three”\n",
        "\n",
        "(19) regulations, e.g., “32 CFR 170”\n",
        "\n",
        "(20) trademarks, e.g., “MyApp (TM)”\n",
        "\n",
        "(21) URLs, e.g., “http://acme.com/”\n",
        "\n",
        "(22) addresses, e.g., “1999 Mount Read Blvd, Rochester, NY, USA, 14615”\n",
        "\n",
        "(23) persons, e.g., “John Doe"
      ]
    },
    {
      "cell_type": "code",
      "metadata": {
        "id": "qc7NtJrLx5tS",
        "outputId": "6f0513b1-ba01-4a53-f479-7103b1ee383d",
        "colab": {
          "base_uri": "https://localhost:8080/",
          "height": 507
        }
      },
      "source": [
        "# write your code here\n",
        "\n",
        "\n",
        "!pip install pysbd\n",
        "!pip install lexnlp==0.2.7"
      ],
      "execution_count": 3,
      "outputs": [
        {
          "output_type": "stream",
          "text": [
            "Requirement already satisfied: pysbd in /usr/local/lib/python3.6/dist-packages (0.3.3)\n",
            "Requirement already satisfied: lexnlp==0.2.7 in /usr/local/lib/python3.6/dist-packages (0.2.7)\n",
            "Requirement already satisfied: pycountry==18.5.26 in /usr/local/lib/python3.6/dist-packages (from lexnlp==0.2.7) (18.5.26)\n",
            "Requirement already satisfied: scipy==1.0.0 in /usr/local/lib/python3.6/dist-packages (from lexnlp==0.2.7) (1.0.0)\n",
            "Requirement already satisfied: typing==3.6.2 in /usr/local/lib/python3.6/dist-packages (from lexnlp==0.2.7) (3.6.2)\n",
            "Requirement already satisfied: pandas==0.23.4 in /usr/local/lib/python3.6/dist-packages (from lexnlp==0.2.7) (0.23.4)\n",
            "Requirement already satisfied: datefinder-lexpredict==0.6.2 in /usr/local/lib/python3.6/dist-packages (from lexnlp==0.2.7) (0.6.2)\n",
            "Requirement already satisfied: Unidecode==0.4.21 in /usr/local/lib/python3.6/dist-packages (from lexnlp==0.2.7) (0.4.21)\n",
            "Requirement already satisfied: nltk==3.2.4 in /usr/local/lib/python3.6/dist-packages (from lexnlp==0.2.7) (3.2.4)\n",
            "Requirement already satisfied: requests==2.22.0 in /usr/local/lib/python3.6/dist-packages (from lexnlp==0.2.7) (2.22.0)\n",
            "Requirement already satisfied: regex==2017.9.23 in /usr/local/lib/python3.6/dist-packages (from lexnlp==0.2.7) (2017.9.23)\n",
            "Requirement already satisfied: scikit-learn==0.19.1 in /usr/local/lib/python3.6/dist-packages (from lexnlp==0.2.7) (0.19.1)\n",
            "Requirement already satisfied: reporters-db==1.0.12.1 in /usr/local/lib/python3.6/dist-packages (from lexnlp==0.2.7) (1.0.12.1)\n",
            "Requirement already satisfied: gensim==3.4.0 in /usr/local/lib/python3.6/dist-packages (from lexnlp==0.2.7) (3.4.0)\n",
            "Requirement already satisfied: us==1.0.0 in /usr/local/lib/python3.6/dist-packages (from lexnlp==0.2.7) (1.0.0)\n",
            "Requirement already satisfied: dateparser==0.7.0 in /usr/local/lib/python3.6/dist-packages (from lexnlp==0.2.7) (0.7.0)\n",
            "Requirement already satisfied: num2words==0.5.5 in /usr/local/lib/python3.6/dist-packages (from lexnlp==0.2.7) (0.5.5)\n",
            "Requirement already satisfied: numpy>=1.8.2 in /usr/local/lib/python3.6/dist-packages (from scipy==1.0.0->lexnlp==0.2.7) (1.19.1)\n",
            "Requirement already satisfied: python-dateutil>=2.5.0 in /usr/local/lib/python3.6/dist-packages (from pandas==0.23.4->lexnlp==0.2.7) (2.8.1)\n",
            "Requirement already satisfied: pytz>=2011k in /usr/local/lib/python3.6/dist-packages (from pandas==0.23.4->lexnlp==0.2.7) (2018.9)\n",
            "Requirement already satisfied: six in /usr/local/lib/python3.6/dist-packages (from nltk==3.2.4->lexnlp==0.2.7) (1.15.0)\n",
            "Requirement already satisfied: idna<2.9,>=2.5 in /usr/local/lib/python3.6/dist-packages (from requests==2.22.0->lexnlp==0.2.7) (2.8)\n",
            "Requirement already satisfied: chardet<3.1.0,>=3.0.2 in /usr/local/lib/python3.6/dist-packages (from requests==2.22.0->lexnlp==0.2.7) (3.0.4)\n",
            "Requirement already satisfied: urllib3!=1.25.0,!=1.25.1,<1.26,>=1.21.1 in /usr/local/lib/python3.6/dist-packages (from requests==2.22.0->lexnlp==0.2.7) (1.24.3)\n",
            "Requirement already satisfied: certifi>=2017.4.17 in /usr/local/lib/python3.6/dist-packages (from requests==2.22.0->lexnlp==0.2.7) (2020.6.20)\n",
            "Requirement already satisfied: smart-open>=1.2.1 in /usr/local/lib/python3.6/dist-packages (from gensim==3.4.0->lexnlp==0.2.7) (2.2.0)\n",
            "Requirement already satisfied: jellyfish==0.5.6 in /usr/local/lib/python3.6/dist-packages (from us==1.0.0->lexnlp==0.2.7) (0.5.6)\n",
            "Requirement already satisfied: tzlocal in /usr/local/lib/python3.6/dist-packages (from dateparser==0.7.0->lexnlp==0.2.7) (1.5.1)\n"
          ],
          "name": "stdout"
        }
      ]
    },
    {
      "cell_type": "code",
      "metadata": {
        "id": "ni-5pH-JpuxC",
        "outputId": "a9e180df-9eff-4cda-adbe-141c76851945",
        "colab": {
          "base_uri": "https://localhost:8080/",
          "height": 168
        }
      },
      "source": [
        "import nltk\n",
        "nltk.download('punkt')\n",
        "nltk.download('averaged_perceptron_tagger')\n",
        "nltk.download('wordnet')"
      ],
      "execution_count": 4,
      "outputs": [
        {
          "output_type": "stream",
          "text": [
            "[nltk_data] Downloading package punkt to /root/nltk_data...\n",
            "[nltk_data]   Package punkt is already up-to-date!\n",
            "[nltk_data] Downloading package averaged_perceptron_tagger to\n",
            "[nltk_data]     /root/nltk_data...\n",
            "[nltk_data]   Package averaged_perceptron_tagger is already up-to-\n",
            "[nltk_data]       date!\n",
            "[nltk_data] Downloading package wordnet to /root/nltk_data...\n",
            "[nltk_data]   Package wordnet is already up-to-date!\n"
          ],
          "name": "stdout"
        },
        {
          "output_type": "execute_result",
          "data": {
            "text/plain": [
              "True"
            ]
          },
          "metadata": {
            "tags": []
          },
          "execution_count": 4
        }
      ]
    },
    {
      "cell_type": "code",
      "metadata": {
        "id": "u3xQBUyXX98j",
        "outputId": "78228908-9c76-4f61-b421-bfc1d19c8614",
        "colab": {
          "base_uri": "https://localhost:8080/",
          "height": 490
        }
      },
      "source": [
        "!pip install lexnlp==0.2.7\n",
        "from lexnlp.extract.en.dict_entities import entity_config"
      ],
      "execution_count": 5,
      "outputs": [
        {
          "output_type": "stream",
          "text": [
            "Requirement already satisfied: lexnlp==0.2.7 in /usr/local/lib/python3.6/dist-packages (0.2.7)\n",
            "Requirement already satisfied: num2words==0.5.5 in /usr/local/lib/python3.6/dist-packages (from lexnlp==0.2.7) (0.5.5)\n",
            "Requirement already satisfied: us==1.0.0 in /usr/local/lib/python3.6/dist-packages (from lexnlp==0.2.7) (1.0.0)\n",
            "Requirement already satisfied: pycountry==18.5.26 in /usr/local/lib/python3.6/dist-packages (from lexnlp==0.2.7) (18.5.26)\n",
            "Requirement already satisfied: nltk==3.2.4 in /usr/local/lib/python3.6/dist-packages (from lexnlp==0.2.7) (3.2.4)\n",
            "Requirement already satisfied: reporters-db==1.0.12.1 in /usr/local/lib/python3.6/dist-packages (from lexnlp==0.2.7) (1.0.12.1)\n",
            "Requirement already satisfied: gensim==3.4.0 in /usr/local/lib/python3.6/dist-packages (from lexnlp==0.2.7) (3.4.0)\n",
            "Requirement already satisfied: datefinder-lexpredict==0.6.2 in /usr/local/lib/python3.6/dist-packages (from lexnlp==0.2.7) (0.6.2)\n",
            "Requirement already satisfied: regex==2017.9.23 in /usr/local/lib/python3.6/dist-packages (from lexnlp==0.2.7) (2017.9.23)\n",
            "Requirement already satisfied: dateparser==0.7.0 in /usr/local/lib/python3.6/dist-packages (from lexnlp==0.2.7) (0.7.0)\n",
            "Requirement already satisfied: requests==2.22.0 in /usr/local/lib/python3.6/dist-packages (from lexnlp==0.2.7) (2.22.0)\n",
            "Requirement already satisfied: pandas==0.23.4 in /usr/local/lib/python3.6/dist-packages (from lexnlp==0.2.7) (0.23.4)\n",
            "Requirement already satisfied: Unidecode==0.4.21 in /usr/local/lib/python3.6/dist-packages (from lexnlp==0.2.7) (0.4.21)\n",
            "Requirement already satisfied: typing==3.6.2 in /usr/local/lib/python3.6/dist-packages (from lexnlp==0.2.7) (3.6.2)\n",
            "Requirement already satisfied: scipy==1.0.0 in /usr/local/lib/python3.6/dist-packages (from lexnlp==0.2.7) (1.0.0)\n",
            "Requirement already satisfied: scikit-learn==0.19.1 in /usr/local/lib/python3.6/dist-packages (from lexnlp==0.2.7) (0.19.1)\n",
            "Requirement already satisfied: jellyfish==0.5.6 in /usr/local/lib/python3.6/dist-packages (from us==1.0.0->lexnlp==0.2.7) (0.5.6)\n",
            "Requirement already satisfied: six in /usr/local/lib/python3.6/dist-packages (from nltk==3.2.4->lexnlp==0.2.7) (1.15.0)\n",
            "Requirement already satisfied: smart-open>=1.2.1 in /usr/local/lib/python3.6/dist-packages (from gensim==3.4.0->lexnlp==0.2.7) (2.2.0)\n",
            "Requirement already satisfied: numpy>=1.11.3 in /usr/local/lib/python3.6/dist-packages (from gensim==3.4.0->lexnlp==0.2.7) (1.19.1)\n",
            "Requirement already satisfied: pytz in /usr/local/lib/python3.6/dist-packages (from datefinder-lexpredict==0.6.2->lexnlp==0.2.7) (2018.9)\n",
            "Requirement already satisfied: python-dateutil>=2.4.2 in /usr/local/lib/python3.6/dist-packages (from datefinder-lexpredict==0.6.2->lexnlp==0.2.7) (2.8.1)\n",
            "Requirement already satisfied: tzlocal in /usr/local/lib/python3.6/dist-packages (from dateparser==0.7.0->lexnlp==0.2.7) (1.5.1)\n",
            "Requirement already satisfied: urllib3!=1.25.0,!=1.25.1,<1.26,>=1.21.1 in /usr/local/lib/python3.6/dist-packages (from requests==2.22.0->lexnlp==0.2.7) (1.24.3)\n",
            "Requirement already satisfied: certifi>=2017.4.17 in /usr/local/lib/python3.6/dist-packages (from requests==2.22.0->lexnlp==0.2.7) (2020.6.20)\n",
            "Requirement already satisfied: idna<2.9,>=2.5 in /usr/local/lib/python3.6/dist-packages (from requests==2.22.0->lexnlp==0.2.7) (2.8)\n",
            "Requirement already satisfied: chardet<3.1.0,>=3.0.2 in /usr/local/lib/python3.6/dist-packages (from requests==2.22.0->lexnlp==0.2.7) (3.0.4)\n"
          ],
          "name": "stdout"
        }
      ]
    },
    {
      "cell_type": "code",
      "metadata": {
        "id": "enFSWtFJqLHE",
        "outputId": "f1503dd9-7290-4651-8179-26d8da607966",
        "colab": {
          "base_uri": "https://localhost:8080/",
          "height": 101
        }
      },
      "source": [
        "!pip install -U nltk==3.2.4\n",
        "!pip install pyap\n",
        "!pip install scipy==1.4.1"
      ],
      "execution_count": 1,
      "outputs": [
        {
          "output_type": "stream",
          "text": [
            "Requirement already up-to-date: nltk==3.2.4 in /usr/local/lib/python3.6/dist-packages (3.2.4)\n",
            "Requirement already satisfied, skipping upgrade: six in /usr/local/lib/python3.6/dist-packages (from nltk==3.2.4) (1.15.0)\n",
            "Requirement already satisfied: pyap in /usr/local/lib/python3.6/dist-packages (0.3.1)\n",
            "Requirement already satisfied: scipy==1.4.1 in /usr/local/lib/python3.6/dist-packages (1.4.1)\n",
            "Requirement already satisfied: numpy>=1.13.3 in /usr/local/lib/python3.6/dist-packages (from scipy==1.4.1) (1.19.1)\n"
          ],
          "name": "stdout"
        }
      ]
    },
    {
      "cell_type": "code",
      "metadata": {
        "id": "j5ilIjgWyZ2w",
        "outputId": "1484db4b-79a7-4eb3-bfae-0da2fed35293",
        "colab": {
          "base_uri": "https://localhost:8080/",
          "height": 138
        }
      },
      "source": [
        "# write your code here\n",
        "import pysbd\n",
        "import pandas as pd\n",
        "import lexnlp.extract.en.acts\n",
        "import lexnlp.extract.en.citations\n",
        "import lexnlp.extract.en.entities.nltk_re\n",
        "import lexnlp.extract.en.conditions\n",
        "import lexnlp.extract.en.constraints\n",
        "import lexnlp.extract.en.copyright\n",
        "import lexnlp.extract.en.courts\n",
        "import lexnlp.extract.en.cusip\n",
        "import lexnlp.extract.en.dates\n",
        "import lexnlp.extract.en.definitions\n",
        "import lexnlp.extract.en.distances\n",
        "import lexnlp.extract.en.durations\n",
        "import lexnlp.extract.en.geoentities\n",
        "import lexnlp.extract.en.money\n",
        "import lexnlp.extract.en.percents\n",
        "import lexnlp.extract.en.pii\n",
        "import lexnlp.extract.en.ratios\n",
        "import lexnlp.extract.en.regulations\n",
        "import lexnlp.extract.en.trademarks\n",
        "import lexnlp.extract.en.urls\n",
        "import lexnlp.extract.en.addresses\n",
        "import pyap\n",
        "\n"
      ],
      "execution_count": 2,
      "outputs": [
        {
          "output_type": "stream",
          "text": [
            "/usr/local/lib/python3.6/dist-packages/sklearn/base.py:311: UserWarning: Trying to unpickle estimator SelectKBest from version 0.19.0 when using version 0.19.1. This might lead to breaking code or invalid results. Use at your own risk.\n",
            "  UserWarning)\n",
            "/usr/local/lib/python3.6/dist-packages/sklearn/base.py:311: UserWarning: Trying to unpickle estimator LogisticRegressionCV from version 0.19.0 when using version 0.19.1. This might lead to breaking code or invalid results. Use at your own risk.\n",
            "  UserWarning)\n",
            "/usr/local/lib/python3.6/dist-packages/sklearn/base.py:311: UserWarning: Trying to unpickle estimator Pipeline from version 0.19.0 when using version 0.19.1. This might lead to breaking code or invalid results. Use at your own risk.\n",
            "  UserWarning)\n"
          ],
          "name": "stderr"
        }
      ]
    },
    {
      "cell_type": "code",
      "metadata": {
        "id": "DcfpEItg1kX_"
      },
      "source": [
        "court_df = pd.read_csv(\"https://raw.githubusercontent.com/LexPredict/lexpredict-legal-dictionary/1.0.5/en/legal/us_courts.csv\")"
      ],
      "execution_count": 3,
      "outputs": []
    },
    {
      "cell_type": "code",
      "metadata": {
        "id": "MqSv9Yo91hol"
      },
      "source": [
        "import string\n",
        "with open (\"/content/data.txt\", \"r\") as files:\n",
        "      final_data=files.read()\n",
        "      cleaned_data = final_data.translate(str.maketrans('', '', string.punctuation))\n",
        "      t=cleaned_data.replace('\\n',' ')"
      ],
      "execution_count": 4,
      "outputs": []
    },
    {
      "cell_type": "code",
      "metadata": {
        "id": "KhQZ4a0-CPGQ",
        "outputId": "85f3e7ed-04d3-4715-a1d0-27ba39f4f304",
        "colab": {
          "base_uri": "https://localhost:8080/",
          "height": 34
        }
      },
      "source": [
        "#question1\n",
        "if len(list(lexnlp.extract.en.acts.get_act_list(t)))>0:\n",
        "  print(\"1)Acts : \\n\", lexnlp.extract.en.acts.get_act_list(t))\n",
        "else:\n",
        "  print(\"1) Acts : None\")\n"
      ],
      "execution_count": 27,
      "outputs": [
        {
          "output_type": "stream",
          "text": [
            "1) Acts : None\n"
          ],
          "name": "stdout"
        }
      ]
    },
    {
      "cell_type": "code",
      "metadata": {
        "id": "sDRTU3g9Ccl8",
        "outputId": "0a819907-cd32-4e26-aa86-df2f199adadb",
        "colab": {
          "base_uri": "https://localhost:8080/",
          "height": 70
        }
      },
      "source": [
        "#question 2\n",
        "if len(list(lexnlp.extract.en.amounts.get_amounts(t)))>0:\n",
        "  print(\"2)Amounts : \\n\", list(lexnlp.extract.en.amounts.get_amounts(t)))\n",
        "else:\n",
        "  print(\"2)Amounts : None\")\n"
      ],
      "execution_count": 26,
      "outputs": [
        {
          "output_type": "stream",
          "text": [
            "2)Amounts : \n",
            " [5.0, 740.0, 1843.0, 2.0, 1.0, 4.0, 2.0, 5.0, 1.0, 1840.0, 80100.0, 30, 1839.0, 741.0, 1840.0, 14000, 120, 1, 1840.0, 3, 4, 1, 1840.0, 2.0, 1.0, 361.0, 1.0, 307.0, 6.0, 604.0, 1.0, 2.0, 418.0, 422.0, 7.0, 34.0, 41.0, 167.0, 742.0, 3.0, 112.0, 207.0, 3.0, 338.0, 424.0, 5.0, 26.0, 13.0, 235.0, 8.0, 693.0, 4.0, 1821.0, 167.0, 2.0, 2.0, 216.0, 3.0, 66.0, 4.0, 130.0, 29.0, 2.0, 2412.0, 332.0, 2.0, 422.0, 9.0, 112.0, 743.0, 9.0, 39.0, 14000, 1840.0, 744.0, 5.0, 182.0, 3.0, 368.0, 1.0, 397.0, 6.0, 604.0, 1, 1821.0, 167.0, 745.0, 4.0, 746.0, 4.0, 210.0, 46.0, 747.0, 5.0, 5.0, 740.0, 1843.0, 284.0, 2019.0, 9.0, 1.0, 55.0, 266.0, 271.0, 1876.0, 2.0, 47.0, 362.0, 376.0, 1872.0, 3.0, 45.0, 329.0, 334.0, 1871.0, 4.0, 31.0, 526.0, 527.0, 1858.0, 5.0, 21.0, 333.0, 335.0, 1852.0, 6.0, 8.0, 145.0, 147.0, 1857.0, 7.0, 65.0, 256.0, 258.0, 3, 1880.0, 8.0, 4.0, 913.0, 914.0, 1887.0, 9.0, 103.0, 464.0, 1936.0, 3.0, 1.0, 9.0, 39.0, 1828.0, 2.0, 2.0, 5.0, 182.0, 1837.0, 2.0, 3.0, 9.0, 108.0, 1812.0, 6, 1, 2.0]\n"
          ],
          "name": "stdout"
        }
      ]
    },
    {
      "cell_type": "code",
      "metadata": {
        "id": "hq7LBUuUDGra",
        "outputId": "a09e5073-cd94-4567-ee91-4ea02806fde8",
        "colab": {
          "base_uri": "https://localhost:8080/",
          "height": 50
        }
      },
      "source": [
        "#question 3\n",
        "if len(list(lexnlp.extract.en.citations.get_citations(t)))>0:\n",
        "  print(\"3)Citations : \\n\", list(lexnlp.extract.en.citations.get_citations(t)))\n",
        "else:\n",
        "  print(\"3)Citations : None\")\n"
      ],
      "execution_count": 25,
      "outputs": [
        {
          "output_type": "stream",
          "text": [
            "3)Citations : \n",
            " [(1843, 'WL', 'West Law Citation', 284, None, None, None)]\n"
          ],
          "name": "stdout"
        }
      ]
    },
    {
      "cell_type": "code",
      "metadata": {
        "id": "b2l5_iqJDh7i",
        "outputId": "a35440cb-05e0-4148-f975-f65fa7da2264",
        "colab": {
          "base_uri": "https://localhost:8080/",
          "height": 50
        }
      },
      "source": [
        "#question 4\n",
        "if len(list(lexnlp.extract.en.entities.nltk_re.get_companies(t)))>0:\n",
        "  print(\"4)Companies : \\n\", list(lexnlp.extract.en.entities.nltk_re.get_companies(t)))\n",
        "else:\n",
        "  print(\"4)Companies : None\")\n"
      ],
      "execution_count": 24,
      "outputs": [
        {
          "output_type": "stream",
          "text": [
            "4)Companies : \n",
            " [('Cited by 2  Lehman Durr', 'Co', None)]\n"
          ],
          "name": "stdout"
        }
      ]
    },
    {
      "cell_type": "code",
      "metadata": {
        "id": "VV8GvK22ELfa",
        "outputId": "1f3079be-ec69-44d8-d2a9-31d5db97ff1b",
        "colab": {
          "base_uri": "https://localhost:8080/",
          "height": 70
        }
      },
      "source": [
        "#question 5\n",
        "if len(list(lexnlp.extract.en.conditions.get_conditions(t)))>0:\n",
        "  print(\"5)Conditions : \\n\", list(lexnlp.extract.en.conditions.get_conditions(t)))\n",
        "else:\n",
        "  print(\"5)Conditions : None\")\n"
      ],
      "execution_count": 23,
      "outputs": [
        {
          "output_type": "stream",
          "text": [
            "5)Conditions : \n",
            " [('until', '5 Ala 740 Supreme Court of Alabama ADAMS v TANNER AND HORTON June Term 1843 Synopsis WRIT of Error to the Circuit Court of Sumter     West Headnotes 2   1 Chattel Mortgages Crops A growing crop has such an existence as to be the subjectmatter of a mortgage or other contract which passes an interest to vest in possession either immediately or at a future time 4 Cases that cite this headnote  2 Creditors’ Remedies Lien and Priority Under St1821 prohibiting a levy on a crop', ''), ('until', 'it has been gathered no lien attaches in favor of a fi fa on a growing crop nor does such lien attach', ''), ('if', 'after the crop has been gathered 5 Cases that cite this headnote  1 This was a trial of the right of property under the statute In November 1840 an execution issued from the circuit court of Sumter at the suit of the plaintiff in error requiring the sheriff of that county to make of the goods c of Allen Harrison and others the sum of thirtyseven hundred and seventyseven 80100 dollars besides costs This execution was levied on thirty bales of cotton as the property of Allen Harrison which was claimed and a bond given to try the right An issue was made up to try the question of the liability of the cotton to the plaintiff’s execution and submitted to a jury On the trial a bill of exceptions was sealed at the instance of the plaintiff The plaintiff proved that he recovered his judgment in October 1839 that an execution 741 was issued thereon on the 7th Nov thereafter and that alias and pluries fieri facias’ issued regularly up to the time levy was made that the cotton levied on was growed on the plantation of Harrison and cultivated by the hands in his service It was proved by the claimants by the production of a written contract that Harrison on the twentysecond of May 1840 in consideration that the claimants were involved as indorsers for Burton  Harrison of Sumter county and were then exposed to an execution amounting to upwards of fourteen thousand dollars bargained and sold to the claimants all his growing crop of cotton c consisting of one hundred and twenty acres c Allen Harrison promised and obliged himself to give up his crop to the use of the claimants at any time to save them from suffering as his indorsers', ''), ('where', 'the crop matured and was gathered he undertook to deliver the cotton in Gainesville The claimants came from Tennessee', ''), ('when', 'they resided about the first of September 1840 bringing with them three or four white laborers and took possession of the crop and slaves and with the latter and white laborers gathered the cotton prepared it for market and', ''), ('if', 'levied on it was in a warehouse in Gainesville The plaintiff then proved by Harrison that the claimants took possession of the crop while he was absent and disposed of it without his consent It was admitted that the contract was made in good faith The court charged the jury that the plaintiff had no lien by virtue of his judgment and execution on the growing crop that Harrison had a right to convey it without being in any manner restrained by them that the writing adduced was a sale of the crop but', ''), ('when', 'it was not and the lien of the fieri facias would have attached upon it', ''), ('if', 'gathered yet', ''), ('not subject to', 'the claimants obtained possession on the first of September and controlled the gathering of the crop then no lien attached and it was', ''), ('until', 'the levy Attorneys and Law Firms R H SMITH for the plaintiff in error made the following points1 The crop of Harrison must in May 1840 have been in an immature state and it is insisted was not the subject of a sale 2 By the common law a growing crop could be levied on and sold 1 Salk Rep 361 1 Bos  P Rep 307 6 East’s Rep 604 note 1 2 Johns Rep 418 422 7 Mass Rep 34 and our statue Aik Dig § 41 p 167 which forbids the levy of an 742 execution on a growing crop is to receive a strict construction It merely inhibits the levy but the lien attaches and a levy and sale may be made after the crop matures and is gathered 3 The contract does not purport to convey the growing crop but is a mere executory agreement requiring some act to be done by Harrison in order to invest the claimants with the right of property Chit on Con 112 207 3 Johns Rep 338 424 5 Wend Rep 26 13 Johns Rep 235 8 Dowl Rep 693 and', ''), ('until', 'this act was done the crop no matter by who gathered because liable to be seized for Harrison’s debts A court of chancery would not compel a specific performance of the contract at the claimant’s instance 4 The charge of the court is also objectionable in deciding disputed facts W M MURPHY with whom was W G JONES for the defendantcited the act of 1821 Aik Dig 167 which declares it to be lawful to levy an execution on a planted crop', ''), ('if', 'it is gathered and contended that no lien attached in favor of the plaintiff This being the case the defendant in execution was not restrained from making the contract which he did with the claimants 2 The lien of an execution is destroyed by an injunction because it takes away the right to levy it In short whenever the right to levy an execution is but temporarily suspended or withdrawn the lien is during that time lost Whipple v Foot 2 Johns Rep 216 3 Wash C C Rep 66 4 How Rep 130 It is admitted that the contract between the defendant in execution and the claimants was in good faith', ''), ('when', 'so the severance and removal of the cotton gave the latter a good title against all creditors of the former Opinion  COLLIER C J  There can be no doubt that a growing crop has such an existence as to be the subject matter of a sale mortgage or other contract which possess an interest to vest in possession either immediately or at some future time This proposition has frequently been assumed as unquestionable the point of inquiry generally being whether under a statute of frauds such as the 29 Chas 2 it is a mere chattel and transferrable by parol without writing Chitty on Con 2412 332 Whipple v Foot 2 Johns Rep 422 Stewart v Doughty 9 Johns Rep 112 743 Austin v Sawyer 9 Cow Rep 39 See also Ravesies v Lee  Alston at last term The contract set out in the bill of exceptions we are inclined to think evidences rather a mortgage than an absolute sale It recites that the claimants are involved as indorsers of a mercantile firm of which the defendant was a partner that an execution for upwards of fourteen thousand dollars against their estate is in the sheriff’s hands and that a conveyance is made of the crop of cotton corn and oats which the grantor agrees to give up at any time to the use of the claimants so as to prevent injury to them as indorsers The defendant in execution might at any time have divested the interest which the contract vested in the claimants by discharging their liability as his indorsers or a judgment creditor might have satisfied the lien and', ''), ('unless', 'the crop was gathered have levied on and sold it under a fieri facias We will then consider the writing under which the claimants assert a right as a mortgage with a power to take possession any time during the year', ''), ('if', 'they should be relieved from their engagements as indorsers It is not pretended that their liability has been satisfied and it is admitted that the parties have acted with good faith so that it is a dry question of law whether the right of the plaintiff or the claimants shall prevail Assuming for the present that the execution of the plaintiffs did not operate a lien upon the planted crop previous to the contract of May 1840 we will inquire whether the defendant in execution had such an interest as could be levied on and sold The claimants had previous to the levy of the execution taken possession of the crop prepared the cotton for market and removed it to a warehouse This possession it is insisted was a trespass because it was acquired in the absence of the defendant in execution and without his consent then given Conceding the truth of the facts stated in the bill of exceptions and we think it will not follow that the possession of the claimants is a nullity and that the case must be considered as', ''), ('if', 'they had never interfered with the crop The contract contains an express undertaking to give up the crop at any time the claimants might require it for their indemnity and', ''), ('if', 'they took possession of it in the absence of the grantor though without his consent', ''), ('if', 'he subsequently acquiesced in it the inference would be', ''), ('subject to', 'necessary that their acts were approved by him Taking this to be clear 744 law and it will be seen that the defendant in execution at the time of the levy had nothing more than a mere equitable right to redeem the cotton by paying the debts indorsed by the claimants He had no possession coupled with this equity but only a naked equity which it has been held cannot be reached by an ordinary execution Perkins and Elliott v Mayfield 5 Porter’s Rep 182 3 This brings us back to the question whether the execution of the plaintiff was a lien on the growing crop so as to defeat the mortgage to the claimants It has been frequently mooted whether at common law corn c before it is gathered can be seized under a fieri facias Mr Dane in remarking upon this point says “The American editor of Bacon’s Abridgment says ‘Wheat growing in the ground is a chattel and', ''), ('until', 'be taken in execution and the sheriff may suffer it to grow till harvest and then cut and sell it or may perhaps sell it growing and the purchaser will then be entitled to enter for the purpose of cutting and carrying it away” He cites Whipple v Foot ut supra also Poole’s case Salk 368 1 Bos  P 397 6 East 604 n But Whipple v Foot seems to be the only case that supports his position that unripe wheat or corn may be taken in execution and the same editor states that nothing can be taken in execution which cannot be sold This position says the learned commentator is no doubt law But it is unnecessary to consider how this matter stands at common law The first section of the act of 1821 “To prevent sheriffs and other officers from levying executions in certain cases enacts that “It shall not be lawful for any sheriff or other officer to levy a writ of fieri facias or other execution on the planted crop of a debtor or person against whom an execution may issue', ''), ('until', 'the crop is gathered” Aik Dig 167 Now here is an express inhibition to levy an execution on a crop while it remains on or in the ground and', ''), ('if', 'it is severed from the soil to which it owes its growth In respect to property thus situated will the lien of an execution attach eo instanti upon its being placed in the hands of an officer', ''), ('until', 'so the act cited will only have the effect of keeping the right to levy it in abeyance', ''), ('if', 'the crop is gathered The lien of an execution does not only operate so as to prevent the debtor from disposing of the property on which it attaches but gives to the creditor the right to have it sold to satisfy his 745 judgment The lien and the right to levy are intimately connected and', ''), ('until', 'the latter be taken away or suspended the effect at common law is the destruction of the former This principle is fully established by Mansony and Hurtell v The President c of the Bank of the United States and its assignees and the citations contained in the opinion of the court in that case as also in my opinion in Wood v Gary et al both decided at the last term That it was competent for the legislature to have made it unlawful to levy an execution on particular property', ''), ('if', 'its condition was changed and still to give it a continuing lien cannot be doubted but there is nothing in the act in question to indicate that such is its intention', ''), ('until', 'the object was merely to suspend the sale', ''), ('as soon as', 'the crop was gathered it would have been very easy to have said so in explicit terms but declaring as the statute does in totidem verbis that the execution shall not be levied the legislature must be supposed to have meant what they have expressed The act was induced by the doubts which existed as to what was the common law and was intended to remove those doubts by declaring what should be the law in future It does not create a lien or authorize a levy in a case in which the law as it then existed was silent The idea that the lien attached upon the planted crop', ''), ('until', 'the execution was delivered to the sheriff though the right to levy it was postponed', ''), ('if', 'a severance took place is attempted to be deduced from the last words of the section cited viz “until the crop is gathered” These words cannot upon any just principles of construction be regarded so potent as to give to an execution a retrospective effect They do not refer to the lien', ''), ('until', 'they did they would postpone it', ''), ('until', 'the crop was gathered but it is the levy they relate to and postpone', ''), ('until', 'that event takes place 4 The right to levy an execution on a planted crop then being expressly taken away by the statute the lien which is connected with and consequent upon that right never attaches', ''), ('if', 'severance This being the case the right of the defendant in execution to make the contract which he did is unquestionable and the title of the claimants coupled as it was with the possession was paramount to any lien which the execution could exert The circuit judge may have mistaken the law in supposing that the contract was a sale but', ''), ('when', 'he did an error in that respect was very immaterial for whether a sale or mortgage as we have 746 seen under the facts of the case the defendant in execution has no interest that could be seised and sold under execution There is no assumption of any material fact in the charge but the possession of the claimant the time', ''), ('if', 'acquired the gathering of the crop c are all referred to the determination of the jury who are instructed', ''), ('until', 'they find them according to the evidence adduced that no lien ever attached in favor of the plaintiff The bona fides of the contract was conceded so that no charge was necessary on that point and it could not with propriety enter into the inquiry of the jury It results from what has been said that the judgment of the circuit court is affirmed  DISSENTING OPINION  ORMOND J 4 The statute which presents the question before the court is that “it shall not be lawful for any sheriff or other officer to levy a writ of fieei facias or other execution on the planted crop of a debtor or person against whom an execution may issue', ''), ('subject to', 'the crop is gathered” Clay’s Dig 210 § 46 I shall not enter upon the enquiry whether at common law an execution could be levied upon a growing crop though I apprehend it would not be difficult to maintain the affirmative of the proposition It is sufficient for my purpose that the statute supposes such to have been the law as it doubtless was the practice This act must be considered in connection with the other acts upon the same subject The policy of the State as indicated by these statutes is undeniably that all the property of a debtor real and personal to which he has a legal title shall be', ''), ('until', 'sale by execution and it appears to me that it would be difficult to assign a reason for the exemption of this species of property from the claims of judgment creditors and for giving to the defendant in execution the right to dispose of it It appears to me with all deference that the argument that because the sheriff was prohibited from levying on a ““planted crop” that therefore the execution had lost its lien and the debtor had the right to sell it is a non sequitur The mischief which the statute designed to remedy was the sacrifice which would be necessarily made by the sale of an immature crop the statute enables the debtor to retain it', ''), ('if', 'it matures and by severing it from the soil to put it 747 in a condition to bring its valuethe lien in the mean time continuing in the plaintiff in execution 5', ''), ('until', 'further confirmation of the correctness of this view were necessary it will be found I think in the language employed by the legislature The sheriff is forbidden to levy on a “planted crop”', ''), ('if', 'the crop is gathered Now', ''), ('until', 'the view taken by the majority of the court is correct the right secured to the plaintiff in execution of levying on the crop after it is gathered may be frustrated as it was in this case by a sale by the defendant in execution whilst the crop is in an immature state The construction which has been put upon the statute involves the singular anomaly that the legislature for the protection of the debtor has forbidden the plaintiff in execution to sell the property of his debtor because it is not in a condition to bring its value and yet permits the debtor voluntarily by a sale to submit to the same sacrifice for his own benefit It is in effect a gift to the defendant in execution of the growing crop provided he does not gather it himself but disposes of it in its then condition This I feel a thorough conviction was not the intention of the legislature but that it was to secure him from loss by prohibiting a levy and sale of the crop', ''), ('when', 'it was gathered', ''), ('subject to', 'the temporary suspension of the right to sell ceased All Citations 5 Ala 740 1843 WL 284 End of Document © 2019 Thomson Reuters No claim to original US Government Works Citing References 9 Treatment Title Date Type Depth Headnotes Cited by 1  Booker v Jones’s Adm’x 55 Ala 266 271  Ala Trover for Conversion of Cotton with Counts in Case APPEAL from the Circuit Court of Hale Tried before the Hon M J SAFFOLD Dec Term 1876 Case — Cited by 2  Lehman Durr  Co v Marshall 47 Ala 362 376  Ala TROVER FOR CONVERSION OF COTTON APPEAL from the City Court of Montgomery Tried before Hon JOHN D CUNNINGHAM Jan Term 1872 Case — Cited by 3  Bibb v Janney 45 Ala 329 334  Ala GARNISHMENT WAGES WAIVER OF EXEMPTION APPEAL from City Court of Montgomery Tried before Hon JOHN D CUNNINGHAM Jan Term 1871 Case — Cited by 4  McKenzie v Lampley 31 Ala 526 527  Ala TRIAL OF RIGHT OF PROPERTY IN COTTON APPEAL from the Circuit Court of Barbour Tried before the Hon S D HALE Jan Term 1858 Case — Cited by 5  Evans v Lamar 21 Ala 333 335  Ala ERROR to the Circuit Court of Autauga Tried before the Hon A B MOORE Jun Term 1852 Case — Cited by  6  Dewey v Bowman 8 Cal 145 147  Cal The judgment of the Court below against Jacob S Cohen should be reversed for the following reasons Because the finding of the Court was so far as Cohen was concerned Jul Term 1857 Case — Mentioned by 7  Rees v Coats 65 Ala 256 258  Ala Trover for Conversion of Three Bales of Cotton APPEAL from the Circuit Court of Etowah Tried before the Hon WM L WHITLOCK Nov Term 1880 Case — Mentioned by 8  Edwards v Thompson 4 SW 913 914  Tenn Appeal from circuit court Weakley county May 1887 Case — — 9  Growing crops as', ''), ('subject to', 'levy and seizure under attachment or execution 103 ALR 464 Generally at common law growing crops raised by annual planting while still attached to the soil are regarded as personal chattels', ''), ('where', 'levy and seizure under attachment 1936 ALR — — Table of Authorities 3 Treatment Referenced Title Type Depth Quoted Page Number Mentioned 1  Austin v Sawyer 9 Cow 39 NYSup 1828 Parol evidence is not admissible to contradict or substantially vary a written contract And', '')]\n"
          ],
          "name": "stdout"
        }
      ]
    },
    {
      "cell_type": "code",
      "metadata": {
        "id": "zpjDtZpuE0QM",
        "outputId": "c8414325-2e05-401b-fe59-64f1c632405d",
        "colab": {
          "base_uri": "https://localhost:8080/",
          "height": 70
        }
      },
      "source": [
        "#question 6\n",
        "if len(list(lexnlp.extract.en.constraints.get_constraints(t)))>0:\n",
        "  print(\"6)Constraints : \\n\", list(lexnlp.extract.en.constraints.get_constraints(t)))\n",
        "else:\n",
        "  print(\"6)Constraints : None\")\n"
      ],
      "execution_count": 22,
      "outputs": [
        {
          "output_type": "stream",
          "text": [
            "6)Constraints : \n",
            " [('after', '5 ala 740 supreme court of alabama adams v tanner and horton june term 1843 synopsis writ of error to the circuit court of sumter     west headnotes 2   1 chattel mortgages crops a growing crop has such an existence as to be the subjectmatter of a mortgage or other contract which passes an interest to vest in possession either immediately or at a future time 4 cases that cite this headnote  2 creditors’ remedies lien and priority under st1821 prohibiting a levy on a crop until it has been gathered no lien attaches in favor of a fi fa on a growing crop nor does such lien attach until', ''), ('first of', 'the crop has been gathered 5 cases that cite this headnote  1 this was a trial of the right of property under the statute in november 1840 an execution issued from the circuit court of sumter at the suit of the plaintiff in error requiring the sheriff of that county to make of the goods c of allen harrison and others the sum of thirtyseven hundred and seventyseven 80100 dollars besides costs this execution was levied on thirty bales of cotton as the property of allen harrison which was claimed and a bond given to try the right an issue was made up to try the question of the liability of the cotton to the plaintiff’s execution and submitted to a jury on the trial a bill of exceptions was sealed at the instance of the plaintiff the plaintiff proved that he recovered his judgment in october 1839 that an execution 741 was issued thereon on the 7th nov thereafter and that alias and pluries fieri facias’ issued regularly up to the time levy was made that the cotton levied on was growed on the plantation of harrison and cultivated by the hands in his service it was proved by the claimants by the production of a written contract that harrison on the twentysecond of may 1840 in consideration that the claimants were involved as indorsers for burton  harrison of sumter county and were then exposed to an execution amounting to upwards of fourteen thousand dollars bargained and sold to the claimants all his growing crop of cotton c consisting of one hundred and twenty acres c allen harrison promised and obliged himself to give up his crop to the use of the claimants at any time to save them from suffering as his indorsers if the crop matured and was gathered he undertook to deliver the cotton in gainesville the claimants came from tennessee where they resided about the', ''), ('first of', 'september 1840 bringing with them three or four white laborers and took possession of the crop and slaves and with the latter and white laborers gathered the cotton prepared it for market and when levied on it was in a warehouse in gainesville the plaintiff then proved by harrison that the claimants took possession of the crop while he was absent and disposed of it without his consent it was admitted that the contract was made in good faith the court charged the jury that the plaintiff had no lien by virtue of his judgment and execution on the growing crop that harrison had a right to convey it without being in any manner restrained by them that the writing adduced was a sale of the crop but if it was not and the lien of the fieri facias would have attached upon it when gathered yet if the claimants obtained possession on the', ''), ('after', 'september and controlled the gathering of the crop then no lien attached and it was not subject to the levy attorneys and law firms r h smith for the plaintiff in error made the following points1 the crop of harrison must in may 1840 have been in an immature state and it is insisted was not the subject of a sale 2 by the common law a growing crop could be levied on and sold 1 salk rep 361 1 bos  p rep 307 6 east’s rep 604 note 1 2 johns rep 418 422 7 mass rep 34 and our statue aik dig § 41 p 167 which forbids the levy of an 742 execution on a growing crop is to receive a strict construction it merely inhibits the levy but the lien attaches and a levy and sale may be made', ''), ('more than', 'the crop matures and is gathered 3 the contract does not purport to convey the growing crop but is a mere executory agreement requiring some act to be done by harrison in order to invest the claimants with the right of property chit on con 112 207 3 johns rep 338 424 5 wend rep 26 13 johns rep 235 8 dowl rep 693 and until this act was done the crop no matter by who gathered because liable to be seized for harrison’s debts a court of chancery would not compel a specific performance of the contract at the claimant’s instance 4 the charge of the court is also objectionable in deciding disputed facts w m murphy with whom was w g jones for the defendantcited the act of 1821 aik dig 167 which declares it to be lawful to levy an execution on a planted crop until it is gathered and contended that no lien attached in favor of the plaintiff this being the case the defendant in execution was not restrained from making the contract which he did with the claimants 2 the lien of an execution is destroyed by an injunction because it takes away the right to levy it in short whenever the right to levy an execution is but temporarily suspended or withdrawn the lien is during that time lost whipple v foot 2 johns rep 216 3 wash c c rep 66 4 how rep 130 it is admitted that the contract between the defendant in execution and the claimants was in good faith if so the severance and removal of the cotton gave the latter a good title against all creditors of the former opinion  collier c j  there can be no doubt that a growing crop has such an existence as to be the subject matter of a sale mortgage or other contract which possess an interest to vest in possession either immediately or at some future time this proposition has frequently been assumed as unquestionable the point of inquiry generally being whether under a statute of frauds such as the 29 chas 2 it is a mere chattel and transferrable by parol without writing chitty on con 2412 332 whipple v foot 2 johns rep 422 stewart v doughty 9 johns rep 112 743 austin v sawyer 9 cow rep 39 see also ravesies v lee  alston at last term the contract set out in the bill of exceptions we are inclined to think evidences rather a mortgage than an absolute sale it recites that the claimants are involved as indorsers of a mercantile firm of which the defendant was a partner that an execution for upwards of fourteen thousand dollars against their estate is in the sheriff’s hands and that a conveyance is made of the crop of cotton corn and oats which the grantor agrees to give up at any time to the use of the claimants so as to prevent injury to them as indorsers the defendant in execution might at any time have divested the interest which the contract vested in the claimants by discharging their liability as his indorsers or a judgment creditor might have satisfied the lien and when the crop was gathered have levied on and sold it under a fieri facias we will then consider the writing under which the claimants assert a right as a mortgage with a power to take possession any time during the year unless they should be relieved from their engagements as indorsers it is not pretended that their liability has been satisfied and it is admitted that the parties have acted with good faith so that it is a dry question of law whether the right of the plaintiff or the claimants shall prevail assuming for the present that the execution of the plaintiffs did not operate a lien upon the planted crop previous to the contract of may 1840 we will inquire whether the defendant in execution had such an interest as could be levied on and sold the claimants had previous to the levy of the execution taken possession of the crop prepared the cotton for market and removed it to a warehouse this possession it is insisted was a trespass because it was acquired in the absence of the defendant in execution and without his consent then given conceding the truth of the facts stated in the bill of exceptions and we think it will not follow that the possession of the claimants is a nullity and that the case must be considered as if they had never interfered with the crop the contract contains an express undertaking to give up the crop at any time the claimants might require it for their indemnity and if they took possession of it in the absence of the grantor though without his consent if he subsequently acquiesced in it the inference would be if necessary that their acts were approved by him taking this to be clear 744 law and it will be seen that the defendant in execution at the time of the levy had nothing', ''), ('before', 'a mere equitable right to redeem the cotton by paying the debts indorsed by the claimants he had no possession coupled with this equity but only a naked equity which it has been held cannot be reached by an ordinary execution perkins and elliott v mayfield 5 porter’s rep 182 3 this brings us back to the question whether the execution of the plaintiff was a lien on the growing crop so as to defeat the mortgage to the claimants it has been frequently mooted whether at common law corn c', ''), ('before', 'it is gathered can be seized under a fieri facias mr dane in remarking upon this point says “the american editor of bacon’s abridgment says ‘wheat growing in the ground is a chattel and subject to be taken in execution and the sheriff may suffer it to grow till harvest and then cut and sell it or may perhaps sell it growing and the purchaser will then be entitled to enter for the purpose of cutting and carrying it away” he cites whipple v foot ut supra also poole’s case salk 368 1 bos  p 397 6 east 604 n but whipple v foot seems to be the only case that supports his position that unripe wheat or corn may be taken in execution and the same editor states that nothing can be taken in execution which cannot be sold this position says the learned commentator is no doubt law but it is unnecessary to consider how this matter stands at common law the first section of the act of 1821 “to prevent sheriffs and other officers from levying executions in certain cases enacts that “it shall not be lawful for any sheriff or other officer to levy a writ of fieri facias or other execution on the planted crop of a debtor or person against whom an execution may issue until the crop is gathered” aik dig 167 now here is an express inhibition to levy an execution on a crop while it remains on or in the ground and until it is severed from the soil to which it owes its growth in respect to property thus situated will the lien of an execution attach eo instanti upon its being placed in the hands of an officer if so the act cited will only have the effect of keeping the right to levy it in abeyance until the crop is gathered the lien of an execution does not only operate so as to prevent the debtor from disposing of the property on which it attaches but gives to the creditor the right to have it sold to satisfy his 745 judgment the lien and the right to levy are intimately connected and if the latter be taken away or suspended the effect at common law is the destruction of the former this principle is fully established by mansony and hurtell v the president c of the bank of the united states and its assignees and the citations contained in the opinion of the court in that case as also in my opinion in wood v gary et al both decided at the last term that it was competent for the legislature to have made it unlawful to levy an execution on particular property until its condition was changed and still to give it a continuing lien cannot be doubted but there is nothing in the act in question to indicate that such is its intention if the object was merely to suspend the sale until the crop was gathered it would have been very easy to have said so in explicit terms but declaring as the statute does in totidem verbis that the execution shall not be levied the legislature must be supposed to have meant what they have expressed the act was induced by the doubts which existed as to what was the common law and was intended to remove those doubts by declaring what should be the law in future it does not create a lien or authorize a levy in a case in which the law as it then existed was silent the idea that the lien attached upon the planted crop as soon as the execution was delivered to the sheriff though the right to levy it was postponed until a severance took place is attempted to be deduced from the last words of the section cited viz “until the crop is gathered” these words cannot upon any just principles of construction be regarded so potent as to give to an execution a retrospective effect they do not refer to the lien if they did they would postpone it until the crop was gathered but it is the levy they relate to and postpone until that event takes place 4 the right to levy an execution on a planted crop then being expressly taken away by the statute the lien which is connected with and consequent upon that right never attaches until severance this being the case the right of the defendant in execution to make the contract which he did is unquestionable and the title of the claimants coupled as it was with the possession was paramount to any lien which the execution could exert the circuit judge may have mistaken the law in supposing that the contract was a sale but if he did an error in that respect was very immaterial for whether a sale or mortgage as we have 746 seen under the facts of the case the defendant in execution has no interest that could be seised and sold under execution there is no assumption of any material fact in the charge but the possession of the claimant the time when acquired the gathering of the crop c are all referred to the determination of the jury who are instructed if they find them according to the evidence adduced that no lien ever attached in favor of the plaintiff the bona fides of the contract was conceded so that no charge was necessary on that point and it could not with propriety enter into the inquiry of the jury it results from what has been said that the judgment of the circuit court is affirmed  dissenting opinion  ormond j 4 the statute which presents the question', ''), ('after', 'the court is that “it shall not be lawful for any sheriff or other officer to levy a writ of fieei facias or other execution on the planted crop of a debtor or person against whom an execution may issue until the crop is gathered” clay’s dig 210 § 46 i shall not enter upon the enquiry whether at common law an execution could be levied upon a growing crop though i apprehend it would not be difficult to maintain the affirmative of the proposition it is sufficient for my purpose that the statute supposes such to have been the law as it doubtless was the practice this act must be considered in connection with the other acts upon the same subject the policy of the state as indicated by these statutes is undeniably that all the property of a debtor real and personal to which he has a legal title shall be subject to sale by execution and it appears to me that it would be difficult to assign a reason for the exemption of this species of property from the claims of judgment creditors and for giving to the defendant in execution the right to dispose of it it appears to me with all deference that the argument that because the sheriff was prohibited from levying on a ““planted crop” that therefore the execution had lost its lien and the debtor had the right to sell it is a non sequitur the mischief which the statute designed to remedy was the sacrifice which would be necessarily made by the sale of an immature crop the statute enables the debtor to retain it until it matures and by severing it from the soil to put it 747 in a condition to bring its valuethe lien in the mean time continuing in the plaintiff in execution 5 if further confirmation of the correctness of this view were necessary it will be found i think in the language employed by the legislature the sheriff is forbidden to levy on a “planted crop” until the crop is gathered now if the view taken by the majority of the court is correct the right secured to the plaintiff in execution of levying on the crop', ''), ('before', 'it is gathered may be frustrated as it was in this case by a sale by the defendant in execution whilst the crop is in an immature state the construction which has been put upon the statute involves the singular anomaly that the legislature for the protection of the debtor has forbidden the plaintiff in execution to sell the property of his debtor because it is not in a condition to bring its value and yet permits the debtor voluntarily by a sale to submit to the same sacrifice for his own benefit it is in effect a gift to the defendant in execution of the growing crop provided he does not gather it himself but disposes of it in its then condition this i feel a thorough conviction was not the intention of the legislature but that it was to secure him from loss by prohibiting a levy and sale of the crop until it was gathered when the temporary suspension of the right to sell ceased all citations 5 ala 740 1843 wl 284 end of document © 2019 thomson reuters no claim to original us government works citing references 9 treatment title date type depth headnotes cited by 1  booker v jones’s adm’x 55 ala 266 271  ala trover for conversion of cotton with counts in case appeal from the circuit court of hale tried', ''), ('before', 'the hon m j saffold dec term 1876 case — cited by 2  lehman durr  co v marshall 47 ala 362 376  ala trover for conversion of cotton appeal from the city court of montgomery tried', ''), ('before', 'hon john d cunningham jan term 1872 case — cited by 3  bibb v janney 45 ala 329 334  ala garnishment wages waiver of exemption appeal from city court of montgomery tried', ''), ('before', 'hon john d cunningham jan term 1871 case — cited by 4  mckenzie v lampley 31 ala 526 527  ala trial of right of property in cotton appeal from the circuit court of barbour tried', ''), ('before', 'the hon s d hale jan term 1858 case — cited by 5  evans v lamar 21 ala 333 335  ala error to the circuit court of autauga tried', ''), ('before', 'the hon a b moore jun term 1852 case — cited by  6  dewey v bowman 8 cal 145 147  cal the judgment of the court below against jacob s cohen should be reversed for the following reasons because the finding of the court was so far as cohen was concerned jul term 1857 case — mentioned by 7  rees v coats 65 ala 256 258  ala trover for conversion of three bales of cotton appeal from the circuit court of etowah tried', '')]\n"
          ],
          "name": "stdout"
        }
      ]
    },
    {
      "cell_type": "code",
      "metadata": {
        "id": "H2BMm67OFWpm",
        "outputId": "944e4822-3a39-4a83-f96c-f7399712e136",
        "colab": {
          "base_uri": "https://localhost:8080/",
          "height": 50
        }
      },
      "source": [
        "#question 7\n",
        "if len(list(lexnlp.extract.en.copyright.get_copyright(t)))>0:\n",
        "  print(\"7)Copyright : \\n\", list(lexnlp.extract.en.copyright.get_copyright(t)))\n",
        "else:\n",
        "  print(\"7)Copyright : None\")\n"
      ],
      "execution_count": 21,
      "outputs": [
        {
          "output_type": "stream",
          "text": [
            "7)Copyright : \n",
            " [('©', '2019', 'Thomson Reuters No')]\n"
          ],
          "name": "stdout"
        }
      ]
    },
    {
      "cell_type": "code",
      "metadata": {
        "id": "KHbUSjfTZiS9",
        "outputId": "e7f25aaf-56d9-401a-8a9d-06563106c9ff",
        "colab": {
          "base_uri": "https://localhost:8080/",
          "height": 70
        }
      },
      "source": [
        "#question 8\n",
        "court_data=[]\n",
        "for _, row in court_df.iterrows():\n",
        "  data= lexnlp.extract.en.dict_entities.entity_config(row[\"Court ID\"], row[\"Court Name\"], 0, row[\"Alias\"].split(\";\") if not pd.isnull(row[\"Alias\"]) else [])\n",
        "  court_data.append(data)\n",
        "\n",
        "value = False\n",
        "\n",
        "for entity, alias in lexnlp.extract.en.courts.get_courts(t, court_data):\n",
        "  print(\"8)Courts :\\n\", entity,alias)\n",
        "  value = True\n",
        "if(value == False):\n",
        "  print(\"8)Courts :None\")\n",
        "\n"
      ],
      "execution_count": 20,
      "outputs": [
        {
          "output_type": "stream",
          "text": [
            "8)Courts :\n",
            " (1, 'United States Supreme Court', 0, [('United States Supreme Court', None, False, None), ('Supreme Court', None, False, None), (' SCOTUS', None, False, None)]) ('Supreme Court', None, False, None)\n"
          ],
          "name": "stdout"
        }
      ]
    },
    {
      "cell_type": "code",
      "metadata": {
        "id": "fABM8ED9FgzS",
        "outputId": "a75f3983-bf2a-4510-ad54-50fc5a2148f8",
        "colab": {
          "base_uri": "https://localhost:8080/",
          "height": 34
        }
      },
      "source": [
        "#question 9\n",
        "if len(list(lexnlp.extract.en.cusip.get_cusip(t)))>0:\n",
        "  print(\"9)CUSIP : \\n\", list(lexnlp.extract.en.cusip.get_cusip(t)))\n",
        "else:\n",
        "  print(\"9)CUSIP : None\")\n"
      ],
      "execution_count": 28,
      "outputs": [
        {
          "output_type": "stream",
          "text": [
            "9)CUSIP : None\n"
          ],
          "name": "stdout"
        }
      ]
    },
    {
      "cell_type": "code",
      "metadata": {
        "id": "AFF8i_KhFot1",
        "outputId": "7018dcbe-44ee-447f-888b-f53346803167",
        "colab": {
          "base_uri": "https://localhost:8080/",
          "height": 70
        }
      },
      "source": [
        "#question 10\n",
        "if len(list(lexnlp.extract.en.dates.get_dates(t)))>0:\n",
        "  print(\"10)Dates : \\n\", list(lexnlp.extract.en.dates.get_dates(t)))\n",
        "else:\n",
        "  print(\"10)Dates : None\")\n"
      ],
      "execution_count": 29,
      "outputs": [
        {
          "output_type": "stream",
          "text": [
            "10)Dates : \n",
            " [datetime.date(2020, 6, 1), datetime.date(1840, 11, 1), datetime.date(1839, 10, 1), datetime.date(1840, 5, 1), datetime.date(1840, 9, 1), datetime.date(1840, 5, 1), datetime.date(1840, 5, 1), datetime.date(2020, 12, 1), datetime.date(2020, 12, 1), datetime.date(2020, 1, 1), datetime.date(2020, 1, 1), datetime.date(2020, 1, 1), datetime.date(2020, 3, 21), datetime.date(2020, 6, 1), datetime.date(2020, 7, 1), datetime.date(2020, 11, 1), datetime.date(1887, 5, 1)]\n"
          ],
          "name": "stdout"
        }
      ]
    },
    {
      "cell_type": "code",
      "metadata": {
        "id": "L5YLuFoAG_Uw",
        "outputId": "deb73430-03f2-4e27-efd7-8b5ebb3ed6e8",
        "colab": {
          "base_uri": "https://localhost:8080/",
          "height": 34
        }
      },
      "source": [
        "#question 11\n",
        "if len(list(lexnlp.extract.en.definitions.get_definitions(t)))>0:\n",
        "  print(\"11)Definition : \\n\", list(lexnlp.extract.en.definitions.get_definitions(t)))\n",
        "else:\n",
        "  print(\"11)Definition : None\")\n"
      ],
      "execution_count": 30,
      "outputs": [
        {
          "output_type": "stream",
          "text": [
            "11)Definition : None\n"
          ],
          "name": "stdout"
        }
      ]
    },
    {
      "cell_type": "code",
      "metadata": {
        "id": "vZT6VXU6HJHN",
        "outputId": "75b05fbd-0317-4f31-c211-c63ceeaf4eea",
        "colab": {
          "base_uri": "https://localhost:8080/",
          "height": 34
        }
      },
      "source": [
        "#question 12\n",
        "if len(list(lexnlp.extract.en.distances.get_distances(t)))>0:\n",
        "  print(\"12)Distance : \\n\", list(lexnlp.extract.en.distances.get_distances(t)))\n",
        "else:\n",
        "  print(\"12)Distance : None\")\n"
      ],
      "execution_count": 31,
      "outputs": [
        {
          "output_type": "stream",
          "text": [
            "12)Distance : None\n"
          ],
          "name": "stdout"
        }
      ]
    },
    {
      "cell_type": "code",
      "metadata": {
        "id": "DvUYUb15HP2q",
        "outputId": "c16d7129-ba93-4b6c-cdaa-f52bfb83825c",
        "colab": {
          "base_uri": "https://localhost:8080/",
          "height": 50
        }
      },
      "source": [
        "#question 13\n",
        "if len(list(lexnlp.extract.en.durations.get_durations(t)))>0:\n",
        "  print(\"13)Duration : \\n\", list(lexnlp.extract.en.durations.get_durations(t)))\n",
        "else:\n",
        "  print(\"13)Duration : None\")\n"
      ],
      "execution_count": 34,
      "outputs": [
        {
          "output_type": "stream",
          "text": [
            "13)Duration : \n",
            " [('year', 6.0, 2190.0)]\n"
          ],
          "name": "stdout"
        }
      ]
    },
    {
      "cell_type": "code",
      "metadata": {
        "id": "hNWJRdVWHZaA",
        "outputId": "386721d9-5adb-4ff7-bad9-9fcebb8f0f40",
        "colab": {
          "base_uri": "https://localhost:8080/",
          "height": 70
        }
      },
      "source": [
        "#question 14\n",
        "for entity,alias in lexnlp.extract.en.geoentities.get_geoentities(t,court_config_data):\n",
        "  print('15)geographic and geopolitical entities :\\n',entity,alias)\n",
        "\n",
        "\n"
      ],
      "execution_count": 36,
      "outputs": [
        {
          "output_type": "stream",
          "text": [
            "15)geographic and geopolitical entities :\n",
            " (1, 'United States Supreme Court', 0, [('United States Supreme Court', None, False, None), ('Supreme Court', None, False, None), (' SCOTUS', None, False, None)]) ('Supreme Court', None, False, None)\n"
          ],
          "name": "stdout"
        }
      ]
    },
    {
      "cell_type": "code",
      "metadata": {
        "id": "3i28U49Pa_lE",
        "outputId": "cf82bddb-55d8-42c6-93ff-3c57dd1ba58e",
        "colab": {
          "base_uri": "https://localhost:8080/",
          "height": 50
        }
      },
      "source": [
        "#question 15\n",
        "if len(list(lexnlp.extract.en.money.get_money(t)))>0:\n",
        "  print(\"15)Money : \\n\", list(lexnlp.extract.en.money.get_money(t)))\n",
        "else:\n",
        "  print(\"15)Money : None\")"
      ],
      "execution_count": 37,
      "outputs": [
        {
          "output_type": "stream",
          "text": [
            "15)Money : \n",
            " [(14000, 'USD'), (14000, 'USD'), (80100.0, 'USD')]\n"
          ],
          "name": "stdout"
        }
      ]
    },
    {
      "cell_type": "code",
      "metadata": {
        "id": "-rXVHzXeHjlt",
        "outputId": "04b803ad-d606-42b9-8c30-214d70c9e912",
        "colab": {
          "base_uri": "https://localhost:8080/",
          "height": 34
        }
      },
      "source": [
        "#question 16\n",
        "if len(list(lexnlp.extract.en.percents.get_percents(t)))>0:\n",
        "  print(\"16)Percents and rates : \\n\", list(lexnlp.extract.en.percents.get_percents(t)))\n",
        "else:\n",
        "  print(\"Percents and rates : None\")\n"
      ],
      "execution_count": 42,
      "outputs": [
        {
          "output_type": "stream",
          "text": [
            "Percents and rates : None\n"
          ],
          "name": "stdout"
        }
      ]
    },
    {
      "cell_type": "code",
      "metadata": {
        "id": "FWGAyzrPHqbt",
        "outputId": "a6216296-7b36-441d-86d3-c94a46d5bd42",
        "colab": {
          "base_uri": "https://localhost:8080/",
          "height": 34
        }
      },
      "source": [
        "#question 17\n",
        "if len(list(lexnlp.extract.en.pii.get_pii(t)))>0:\n",
        "  print(\"17)PII : \\n\", list(lexnlp.extract.en.pii.get_pii(t)))\n",
        "else:\n",
        "  print(\"17)PII : None\")\n"
      ],
      "execution_count": 43,
      "outputs": [
        {
          "output_type": "stream",
          "text": [
            "17)PII : None\n"
          ],
          "name": "stdout"
        }
      ]
    },
    {
      "cell_type": "code",
      "metadata": {
        "id": "RYmc2_zdEvP9",
        "outputId": "07caf883-00d0-44c7-d4cf-c1ae120cba09",
        "colab": {
          "base_uri": "https://localhost:8080/",
          "height": 34
        }
      },
      "source": [
        "#question 18\n",
        "if len(list(lexnlp.extract.en.ratios.get_ratios(t)))>0:\n",
        "  print(\"18)Ratios : \\n\", list(lexnlp.extract.en.ratios.get_ratios(t)))\n",
        "else:\n",
        "  print(\"18)Ratios : None\")\n"
      ],
      "execution_count": 45,
      "outputs": [
        {
          "output_type": "stream",
          "text": [
            "18)Ratios : None\n"
          ],
          "name": "stdout"
        }
      ]
    },
    {
      "cell_type": "code",
      "metadata": {
        "id": "sL5EggwIHYvz",
        "outputId": "8fdfa064-14a9-406c-9ba4-3c087bf30240",
        "colab": {
          "base_uri": "https://localhost:8080/",
          "height": 34
        }
      },
      "source": [
        "#question 19\n",
        "if len(list(lexnlp.extract.en.regulations.get_regulations(t)))>0:\n",
        "  print(\"19)Regulations : \\n\", list(lexnlp.extract.en.regulations.get_regulations(t)))\n",
        "else:\n",
        "  print(\"19)Regulations : None\")\n"
      ],
      "execution_count": 22,
      "outputs": [
        {
          "output_type": "stream",
          "text": [
            "Regulations : None\n"
          ],
          "name": "stdout"
        }
      ]
    },
    {
      "cell_type": "code",
      "metadata": {
        "id": "apsWsws0KGDt",
        "outputId": "dbe2d084-3d4b-4c3e-f9f9-3372a0f72ad9",
        "colab": {
          "base_uri": "https://localhost:8080/",
          "height": 34
        }
      },
      "source": [
        "#question 20\n",
        "if len(list(lexnlp.extract.en.trademarks.get_trademarks(t)))>0:\n",
        "  print(\"20)Trademarks : \", list(lexnlp.extract.en.trademarks.get_trademarks(t)))\n",
        "else:\n",
        "  print(\"20)Trademarks : None\")\n"
      ],
      "execution_count": 47,
      "outputs": [
        {
          "output_type": "stream",
          "text": [
            "20)Trademarks : None\n"
          ],
          "name": "stdout"
        }
      ]
    },
    {
      "cell_type": "code",
      "metadata": {
        "id": "6chfE-HxIA3Q",
        "outputId": "d0504578-2679-4e5f-af1b-cf9bc83aec92",
        "colab": {
          "base_uri": "https://localhost:8080/",
          "height": 34
        }
      },
      "source": [
        "#question 21\n",
        "if len(list())>0:\n",
        "  print(\"21)URL : \", list(lexnlp.extract.en.urls.get_urls(t)))\n",
        "else:\n",
        "  print(\"21)URL : None\")\n"
      ],
      "execution_count": 49,
      "outputs": [
        {
          "output_type": "stream",
          "text": [
            "21)URL : None\n"
          ],
          "name": "stdout"
        }
      ]
    },
    {
      "cell_type": "code",
      "metadata": {
        "id": "2UhzaKU7KnU8",
        "outputId": "b910949d-82d6-42da-a562-b5cd7a450433",
        "colab": {
          "base_uri": "https://localhost:8080/",
          "height": 50
        }
      },
      "source": [
        "#question 22\n",
        "addresses=pyap.parse(t, country='US')\n",
        "final_address=[]\n",
        "for location in addresses:\n",
        "  final_address.append(location)\n",
        "print(\"22) Addresses :\\n\", final_address)"
      ],
      "execution_count": 50,
      "outputs": [
        {
          "output_type": "stream",
          "text": [
            "22) Addresses :\n",
            " [5 Ala 740 Supreme Court of Alabama ADAMS]\n"
          ],
          "name": "stdout"
        }
      ]
    },
    {
      "cell_type": "code",
      "metadata": {
        "id": "X5EBQvLRQyoS",
        "outputId": "59559173-1da8-441e-9d76-6ba4d84e33af",
        "colab": {
          "base_uri": "https://localhost:8080/",
          "height": 739
        }
      },
      "source": [
        "!wget 'https://nlp.stanford.edu/software/stanford-ner-2018-10-16.zip'\n",
        "!unzip stanford-ner-2018-10-16.zip"
      ],
      "execution_count": null,
      "outputs": [
        {
          "output_type": "stream",
          "text": [
            "--2020-10-15 21:55:57--  https://nlp.stanford.edu/software/stanford-ner-2018-10-16.zip\n",
            "Resolving nlp.stanford.edu (nlp.stanford.edu)... 171.64.67.140\n",
            "Connecting to nlp.stanford.edu (nlp.stanford.edu)|171.64.67.140|:443... connected.\n",
            "HTTP request sent, awaiting response... 200 OK\n",
            "Length: 180358328 (172M) [application/zip]\n",
            "Saving to: ‘stanford-ner-2018-10-16.zip’\n",
            "\n",
            "stanford-ner-2018-1 100%[===================>] 172.00M  1.81MB/s    in 86s     \n",
            "\n",
            "2020-10-15 21:57:24 (2.00 MB/s) - ‘stanford-ner-2018-10-16.zip’ saved [180358328/180358328]\n",
            "\n",
            "Archive:  stanford-ner-2018-10-16.zip\n",
            "   creating: stanford-ner-2018-10-16/\n",
            "  inflating: stanford-ner-2018-10-16/README.txt  \n",
            "  inflating: stanford-ner-2018-10-16/ner-gui.bat  \n",
            "  inflating: stanford-ner-2018-10-16/build.xml  \n",
            "  inflating: stanford-ner-2018-10-16/stanford-ner.jar  \n",
            "  inflating: stanford-ner-2018-10-16/sample-conll-file.txt  \n",
            "  inflating: stanford-ner-2018-10-16/sample.ner.txt  \n",
            "  inflating: stanford-ner-2018-10-16/stanford-ner-3.9.2-sources.jar  \n",
            "   creating: stanford-ner-2018-10-16/lib/\n",
            "  inflating: stanford-ner-2018-10-16/lib/joda-time.jar  \n",
            "  inflating: stanford-ner-2018-10-16/lib/stanford-ner-resources.jar  \n",
            "  inflating: stanford-ner-2018-10-16/lib/jollyday-0.4.9.jar  \n",
            "  inflating: stanford-ner-2018-10-16/ner-gui.command  \n",
            "  inflating: stanford-ner-2018-10-16/ner.sh  \n",
            "  inflating: stanford-ner-2018-10-16/stanford-ner-3.9.2.jar  \n",
            "  inflating: stanford-ner-2018-10-16/NERDemo.java  \n",
            "  inflating: stanford-ner-2018-10-16/stanford-ner-3.9.2-javadoc.jar  \n",
            "  inflating: stanford-ner-2018-10-16/ner.bat  \n",
            "   creating: stanford-ner-2018-10-16/classifiers/\n",
            "  inflating: stanford-ner-2018-10-16/classifiers/english.conll.4class.distsim.prop  \n",
            "  inflating: stanford-ner-2018-10-16/classifiers/example.serialized.ncc.ncc.ser.gz  \n",
            "  inflating: stanford-ner-2018-10-16/classifiers/english.muc.7class.distsim.crf.ser.gz  \n",
            "  inflating: stanford-ner-2018-10-16/classifiers/english.conll.4class.distsim.crf.ser.gz  \n",
            "  inflating: stanford-ner-2018-10-16/classifiers/english.muc.7class.distsim.prop  \n",
            "  inflating: stanford-ner-2018-10-16/classifiers/english.all.3class.distsim.prop  \n",
            "  inflating: stanford-ner-2018-10-16/classifiers/example.serialized.ncc.prop  \n",
            "  inflating: stanford-ner-2018-10-16/classifiers/english.all.3class.distsim.crf.ser.gz  \n",
            "  inflating: stanford-ner-2018-10-16/sample.txt  \n",
            "  inflating: stanford-ner-2018-10-16/sample-w-time.txt  \n",
            "  inflating: stanford-ner-2018-10-16/ner-gui.sh  \n",
            "  inflating: stanford-ner-2018-10-16/LICENSE.txt  \n"
          ],
          "name": "stdout"
        }
      ]
    },
    {
      "cell_type": "code",
      "metadata": {
        "id": "9GUxfMydQcOR",
        "outputId": "a30b8395-d07c-4f9b-93eb-727957c68b39",
        "colab": {
          "base_uri": "https://localhost:8080/",
          "height": 672
        }
      },
      "source": [
        "from zipfile import ZipFile\n",
        "with ZipFile('stanford-ner-2018-10-16.zip', 'r') as zipObj:\n",
        "   zipObj.extractall('/stanford')\n",
        "#question 23\n",
        "import nltk\n",
        "from nltk.tag.stanford import StanfordNERTagger\n",
        "st = StanfordNERTagger('/stanford/stanford-ner-2018-10-16/classifiers/english.all.3class.distsim.crf.ser.gz', '/stanford/stanford-ner-2018-10-16/stanford-ner.jar')\n",
        "print(\"23)Persons :\")\n",
        "for sent in nltk.sent_tokenize(t):\n",
        "    tokens = nltk.tokenize.word_tokenize(sent)\n",
        "    tags = st.tag(tokens)\n",
        "    for tag in tags:\n",
        "        if tag[1]=='PERSON': print(tag)"
      ],
      "execution_count": 51,
      "outputs": [
        {
          "output_type": "stream",
          "text": [
            "23)Persons :\n",
            "('Lien', 'PERSON')\n",
            "('Allen', 'PERSON')\n",
            "('Harrison', 'PERSON')\n",
            "('Allen', 'PERSON')\n",
            "('Harrison', 'PERSON')\n",
            "('Harrison', 'PERSON')\n",
            "('Harrison', 'PERSON')\n",
            "('Burton', 'PERSON')\n",
            "('Harrison', 'PERSON')\n",
            "('Allen', 'PERSON')\n",
            "('Harrison', 'PERSON')\n",
            "('Harrison', 'PERSON')\n",
            "('Harrison', 'PERSON')\n",
            "('SMITH', 'PERSON')\n",
            "('Harrison', 'PERSON')\n",
            "('Harrison', 'PERSON')\n",
            "('Harrison', 'PERSON')\n",
            "('W', 'PERSON')\n",
            "('G', 'PERSON')\n",
            "('JONES', 'PERSON')\n",
            "('Perkins', 'PERSON')\n",
            "('Dane', 'PERSON')\n",
            "('Salk', 'PERSON')\n",
            "('Mansony', 'PERSON')\n",
            "('Gary', 'PERSON')\n",
            "('Hon', 'PERSON')\n",
            "('JOHN', 'PERSON')\n",
            "('D', 'PERSON')\n",
            "('CUNNINGHAM', 'PERSON')\n",
            "('Hon', 'PERSON')\n",
            "('JOHN', 'PERSON')\n",
            "('D', 'PERSON')\n",
            "('CUNNINGHAM', 'PERSON')\n",
            "('Jacob', 'PERSON')\n",
            "('S', 'PERSON')\n",
            "('Cohen', 'PERSON')\n",
            "('Cohen', 'PERSON')\n",
            "('Weakley', 'PERSON')\n"
          ],
          "name": "stdout"
        }
      ]
    }
  ]
}