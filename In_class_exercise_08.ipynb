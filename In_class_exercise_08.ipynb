{
  "nbformat": 4,
  "nbformat_minor": 0,
  "metadata": {
    "kernelspec": {
      "display_name": "Python 3",
      "language": "python",
      "name": "python3"
    },
    "language_info": {
      "codemirror_mode": {
        "name": "ipython",
        "version": 3
      },
      "file_extension": ".py",
      "mimetype": "text/x-python",
      "name": "python",
      "nbconvert_exporter": "python",
      "pygments_lexer": "ipython3",
      "version": "3.7.4"
    },
    "colab": {
      "name": "In_class_exercise_08.ipynb",
      "provenance": [],
      "collapsed_sections": [],
      "toc_visible": true,
      "include_colab_link": true
    }
  },
  "cells": [
    {
      "cell_type": "markdown",
      "metadata": {
        "id": "view-in-github",
        "colab_type": "text"
      },
      "source": [
        "<a href=\"https://colab.research.google.com/github/rajitakolla/computational_methods/blob/master/In_class_exercise_08.ipynb\" target=\"_parent\"><img src=\"https://colab.research.google.com/assets/colab-badge.svg\" alt=\"Open In Colab\"/></a>"
      ]
    },
    {
      "cell_type": "markdown",
      "metadata": {
        "id": "zBtmg28K_bk8"
      },
      "source": [
        "# **The eighth in-class-exercise (20 points in total, 10/29/2020)**"
      ]
    },
    {
      "cell_type": "markdown",
      "metadata": {
        "id": "MSB4zVh8_bk_"
      },
      "source": [
        "The data for this exercise is from the dataset you created from assignment three. Please perform answer the following questions based on your data:"
      ]
    },
    {
      "cell_type": "markdown",
      "metadata": {
        "id": "rPZRxrda_blC"
      },
      "source": [
        "## (1) (10 points) Write a python program to extract the sentiment related terms from the corpus. You may use python package such as polyglot or external lexicon resources in the question. Rank the sentiment related terms by frequency."
      ]
    },
    {
      "cell_type": "code",
      "metadata": {
        "id": "2aIh6Q33_blE",
        "outputId": "027cf609-af0a-4f8d-f15d-3f0261d19173",
        "colab": {
          "base_uri": "https://localhost:8080/",
          "height": 195
        }
      },
      "source": [
        "# Write your code here\n",
        "# from polyglot.text import Text\n",
        "\n",
        "import pandas as pd\n",
        "\n",
        "sentiment_data = pd.read_csv(\"/content/sentimentAnalysis.csv\")\n",
        "\n",
        "sentiment_data.head(10)\n",
        "\n",
        "required_df=sentiment_data[[\"User Names\",\"Reviews\",\"cleaned_data\"]]\n",
        "\n",
        "required_df.head(5)"
      ],
      "execution_count": null,
      "outputs": [
        {
          "output_type": "execute_result",
          "data": {
            "text/html": [
              "<div>\n",
              "<style scoped>\n",
              "    .dataframe tbody tr th:only-of-type {\n",
              "        vertical-align: middle;\n",
              "    }\n",
              "\n",
              "    .dataframe tbody tr th {\n",
              "        vertical-align: top;\n",
              "    }\n",
              "\n",
              "    .dataframe thead th {\n",
              "        text-align: right;\n",
              "    }\n",
              "</style>\n",
              "<table border=\"1\" class=\"dataframe\">\n",
              "  <thead>\n",
              "    <tr style=\"text-align: right;\">\n",
              "      <th></th>\n",
              "      <th>User Names</th>\n",
              "      <th>Reviews</th>\n",
              "      <th>cleaned_data</th>\n",
              "    </tr>\n",
              "  </thead>\n",
              "  <tbody>\n",
              "    <tr>\n",
              "      <th>0</th>\n",
              "      <td>morino-59166</td>\n",
              "      <td>When I saw the magnificent Heath ledger a few ...</td>\n",
              "      <td>when i saw magnificent heath ledger years go e...</td>\n",
              "    </tr>\n",
              "    <tr>\n",
              "      <th>1</th>\n",
              "      <td>asassandroo</td>\n",
              "      <td>I can say that i'm really grateful that movies...</td>\n",
              "      <td>i say im really grateful movies like one haven...</td>\n",
              "    </tr>\n",
              "    <tr>\n",
              "      <th>2</th>\n",
              "      <td>samanehdds</td>\n",
              "      <td>I'm not a fan of Batman movies but went to see...</td>\n",
              "      <td>im fan batman movies went see teenage son its ...</td>\n",
              "    </tr>\n",
              "    <tr>\n",
              "      <th>3</th>\n",
              "      <td>guillevica</td>\n",
              "      <td>What a master piece, it so so wondeful, all in...</td>\n",
              "      <td>what master piece wondeful movie great constru...</td>\n",
              "    </tr>\n",
              "    <tr>\n",
              "      <th>4</th>\n",
              "      <td>ahurworth</td>\n",
              "      <td>Has to be the best movie I've seen in years. I...</td>\n",
              "      <td>has best movie ive seen years it feel taxi dri...</td>\n",
              "    </tr>\n",
              "  </tbody>\n",
              "</table>\n",
              "</div>"
            ],
            "text/plain": [
              "     User Names  ...                                       cleaned_data\n",
              "0  morino-59166  ...  when i saw magnificent heath ledger years go e...\n",
              "1   asassandroo  ...  i say im really grateful movies like one haven...\n",
              "2    samanehdds  ...  im fan batman movies went see teenage son its ...\n",
              "3    guillevica  ...  what master piece wondeful movie great constru...\n",
              "4     ahurworth  ...  has best movie ive seen years it feel taxi dri...\n",
              "\n",
              "[5 rows x 3 columns]"
            ]
          },
          "metadata": {
            "tags": []
          },
          "execution_count": 2
        }
      ]
    },
    {
      "cell_type": "code",
      "metadata": {
        "id": "4_cZ_X4s-ovD",
        "outputId": "165e8187-aa67-4c17-dc69-d31ef55881b4",
        "colab": {
          "base_uri": "https://localhost:8080/"
        }
      },
      "source": [
        "import nltk\n",
        "nltk.download('punkt')"
      ],
      "execution_count": null,
      "outputs": [
        {
          "output_type": "stream",
          "text": [
            "[nltk_data] Downloading package punkt to /root/nltk_data...\n",
            "[nltk_data]   Unzipping tokenizers/punkt.zip.\n"
          ],
          "name": "stdout"
        },
        {
          "output_type": "execute_result",
          "data": {
            "text/plain": [
              "True"
            ]
          },
          "metadata": {
            "tags": []
          },
          "execution_count": 3
        }
      ]
    },
    {
      "cell_type": "code",
      "metadata": {
        "id": "cVU3Eng-IcD3",
        "outputId": "dd483421-8763-427f-9c26-462a523c43a6",
        "colab": {
          "base_uri": "https://localhost:8080/"
        }
      },
      "source": [
        "nltk.download('stopwords')"
      ],
      "execution_count": null,
      "outputs": [
        {
          "output_type": "stream",
          "text": [
            "[nltk_data] Downloading package stopwords to /root/nltk_data...\n",
            "[nltk_data]   Unzipping corpora/stopwords.zip.\n"
          ],
          "name": "stdout"
        },
        {
          "output_type": "execute_result",
          "data": {
            "text/plain": [
              "True"
            ]
          },
          "metadata": {
            "tags": []
          },
          "execution_count": 4
        }
      ]
    },
    {
      "cell_type": "code",
      "metadata": {
        "id": "C9Kff2P8IWAB"
      },
      "source": [
        "#remove stop words \n",
        "\n",
        "from nltk.corpus import stopwords\n",
        "stopwords = list(stopwords.words('english'))"
      ],
      "execution_count": null,
      "outputs": []
    },
    {
      "cell_type": "code",
      "metadata": {
        "id": "wPbhxxQo5aVa",
        "outputId": "ce67897b-95a3-41e6-ee29-5dc8b3898780",
        "colab": {
          "base_uri": "https://localhost:8080/",
          "height": 296
        }
      },
      "source": [
        "#split the words and find the occurance of each word in the entire list\n",
        "\n",
        "required_df[\"tokens\"] = required_df[\"cleaned_data\"].apply(lambda x : nltk.word_tokenize(str(x)))\n",
        "required_df.head(5)"
      ],
      "execution_count": null,
      "outputs": [
        {
          "output_type": "stream",
          "text": [
            "/usr/local/lib/python3.6/dist-packages/ipykernel_launcher.py:3: SettingWithCopyWarning: \n",
            "A value is trying to be set on a copy of a slice from a DataFrame.\n",
            "Try using .loc[row_indexer,col_indexer] = value instead\n",
            "\n",
            "See the caveats in the documentation: https://pandas.pydata.org/pandas-docs/stable/user_guide/indexing.html#returning-a-view-versus-a-copy\n",
            "  This is separate from the ipykernel package so we can avoid doing imports until\n"
          ],
          "name": "stderr"
        },
        {
          "output_type": "execute_result",
          "data": {
            "text/html": [
              "<div>\n",
              "<style scoped>\n",
              "    .dataframe tbody tr th:only-of-type {\n",
              "        vertical-align: middle;\n",
              "    }\n",
              "\n",
              "    .dataframe tbody tr th {\n",
              "        vertical-align: top;\n",
              "    }\n",
              "\n",
              "    .dataframe thead th {\n",
              "        text-align: right;\n",
              "    }\n",
              "</style>\n",
              "<table border=\"1\" class=\"dataframe\">\n",
              "  <thead>\n",
              "    <tr style=\"text-align: right;\">\n",
              "      <th></th>\n",
              "      <th>User Names</th>\n",
              "      <th>Reviews</th>\n",
              "      <th>cleaned_data</th>\n",
              "      <th>tokens</th>\n",
              "    </tr>\n",
              "  </thead>\n",
              "  <tbody>\n",
              "    <tr>\n",
              "      <th>0</th>\n",
              "      <td>morino-59166</td>\n",
              "      <td>When I saw the magnificent Heath ledger a few ...</td>\n",
              "      <td>when i saw magnificent heath ledger years go e...</td>\n",
              "      <td>[when, i, saw, magnificent, heath, ledger, yea...</td>\n",
              "    </tr>\n",
              "    <tr>\n",
              "      <th>1</th>\n",
              "      <td>asassandroo</td>\n",
              "      <td>I can say that i'm really grateful that movies...</td>\n",
              "      <td>i say im really grateful movies like one haven...</td>\n",
              "      <td>[i, say, im, really, grateful, movies, like, o...</td>\n",
              "    </tr>\n",
              "    <tr>\n",
              "      <th>2</th>\n",
              "      <td>samanehdds</td>\n",
              "      <td>I'm not a fan of Batman movies but went to see...</td>\n",
              "      <td>im fan batman movies went see teenage son its ...</td>\n",
              "      <td>[im, fan, batman, movies, went, see, teenage, ...</td>\n",
              "    </tr>\n",
              "    <tr>\n",
              "      <th>3</th>\n",
              "      <td>guillevica</td>\n",
              "      <td>What a master piece, it so so wondeful, all in...</td>\n",
              "      <td>what master piece wondeful movie great constru...</td>\n",
              "      <td>[what, master, piece, wondeful, movie, great, ...</td>\n",
              "    </tr>\n",
              "    <tr>\n",
              "      <th>4</th>\n",
              "      <td>ahurworth</td>\n",
              "      <td>Has to be the best movie I've seen in years. I...</td>\n",
              "      <td>has best movie ive seen years it feel taxi dri...</td>\n",
              "      <td>[has, best, movie, ive, seen, years, it, feel,...</td>\n",
              "    </tr>\n",
              "  </tbody>\n",
              "</table>\n",
              "</div>"
            ],
            "text/plain": [
              "     User Names  ...                                             tokens\n",
              "0  morino-59166  ...  [when, i, saw, magnificent, heath, ledger, yea...\n",
              "1   asassandroo  ...  [i, say, im, really, grateful, movies, like, o...\n",
              "2    samanehdds  ...  [im, fan, batman, movies, went, see, teenage, ...\n",
              "3    guillevica  ...  [what, master, piece, wondeful, movie, great, ...\n",
              "4     ahurworth  ...  [has, best, movie, ive, seen, years, it, feel,...\n",
              "\n",
              "[5 rows x 4 columns]"
            ]
          },
          "metadata": {
            "tags": []
          },
          "execution_count": 6
        }
      ]
    },
    {
      "cell_type": "code",
      "metadata": {
        "id": "nRvgFiHrEUmF"
      },
      "source": [
        "import pandas as pd\n",
        "import numpy as np\n",
        "def compute_values(ip):\n",
        "  res1 =pd.value_counts(ip)\n",
        "  if(len(res1)==0 ):\n",
        "    res1 = [0]\n",
        "  return res1\n",
        "\n",
        "#calculate the occurance of each word in the sentence\n",
        "new_df = required_df[\"tokens\"].apply(lambda x : compute_values(x))"
      ],
      "execution_count": null,
      "outputs": []
    },
    {
      "cell_type": "code",
      "metadata": {
        "id": "NMfaaFRcEuVx"
      },
      "source": [
        "new_df = new_df.fillna(0)\n",
        "final_df1 = pd.DataFrame(new_df.columns, columns=[\"tokens\"])\n",
        "res = pd.DataFrame(new_df.T.sum(axis=1),columns = [\"count_of_value\"]).values.tolist()\n",
        "final_df1[\"count_of_occurances\"] = pd.DataFrame(res)"
      ],
      "execution_count": null,
      "outputs": []
    },
    {
      "cell_type": "code",
      "metadata": {
        "id": "g40fv8mHJ0RI",
        "outputId": "b327005f-0484-4898-9769-0e1faa32dda1",
        "colab": {
          "base_uri": "https://localhost:8080/",
          "height": 195
        }
      },
      "source": [
        "final_df1.head(5)"
      ],
      "execution_count": null,
      "outputs": [
        {
          "output_type": "execute_result",
          "data": {
            "text/html": [
              "<div>\n",
              "<style scoped>\n",
              "    .dataframe tbody tr th:only-of-type {\n",
              "        vertical-align: middle;\n",
              "    }\n",
              "\n",
              "    .dataframe tbody tr th {\n",
              "        vertical-align: top;\n",
              "    }\n",
              "\n",
              "    .dataframe thead th {\n",
              "        text-align: right;\n",
              "    }\n",
              "</style>\n",
              "<table border=\"1\" class=\"dataframe\">\n",
              "  <thead>\n",
              "    <tr style=\"text-align: right;\">\n",
              "      <th></th>\n",
              "      <th>tokens</th>\n",
              "      <th>count_of_occurances</th>\n",
              "    </tr>\n",
              "  </thead>\n",
              "  <tbody>\n",
              "    <tr>\n",
              "      <th>0</th>\n",
              "      <td>i</td>\n",
              "      <td>109.0</td>\n",
              "    </tr>\n",
              "    <tr>\n",
              "      <th>1</th>\n",
              "      <td>role</td>\n",
              "      <td>8.0</td>\n",
              "    </tr>\n",
              "    <tr>\n",
              "      <th>2</th>\n",
              "      <td>years</td>\n",
              "      <td>13.0</td>\n",
              "    </tr>\n",
              "    <tr>\n",
              "      <th>3</th>\n",
              "      <td>heath</td>\n",
              "      <td>7.0</td>\n",
              "    </tr>\n",
              "    <tr>\n",
              "      <th>4</th>\n",
              "      <td>phoenix</td>\n",
              "      <td>42.0</td>\n",
              "    </tr>\n",
              "  </tbody>\n",
              "</table>\n",
              "</div>"
            ],
            "text/plain": [
              "    tokens  count_of_occurances\n",
              "0        i                109.0\n",
              "1     role                  8.0\n",
              "2    years                 13.0\n",
              "3    heath                  7.0\n",
              "4  phoenix                 42.0"
            ]
          },
          "metadata": {
            "tags": []
          },
          "execution_count": 9
        }
      ]
    },
    {
      "cell_type": "code",
      "metadata": {
        "id": "KhcNenMULzpW",
        "outputId": "e9be005a-bb4a-44d4-cccb-089842e359f7",
        "colab": {
          "base_uri": "https://localhost:8080/"
        }
      },
      "source": [
        "!pip install TextBlob"
      ],
      "execution_count": null,
      "outputs": [
        {
          "output_type": "stream",
          "text": [
            "Requirement already satisfied: TextBlob in /usr/local/lib/python3.6/dist-packages (0.15.3)\n",
            "Requirement already satisfied: nltk>=3.1 in /usr/local/lib/python3.6/dist-packages (from TextBlob) (3.2.5)\n",
            "Requirement already satisfied: six in /usr/local/lib/python3.6/dist-packages (from nltk>=3.1->TextBlob) (1.15.0)\n"
          ],
          "name": "stdout"
        }
      ]
    },
    {
      "cell_type": "code",
      "metadata": {
        "id": "nwI-WCoYHsFg",
        "outputId": "28d4f6be-c089-4698-f7f8-7f5d597efba2",
        "colab": {
          "base_uri": "https://localhost:8080/",
          "height": 343
        }
      },
      "source": [
        "from textblob  import TextBlob\n",
        "#find the polarity \n",
        "final_df1[\"polarity\"] = final_df1['tokens'].apply(lambda x: TextBlob(x).sentiment.polarity)\n",
        "\n",
        "#filter the influencing variables \n",
        "op1 = final_df1[\"polarity\"] != 0\n",
        "op1_filter = final_df1[op1]\n",
        "op1_filter.head(10)"
      ],
      "execution_count": null,
      "outputs": [
        {
          "output_type": "execute_result",
          "data": {
            "text/html": [
              "<div>\n",
              "<style scoped>\n",
              "    .dataframe tbody tr th:only-of-type {\n",
              "        vertical-align: middle;\n",
              "    }\n",
              "\n",
              "    .dataframe tbody tr th {\n",
              "        vertical-align: top;\n",
              "    }\n",
              "\n",
              "    .dataframe thead th {\n",
              "        text-align: right;\n",
              "    }\n",
              "</style>\n",
              "<table border=\"1\" class=\"dataframe\">\n",
              "  <thead>\n",
              "    <tr style=\"text-align: right;\">\n",
              "      <th></th>\n",
              "      <th>tokens</th>\n",
              "      <th>count_of_occurances</th>\n",
              "      <th>polarity</th>\n",
              "    </tr>\n",
              "  </thead>\n",
              "  <tbody>\n",
              "    <tr>\n",
              "      <th>6</th>\n",
              "      <td>amazing</td>\n",
              "      <td>23.0</td>\n",
              "      <td>0.600000</td>\n",
              "    </tr>\n",
              "    <tr>\n",
              "      <th>7</th>\n",
              "      <td>new</td>\n",
              "      <td>5.0</td>\n",
              "      <td>0.136364</td>\n",
              "    </tr>\n",
              "    <tr>\n",
              "      <th>8</th>\n",
              "      <td>great</td>\n",
              "      <td>27.0</td>\n",
              "      <td>0.800000</td>\n",
              "    </tr>\n",
              "    <tr>\n",
              "      <th>14</th>\n",
              "      <td>magnificent</td>\n",
              "      <td>2.0</td>\n",
              "      <td>1.000000</td>\n",
              "    </tr>\n",
              "    <tr>\n",
              "      <th>17</th>\n",
              "      <td>absolutely</td>\n",
              "      <td>8.0</td>\n",
              "      <td>0.200000</td>\n",
              "    </tr>\n",
              "    <tr>\n",
              "      <th>31</th>\n",
              "      <td>really</td>\n",
              "      <td>20.0</td>\n",
              "      <td>0.200000</td>\n",
              "    </tr>\n",
              "    <tr>\n",
              "      <th>35</th>\n",
              "      <td>beautiful</td>\n",
              "      <td>4.0</td>\n",
              "      <td>0.850000</td>\n",
              "    </tr>\n",
              "    <tr>\n",
              "      <th>40</th>\n",
              "      <td>outstanding</td>\n",
              "      <td>5.0</td>\n",
              "      <td>0.500000</td>\n",
              "    </tr>\n",
              "    <tr>\n",
              "      <th>41</th>\n",
              "      <td>excellent</td>\n",
              "      <td>4.0</td>\n",
              "      <td>1.000000</td>\n",
              "    </tr>\n",
              "    <tr>\n",
              "      <th>48</th>\n",
              "      <td>tragic</td>\n",
              "      <td>2.0</td>\n",
              "      <td>-0.750000</td>\n",
              "    </tr>\n",
              "  </tbody>\n",
              "</table>\n",
              "</div>"
            ],
            "text/plain": [
              "         tokens  count_of_occurances  polarity\n",
              "6       amazing                 23.0  0.600000\n",
              "7           new                  5.0  0.136364\n",
              "8         great                 27.0  0.800000\n",
              "14  magnificent                  2.0  1.000000\n",
              "17   absolutely                  8.0  0.200000\n",
              "31       really                 20.0  0.200000\n",
              "35    beautiful                  4.0  0.850000\n",
              "40  outstanding                  5.0  0.500000\n",
              "41    excellent                  4.0  1.000000\n",
              "48       tragic                  2.0 -0.750000"
            ]
          },
          "metadata": {
            "tags": []
          },
          "execution_count": 13
        }
      ]
    },
    {
      "cell_type": "code",
      "metadata": {
        "id": "YayOQPW1M6T0"
      },
      "source": [
        "#rank the words based on the occurance \n",
        "result1 = op1_filter.sort_values(by = [\"count_of_occurances\"],ascending = False).reset_index()\n"
      ],
      "execution_count": null,
      "outputs": []
    },
    {
      "cell_type": "code",
      "metadata": {
        "id": "-NRCCy95Ovp1",
        "outputId": "87bbd850-9aff-4a43-8f2d-2b8bd678b281",
        "colab": {
          "base_uri": "https://localhost:8080/",
          "height": 343
        }
      },
      "source": [
        "result1[\"rank\"] = pd.DataFrame(range(1,242))\n",
        "result1.head(10)"
      ],
      "execution_count": null,
      "outputs": [
        {
          "output_type": "execute_result",
          "data": {
            "text/html": [
              "<div>\n",
              "<style scoped>\n",
              "    .dataframe tbody tr th:only-of-type {\n",
              "        vertical-align: middle;\n",
              "    }\n",
              "\n",
              "    .dataframe tbody tr th {\n",
              "        vertical-align: top;\n",
              "    }\n",
              "\n",
              "    .dataframe thead th {\n",
              "        text-align: right;\n",
              "    }\n",
              "</style>\n",
              "<table border=\"1\" class=\"dataframe\">\n",
              "  <thead>\n",
              "    <tr style=\"text-align: right;\">\n",
              "      <th></th>\n",
              "      <th>index</th>\n",
              "      <th>tokens</th>\n",
              "      <th>count_of_occurances</th>\n",
              "      <th>polarity</th>\n",
              "      <th>rank</th>\n",
              "    </tr>\n",
              "  </thead>\n",
              "  <tbody>\n",
              "    <tr>\n",
              "      <th>0</th>\n",
              "      <td>124</td>\n",
              "      <td>best</td>\n",
              "      <td>40.0</td>\n",
              "      <td>1.00</td>\n",
              "      <td>1.0</td>\n",
              "    </tr>\n",
              "    <tr>\n",
              "      <th>1</th>\n",
              "      <td>8</td>\n",
              "      <td>great</td>\n",
              "      <td>27.0</td>\n",
              "      <td>0.80</td>\n",
              "      <td>2.0</td>\n",
              "    </tr>\n",
              "    <tr>\n",
              "      <th>2</th>\n",
              "      <td>6</td>\n",
              "      <td>amazing</td>\n",
              "      <td>23.0</td>\n",
              "      <td>0.60</td>\n",
              "      <td>3.0</td>\n",
              "    </tr>\n",
              "    <tr>\n",
              "      <th>3</th>\n",
              "      <td>31</td>\n",
              "      <td>really</td>\n",
              "      <td>20.0</td>\n",
              "      <td>0.20</td>\n",
              "      <td>4.0</td>\n",
              "    </tr>\n",
              "    <tr>\n",
              "      <th>4</th>\n",
              "      <td>381</td>\n",
              "      <td>dark</td>\n",
              "      <td>18.0</td>\n",
              "      <td>-0.15</td>\n",
              "      <td>5.0</td>\n",
              "    </tr>\n",
              "    <tr>\n",
              "      <th>5</th>\n",
              "      <td>107</td>\n",
              "      <td>mental</td>\n",
              "      <td>15.0</td>\n",
              "      <td>-0.10</td>\n",
              "      <td>6.0</td>\n",
              "    </tr>\n",
              "    <tr>\n",
              "      <th>6</th>\n",
              "      <td>80</td>\n",
              "      <td>much</td>\n",
              "      <td>13.0</td>\n",
              "      <td>0.20</td>\n",
              "      <td>7.0</td>\n",
              "    </tr>\n",
              "    <tr>\n",
              "      <th>7</th>\n",
              "      <td>338</td>\n",
              "      <td>good</td>\n",
              "      <td>11.0</td>\n",
              "      <td>0.70</td>\n",
              "      <td>8.0</td>\n",
              "    </tr>\n",
              "    <tr>\n",
              "      <th>8</th>\n",
              "      <td>185</td>\n",
              "      <td>love</td>\n",
              "      <td>11.0</td>\n",
              "      <td>0.50</td>\n",
              "      <td>9.0</td>\n",
              "    </tr>\n",
              "    <tr>\n",
              "      <th>9</th>\n",
              "      <td>442</td>\n",
              "      <td>comic</td>\n",
              "      <td>10.0</td>\n",
              "      <td>0.25</td>\n",
              "      <td>10.0</td>\n",
              "    </tr>\n",
              "  </tbody>\n",
              "</table>\n",
              "</div>"
            ],
            "text/plain": [
              "   index   tokens  count_of_occurances  polarity  rank\n",
              "0    124     best                 40.0      1.00   1.0\n",
              "1      8    great                 27.0      0.80   2.0\n",
              "2      6  amazing                 23.0      0.60   3.0\n",
              "3     31   really                 20.0      0.20   4.0\n",
              "4    381     dark                 18.0     -0.15   5.0\n",
              "5    107   mental                 15.0     -0.10   6.0\n",
              "6     80     much                 13.0      0.20   7.0\n",
              "7    338     good                 11.0      0.70   8.0\n",
              "8    185     love                 11.0      0.50   9.0\n",
              "9    442    comic                 10.0      0.25  10.0"
            ]
          },
          "metadata": {
            "tags": []
          },
          "execution_count": 16
        }
      ]
    },
    {
      "cell_type": "markdown",
      "metadata": {
        "id": "IXS14I_L_blP"
      },
      "source": [
        "## (2) (10 points) Compare the performance of the following tools in sentiment identification: TextBlob (https://textblob.readthedocs.io/en/dev/), VADER (https://github.com/cjhutto/vaderSentiment), TFIDF-based Support Vector Machine (SVM) (Split your data into training and testing data). Take your own annotation as the standard answers. \n",
        "\n",
        "Reference code: https://towardsdatascience.com/fine-grained-sentiment-analysis-in-python-part-1-2697bb111ed4"
      ]
    },
    {
      "cell_type": "markdown",
      "metadata": {
        "id": "EatVUOO_bhVI"
      },
      "source": [
        "TEXTBLOB"
      ]
    },
    {
      "cell_type": "code",
      "metadata": {
        "id": "k1z-nPPh_blR",
        "outputId": "3ec89df7-299b-493f-e4da-68f85684a50a",
        "colab": {
          "base_uri": "https://localhost:8080/",
          "height": 195
        }
      },
      "source": [
        "# Write your code here\n",
        "required_df2 = sentiment_data.drop([\"doc_id\"],axis=1).reset_index()\n",
        "required_df2[\"polarity\"] = sentiment_data[\"cleaned_data\"].apply(lambda x: TextBlob(str(x)).sentiment.polarity)\n",
        "required_df2.head(5)"
      ],
      "execution_count": null,
      "outputs": [
        {
          "output_type": "execute_result",
          "data": {
            "text/html": [
              "<div>\n",
              "<style scoped>\n",
              "    .dataframe tbody tr th:only-of-type {\n",
              "        vertical-align: middle;\n",
              "    }\n",
              "\n",
              "    .dataframe tbody tr th {\n",
              "        vertical-align: top;\n",
              "    }\n",
              "\n",
              "    .dataframe thead th {\n",
              "        text-align: right;\n",
              "    }\n",
              "</style>\n",
              "<table border=\"1\" class=\"dataframe\">\n",
              "  <thead>\n",
              "    <tr style=\"text-align: right;\">\n",
              "      <th></th>\n",
              "      <th>index</th>\n",
              "      <th>User Names</th>\n",
              "      <th>Reviews</th>\n",
              "      <th>cleaned_data</th>\n",
              "      <th>sentiments</th>\n",
              "      <th>polarity</th>\n",
              "    </tr>\n",
              "  </thead>\n",
              "  <tbody>\n",
              "    <tr>\n",
              "      <th>0</th>\n",
              "      <td>0</td>\n",
              "      <td>morino-59166</td>\n",
              "      <td>When I saw the magnificent Heath ledger a few ...</td>\n",
              "      <td>when i saw magnificent heath ledger years go e...</td>\n",
              "      <td>positive</td>\n",
              "      <td>0.463287</td>\n",
              "    </tr>\n",
              "    <tr>\n",
              "      <th>1</th>\n",
              "      <td>1</td>\n",
              "      <td>asassandroo</td>\n",
              "      <td>I can say that i'm really grateful that movies...</td>\n",
              "      <td>i say im really grateful movies like one haven...</td>\n",
              "      <td>positive</td>\n",
              "      <td>0.155357</td>\n",
              "    </tr>\n",
              "    <tr>\n",
              "      <th>2</th>\n",
              "      <td>2</td>\n",
              "      <td>samanehdds</td>\n",
              "      <td>I'm not a fan of Batman movies but went to see...</td>\n",
              "      <td>im fan batman movies went see teenage son its ...</td>\n",
              "      <td>positive</td>\n",
              "      <td>0.322222</td>\n",
              "    </tr>\n",
              "    <tr>\n",
              "      <th>3</th>\n",
              "      <td>3</td>\n",
              "      <td>guillevica</td>\n",
              "      <td>What a master piece, it so so wondeful, all in...</td>\n",
              "      <td>what master piece wondeful movie great constru...</td>\n",
              "      <td>positive</td>\n",
              "      <td>0.750000</td>\n",
              "    </tr>\n",
              "    <tr>\n",
              "      <th>4</th>\n",
              "      <td>4</td>\n",
              "      <td>ahurworth</td>\n",
              "      <td>Has to be the best movie I've seen in years. I...</td>\n",
              "      <td>has best movie ive seen years it feel taxi dri...</td>\n",
              "      <td>positive</td>\n",
              "      <td>0.314286</td>\n",
              "    </tr>\n",
              "  </tbody>\n",
              "</table>\n",
              "</div>"
            ],
            "text/plain": [
              "   index    User Names  ... sentiments  polarity\n",
              "0      0  morino-59166  ...   positive  0.463287\n",
              "1      1   asassandroo  ...   positive  0.155357\n",
              "2      2    samanehdds  ...   positive  0.322222\n",
              "3      3    guillevica  ...   positive  0.750000\n",
              "4      4     ahurworth  ...   positive  0.314286\n",
              "\n",
              "[5 rows x 6 columns]"
            ]
          },
          "metadata": {
            "tags": []
          },
          "execution_count": 17
        }
      ]
    },
    {
      "cell_type": "code",
      "metadata": {
        "id": "Z_x1ZgqETHPW"
      },
      "source": [
        "required_df2['sentiment_res'] = pd.cut(required_df2['polarity'], bins=3, labels=[\"negative\", \"neutral\", \"positive\"])\n",
        "required_df2[\"sentiments\"]=required_df2[\"sentiments\"].fillna(\"negative\")"
      ],
      "execution_count": null,
      "outputs": []
    },
    {
      "cell_type": "code",
      "metadata": {
        "id": "KgDG7TlYV8DP",
        "outputId": "cb3b092e-3553-4e79-ba46-fce8c0748d48",
        "colab": {
          "base_uri": "https://localhost:8080/",
          "height": 195
        }
      },
      "source": [
        "required_df2.head(5)"
      ],
      "execution_count": null,
      "outputs": [
        {
          "output_type": "execute_result",
          "data": {
            "text/html": [
              "<div>\n",
              "<style scoped>\n",
              "    .dataframe tbody tr th:only-of-type {\n",
              "        vertical-align: middle;\n",
              "    }\n",
              "\n",
              "    .dataframe tbody tr th {\n",
              "        vertical-align: top;\n",
              "    }\n",
              "\n",
              "    .dataframe thead th {\n",
              "        text-align: right;\n",
              "    }\n",
              "</style>\n",
              "<table border=\"1\" class=\"dataframe\">\n",
              "  <thead>\n",
              "    <tr style=\"text-align: right;\">\n",
              "      <th></th>\n",
              "      <th>index</th>\n",
              "      <th>User Names</th>\n",
              "      <th>Reviews</th>\n",
              "      <th>cleaned_data</th>\n",
              "      <th>sentiments</th>\n",
              "      <th>polarity</th>\n",
              "      <th>sentiment_res</th>\n",
              "    </tr>\n",
              "  </thead>\n",
              "  <tbody>\n",
              "    <tr>\n",
              "      <th>0</th>\n",
              "      <td>0</td>\n",
              "      <td>morino-59166</td>\n",
              "      <td>When I saw the magnificent Heath ledger a few ...</td>\n",
              "      <td>when i saw magnificent heath ledger years go e...</td>\n",
              "      <td>positive</td>\n",
              "      <td>0.463287</td>\n",
              "      <td>neutral</td>\n",
              "    </tr>\n",
              "    <tr>\n",
              "      <th>1</th>\n",
              "      <td>1</td>\n",
              "      <td>asassandroo</td>\n",
              "      <td>I can say that i'm really grateful that movies...</td>\n",
              "      <td>i say im really grateful movies like one haven...</td>\n",
              "      <td>positive</td>\n",
              "      <td>0.155357</td>\n",
              "      <td>negative</td>\n",
              "    </tr>\n",
              "    <tr>\n",
              "      <th>2</th>\n",
              "      <td>2</td>\n",
              "      <td>samanehdds</td>\n",
              "      <td>I'm not a fan of Batman movies but went to see...</td>\n",
              "      <td>im fan batman movies went see teenage son its ...</td>\n",
              "      <td>positive</td>\n",
              "      <td>0.322222</td>\n",
              "      <td>neutral</td>\n",
              "    </tr>\n",
              "    <tr>\n",
              "      <th>3</th>\n",
              "      <td>3</td>\n",
              "      <td>guillevica</td>\n",
              "      <td>What a master piece, it so so wondeful, all in...</td>\n",
              "      <td>what master piece wondeful movie great constru...</td>\n",
              "      <td>positive</td>\n",
              "      <td>0.750000</td>\n",
              "      <td>positive</td>\n",
              "    </tr>\n",
              "    <tr>\n",
              "      <th>4</th>\n",
              "      <td>4</td>\n",
              "      <td>ahurworth</td>\n",
              "      <td>Has to be the best movie I've seen in years. I...</td>\n",
              "      <td>has best movie ive seen years it feel taxi dri...</td>\n",
              "      <td>positive</td>\n",
              "      <td>0.314286</td>\n",
              "      <td>neutral</td>\n",
              "    </tr>\n",
              "  </tbody>\n",
              "</table>\n",
              "</div>"
            ],
            "text/plain": [
              "   index    User Names  ...  polarity sentiment_res\n",
              "0      0  morino-59166  ...  0.463287       neutral\n",
              "1      1   asassandroo  ...  0.155357      negative\n",
              "2      2    samanehdds  ...  0.322222       neutral\n",
              "3      3    guillevica  ...  0.750000      positive\n",
              "4      4     ahurworth  ...  0.314286       neutral\n",
              "\n",
              "[5 rows x 7 columns]"
            ]
          },
          "metadata": {
            "tags": []
          },
          "execution_count": 19
        }
      ]
    },
    {
      "cell_type": "markdown",
      "metadata": {
        "id": "n12xV8USbksW"
      },
      "source": [
        "VADER"
      ]
    },
    {
      "cell_type": "code",
      "metadata": {
        "id": "kw1MdEG8WfBK",
        "outputId": "e992793e-ea4f-486c-968b-6a8c16684fdd",
        "colab": {
          "base_uri": "https://localhost:8080/",
          "height": 195
        }
      },
      "source": [
        "required_df3 = sentiment_data.drop([\"doc_id\"],axis=1).reset_index()\n",
        "required_df3[\"sentiments\"] = required_df3[\"sentiments\"].fillna(\"negative\")\n",
        "required_df3.head(5)"
      ],
      "execution_count": null,
      "outputs": [
        {
          "output_type": "execute_result",
          "data": {
            "text/html": [
              "<div>\n",
              "<style scoped>\n",
              "    .dataframe tbody tr th:only-of-type {\n",
              "        vertical-align: middle;\n",
              "    }\n",
              "\n",
              "    .dataframe tbody tr th {\n",
              "        vertical-align: top;\n",
              "    }\n",
              "\n",
              "    .dataframe thead th {\n",
              "        text-align: right;\n",
              "    }\n",
              "</style>\n",
              "<table border=\"1\" class=\"dataframe\">\n",
              "  <thead>\n",
              "    <tr style=\"text-align: right;\">\n",
              "      <th></th>\n",
              "      <th>index</th>\n",
              "      <th>User Names</th>\n",
              "      <th>Reviews</th>\n",
              "      <th>cleaned_data</th>\n",
              "      <th>sentiments</th>\n",
              "    </tr>\n",
              "  </thead>\n",
              "  <tbody>\n",
              "    <tr>\n",
              "      <th>0</th>\n",
              "      <td>0</td>\n",
              "      <td>morino-59166</td>\n",
              "      <td>When I saw the magnificent Heath ledger a few ...</td>\n",
              "      <td>when i saw magnificent heath ledger years go e...</td>\n",
              "      <td>positive</td>\n",
              "    </tr>\n",
              "    <tr>\n",
              "      <th>1</th>\n",
              "      <td>1</td>\n",
              "      <td>asassandroo</td>\n",
              "      <td>I can say that i'm really grateful that movies...</td>\n",
              "      <td>i say im really grateful movies like one haven...</td>\n",
              "      <td>positive</td>\n",
              "    </tr>\n",
              "    <tr>\n",
              "      <th>2</th>\n",
              "      <td>2</td>\n",
              "      <td>samanehdds</td>\n",
              "      <td>I'm not a fan of Batman movies but went to see...</td>\n",
              "      <td>im fan batman movies went see teenage son its ...</td>\n",
              "      <td>positive</td>\n",
              "    </tr>\n",
              "    <tr>\n",
              "      <th>3</th>\n",
              "      <td>3</td>\n",
              "      <td>guillevica</td>\n",
              "      <td>What a master piece, it so so wondeful, all in...</td>\n",
              "      <td>what master piece wondeful movie great constru...</td>\n",
              "      <td>positive</td>\n",
              "    </tr>\n",
              "    <tr>\n",
              "      <th>4</th>\n",
              "      <td>4</td>\n",
              "      <td>ahurworth</td>\n",
              "      <td>Has to be the best movie I've seen in years. I...</td>\n",
              "      <td>has best movie ive seen years it feel taxi dri...</td>\n",
              "      <td>positive</td>\n",
              "    </tr>\n",
              "  </tbody>\n",
              "</table>\n",
              "</div>"
            ],
            "text/plain": [
              "   index  ... sentiments\n",
              "0      0  ...   positive\n",
              "1      1  ...   positive\n",
              "2      2  ...   positive\n",
              "3      3  ...   positive\n",
              "4      4  ...   positive\n",
              "\n",
              "[5 rows x 5 columns]"
            ]
          },
          "metadata": {
            "tags": []
          },
          "execution_count": 20
        }
      ]
    },
    {
      "cell_type": "code",
      "metadata": {
        "id": "xi7YuiEIeQYv",
        "outputId": "983371d5-efb7-4d0b-97a0-4533db82aae9",
        "colab": {
          "base_uri": "https://localhost:8080/"
        }
      },
      "source": [
        "nltk.download('vader_lexicon')"
      ],
      "execution_count": null,
      "outputs": [
        {
          "output_type": "stream",
          "text": [
            "[nltk_data] Downloading package vader_lexicon to /root/nltk_data...\n"
          ],
          "name": "stdout"
        },
        {
          "output_type": "execute_result",
          "data": {
            "text/plain": [
              "True"
            ]
          },
          "metadata": {
            "tags": []
          },
          "execution_count": 21
        }
      ]
    },
    {
      "cell_type": "code",
      "metadata": {
        "id": "8rVT7zvzbwBb",
        "outputId": "7e744070-fb56-4c63-b088-86e2bfde96b3",
        "colab": {
          "base_uri": "https://localhost:8080/"
        }
      },
      "source": [
        "from nltk.sentiment.vader import SentimentIntensityAnalyzer as sa\n",
        "sentiment_intensity_analyzer = sa()\n",
        "required_df3[\"polarity_dict\"] = required_df3[\"cleaned_data\"].apply(lambda x: sentiment_intensity_analyzer.polarity_scores(str(x)))"
      ],
      "execution_count": null,
      "outputs": [
        {
          "output_type": "stream",
          "text": [
            "/usr/local/lib/python3.6/dist-packages/nltk/twitter/__init__.py:20: UserWarning: The twython library has not been installed. Some functionality from the twitter package will not be available.\n",
            "  warnings.warn(\"The twython library has not been installed. \"\n"
          ],
          "name": "stderr"
        }
      ]
    },
    {
      "cell_type": "code",
      "metadata": {
        "id": "B_ghqnCEgVXM",
        "outputId": "079cdb29-3285-485a-de68-2c78c9f07c9c",
        "colab": {
          "base_uri": "https://localhost:8080/"
        }
      },
      "source": [
        "required_df3[\"polarity_dict\"].head(10)"
      ],
      "execution_count": null,
      "outputs": [
        {
          "output_type": "execute_result",
          "data": {
            "text/plain": [
              "0    {'neg': 0.138, 'neu': 0.464, 'pos': 0.398, 'co...\n",
              "1    {'neg': 0.087, 'neu': 0.528, 'pos': 0.385, 'co...\n",
              "2    {'neg': 0.282, 'neu': 0.486, 'pos': 0.232, 'co...\n",
              "3    {'neg': 0.0, 'neu': 0.498, 'pos': 0.502, 'comp...\n",
              "4    {'neg': 0.109, 'neu': 0.582, 'pos': 0.31, 'com...\n",
              "5    {'neg': 0.082, 'neu': 0.425, 'pos': 0.493, 'co...\n",
              "6    {'neg': 0.0, 'neu': 1.0, 'pos': 0.0, 'compound...\n",
              "7    {'neg': 0.314, 'neu': 0.495, 'pos': 0.191, 'co...\n",
              "8    {'neg': 0.133, 'neu': 0.471, 'pos': 0.396, 'co...\n",
              "9    {'neg': 0.178, 'neu': 0.595, 'pos': 0.227, 'co...\n",
              "Name: polarity_dict, dtype: object"
            ]
          },
          "metadata": {
            "tags": []
          },
          "execution_count": 23
        }
      ]
    },
    {
      "cell_type": "code",
      "metadata": {
        "id": "v64Pw2InfZNC"
      },
      "source": [
        "required_df3[\"polarity\"] = required_df3[\"cleaned_data\"].apply(lambda x: sentiment_intensity_analyzer.polarity_scores(str(x))[\"compound\"])"
      ],
      "execution_count": null,
      "outputs": []
    },
    {
      "cell_type": "code",
      "metadata": {
        "id": "YAy6eRswdIwk"
      },
      "source": [
        "required_df3['sentiment_res'] = pd.cut(required_df3['polarity'], bins=3, labels=[\"negative\", \"neutral\", \"positive\"])"
      ],
      "execution_count": null,
      "outputs": []
    },
    {
      "cell_type": "code",
      "metadata": {
        "id": "YrpTQxXBfOrC",
        "outputId": "bb6ec04e-a7da-457b-fbdc-e0c24616bd89",
        "colab": {
          "base_uri": "https://localhost:8080/",
          "height": 279
        }
      },
      "source": [
        "required_df3.head(5)"
      ],
      "execution_count": null,
      "outputs": [
        {
          "output_type": "execute_result",
          "data": {
            "text/html": [
              "<div>\n",
              "<style scoped>\n",
              "    .dataframe tbody tr th:only-of-type {\n",
              "        vertical-align: middle;\n",
              "    }\n",
              "\n",
              "    .dataframe tbody tr th {\n",
              "        vertical-align: top;\n",
              "    }\n",
              "\n",
              "    .dataframe thead th {\n",
              "        text-align: right;\n",
              "    }\n",
              "</style>\n",
              "<table border=\"1\" class=\"dataframe\">\n",
              "  <thead>\n",
              "    <tr style=\"text-align: right;\">\n",
              "      <th></th>\n",
              "      <th>index</th>\n",
              "      <th>User Names</th>\n",
              "      <th>Reviews</th>\n",
              "      <th>cleaned_data</th>\n",
              "      <th>sentiments</th>\n",
              "      <th>polarity_dict</th>\n",
              "      <th>polarity</th>\n",
              "      <th>sentiment_res</th>\n",
              "    </tr>\n",
              "  </thead>\n",
              "  <tbody>\n",
              "    <tr>\n",
              "      <th>0</th>\n",
              "      <td>0</td>\n",
              "      <td>morino-59166</td>\n",
              "      <td>When I saw the magnificent Heath ledger a few ...</td>\n",
              "      <td>when i saw magnificent heath ledger years go e...</td>\n",
              "      <td>positive</td>\n",
              "      <td>{'neg': 0.138, 'neu': 0.464, 'pos': 0.398, 'co...</td>\n",
              "      <td>0.9802</td>\n",
              "      <td>positive</td>\n",
              "    </tr>\n",
              "    <tr>\n",
              "      <th>1</th>\n",
              "      <td>1</td>\n",
              "      <td>asassandroo</td>\n",
              "      <td>I can say that i'm really grateful that movies...</td>\n",
              "      <td>i say im really grateful movies like one haven...</td>\n",
              "      <td>positive</td>\n",
              "      <td>{'neg': 0.087, 'neu': 0.528, 'pos': 0.385, 'co...</td>\n",
              "      <td>0.9791</td>\n",
              "      <td>positive</td>\n",
              "    </tr>\n",
              "    <tr>\n",
              "      <th>2</th>\n",
              "      <td>2</td>\n",
              "      <td>samanehdds</td>\n",
              "      <td>I'm not a fan of Batman movies but went to see...</td>\n",
              "      <td>im fan batman movies went see teenage son its ...</td>\n",
              "      <td>positive</td>\n",
              "      <td>{'neg': 0.282, 'neu': 0.486, 'pos': 0.232, 'co...</td>\n",
              "      <td>-0.6002</td>\n",
              "      <td>negative</td>\n",
              "    </tr>\n",
              "    <tr>\n",
              "      <th>3</th>\n",
              "      <td>3</td>\n",
              "      <td>guillevica</td>\n",
              "      <td>What a master piece, it so so wondeful, all in...</td>\n",
              "      <td>what master piece wondeful movie great constru...</td>\n",
              "      <td>positive</td>\n",
              "      <td>{'neg': 0.0, 'neu': 0.498, 'pos': 0.502, 'comp...</td>\n",
              "      <td>0.9442</td>\n",
              "      <td>positive</td>\n",
              "    </tr>\n",
              "    <tr>\n",
              "      <th>4</th>\n",
              "      <td>4</td>\n",
              "      <td>ahurworth</td>\n",
              "      <td>Has to be the best movie I've seen in years. I...</td>\n",
              "      <td>has best movie ive seen years it feel taxi dri...</td>\n",
              "      <td>positive</td>\n",
              "      <td>{'neg': 0.109, 'neu': 0.582, 'pos': 0.31, 'com...</td>\n",
              "      <td>0.8658</td>\n",
              "      <td>positive</td>\n",
              "    </tr>\n",
              "  </tbody>\n",
              "</table>\n",
              "</div>"
            ],
            "text/plain": [
              "   index    User Names  ... polarity sentiment_res\n",
              "0      0  morino-59166  ...   0.9802      positive\n",
              "1      1   asassandroo  ...   0.9791      positive\n",
              "2      2    samanehdds  ...  -0.6002      negative\n",
              "3      3    guillevica  ...   0.9442      positive\n",
              "4      4     ahurworth  ...   0.8658      positive\n",
              "\n",
              "[5 rows x 8 columns]"
            ]
          },
          "metadata": {
            "tags": []
          },
          "execution_count": 26
        }
      ]
    },
    {
      "cell_type": "markdown",
      "metadata": {
        "id": "qcuewtdys4Uf"
      },
      "source": [
        "svm\n"
      ]
    },
    {
      "cell_type": "code",
      "metadata": {
        "id": "v7sHUUy-g7Zn"
      },
      "source": [
        "from sklearn import feature_extraction, model_selection, svm, linear_model"
      ],
      "execution_count": 67,
      "outputs": []
    },
    {
      "cell_type": "code",
      "metadata": {
        "id": "pobbZ7Poi4-E"
      },
      "source": [
        "required_df4 = sentiment_data[[\"cleaned_data\",\"sentiments\"]].reset_index()\n",
        "required_df4[\"sentiments\"] = required_df4[\"sentiments\"].fillna(\"neagative\")\n",
        "required_df4[\"cleaned_data\"] = required_df4[\"cleaned_data\"].fillna(\"  \")"
      ],
      "execution_count": 75,
      "outputs": []
    },
    {
      "cell_type": "code",
      "metadata": {
        "id": "v3fzRq9jjLDP",
        "outputId": "b93afbc9-ece8-4c7b-b7df-e6c75af6ac23",
        "colab": {
          "base_uri": "https://localhost:8080/",
          "height": 106
        }
      },
      "source": [
        "required_df4.head(2)"
      ],
      "execution_count": 76,
      "outputs": [
        {
          "output_type": "execute_result",
          "data": {
            "text/html": [
              "<div>\n",
              "<style scoped>\n",
              "    .dataframe tbody tr th:only-of-type {\n",
              "        vertical-align: middle;\n",
              "    }\n",
              "\n",
              "    .dataframe tbody tr th {\n",
              "        vertical-align: top;\n",
              "    }\n",
              "\n",
              "    .dataframe thead th {\n",
              "        text-align: right;\n",
              "    }\n",
              "</style>\n",
              "<table border=\"1\" class=\"dataframe\">\n",
              "  <thead>\n",
              "    <tr style=\"text-align: right;\">\n",
              "      <th></th>\n",
              "      <th>index</th>\n",
              "      <th>cleaned_data</th>\n",
              "      <th>sentiments</th>\n",
              "    </tr>\n",
              "  </thead>\n",
              "  <tbody>\n",
              "    <tr>\n",
              "      <th>0</th>\n",
              "      <td>0</td>\n",
              "      <td>when i saw magnificent heath ledger years go e...</td>\n",
              "      <td>positive</td>\n",
              "    </tr>\n",
              "    <tr>\n",
              "      <th>1</th>\n",
              "      <td>1</td>\n",
              "      <td>i say im really grateful movies like one haven...</td>\n",
              "      <td>positive</td>\n",
              "    </tr>\n",
              "  </tbody>\n",
              "</table>\n",
              "</div>"
            ],
            "text/plain": [
              "   index                                       cleaned_data sentiments\n",
              "0      0  when i saw magnificent heath ledger years go e...   positive\n",
              "1      1  i say im really grateful movies like one haven...   positive"
            ]
          },
          "metadata": {
            "tags": []
          },
          "execution_count": 76
        }
      ]
    },
    {
      "cell_type": "code",
      "metadata": {
        "id": "J3FVbjDymc_g"
      },
      "source": [
        "train_data, test_data = model_selection.train_test_split(required_df4, test_size = 0.5)"
      ],
      "execution_count": 77,
      "outputs": []
    },
    {
      "cell_type": "code",
      "metadata": {
        "id": "7tdjAPpnuboB"
      },
      "source": [
        "import sklearn\n",
        "from sklearn.pipeline import Pipeline as pipe\n",
        "\n",
        "pipeline = pipe([('countvector', feature_extraction.text.CountVectorizer()),('tf-idf', feature_extraction.text.TfidfTransformer()),('classifier', linear_model.SGDClassifier())])"
      ],
      "execution_count": 78,
      "outputs": []
    },
    {
      "cell_type": "code",
      "metadata": {
        "id": "qR-KE8uTwTSM",
        "outputId": "7c046990-c370-418c-be42-21e93b05372e",
        "colab": {
          "base_uri": "https://localhost:8080/"
        }
      },
      "source": [
        "vector = pipeline.fit(train_data['cleaned_data'], train_data['sentiments'])\n",
        "test_data['predicted cleaned_data'] = vector.predict(test_data['cleaned_data'])"
      ],
      "execution_count": 96,
      "outputs": [
        {
          "output_type": "stream",
          "text": [
            "/usr/local/lib/python3.6/dist-packages/ipykernel_launcher.py:2: SettingWithCopyWarning: \n",
            "A value is trying to be set on a copy of a slice from a DataFrame.\n",
            "Try using .loc[row_indexer,col_indexer] = value instead\n",
            "\n",
            "See the caveats in the documentation: https://pandas.pydata.org/pandas-docs/stable/user_guide/indexing.html#returning-a-view-versus-a-copy\n",
            "  \n"
          ],
          "name": "stderr"
        }
      ]
    },
    {
      "cell_type": "code",
      "metadata": {
        "id": "BxrO3I_T36AK",
        "outputId": "9df2e44d-6e48-4b16-b902-6ff57aadd2b2",
        "colab": {
          "base_uri": "https://localhost:8080/",
          "height": 195
        }
      },
      "source": [
        "test_data.head(5)"
      ],
      "execution_count": 97,
      "outputs": [
        {
          "output_type": "execute_result",
          "data": {
            "text/html": [
              "<div>\n",
              "<style scoped>\n",
              "    .dataframe tbody tr th:only-of-type {\n",
              "        vertical-align: middle;\n",
              "    }\n",
              "\n",
              "    .dataframe tbody tr th {\n",
              "        vertical-align: top;\n",
              "    }\n",
              "\n",
              "    .dataframe thead th {\n",
              "        text-align: right;\n",
              "    }\n",
              "</style>\n",
              "<table border=\"1\" class=\"dataframe\">\n",
              "  <thead>\n",
              "    <tr style=\"text-align: right;\">\n",
              "      <th></th>\n",
              "      <th>index</th>\n",
              "      <th>cleaned_data</th>\n",
              "      <th>sentiments</th>\n",
              "      <th>predicted cleaned_data</th>\n",
              "    </tr>\n",
              "  </thead>\n",
              "  <tbody>\n",
              "    <tr>\n",
              "      <th>3</th>\n",
              "      <td>3</td>\n",
              "      <td>what master piece wondeful movie great constru...</td>\n",
              "      <td>positive</td>\n",
              "      <td>positive</td>\n",
              "    </tr>\n",
              "    <tr>\n",
              "      <th>18</th>\n",
              "      <td>18</td>\n",
              "      <td>this rendition joker absolutely nuts that simp...</td>\n",
              "      <td>positve</td>\n",
              "      <td>positive</td>\n",
              "    </tr>\n",
              "    <tr>\n",
              "      <th>51</th>\n",
              "      <td>51</td>\n",
              "      <td>i dont understand hate i excited movie i read ...</td>\n",
              "      <td>negative</td>\n",
              "      <td>positive</td>\n",
              "    </tr>\n",
              "    <tr>\n",
              "      <th>88</th>\n",
              "      <td>88</td>\n",
              "      <td>i dont like violent films i dont like comic bo...</td>\n",
              "      <td>neutral</td>\n",
              "      <td>positive</td>\n",
              "    </tr>\n",
              "    <tr>\n",
              "      <th>33</th>\n",
              "      <td>33</td>\n",
              "      <td>awesome movie one best movies ive ever seen pa...</td>\n",
              "      <td>positive</td>\n",
              "      <td>positive</td>\n",
              "    </tr>\n",
              "  </tbody>\n",
              "</table>\n",
              "</div>"
            ],
            "text/plain": [
              "    index  ... predicted cleaned_data\n",
              "3       3  ...               positive\n",
              "18     18  ...               positive\n",
              "51     51  ...               positive\n",
              "88     88  ...               positive\n",
              "33     33  ...               positive\n",
              "\n",
              "[5 rows x 4 columns]"
            ]
          },
          "metadata": {
            "tags": []
          },
          "execution_count": 97
        }
      ]
    },
    {
      "cell_type": "markdown",
      "metadata": {
        "id": "jfLWIO3U48QV"
      },
      "source": [
        "Accuracy comparisions"
      ]
    },
    {
      "cell_type": "code",
      "metadata": {
        "id": "pEm70_Xp5cns"
      },
      "source": [
        "from sklearn.metrics import accuracy_score"
      ],
      "execution_count": 98,
      "outputs": []
    },
    {
      "cell_type": "code",
      "metadata": {
        "id": "VZerOIWW7jCz",
        "outputId": "8afe8861-e90a-49f5-cac1-b9f70247356b",
        "colab": {
          "base_uri": "https://localhost:8080/"
        }
      },
      "source": [
        "accuracy_score(required_df2[\"sentiments\"],required_df2[\"sentiment_res\"])"
      ],
      "execution_count": 101,
      "outputs": [
        {
          "output_type": "execute_result",
          "data": {
            "text/plain": [
              "0.31"
            ]
          },
          "metadata": {
            "tags": []
          },
          "execution_count": 101
        }
      ]
    },
    {
      "cell_type": "markdown",
      "metadata": {
        "id": "U8-VNrbz8P3k"
      },
      "source": [
        "The accuracy score for Text Blob is 0.31"
      ]
    },
    {
      "cell_type": "code",
      "metadata": {
        "id": "5EzkRpZY9-nW",
        "outputId": "980435c8-67e8-4ac5-9069-a35f04e33d23",
        "colab": {
          "base_uri": "https://localhost:8080/"
        }
      },
      "source": [
        "accuracy_score(required_df3[\"sentiments\"],required_df3[\"sentiment_res\"])"
      ],
      "execution_count": 102,
      "outputs": [
        {
          "output_type": "execute_result",
          "data": {
            "text/plain": [
              "0.66"
            ]
          },
          "metadata": {
            "tags": []
          },
          "execution_count": 102
        }
      ]
    },
    {
      "cell_type": "markdown",
      "metadata": {
        "id": "8ZchbCue-FNM"
      },
      "source": [
        "The accuracy score obtained by using vader is 0.66"
      ]
    },
    {
      "cell_type": "code",
      "metadata": {
        "id": "66dNTAWU5TOC",
        "outputId": "ee7b0994-9688-4977-ecfe-023f7905240d",
        "colab": {
          "base_uri": "https://localhost:8080/"
        }
      },
      "source": [
        "accuracy_score(test_data[\"sentiments\"].values.tolist(),test_data[\"predicted cleaned_data\"].values.tolist())"
      ],
      "execution_count": 100,
      "outputs": [
        {
          "output_type": "execute_result",
          "data": {
            "text/plain": [
              "0.76"
            ]
          },
          "metadata": {
            "tags": []
          },
          "execution_count": 100
        }
      ]
    },
    {
      "cell_type": "markdown",
      "metadata": {
        "id": "SLGXgiLj-KfR"
      },
      "source": [
        "The accuracy score obtained by using svm is 0.76"
      ]
    }
  ]
}