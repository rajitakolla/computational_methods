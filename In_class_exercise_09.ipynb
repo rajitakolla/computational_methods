{
  "nbformat": 4,
  "nbformat_minor": 0,
  "metadata": {
    "kernelspec": {
      "display_name": "Python 3",
      "language": "python",
      "name": "python3"
    },
    "language_info": {
      "codemirror_mode": {
        "name": "ipython",
        "version": 3
      },
      "file_extension": ".py",
      "mimetype": "text/x-python",
      "name": "python",
      "nbconvert_exporter": "python",
      "pygments_lexer": "ipython3",
      "version": "3.7.4"
    },
    "colab": {
      "name": "In_class_exercise_09.ipynb",
      "provenance": [],
      "toc_visible": true,
      "include_colab_link": true
    }
  },
  "cells": [
    {
      "cell_type": "markdown",
      "metadata": {
        "id": "view-in-github",
        "colab_type": "text"
      },
      "source": [
        "<a href=\"https://colab.research.google.com/github/rajitakolla/computational_methods/blob/master/In_class_exercise_09.ipynb\" target=\"_parent\"><img src=\"https://colab.research.google.com/assets/colab-badge.svg\" alt=\"Open In Colab\"/></a>"
      ]
    },
    {
      "cell_type": "markdown",
      "metadata": {
        "id": "tuofJXAElCe5"
      },
      "source": [
        "# **The ninth in-class-exercise (20 points in total, 11/11/2020)**"
      ]
    },
    {
      "cell_type": "markdown",
      "metadata": {
        "id": "f0yCsClBlCe_"
      },
      "source": [
        "The purpose of the exercise is to practice different machine learning algorithms for text classification as well as the performance evaluation. In addition, you are requried to conduct *10 fold cross validation (https://scikit-learn.org/stable/modules/cross_validation.html)* in the training. \n",
        "\n",
        "The dataset can be download from here: https://github.com/unt-iialab/INFO5731_FALL2020/blob/master/In_class_exercise/exercise09_datacollection.zip. The dataset contains two files train data and test data for sentiment analysis in IMDB review, it has two categories: 1 represents positive and 0 represents negative. You need to split the training data into training and validate data (80% for training and 20% for validation, https://towardsdatascience.com/train-test-split-and-cross-validation-in-python-80b61beca4b6) and perform 10 fold cross validation while training the classifier. The final trained model was final evaluated on the test data. \n",
        "\n",
        "Algorithms:\n",
        "\n",
        "(1) MultinominalNB\n",
        "\n",
        "(2) SVM \n",
        "\n",
        "(3) KNN \n",
        "\n",
        "(4) Decision tree\n",
        "\n",
        "(5) Random Forest\n",
        "\n",
        "(6) XGBoost\n",
        "\n",
        "Evaluation measurement:\n",
        "\n",
        "(1) Accuracy\n",
        "\n",
        "(2) Recall\n",
        "\n",
        "(3) Precison \n",
        "\n",
        "(4) F-1 score"
      ]
    },
    {
      "cell_type": "code",
      "metadata": {
        "id": "zmy60Pk4lCfA"
      },
      "source": [
        "# Write your code here\n",
        "import numpy as np\n",
        "import pandas as pd\n",
        "import sklearn as sk"
      ],
      "execution_count": 1,
      "outputs": []
    },
    {
      "cell_type": "code",
      "metadata": {
        "id": "hmN6W3STmSMN"
      },
      "source": [
        "from sklearn import datasets\n",
        "from sklearn.model_selection import train_test_split,cross_val_score,KFold\n",
        "from sklearn.neighbors import KNeighborsClassifier\n",
        "from sklearn.metrics import accuracy_score"
      ],
      "execution_count": 2,
      "outputs": []
    },
    {
      "cell_type": "code",
      "metadata": {
        "id": "RdEmz7EUmVko"
      },
      "source": [
        "from sklearn.metrics import classification_report\n",
        "from sklearn.model_selection import KFold\n",
        "from sklearn.model_selection import cross_val_score"
      ],
      "execution_count": 3,
      "outputs": []
    },
    {
      "cell_type": "code",
      "metadata": {
        "id": "6JeEWETzmXdc"
      },
      "source": [
        "#load the dataset\n",
        "\n",
        "train_data = open(\"/content/stsa-train.txt\",\"r\")"
      ],
      "execution_count": 4,
      "outputs": []
    },
    {
      "cell_type": "code",
      "metadata": {
        "id": "xmQKrrS9oQHh"
      },
      "source": [
        "#seperate the polarities and the sentences\n",
        "def split_the_polarity(ip,ids):\n",
        "  if(ids == 0):\n",
        "    return ip[0:1]\n",
        "  elif(ids == 1):\n",
        "    return ip[2:len(ip)].replace(\"\\n\",\"\")\n",
        "  pass"
      ],
      "execution_count": 5,
      "outputs": []
    },
    {
      "cell_type": "code",
      "metadata": {
        "id": "7urefTCh9R38"
      },
      "source": [
        "list1 = train_data.readlines()"
      ],
      "execution_count": 6,
      "outputs": []
    },
    {
      "cell_type": "code",
      "metadata": {
        "id": "b-v_YGDhmiPI"
      },
      "source": [
        "\n",
        "train_data_polarities = [int(split_the_polarity(i,0)) for i in list1]\n",
        "train_data = [split_the_polarity(i,1) for i in list1]\n",
        "trainDF = pd.DataFrame(train_data,columns=[\"sentences\"])\n",
        "trainDF[\"polarities\"] = pd.DataFrame(train_data_polarities)"
      ],
      "execution_count": 7,
      "outputs": []
    },
    {
      "cell_type": "code",
      "metadata": {
        "id": "5L5UurbuT0Lj",
        "outputId": "3f58ee18-9acd-4d80-e0c2-9cb2c4683307",
        "colab": {
          "base_uri": "https://localhost:8080/",
          "height": 195
        }
      },
      "source": [
        "# pd.set_option('display.max_colwidth', None)\n",
        "trainDF.head()"
      ],
      "execution_count": 9,
      "outputs": [
        {
          "output_type": "execute_result",
          "data": {
            "text/html": [
              "<div>\n",
              "<style scoped>\n",
              "    .dataframe tbody tr th:only-of-type {\n",
              "        vertical-align: middle;\n",
              "    }\n",
              "\n",
              "    .dataframe tbody tr th {\n",
              "        vertical-align: top;\n",
              "    }\n",
              "\n",
              "    .dataframe thead th {\n",
              "        text-align: right;\n",
              "    }\n",
              "</style>\n",
              "<table border=\"1\" class=\"dataframe\">\n",
              "  <thead>\n",
              "    <tr style=\"text-align: right;\">\n",
              "      <th></th>\n",
              "      <th>sentences</th>\n",
              "      <th>polarities</th>\n",
              "    </tr>\n",
              "  </thead>\n",
              "  <tbody>\n",
              "    <tr>\n",
              "      <th>0</th>\n",
              "      <td>a stirring , funny and finally transporting re...</td>\n",
              "      <td>1</td>\n",
              "    </tr>\n",
              "    <tr>\n",
              "      <th>1</th>\n",
              "      <td>apparently reassembled from the cutting-room f...</td>\n",
              "      <td>0</td>\n",
              "    </tr>\n",
              "    <tr>\n",
              "      <th>2</th>\n",
              "      <td>they presume their audience wo n't sit still f...</td>\n",
              "      <td>0</td>\n",
              "    </tr>\n",
              "    <tr>\n",
              "      <th>3</th>\n",
              "      <td>this is a visually stunning rumination on love...</td>\n",
              "      <td>1</td>\n",
              "    </tr>\n",
              "    <tr>\n",
              "      <th>4</th>\n",
              "      <td>jonathan parker 's bartleby should have been t...</td>\n",
              "      <td>1</td>\n",
              "    </tr>\n",
              "  </tbody>\n",
              "</table>\n",
              "</div>"
            ],
            "text/plain": [
              "                                           sentences  polarities\n",
              "0  a stirring , funny and finally transporting re...           1\n",
              "1  apparently reassembled from the cutting-room f...           0\n",
              "2  they presume their audience wo n't sit still f...           0\n",
              "3  this is a visually stunning rumination on love...           1\n",
              "4  jonathan parker 's bartleby should have been t...           1"
            ]
          },
          "metadata": {
            "tags": []
          },
          "execution_count": 9
        }
      ]
    },
    {
      "cell_type": "markdown",
      "metadata": {
        "id": "dZWo8u3ZW87Z"
      },
      "source": [
        "shape of dataset 6920 rows and 2 columns\n"
      ]
    },
    {
      "cell_type": "code",
      "metadata": {
        "id": "kIQHEjchUXY_",
        "outputId": "93f0916b-b68f-4ba7-9204-da33f6cb84ef",
        "colab": {
          "base_uri": "https://localhost:8080/"
        }
      },
      "source": [
        "trainDF.shape"
      ],
      "execution_count": 10,
      "outputs": [
        {
          "output_type": "execute_result",
          "data": {
            "text/plain": [
              "(6920, 2)"
            ]
          },
          "metadata": {
            "tags": []
          },
          "execution_count": 10
        }
      ]
    },
    {
      "cell_type": "markdown",
      "metadata": {
        "id": "q9larHMWXEWA"
      },
      "source": [
        "**check how many are postive and how many are negative**"
      ]
    },
    {
      "cell_type": "code",
      "metadata": {
        "id": "WnmnC3KnXDjO",
        "outputId": "6bb9469c-2c57-4f5b-9a9c-d758b78b5a05",
        "colab": {
          "base_uri": "https://localhost:8080/"
        }
      },
      "source": [
        "trainDF[\"polarities\"].value_counts()"
      ],
      "execution_count": 11,
      "outputs": [
        {
          "output_type": "execute_result",
          "data": {
            "text/plain": [
              "1    3610\n",
              "0    3310\n",
              "Name: polarities, dtype: int64"
            ]
          },
          "metadata": {
            "tags": []
          },
          "execution_count": 11
        }
      ]
    },
    {
      "cell_type": "markdown",
      "metadata": {
        "id": "0mjcGBZDXPLI"
      },
      "source": [
        "**We have 3610 positve and 3310 negative reviews**"
      ]
    },
    {
      "cell_type": "markdown",
      "metadata": {
        "id": "CKhFoYvLeocp"
      },
      "source": [
        "**Clean the Dataset**"
      ]
    },
    {
      "cell_type": "code",
      "metadata": {
        "id": "W1zBiCMMW726",
        "outputId": "29ff5cbf-8848-42c5-80c5-82ed22786118",
        "colab": {
          "base_uri": "https://localhost:8080/"
        }
      },
      "source": [
        "import string\n",
        "import nltk\n",
        "from nltk.corpus import stopwords\n",
        "nltk.download('stopwords')\n",
        "from nltk.stem import WordNetLemmatizer\n",
        "wordnet= WordNetLemmatizer()\n",
        "nltk.download('wordnet')\n",
        "list_of_words = set(stopwords.words('english')) \n",
        "import re\n",
        "\n",
        "\n",
        "def clean_dataset(value):\n",
        "  #convert words to lower case\n",
        "  value = value.lower()\n",
        "  #remove punctuations\n",
        "  tokens = value.split(\" \")\n",
        "  value = \" \".join(x for x in tokens if x not in string.punctuation)\n",
        "  #remove special characters and numbers other than space\n",
        "  value = \"\".join(i for i in value if i.isalnum() or i == \" \")\n",
        "  #remove stop words\n",
        "  tokens = re.split(\"\\W+\",value)\n",
        "  value = [wordnet.lemmatize(x) for x in tokens if x not in list_of_words]\n",
        "  return value"
      ],
      "execution_count": 12,
      "outputs": [
        {
          "output_type": "stream",
          "text": [
            "[nltk_data] Downloading package stopwords to /root/nltk_data...\n",
            "[nltk_data]   Unzipping corpora/stopwords.zip.\n",
            "[nltk_data] Downloading package wordnet to /root/nltk_data...\n",
            "[nltk_data]   Unzipping corpora/wordnet.zip.\n"
          ],
          "name": "stdout"
        }
      ]
    },
    {
      "cell_type": "code",
      "metadata": {
        "id": "qRyahxHUYLm8",
        "outputId": "514e48e6-efa4-44f5-ae6b-d6db32112d10",
        "colab": {
          "base_uri": "https://localhost:8080/",
          "height": 195
        }
      },
      "source": [
        "trainDF.head(5)"
      ],
      "execution_count": 13,
      "outputs": [
        {
          "output_type": "execute_result",
          "data": {
            "text/html": [
              "<div>\n",
              "<style scoped>\n",
              "    .dataframe tbody tr th:only-of-type {\n",
              "        vertical-align: middle;\n",
              "    }\n",
              "\n",
              "    .dataframe tbody tr th {\n",
              "        vertical-align: top;\n",
              "    }\n",
              "\n",
              "    .dataframe thead th {\n",
              "        text-align: right;\n",
              "    }\n",
              "</style>\n",
              "<table border=\"1\" class=\"dataframe\">\n",
              "  <thead>\n",
              "    <tr style=\"text-align: right;\">\n",
              "      <th></th>\n",
              "      <th>sentences</th>\n",
              "      <th>polarities</th>\n",
              "    </tr>\n",
              "  </thead>\n",
              "  <tbody>\n",
              "    <tr>\n",
              "      <th>0</th>\n",
              "      <td>a stirring , funny and finally transporting re...</td>\n",
              "      <td>1</td>\n",
              "    </tr>\n",
              "    <tr>\n",
              "      <th>1</th>\n",
              "      <td>apparently reassembled from the cutting-room f...</td>\n",
              "      <td>0</td>\n",
              "    </tr>\n",
              "    <tr>\n",
              "      <th>2</th>\n",
              "      <td>they presume their audience wo n't sit still f...</td>\n",
              "      <td>0</td>\n",
              "    </tr>\n",
              "    <tr>\n",
              "      <th>3</th>\n",
              "      <td>this is a visually stunning rumination on love...</td>\n",
              "      <td>1</td>\n",
              "    </tr>\n",
              "    <tr>\n",
              "      <th>4</th>\n",
              "      <td>jonathan parker 's bartleby should have been t...</td>\n",
              "      <td>1</td>\n",
              "    </tr>\n",
              "  </tbody>\n",
              "</table>\n",
              "</div>"
            ],
            "text/plain": [
              "                                           sentences  polarities\n",
              "0  a stirring , funny and finally transporting re...           1\n",
              "1  apparently reassembled from the cutting-room f...           0\n",
              "2  they presume their audience wo n't sit still f...           0\n",
              "3  this is a visually stunning rumination on love...           1\n",
              "4  jonathan parker 's bartleby should have been t...           1"
            ]
          },
          "metadata": {
            "tags": []
          },
          "execution_count": 13
        }
      ]
    },
    {
      "cell_type": "markdown",
      "metadata": {
        "id": "5G75YZJsq3U3"
      },
      "source": [
        "#**Transform the data**"
      ]
    },
    {
      "cell_type": "code",
      "metadata": {
        "id": "zjk0TjwwYMgU"
      },
      "source": [
        "from sklearn.feature_extraction.text import TfidfVectorizer\n",
        "#display the vocabulary\n",
        "vectorizer = TfidfVectorizer(analyzer=clean_dataset)\n",
        "tf_idf = vectorizer.fit_transform(trainDF[\"sentences\"])"
      ],
      "execution_count": 14,
      "outputs": []
    },
    {
      "cell_type": "code",
      "metadata": {
        "id": "kO1E3T4pp4-3"
      },
      "source": [
        "list_of_column_names = vectorizer.get_feature_names()"
      ],
      "execution_count": 15,
      "outputs": []
    },
    {
      "cell_type": "code",
      "metadata": {
        "id": "O4qkqSzQcndB"
      },
      "source": [
        "tf_idf_df = pd.DataFrame(tf_idf.toarray())\n",
        "tf_idf_df.columns = list_of_column_names"
      ],
      "execution_count": 16,
      "outputs": []
    },
    {
      "cell_type": "code",
      "metadata": {
        "id": "wcr0b5iiaj5u",
        "outputId": "717f8d52-ef56-4946-e512-742ebaa85a8c",
        "colab": {
          "base_uri": "https://localhost:8080/"
        }
      },
      "source": [
        "tf_idf_df.shape"
      ],
      "execution_count": 17,
      "outputs": [
        {
          "output_type": "execute_result",
          "data": {
            "text/plain": [
              "(6920, 13439)"
            ]
          },
          "metadata": {
            "tags": []
          },
          "execution_count": 17
        }
      ]
    },
    {
      "cell_type": "markdown",
      "metadata": {
        "id": "99MRGmTvqe3a"
      },
      "source": [
        "**Convert the sentences**"
      ]
    },
    {
      "cell_type": "code",
      "metadata": {
        "id": "usvZ0l4gpFgd"
      },
      "source": [
        "training_tf_idf_data = vectorizer.transform(trainDF[\"sentences\"])"
      ],
      "execution_count": 18,
      "outputs": []
    },
    {
      "cell_type": "markdown",
      "metadata": {
        "id": "Os6QE5Ulrds0"
      },
      "source": [
        "#**Split the data to 80% training and 20% testing data**"
      ]
    },
    {
      "cell_type": "code",
      "metadata": {
        "id": "05xzouhSrc1x"
      },
      "source": [
        "x_train, x_test, y_train, y_test = train_test_split(tf_idf_df, trainDF['polarities'].values,test_size=0.2)"
      ],
      "execution_count": 19,
      "outputs": []
    },
    {
      "cell_type": "markdown",
      "metadata": {
        "id": "nqT9meBIrREY"
      },
      "source": [
        "#**Multinomial NB algorithm**\n",
        "\n",
        "---\n",
        "\n"
      ]
    },
    {
      "cell_type": "code",
      "metadata": {
        "id": "x2IlaAgrrO9y"
      },
      "source": [
        "#create a object\n",
        "from sklearn.naive_bayes import MultinomialNB\n",
        "multinomialNB = MultinomialNB()"
      ],
      "execution_count": 20,
      "outputs": []
    },
    {
      "cell_type": "markdown",
      "metadata": {
        "id": "1BIJPCxIsa2W"
      },
      "source": [
        "**Train the model**"
      ]
    },
    {
      "cell_type": "code",
      "metadata": {
        "id": "_IBZMFqIrbKP"
      },
      "source": [
        "multinomialNB_model = multinomialNB.fit(x_train,y_train)"
      ],
      "execution_count": 21,
      "outputs": []
    },
    {
      "cell_type": "markdown",
      "metadata": {
        "id": "T8PYgCQusUC1"
      },
      "source": [
        "**predict the ouput using multinomialNB**"
      ]
    },
    {
      "cell_type": "code",
      "metadata": {
        "id": "ggkzhTdTsCF6"
      },
      "source": [
        "y_op_multinomialNB = multinomialNB_model.predict(x_test)"
      ],
      "execution_count": 22,
      "outputs": []
    },
    {
      "cell_type": "code",
      "metadata": {
        "id": "c_CDtFbVyeQv",
        "outputId": "ff7682f2-b501-4f7f-c2df-93b54faba2ac",
        "colab": {
          "base_uri": "https://localhost:8080/"
        }
      },
      "source": [
        "y_op_multinomialNB"
      ],
      "execution_count": 23,
      "outputs": [
        {
          "output_type": "execute_result",
          "data": {
            "text/plain": [
              "array([0, 1, 1, ..., 1, 0, 1])"
            ]
          },
          "metadata": {
            "tags": []
          },
          "execution_count": 23
        }
      ]
    },
    {
      "cell_type": "code",
      "metadata": {
        "id": "nyablQtCU57z"
      },
      "source": [
        "from sklearn.metrics import accuracy_score,classification_report\n",
        "import sys\n",
        "import pprint"
      ],
      "execution_count": 24,
      "outputs": []
    },
    {
      "cell_type": "code",
      "metadata": {
        "id": "pwA2PiHmsTQq"
      },
      "source": [
        "\n",
        "def fetch_the_accuracy(predicted,actual):\n",
        "  print(\"\\033[1m\"+\"Accuracy Score = \",round(accuracy_score(predicted,actual),2)*100,\"%\"+\"\\033[0m\")\n",
        "  print(\"\\033[1m\"+\"The Classification report\"+\"\\033[0m\")\n",
        "  print(classification_report(actual,predicted))\n",
        "  # sys.modules[__name__].__dict__.clear()\n",
        "  pass\n"
      ],
      "execution_count": 25,
      "outputs": []
    },
    {
      "cell_type": "code",
      "metadata": {
        "id": "tgP188BC-Qho"
      },
      "source": [
        "import seaborn as sns\n",
        "def visualizer(ip):\n",
        "  sns.heatmap(pd.DataFrame(ip).iloc[:-1, :].T, annot=True)\n",
        "  pass"
      ],
      "execution_count": 28,
      "outputs": []
    },
    {
      "cell_type": "code",
      "metadata": {
        "id": "iutMDiFfD60u"
      },
      "source": [
        "def analyse_the_accuracy(n_splits):\n",
        "  # evaluate the algorythm\n",
        "  # fix the random seed\n",
        "  # must use the same seed value so that the same subsets can be obtained\n",
        "  # for each time the process is repeated\n",
        "  seed = 7\n",
        "  # split the whole dataset into folds \n",
        "  kfold = KFold(n_splits, random_state=seed,shuffle=True)\n",
        "  # for logistic regression, we can use the accuracy level to evaluate the model / algorithm\n",
        "  scoring = 'accuracy'\n",
        "  return kfold\n",
        "  pass"
      ],
      "execution_count": 29,
      "outputs": []
    },
    {
      "cell_type": "code",
      "metadata": {
        "id": "QSVFfCQ8AtU6"
      },
      "source": [
        "from sklearn.model_selection import cross_val_score\n",
        "def cross_val_score_computation(modelObject, x_test,y_test):\n",
        "  kfold = analyse_the_accuracy(10)\n",
        "  print(\"\\033[1m\"+\"Cross Validation Score\",round(cross_val_score(modelObject,x_test,y_test,cv=kfold).mean()*100,2),\"%\",\"\\033[0m\")\n",
        "  pass"
      ],
      "execution_count": 30,
      "outputs": []
    },
    {
      "cell_type": "code",
      "metadata": {
        "id": "P6S1GhpyD-xc"
      },
      "source": [
        "import warnings\n",
        "warnings.filterwarnings('ignore')"
      ],
      "execution_count": 31,
      "outputs": []
    },
    {
      "cell_type": "markdown",
      "metadata": {
        "id": "tBbe51TSshc2"
      },
      "source": [
        "#**Metrics for MultinomialNB**"
      ]
    },
    {
      "cell_type": "code",
      "metadata": {
        "id": "Sh8WutisssSi",
        "outputId": "aa33a2d4-c4d0-41df-ac51-fbafe054cbc8",
        "colab": {
          "base_uri": "https://localhost:8080/"
        }
      },
      "source": [
        "fetch_the_accuracy(y_op_multinomialNB,y_test)"
      ],
      "execution_count": 32,
      "outputs": [
        {
          "output_type": "stream",
          "text": [
            "\u001b[1mAccuracy Score =  76.0 %\u001b[0m\n",
            "\u001b[1mThe Classification report\u001b[0m\n",
            "              precision    recall  f1-score   support\n",
            "\n",
            "           0       0.81      0.68      0.74       686\n",
            "           1       0.73      0.84      0.78       698\n",
            "\n",
            "    accuracy                           0.76      1384\n",
            "   macro avg       0.77      0.76      0.76      1384\n",
            "weighted avg       0.77      0.76      0.76      1384\n",
            "\n"
          ],
          "name": "stdout"
        }
      ]
    },
    {
      "cell_type": "code",
      "metadata": {
        "id": "nufJVlUZtZ3-",
        "outputId": "8ca7a960-7fa2-47ad-f3e7-b527b0beab49",
        "colab": {
          "base_uri": "https://localhost:8080/",
          "height": 265
        }
      },
      "source": [
        "#visualize the metrics \n",
        "visualizer(classification_report(y_test,y_op_multinomialNB,output_dict=True))"
      ],
      "execution_count": 33,
      "outputs": [
        {
          "output_type": "display_data",
          "data": {
            "image/png": "[encoded data removed]",
            "text/plain": [
              "<Figure size 432x288 with 2 Axes>"
            ]
          },
          "metadata": {
            "tags": [],
            "needs_background": "light"
          }
        }
      ]
    },
    {
      "cell_type": "markdown",
      "metadata": {
        "id": "J09GbqknKhft"
      },
      "source": [
        "**Cross Validation Score for MultinomialNB**"
      ]
    },
    {
      "cell_type": "code",
      "metadata": {
        "id": "tqZM0RIL_ArA",
        "outputId": "9bc40eb4-1b32-4dd5-f853-5190b4d012d4",
        "colab": {
          "base_uri": "https://localhost:8080/"
        }
      },
      "source": [
        "cross_val_score_computation(multinomialNB_model,x_test,y_test)"
      ],
      "execution_count": 34,
      "outputs": [
        {
          "output_type": "stream",
          "text": [
            "\u001b[1mCross Validation Score 71.03 % \u001b[0m\n"
          ],
          "name": "stdout"
        }
      ]
    },
    {
      "cell_type": "markdown",
      "metadata": {
        "id": "3kd8JySxKtqc"
      },
      "source": [
        "#**SVM**\n",
        "\n",
        "---\n",
        "\n"
      ]
    },
    {
      "cell_type": "code",
      "metadata": {
        "id": "GEZ81LhnJ4UL"
      },
      "source": [
        "from sklearn.svm import LinearSVC\n",
        "linearSVC = LinearSVC()"
      ],
      "execution_count": 35,
      "outputs": []
    },
    {
      "cell_type": "markdown",
      "metadata": {
        "id": "_tqyj6g1ML8n"
      },
      "source": [
        "**Train the model**"
      ]
    },
    {
      "cell_type": "code",
      "metadata": {
        "id": "bqF0lDmIL4NQ"
      },
      "source": [
        "linearSVC_model = linearSVC.fit(x_train,y_train)"
      ],
      "execution_count": 36,
      "outputs": []
    },
    {
      "cell_type": "markdown",
      "metadata": {
        "id": "xTHosht6MPn3"
      },
      "source": [
        "**predict the values**"
      ]
    },
    {
      "cell_type": "code",
      "metadata": {
        "id": "aRXeSTHzMO4I"
      },
      "source": [
        "y_op_linearSVC = linearSVC_model.predict(x_test)"
      ],
      "execution_count": 37,
      "outputs": []
    },
    {
      "cell_type": "markdown",
      "metadata": {
        "id": "hVMJy4BTOB1_"
      },
      "source": [
        "#**Metrics for SVC**"
      ]
    },
    {
      "cell_type": "code",
      "metadata": {
        "id": "0a6-F2slN7xh",
        "outputId": "b682f1b4-3e11-4460-f030-defa707163bd",
        "colab": {
          "base_uri": "https://localhost:8080/"
        }
      },
      "source": [
        "fetch_the_accuracy(y_op_linearSVC,y_test)"
      ],
      "execution_count": 38,
      "outputs": [
        {
          "output_type": "stream",
          "text": [
            "\u001b[1mAccuracy Score =  77.0 %\u001b[0m\n",
            "\u001b[1mThe Classification report\u001b[0m\n",
            "              precision    recall  f1-score   support\n",
            "\n",
            "           0       0.77      0.75      0.76       686\n",
            "           1       0.76      0.78      0.77       698\n",
            "\n",
            "    accuracy                           0.77      1384\n",
            "   macro avg       0.77      0.77      0.77      1384\n",
            "weighted avg       0.77      0.77      0.77      1384\n",
            "\n"
          ],
          "name": "stdout"
        }
      ]
    },
    {
      "cell_type": "code",
      "metadata": {
        "id": "Aa2ZgiK8OKKS",
        "outputId": "501b4b04-17e3-4518-9872-f93f68472974",
        "colab": {
          "base_uri": "https://localhost:8080/",
          "height": 265
        }
      },
      "source": [
        "#visualize the metrics \n",
        "visualizer(classification_report(y_test,y_op_linearSVC,output_dict=True))"
      ],
      "execution_count": 39,
      "outputs": [
        {
          "output_type": "display_data",
          "data": {
            "image/png": "[encoded data removed]",
            "text/plain": [
              "<Figure size 432x288 with 2 Axes>"
            ]
          },
          "metadata": {
            "tags": [],
            "needs_background": "light"
          }
        }
      ]
    },
    {
      "cell_type": "markdown",
      "metadata": {
        "id": "s7xs_wITXXCZ"
      },
      "source": [
        "**Cross Validation Score for Linearsvc**"
      ]
    },
    {
      "cell_type": "code",
      "metadata": {
        "id": "YQgfOL9UWvWM",
        "outputId": "bf74e69e-5c09-4e6f-bfba-70bc98d7d35f",
        "colab": {
          "base_uri": "https://localhost:8080/"
        }
      },
      "source": [
        "cross_val_score_computation(linearSVC_model,x_test,y_test)"
      ],
      "execution_count": 46,
      "outputs": [
        {
          "output_type": "stream",
          "text": [
            "\u001b[1mCross Validation Score 69.51 % \u001b[0m\n"
          ],
          "name": "stdout"
        }
      ]
    },
    {
      "cell_type": "markdown",
      "metadata": {
        "id": "eAQoge9mV14g"
      },
      "source": [
        "#**KNN Algorithm**\n",
        "\n",
        "---\n",
        "\n"
      ]
    },
    {
      "cell_type": "code",
      "metadata": {
        "id": "LeY0JAMPV9tI"
      },
      "source": [
        "from sklearn.neighbors import KNeighborsClassifier\n",
        "kneighborsClassifier = KNeighborsClassifier(n_neighbors=10)"
      ],
      "execution_count": 42,
      "outputs": []
    },
    {
      "cell_type": "markdown",
      "metadata": {
        "id": "ri2q52GhWa9X"
      },
      "source": [
        "**Train the model**"
      ]
    },
    {
      "cell_type": "code",
      "metadata": {
        "id": "XGzs-DwFURT9"
      },
      "source": [
        "kneighborsClassifier_model = kneighborsClassifier.fit(x_train,y_train)"
      ],
      "execution_count": 43,
      "outputs": []
    },
    {
      "cell_type": "markdown",
      "metadata": {
        "id": "Px8mqoseWgWH"
      },
      "source": [
        "**Predict the model**"
      ]
    },
    {
      "cell_type": "code",
      "metadata": {
        "id": "4DZFutHJWaIi"
      },
      "source": [
        "y_op_kneighborsClassifier = kneighborsClassifier_model.predict(x_test)"
      ],
      "execution_count": 45,
      "outputs": []
    },
    {
      "cell_type": "markdown",
      "metadata": {
        "id": "cARWf9FQW-uj"
      },
      "source": [
        "#**Metrics for KNN**"
      ]
    },
    {
      "cell_type": "code",
      "metadata": {
        "id": "TndButwuWpuI",
        "outputId": "4662652e-e44e-4396-8e7c-9667cac7f9c2",
        "colab": {
          "base_uri": "https://localhost:8080/"
        }
      },
      "source": [
        "fetch_the_accuracy(y_op_kneighborsClassifier,y_test)"
      ],
      "execution_count": 81,
      "outputs": [
        {
          "output_type": "stream",
          "text": [
            "\u001b[1mAccuracy Score =  56.99999999999999 %\u001b[0m\n",
            "\u001b[1mThe Classification report\u001b[0m\n",
            "              precision    recall  f1-score   support\n",
            "\n",
            "           0       0.54      0.98      0.69       686\n",
            "           1       0.88      0.18      0.30       698\n",
            "\n",
            "    accuracy                           0.57      1384\n",
            "   macro avg       0.71      0.58      0.50      1384\n",
            "weighted avg       0.71      0.57      0.50      1384\n",
            "\n"
          ],
          "name": "stdout"
        }
      ]
    },
    {
      "cell_type": "code",
      "metadata": {
        "id": "vTlYjAauXI3P",
        "outputId": "d0fb7dd3-f445-4a0f-8e43-969c8f3a6f87",
        "colab": {
          "base_uri": "https://localhost:8080/",
          "height": 265
        }
      },
      "source": [
        "#visualize the metrics \n",
        "visualizer(classification_report(y_test,y_op_kneighborsClassifier,output_dict=True))"
      ],
      "execution_count": 48,
      "outputs": [
        {
          "output_type": "display_data",
          "data": {
            "image/png": "[encoded data removed]",
            "text/plain": [
              "<Figure size 432x288 with 2 Axes>"
            ]
          },
          "metadata": {
            "tags": [],
            "needs_background": "light"
          }
        }
      ]
    },
    {
      "cell_type": "markdown",
      "metadata": {
        "id": "Gf66Lt8VXGqe"
      },
      "source": [
        "**Cross Validation Score for KNN**"
      ]
    },
    {
      "cell_type": "code",
      "metadata": {
        "id": "WPFT457FXfh-",
        "outputId": "2f566630-238c-4f88-d17f-7e7345e03f6f",
        "colab": {
          "base_uri": "https://localhost:8080/"
        }
      },
      "source": [
        "cross_val_score_computation(kneighborsClassifier_model,x_test,y_test)"
      ],
      "execution_count": 50,
      "outputs": [
        {
          "output_type": "stream",
          "text": [
            "\u001b[1mCross Validation Score 67.48 % \u001b[0m\n"
          ],
          "name": "stdout"
        }
      ]
    },
    {
      "cell_type": "markdown",
      "metadata": {
        "id": "fyBUilcKYFmn"
      },
      "source": [
        "#**Decision Tree Algorithm**"
      ]
    },
    {
      "cell_type": "code",
      "metadata": {
        "id": "qeF3thnjXpn6"
      },
      "source": [
        "from sklearn.tree import DecisionTreeClassifier\n",
        "decisionTreeClassifier = DecisionTreeClassifier()"
      ],
      "execution_count": 59,
      "outputs": []
    },
    {
      "cell_type": "markdown",
      "metadata": {
        "id": "1jlQfvFlbqnC"
      },
      "source": [
        "**Train the model**"
      ]
    },
    {
      "cell_type": "code",
      "metadata": {
        "id": "j1ibkRkrbR9w"
      },
      "source": [
        "decisionTreeClassifier_model = decisionTreeClassifier.fit(x_train,y_train)\n"
      ],
      "execution_count": 60,
      "outputs": []
    },
    {
      "cell_type": "markdown",
      "metadata": {
        "id": "5jyXZK46btqD"
      },
      "source": [
        "**predict the output**"
      ]
    },
    {
      "cell_type": "code",
      "metadata": {
        "id": "kcE8CsqTbpr9"
      },
      "source": [
        "y_op_decisionTreeClassifier = decisionTreeClassifier_model.predict(x_test)"
      ],
      "execution_count": 61,
      "outputs": []
    },
    {
      "cell_type": "markdown",
      "metadata": {
        "id": "SnbulMqNc_BY"
      },
      "source": [
        "#**Metrics for Decision Tree**"
      ]
    },
    {
      "cell_type": "code",
      "metadata": {
        "id": "XTzh2ecDb1Ln",
        "outputId": "30c3b301-9651-4d2f-835d-10f3c47473f4",
        "colab": {
          "base_uri": "https://localhost:8080/"
        }
      },
      "source": [
        "fetch_the_accuracy(y_op_decisionTreeClassifier,y_test)"
      ],
      "execution_count": 62,
      "outputs": [
        {
          "output_type": "stream",
          "text": [
            "\u001b[1mAccuracy Score =  65.0 %\u001b[0m\n",
            "\u001b[1mThe Classification report\u001b[0m\n",
            "              precision    recall  f1-score   support\n",
            "\n",
            "           0       0.64      0.70      0.66       686\n",
            "           1       0.67      0.61      0.64       698\n",
            "\n",
            "    accuracy                           0.65      1384\n",
            "   macro avg       0.65      0.65      0.65      1384\n",
            "weighted avg       0.65      0.65      0.65      1384\n",
            "\n"
          ],
          "name": "stdout"
        }
      ]
    },
    {
      "cell_type": "code",
      "metadata": {
        "id": "eHcAbA_TdFHL",
        "outputId": "c2dda971-4a88-4d95-f95a-0314869504c7",
        "colab": {
          "base_uri": "https://localhost:8080/",
          "height": 265
        }
      },
      "source": [
        "#visualize the metrics \n",
        "visualizer(classification_report(y_test,y_op_decisionTreeClassifier,output_dict=True))"
      ],
      "execution_count": 63,
      "outputs": [
        {
          "output_type": "display_data",
          "data": {
            "image/png": "[encoded data removed]",
            "text/plain": [
              "<Figure size 432x288 with 2 Axes>"
            ]
          },
          "metadata": {
            "tags": [],
            "needs_background": "light"
          }
        }
      ]
    },
    {
      "cell_type": "markdown",
      "metadata": {
        "id": "ZIWbOs-IdVo1"
      },
      "source": [
        "**Cross Validation Score for Decision Tree**"
      ]
    },
    {
      "cell_type": "code",
      "metadata": {
        "id": "eeRjvyLpdRcs",
        "outputId": "89bdb93c-fd8e-4829-f525-1ea3c20b624b",
        "colab": {
          "base_uri": "https://localhost:8080/"
        }
      },
      "source": [
        "cross_val_score_computation(decisionTreeClassifier_model,x_test,y_test)"
      ],
      "execution_count": 65,
      "outputs": [
        {
          "output_type": "stream",
          "text": [
            "\u001b[1mCross Validation Score 57.15 % \u001b[0m\n"
          ],
          "name": "stdout"
        }
      ]
    },
    {
      "cell_type": "markdown",
      "metadata": {
        "id": "kha6iyEidhjj"
      },
      "source": [
        "#**Random Forest Algorithm**"
      ]
    },
    {
      "cell_type": "code",
      "metadata": {
        "id": "romB0hfpdlZW"
      },
      "source": [
        "from sklearn.ensemble import RandomForestClassifier\n",
        "randomForestClassifier = RandomForestClassifier()"
      ],
      "execution_count": 66,
      "outputs": []
    },
    {
      "cell_type": "markdown",
      "metadata": {
        "id": "rEurrkr0eIXK"
      },
      "source": [
        "**Train the model**"
      ]
    },
    {
      "cell_type": "code",
      "metadata": {
        "id": "4iLS9k1ueCA8"
      },
      "source": [
        "randomForestClassifier_model = randomForestClassifier.fit(x_train,y_train)"
      ],
      "execution_count": 67,
      "outputs": []
    },
    {
      "cell_type": "markdown",
      "metadata": {
        "id": "vvvi4J92eLDz"
      },
      "source": [
        "**Predict the output**"
      ]
    },
    {
      "cell_type": "code",
      "metadata": {
        "id": "JARAaz0reKH_"
      },
      "source": [
        "y_op_randomForestClassifier = randomForestClassifier_model.predict(x_test)"
      ],
      "execution_count": 68,
      "outputs": []
    },
    {
      "cell_type": "markdown",
      "metadata": {
        "id": "f_2frE5peRK-"
      },
      "source": [
        "#**Metrics for Random Forest Classifier**"
      ]
    },
    {
      "cell_type": "code",
      "metadata": {
        "id": "kaTacjA9eQcG",
        "outputId": "76e400e4-acfc-408e-9cf3-3c953189b31f",
        "colab": {
          "base_uri": "https://localhost:8080/"
        }
      },
      "source": [
        "fetch_the_accuracy(y_op_randomForestClassifier,y_test)"
      ],
      "execution_count": 69,
      "outputs": [
        {
          "output_type": "stream",
          "text": [
            "\u001b[1mAccuracy Score =  72.0 %\u001b[0m\n",
            "\u001b[1mThe Classification report\u001b[0m\n",
            "              precision    recall  f1-score   support\n",
            "\n",
            "           0       0.71      0.75      0.73       686\n",
            "           1       0.74      0.69      0.72       698\n",
            "\n",
            "    accuracy                           0.72      1384\n",
            "   macro avg       0.72      0.72      0.72      1384\n",
            "weighted avg       0.72      0.72      0.72      1384\n",
            "\n"
          ],
          "name": "stdout"
        }
      ]
    },
    {
      "cell_type": "code",
      "metadata": {
        "id": "hJRW41-eee0R",
        "outputId": "fd606e47-8f23-49f8-c692-c86397e2a019",
        "colab": {
          "base_uri": "https://localhost:8080/",
          "height": 265
        }
      },
      "source": [
        "#visualize the metrics \n",
        "visualizer(classification_report(y_test,y_op_randomForestClassifier,output_dict=True))"
      ],
      "execution_count": 72,
      "outputs": [
        {
          "output_type": "display_data",
          "data": {
            "image/png": "[encoded data removed]",
            "text/plain": [
              "<Figure size 432x288 with 2 Axes>"
            ]
          },
          "metadata": {
            "tags": [],
            "needs_background": "light"
          }
        }
      ]
    },
    {
      "cell_type": "markdown",
      "metadata": {
        "id": "VOI9m7SSenFT"
      },
      "source": [
        "**Cross Validation Score for Random Forest**"
      ]
    },
    {
      "cell_type": "code",
      "metadata": {
        "id": "wzuH5jPgefUn",
        "outputId": "d86f95de-af4e-44bc-f99e-9665f0e95480",
        "colab": {
          "base_uri": "https://localhost:8080/"
        }
      },
      "source": [
        "cross_val_score_computation(randomForestClassifier_model,x_test,y_test)"
      ],
      "execution_count": 71,
      "outputs": [
        {
          "output_type": "stream",
          "text": [
            "\u001b[1mCross Validation Score 64.02 % \u001b[0m\n"
          ],
          "name": "stdout"
        }
      ]
    },
    {
      "cell_type": "markdown",
      "metadata": {
        "id": "k_6eKOobfCHV"
      },
      "source": [
        "#**XGBoost Algorithm**"
      ]
    },
    {
      "cell_type": "code",
      "metadata": {
        "id": "Y2y-6NYjelWg"
      },
      "source": [
        "from xgboost import XGBClassifier\n",
        "xgbClassifier = XGBClassifier()"
      ],
      "execution_count": 73,
      "outputs": []
    },
    {
      "cell_type": "markdown",
      "metadata": {
        "id": "ZxnxJG4ZfLzF"
      },
      "source": [
        "**Train the model**"
      ]
    },
    {
      "cell_type": "code",
      "metadata": {
        "id": "g_fbSFSJfKxR"
      },
      "source": [
        "xgbClassifier_model = xgbClassifier.fit(x_train,y_train)"
      ],
      "execution_count": 75,
      "outputs": []
    },
    {
      "cell_type": "markdown",
      "metadata": {
        "id": "NJd3S0oKfRZp"
      },
      "source": [
        "**predict the output**"
      ]
    },
    {
      "cell_type": "code",
      "metadata": {
        "id": "RGhrOyIpfQxK"
      },
      "source": [
        "y_op_xgbClassifier= xgbClassifier_model.predict(x_test)"
      ],
      "execution_count": 77,
      "outputs": []
    },
    {
      "cell_type": "markdown",
      "metadata": {
        "id": "yqmJ1SEVfZlM"
      },
      "source": [
        "#**Metrics for XGBoost Algorithm**"
      ]
    },
    {
      "cell_type": "code",
      "metadata": {
        "id": "M5JlJvFLfgE5",
        "outputId": "56e30aab-7f2f-46aa-f7fb-c11b8fb19bd2",
        "colab": {
          "base_uri": "https://localhost:8080/"
        }
      },
      "source": [
        "fetch_the_accuracy(y_op_xgbClassifier,y_test)"
      ],
      "execution_count": 78,
      "outputs": [
        {
          "output_type": "stream",
          "text": [
            "\u001b[1mAccuracy Score =  65.0 %\u001b[0m\n",
            "\u001b[1mThe Classification report\u001b[0m\n",
            "              precision    recall  f1-score   support\n",
            "\n",
            "           0       0.74      0.43      0.55       686\n",
            "           1       0.61      0.85      0.71       698\n",
            "\n",
            "    accuracy                           0.65      1384\n",
            "   macro avg       0.68      0.64      0.63      1384\n",
            "weighted avg       0.67      0.65      0.63      1384\n",
            "\n"
          ],
          "name": "stdout"
        }
      ]
    },
    {
      "cell_type": "code",
      "metadata": {
        "id": "Cdvo_HyRfnBO",
        "outputId": "2aa984cb-ec89-4589-db7b-acdf3d99a2a0",
        "colab": {
          "base_uri": "https://localhost:8080/",
          "height": 267
        }
      },
      "source": [
        "#visualize the metrics \n",
        "visualizer(classification_report(y_test,y_op_xgbClassifier,output_dict=True))"
      ],
      "execution_count": 79,
      "outputs": [
        {
          "output_type": "display_data",
          "data": {
            "image/png": "[encoded data removed]",
            "text/plain": [
              "<Figure size 432x288 with 2 Axes>"
            ]
          },
          "metadata": {
            "tags": [],
            "needs_background": "light"
          }
        }
      ]
    },
    {
      "cell_type": "markdown",
      "metadata": {
        "id": "iaEwfvlxfuON"
      },
      "source": [
        "**Cross Validation Score for XGBoost**"
      ]
    },
    {
      "cell_type": "code",
      "metadata": {
        "id": "SElykfwAfqW2",
        "outputId": "e8f83588-85ec-4486-96f1-674ff16d3c6a",
        "colab": {
          "base_uri": "https://localhost:8080/"
        }
      },
      "source": [
        "cross_val_score_computation(xgbClassifier_model,x_test,y_test)"
      ],
      "execution_count": 80,
      "outputs": [
        {
          "output_type": "stream",
          "text": [
            "\u001b[1mCross Validation Score 58.75 % \u001b[0m\n"
          ],
          "name": "stdout"
        }
      ]
    },
    {
      "cell_type": "markdown",
      "metadata": {
        "id": "I8GKBrKPgJu6"
      },
      "source": [
        "#**The accuracy for various models**"
      ]
    },
    {
      "cell_type": "markdown",
      "metadata": {
        "id": "ysKYm6begQPy"
      },
      "source": [
        "\n",
        "\n",
        "1.   **MultinomialNB : 76.0%**\n",
        "2.   **SVM : 77.0%**\n",
        "3.   **KNN : 56.9%**\n",
        "4.   **Decision Tree : 65.0%**\n",
        "5.   **Random Forest : 72.0%**\n",
        "6.   **XGBoost : 65.0%**\n"
      ]
    }
  ]
}