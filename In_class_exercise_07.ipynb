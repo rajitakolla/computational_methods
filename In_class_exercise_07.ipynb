{
  "nbformat": 4,
  "nbformat_minor": 0,
  "metadata": {
    "kernelspec": {
      "display_name": "Python 3",
      "language": "python",
      "name": "python3"
    },
    "language_info": {
      "codemirror_mode": {
        "name": "ipython",
        "version": 3
      },
      "file_extension": ".py",
      "mimetype": "text/x-python",
      "name": "python",
      "nbconvert_exporter": "python",
      "pygments_lexer": "ipython3",
      "version": "3.7.4"
    },
    "colab": {
      "name": "In_class_exercise_07.ipynb",
      "provenance": [],
      "collapsed_sections": [],
      "toc_visible": true,
      "include_colab_link": true
    }
  },
  "cells": [
    {
      "cell_type": "markdown",
      "metadata": {
        "id": "view-in-github",
        "colab_type": "text"
      },
      "source": [
        "<a href=\"https://colab.research.google.com/github/rajitakolla/computational_methods/blob/master/In_class_exercise_07.ipynb\" target=\"_parent\"><img src=\"https://colab.research.google.com/assets/colab-badge.svg\" alt=\"Open In Colab\"/></a>"
      ]
    },
    {
      "cell_type": "markdown",
      "metadata": {
        "id": "Mk4yCRfvdR5C"
      },
      "source": [
        "# **The seventh in-class-exercise (20 points in total, 10/21/2020)**"
      ]
    },
    {
      "cell_type": "markdown",
      "metadata": {
        "id": "Th7EOuGXdR5G"
      },
      "source": [
        "Question description: In the last in-class-exercise (exercise-06), you collected the titles of 100 articles about data science, natural language processing, and machine learning. The 100 article titles will be used as the text corpus of this exercise. Perform the following tasks:"
      ]
    },
    {
      "cell_type": "markdown",
      "metadata": {
        "id": "GxyOKdmZdR5J"
      },
      "source": [
        "## (1) (8 points) Generate K topics by using LDA, the number of topics K should be decided by the coherence score, then summarize what are the topics. You may refer the code here: \n",
        "\n",
        "https://www.machinelearningplus.com/nlp/topic-modeling-gensim-python/"
      ]
    },
    {
      "cell_type": "code",
      "metadata": {
        "id": "64nxY1s5dR5L",
        "outputId": "09fd8572-3ecf-489f-c8ff-d618ceac43a1",
        "colab": {
          "base_uri": "https://localhost:8080/",
          "height": 67
        }
      },
      "source": [
        "# Write your code here\n",
        "import nltk; \n",
        "nltk.download('stopwords')"
      ],
      "execution_count": 147,
      "outputs": [
        {
          "output_type": "stream",
          "text": [
            "[nltk_data] Downloading package stopwords to /root/nltk_data...\n",
            "[nltk_data]   Package stopwords is already up-to-date!\n"
          ],
          "name": "stdout"
        },
        {
          "output_type": "execute_result",
          "data": {
            "text/plain": [
              "True"
            ]
          },
          "metadata": {
            "tags": []
          },
          "execution_count": 147
        }
      ]
    },
    {
      "cell_type": "code",
      "metadata": {
        "id": "16AiVfFqZZXu"
      },
      "source": [
        "!pip install spacy\n",
        "!pip install pyLDAvis"
      ],
      "execution_count": null,
      "outputs": []
    },
    {
      "cell_type": "code",
      "metadata": {
        "id": "0EuaeMuxkC6J"
      },
      "source": [
        "import re\n",
        "import numpy as np\n",
        "import pandas as pd\n",
        "from pprint import pprint\n",
        "\n",
        "# Gensim\n",
        "import gensim\n",
        "import gensim.corpora as corpora\n",
        "from gensim.utils import simple_preprocess\n",
        "from gensim.models import CoherenceModel\n",
        "\n",
        "# spacy for lemmatization\n",
        "import spacy\n",
        "\n",
        "# Plotting tools\n",
        "import pyLDAvis\n",
        "import pyLDAvis.gensim  # don't skip this\n",
        "import matplotlib.pyplot as plt\n",
        "%matplotlib inline\n",
        "\n",
        "# Enable logging for gensim - optional\n",
        "import logging\n",
        "logging.basicConfig(format='%(asctime)s : %(levelname)s : %(message)s', level=logging.ERROR)\n",
        "\n",
        "import warnings\n",
        "warnings.filterwarnings(\"ignore\",category=DeprecationWarning)"
      ],
      "execution_count": 150,
      "outputs": []
    },
    {
      "cell_type": "code",
      "metadata": {
        "id": "JgTd0-Zlk6I8"
      },
      "source": [
        "# NLTK Stop words\n",
        "from nltk.corpus import stopwords\n",
        "stop_words = stopwords.words('english')"
      ],
      "execution_count": 151,
      "outputs": []
    },
    {
      "cell_type": "code",
      "metadata": {
        "id": "Gi7E2vlSnZgF",
        "outputId": "895e2042-d37c-453f-a4ed-fa97cc823a84",
        "colab": {
          "base_uri": "https://localhost:8080/",
          "height": 195
        }
      },
      "source": [
        "import pandas as pd\n",
        "\n",
        "df = pd.read_csv(\"/content/q1_data.csv\")\n",
        "#display only 10\n",
        "df.head(5)"
      ],
      "execution_count": 152,
      "outputs": [
        {
          "output_type": "execute_result",
          "data": {
            "text/html": [
              "<div>\n",
              "<style scoped>\n",
              "    .dataframe tbody tr th:only-of-type {\n",
              "        vertical-align: middle;\n",
              "    }\n",
              "\n",
              "    .dataframe tbody tr th {\n",
              "        vertical-align: top;\n",
              "    }\n",
              "\n",
              "    .dataframe thead th {\n",
              "        text-align: right;\n",
              "    }\n",
              "</style>\n",
              "<table border=\"1\" class=\"dataframe\">\n",
              "  <thead>\n",
              "    <tr style=\"text-align: right;\">\n",
              "      <th></th>\n",
              "      <th>Title</th>\n",
              "      <th>Author</th>\n",
              "    </tr>\n",
              "  </thead>\n",
              "  <tbody>\n",
              "    <tr>\n",
              "      <th>0</th>\n",
              "      <td>Data science in action</td>\n",
              "      <td>W Van Der Aalst - Process mining, 2016 - Springer</td>\n",
              "    </tr>\n",
              "    <tr>\n",
              "      <th>1</th>\n",
              "      <td>Data science and its relationship to big data ...</td>\n",
              "      <td>F Provost, T Fawcett - Big data, 2013 - lieber...</td>\n",
              "    </tr>\n",
              "    <tr>\n",
              "      <th>2</th>\n",
              "      <td>Data Science for Business: What you need to kn...</td>\n",
              "      <td>F Provost, T Fawcett - 2013 - books.google.com</td>\n",
              "    </tr>\n",
              "    <tr>\n",
              "      <th>3</th>\n",
              "      <td>Data science and prediction</td>\n",
              "      <td>V Dhar - Communications of the ACM, 2013 - dl....</td>\n",
              "    </tr>\n",
              "    <tr>\n",
              "      <th>4</th>\n",
              "      <td>Data science, predictive analytics, and big da...</td>\n",
              "      <td>MA Waller, SE Fawcett - Journal of Business Lo...</td>\n",
              "    </tr>\n",
              "  </tbody>\n",
              "</table>\n",
              "</div>"
            ],
            "text/plain": [
              "                                               Title                                             Author\n",
              "0                             Data science in action  W Van Der Aalst - Process mining, 2016 - Springer\n",
              "1  Data science and its relationship to big data ...  F Provost, T Fawcett - Big data, 2013 - lieber...\n",
              "2  Data Science for Business: What you need to kn...     F Provost, T Fawcett - 2013 - books.google.com\n",
              "3                        Data science and prediction  V Dhar - Communications of the ACM, 2013 - dl....\n",
              "4  Data science, predictive analytics, and big da...  MA Waller, SE Fawcett - Journal of Business Lo..."
            ]
          },
          "metadata": {
            "tags": []
          },
          "execution_count": 152
        }
      ]
    },
    {
      "cell_type": "code",
      "metadata": {
        "id": "ufRVZ4Rqo-dE",
        "outputId": "0699ca20-dcab-447e-941e-660cff012fbe",
        "colab": {
          "base_uri": "https://localhost:8080/",
          "height": 54
        }
      },
      "source": [
        "df[\"Title\"]=df[\"Title\"].str.lower()\n",
        "# Convert to list\n",
        "data = df[\"Title\"].values.tolist()\n",
        "\n",
        "#remove end spacings\n",
        "data = [re.sub(\" $\",\"\",sent) for sent in data]\n",
        "\n",
        "# Remove Emails\n",
        "data = [re.sub('\\S*@\\S*\\s?', '', sent) for sent in data]\n",
        "\n",
        "# Remove new line characters\n",
        "data = [re.sub('\\s+', ' ', sent) for sent in data]\n",
        "\n",
        "# Remove distracting single quotes\n",
        "data = [re.sub(\"\\'\", \"\", sent) for sent in data]\n",
        "\n",
        "print(data[:5])"
      ],
      "execution_count": 153,
      "outputs": [
        {
          "output_type": "stream",
          "text": [
            "['data science in action', 'data science and its relationship to big data and data-driven decision making', 'data science for business: what you need to know about data mining and data-analytic thinking', 'data science and prediction', 'data science, predictive analytics, and big data: a revolution that will transform supply chain design and management']\n"
          ],
          "name": "stdout"
        }
      ]
    },
    {
      "cell_type": "code",
      "metadata": {
        "id": "XEXouulezKlZ",
        "outputId": "110649e3-4838-458d-e085-f8af43afbe47",
        "colab": {
          "base_uri": "https://localhost:8080/",
          "height": 54
        }
      },
      "source": [
        "def sent_to_words(sentences):\n",
        "    for sentence in sentences:\n",
        "        yield(gensim.utils.simple_preprocess(str(sentence), deacc=True))  # deacc=True removes punctuations\n",
        "\n",
        "data_words = list(sent_to_words(data))\n",
        "\n",
        "print(data_words[:5])"
      ],
      "execution_count": 154,
      "outputs": [
        {
          "output_type": "stream",
          "text": [
            "[['data', 'science', 'in', 'action'], ['data', 'science', 'and', 'its', 'relationship', 'to', 'big', 'data', 'and', 'data', 'driven', 'decision', 'making'], ['data', 'science', 'for', 'business', 'what', 'you', 'need', 'to', 'know', 'about', 'data', 'mining', 'and', 'data', 'analytic', 'thinking'], ['data', 'science', 'and', 'prediction'], ['data', 'science', 'predictive', 'analytics', 'and', 'big', 'data', 'revolution', 'that', 'will', 'transform', 'supply', 'chain', 'design', 'and', 'management']]\n"
          ],
          "name": "stdout"
        }
      ]
    },
    {
      "cell_type": "code",
      "metadata": {
        "id": "oEq7WNhFzQK-",
        "outputId": "e2c99d25-228e-4a2c-e073-a37e4e8cb94b",
        "colab": {
          "base_uri": "https://localhost:8080/",
          "height": 34
        }
      },
      "source": [
        "# Build the bigram and trigram models\n",
        "bigram = gensim.models.Phrases(data_words, min_count=5, threshold=100) # higher threshold fewer phrases.\n",
        "trigram = gensim.models.Phrases(bigram[data_words], threshold=100)  \n",
        "\n",
        "# Faster way to get a sentence clubbed as a trigram/bigram\n",
        "bigram_mod = gensim.models.phrases.Phraser(bigram)\n",
        "trigram_mod = gensim.models.phrases.Phraser(trigram)\n",
        "\n",
        "# See trigram example\n",
        "print(trigram_mod[bigram_mod[data_words[0]]])"
      ],
      "execution_count": 155,
      "outputs": [
        {
          "output_type": "stream",
          "text": [
            "['data', 'science', 'in', 'action']\n"
          ],
          "name": "stdout"
        }
      ]
    },
    {
      "cell_type": "code",
      "metadata": {
        "id": "DyC5i3Wfz8M6"
      },
      "source": [
        "# Define functions for stopwords, bigrams, trigrams and lemmatization\n",
        "def remove_stopwords(texts):\n",
        "    return [[word for word in simple_preprocess(str(doc)) if word not in stop_words] for doc in texts]\n",
        "\n",
        "def make_bigrams(texts):\n",
        "    return [bigram_mod[doc] for doc in texts]\n",
        "\n",
        "def make_trigrams(texts):\n",
        "    return [trigram_mod[bigram_mod[doc]] for doc in texts]\n",
        "\n",
        "def lemmatization(texts, allowed_postags=['NOUN', 'ADJ', 'VERB', 'ADV']):\n",
        "    \"\"\"https://spacy.io/api/annotation\"\"\"\n",
        "    texts_out = []\n",
        "    for sent in texts:\n",
        "        doc = nlp(\" \".join(sent)) \n",
        "        texts_out.append([token.lemma_ for token in doc if token.pos_ in allowed_postags])\n",
        "    return texts_out"
      ],
      "execution_count": 156,
      "outputs": []
    },
    {
      "cell_type": "code",
      "metadata": {
        "id": "aIu82kq30DLl",
        "outputId": "ac3a516a-7427-456d-d3ee-08c648fa01cf",
        "colab": {
          "base_uri": "https://localhost:8080/",
          "height": 34
        }
      },
      "source": [
        "# Remove Stop Words\n",
        "data_words_nostops = remove_stopwords(data_words)\n",
        "\n",
        "# Form Bigrams\n",
        "data_words_bigrams = make_bigrams(data_words_nostops)\n",
        "\n",
        "# Initialize spacy 'en' model, keeping only tagger component (for efficiency)\n",
        "# python3 -m spacy download en\n",
        "nlp = spacy.load('en', disable=['parser', 'ner'])\n",
        "\n",
        "# Do lemmatization keeping only noun, adj, vb, adv\n",
        "data_lemmatized = lemmatization(data_words_bigrams, allowed_postags=['NOUN', 'ADJ', 'VERB', 'ADV'])\n",
        "\n",
        "print(data_lemmatized[:1])"
      ],
      "execution_count": 157,
      "outputs": [
        {
          "output_type": "stream",
          "text": [
            "[['datum', 'science', 'action']]\n"
          ],
          "name": "stdout"
        }
      ]
    },
    {
      "cell_type": "code",
      "metadata": {
        "id": "nT4BO2AZ0MDr",
        "outputId": "53ba22d8-f7d1-4a8e-d5d1-c0d7c10ec888",
        "colab": {
          "base_uri": "https://localhost:8080/",
          "height": 34
        }
      },
      "source": [
        "# Create Dictionary\n",
        "id2word = corpora.Dictionary(data_lemmatized)\n",
        "\n",
        "# Create Corpus\n",
        "texts = data_lemmatized\n",
        "\n",
        "# Term Document Frequency\n",
        "corpus = [id2word.doc2bow(text) for text in texts]\n",
        "\n",
        "# View\n",
        "print(corpus[:1])"
      ],
      "execution_count": 158,
      "outputs": [
        {
          "output_type": "stream",
          "text": [
            "[[(0, 1), (1, 1), (2, 1)]]\n"
          ],
          "name": "stdout"
        }
      ]
    },
    {
      "cell_type": "code",
      "metadata": {
        "id": "KHQm0Sqv0Pjs"
      },
      "source": [
        "res = [[(id2word[id], freq) for id, freq in cp] for cp in corpus[:]]"
      ],
      "execution_count": 159,
      "outputs": []
    },
    {
      "cell_type": "code",
      "metadata": {
        "id": "HIYKBdpY_LyC"
      },
      "source": [
        "lda_model = gensim.models.ldamodel.LdaModel(corpus=corpus,id2word=id2word,num_topics=13,random_state=100,update_every=1,chunksize=100,passes=10,alpha='auto',per_word_topics=True)"
      ],
      "execution_count": 192,
      "outputs": []
    },
    {
      "cell_type": "code",
      "metadata": {
        "id": "bzqD9qnRlVIG",
        "outputId": "4e8b4e04-4299-4fa4-fdd5-57c911d7d886",
        "colab": {
          "base_uri": "https://localhost:8080/",
          "height": 890
        }
      },
      "source": [
        "# Print the Keyword in the 10 topics\n",
        "pprint(lda_model.print_topics())\n",
        "doc_lda = lda_model[corpus]"
      ],
      "execution_count": 193,
      "outputs": [
        {
          "output_type": "stream",
          "text": [
            "[(0,\n",
            "  '0.080*\"science\" + 0.048*\"datum\" + 0.033*\"information\" + 0.033*\"model\" + '\n",
            "  '0.017*\"teach\" + 0.017*\"study\" + 0.017*\"distil\" + 0.017*\"law\" + 0.017*\"free\" '\n",
            "  '+ 0.017*\"experimental\"'),\n",
            " (1,\n",
            "  '0.072*\"science\" + 0.049*\"nuclear\" + 0.025*\"vii\" + 0.025*\"evaluate\" + '\n",
            "  '0.025*\"technology\" + 0.025*\"next\" + 0.025*\"generation\" + 0.025*\"data\" + '\n",
            "  '0.025*\"endf\" + 0.025*\"unnatural\"'),\n",
            " (2,\n",
            "  '0.175*\"datum\" + 0.038*\"mining\" + 0.026*\"protein\" + 0.026*\"network\" + '\n",
            "  '0.026*\"big\" + 0.026*\"science\" + 0.026*\"citation\" + 0.013*\"ranking\" + '\n",
            "  '0.013*\"impact\" + 0.013*\"web\"'),\n",
            " (3,\n",
            "  '0.097*\"science\" + 0.037*\"research\" + 0.025*\"fair\" + 0.025*\"global\" + '\n",
            "  '0.025*\"change\" + 0.025*\"big\" + 0.025*\"datum\" + 0.013*\"citizen\" + '\n",
            "  '0.013*\"cloud\" + 0.013*\"guide\"'),\n",
            " (4,\n",
            "  '0.071*\"science\" + 0.036*\"new\" + 0.019*\"application\" + 0.019*\"method\" + '\n",
            "  '0.019*\"reference\" + 0.019*\"industry\" + 0.019*\"comprehensive\" + '\n",
            "  '0.019*\"mining\" + 0.019*\"statistic\" + 0.019*\"tool\"'),\n",
            " (5,\n",
            "  '0.070*\"datum\" + 0.056*\"data\" + 0.042*\"science\" + 0.029*\"climate\" + '\n",
            "  '0.029*\"analytic\" + 0.015*\"know\" + 0.015*\"business\" + 0.015*\"thinking\" + '\n",
            "  '0.015*\"nee\" + 0.015*\"mining\"'),\n",
            " (6,\n",
            "  '0.072*\"datum\" + 0.025*\"supply\" + 0.025*\"predictive\" + 0.025*\"incomplete\" + '\n",
            "  '0.025*\"political\" + 0.025*\"design\" + 0.025*\"chain\" + 0.025*\"transform\" + '\n",
            "  '0.025*\"analyze\" + 0.025*\"imputation\"'),\n",
            " (7,\n",
            "  '0.122*\"science\" + 0.061*\"datum\" + 0.025*\"management\" + 0.025*\"new\" + '\n",
            "  '0.025*\"scientific\" + 0.025*\"workflow\" + 0.013*\"customer\" + 0.013*\"analytic\" '\n",
            "  '+ 0.013*\"mining\" + 0.013*\"win\"'),\n",
            " (8,\n",
            "  '0.077*\"science\" + 0.058*\"datum\" + 0.039*\"knowledge\" + 0.020*\"acquisition\" + '\n",
            "  '0.020*\"literacy\" + 0.020*\"theoretical\" + 0.020*\"instruction\" + 0.020*\"role\" '\n",
            "  '+ 0.020*\"implication\" + 0.020*\"run\"'),\n",
            " (9,\n",
            "  '0.030*\"mineralogical\" + 0.030*\"derive\" + 0.030*\"computational\" + '\n",
            "  '0.030*\"omega\" + 0.030*\"social\" + 0.030*\"come\" + 0.030*\"global\" + '\n",
            "  '0.030*\"history\" + 0.030*\"life\" + 0.030*\"network\"'),\n",
            " (10,\n",
            "  '0.081*\"datum\" + 0.041*\"science\" + 0.041*\"analysis\" + 0.028*\"algorithm\" + '\n",
            "  '0.014*\"nuclear\" + 0.014*\"product\" + 0.014*\"cross\" + 0.014*\"fission\" + '\n",
            "  '0.014*\"covariance\" + 0.014*\"decay\"'),\n",
            " (11,\n",
            "  '0.064*\"science\" + 0.064*\"structure\" + 0.064*\"data\" + 0.033*\"fundamental\" + '\n",
            "  '0.033*\"datum\" + 0.017*\"inference\" + 0.017*\"create\" + 0.017*\"phylogenetic\" + '\n",
            "  '0.017*\"tree\" + 0.017*\"cipre\"'),\n",
            " (12,\n",
            "  '0.042*\"administrative\" + 0.042*\"truth\" + 0.042*\"socially\" + '\n",
            "  '0.042*\"construct\" + 0.003*\"science\" + 0.003*\"datum\" + 0.003*\"mining\" + '\n",
            "  '0.003*\"data\" + 0.003*\"big\" + 0.003*\"analysis\"')]\n"
          ],
          "name": "stdout"
        }
      ]
    },
    {
      "cell_type": "code",
      "metadata": {
        "id": "kiTDGkOvlgzu",
        "outputId": "d7369380-6841-40ef-bd17-17ca2d69b6f1",
        "colab": {
          "base_uri": "https://localhost:8080/",
          "height": 84
        }
      },
      "source": [
        "# Compute Perplexity\n",
        "print('\\nPerplexity: ', lda_model.log_perplexity(corpus))  # a measure of how good the model is. lower the better.\n",
        "\n",
        "# Compute Coherence Score\n",
        "coherence_model_lda = CoherenceModel(model=lda_model, texts=data_lemmatized, dictionary=id2word, coherence='c_v')\n",
        "coherence_lda = coherence_model_lda.get_coherence()\n",
        "print('\\nCoherence Score: ', coherence_lda)"
      ],
      "execution_count": 194,
      "outputs": [
        {
          "output_type": "stream",
          "text": [
            "\n",
            "Perplexity:  -6.28346451193514\n",
            "\n",
            "Coherence Score:  0.3820797820231261\n"
          ],
          "name": "stdout"
        }
      ]
    },
    {
      "cell_type": "code",
      "metadata": {
        "id": "q4Bo-fxsZ1mr"
      },
      "source": [
        "!pip install --upgrade gensim"
      ],
      "execution_count": null,
      "outputs": []
    },
    {
      "cell_type": "code",
      "metadata": {
        "id": "IhVB4KqQwJKW",
        "outputId": "7868c8d8-bac8-4f2e-8deb-1ac027f804c9",
        "colab": {
          "base_uri": "https://localhost:8080/",
          "height": 67
        }
      },
      "source": [
        "import os       #importing os to set environment variable\n",
        "def install_java():\n",
        "  !apt-get install -y openjdk-8-jdk-headless -qq > /dev/null      #install openjdk\n",
        "  os.environ[\"JAVA_HOME\"] = \"/usr/lib/jvm/java-8-openjdk-amd64\"     #set environment variable\n",
        "  !java -version       #check java version\n",
        "install_java()"
      ],
      "execution_count": 124,
      "outputs": [
        {
          "output_type": "stream",
          "text": [
            "openjdk version \"11.0.8\" 2020-07-14\n",
            "OpenJDK Runtime Environment (build 11.0.8+10-post-Ubuntu-0ubuntu118.04.1)\n",
            "OpenJDK 64-Bit Server VM (build 11.0.8+10-post-Ubuntu-0ubuntu118.04.1, mixed mode, sharing)\n"
          ],
          "name": "stdout"
        }
      ]
    },
    {
      "cell_type": "code",
      "metadata": {
        "id": "cxduf-duZ6Pg"
      },
      "source": [
        "!wget http://mallet.cs.umass.edu/dist/mallet-2.0.8.zip\n",
        "!unzip mallet-2.0.8.zip"
      ],
      "execution_count": null,
      "outputs": []
    },
    {
      "cell_type": "code",
      "metadata": {
        "id": "xQJI0TJRlv1-"
      },
      "source": [
        "os.environ['MALLET_HOME'] = '/content/mallet-2.0.8'\n",
        "mallet_path = '/content/mallet-2.0.8/bin/mallet'\n",
        " \n",
        "ldamallet = gensim.models.wrappers.LdaMallet(mallet_path, corpus=corpus, num_topics=13, id2word=id2word)"
      ],
      "execution_count": 195,
      "outputs": []
    },
    {
      "cell_type": "code",
      "metadata": {
        "id": "lbJl-y4hpEKh",
        "outputId": "84c0141c-4ea2-4fc9-d22b-83e94db3c43a",
        "colab": {
          "base_uri": "https://localhost:8080/",
          "height": 1000
        }
      },
      "source": [
        "# Show Topics\n",
        "pprint(ldamallet.show_topics(formatted=False))"
      ],
      "execution_count": 197,
      "outputs": [
        {
          "output_type": "stream",
          "text": [
            "[(3,\n",
            "  [('mining', 0.2),\n",
            "   ('cluster', 0.06666666666666667),\n",
            "   ('comprehensive', 0.03333333333333333),\n",
            "   ('industry', 0.03333333333333333),\n",
            "   ('quality', 0.03333333333333333),\n",
            "   ('administrative', 0.03333333333333333),\n",
            "   ('genomic', 0.03333333333333333),\n",
            "   ('machine', 0.03333333333333333),\n",
            "   ('section', 0.03333333333333333),\n",
            "   ('reference', 0.03333333333333333)]),\n",
            " (1,\n",
            "  [('scientific', 0.15384615384615385),\n",
            "   ('workflow', 0.07692307692307693),\n",
            "   ('political', 0.07692307692307693),\n",
            "   ('fair', 0.038461538461538464),\n",
            "   ('evil', 0.038461538461538464),\n",
            "   ('cluster', 0.038461538461538464),\n",
            "   ('analyze', 0.038461538461538464),\n",
            "   ('potential', 0.038461538461538464),\n",
            "   ('management', 0.038461538461538464),\n",
            "   ('infrastructure', 0.038461538461538464)]),\n",
            " (12,\n",
            "  [('science', 0.38095238095238093),\n",
            "   ('introduction', 0.047619047619047616),\n",
            "   ('fair', 0.047619047619047616),\n",
            "   ('storage', 0.023809523809523808),\n",
            "   ('econometric', 0.023809523809523808),\n",
            "   ('high', 0.023809523809523808),\n",
            "   ('investment', 0.023809523809523808),\n",
            "   ('story', 0.023809523809523808),\n",
            "   ('summarize', 0.023809523809523808),\n",
            "   ('challenge', 0.023809523809523808)]),\n",
            " (4,\n",
            "  [('big', 0.175),\n",
            "   ('network', 0.125),\n",
            "   ('method', 0.1),\n",
            "   ('open', 0.05),\n",
            "   ('endf', 0.05),\n",
            "   ('free', 0.025),\n",
            "   ('computer', 0.025),\n",
            "   ('imputation', 0.025),\n",
            "   ('socially', 0.025),\n",
            "   ('unrealized', 0.025)]),\n",
            " (11,\n",
            "  [('management', 0.0975609756097561),\n",
            "   ('analysis', 0.0975609756097561),\n",
            "   ('system', 0.07317073170731707),\n",
            "   ('qualitative', 0.024390243902439025),\n",
            "   ('role', 0.024390243902439025),\n",
            "   ('scientist', 0.024390243902439025),\n",
            "   ('base', 0.024390243902439025),\n",
            "   ('theoretical', 0.024390243902439025),\n",
            "   ('yield', 0.024390243902439025),\n",
            "   ('multiple', 0.024390243902439025)]),\n",
            " (2,\n",
            "  [('product', 0.1111111111111111),\n",
            "   ('relationship', 0.07407407407407407),\n",
            "   ('citizen', 0.07407407407407407),\n",
            "   ('citation', 0.037037037037037035),\n",
            "   ('dawn', 0.037037037037037035),\n",
            "   ('social', 0.037037037037037035),\n",
            "   ('space', 0.037037037037037035),\n",
            "   ('dimensionality', 0.037037037037037035),\n",
            "   ('implication', 0.037037037037037035),\n",
            "   ('link', 0.037037037037037035)]),\n",
            " (10,\n",
            "  [('analytic', 0.1282051282051282),\n",
            "   ('knowledge', 0.10256410256410256),\n",
            "   ('change', 0.07692307692307693),\n",
            "   ('global', 0.07692307692307693),\n",
            "   ('algorithm', 0.05128205128205128),\n",
            "   ('tap', 0.02564102564102564),\n",
            "   ('fundamental', 0.02564102564102564),\n",
            "   ('community', 0.02564102564102564),\n",
            "   ('opportunistic', 0.02564102564102564),\n",
            "   ('tool', 0.02564102564102564)]),\n",
            " (8,\n",
            "  [('science', 0.29411764705882354),\n",
            "   ('large', 0.058823529411764705),\n",
            "   ('computational', 0.029411764705882353),\n",
            "   ('fundamental', 0.029411764705882353),\n",
            "   ('make', 0.029411764705882353),\n",
            "   ('text', 0.029411764705882353),\n",
            "   ('supply', 0.029411764705882353),\n",
            "   ('cross', 0.029411764705882353),\n",
            "   ('intensive', 0.029411764705882353),\n",
            "   ('time', 0.029411764705882353)]),\n",
            " (5,\n",
            "  [('data', 0.2558139534883721),\n",
            "   ('derive', 0.046511627906976744),\n",
            "   ('technology', 0.046511627906976744),\n",
            "   ('technique', 0.023255813953488372),\n",
            "   ('ranking', 0.023255813953488372),\n",
            "   ('school', 0.023255813953488372),\n",
            "   ('integration', 0.023255813953488372),\n",
            "   ('teach', 0.023255813953488372),\n",
            "   ('pass', 0.023255813953488372),\n",
            "   ('education', 0.023255813953488372)]),\n",
            " (6,\n",
            "  [('datum', 0.5),\n",
            "   ('structure', 0.1),\n",
            "   ('discovery', 0.05),\n",
            "   ('vii', 0.05),\n",
            "   ('application', 0.025),\n",
            "   ('sixth', 0.025),\n",
            "   ('online', 0.025),\n",
            "   ('predictive', 0.025),\n",
            "   ('create', 0.025),\n",
            "   ('facility', 0.025)])]\n"
          ],
          "name": "stdout"
        }
      ]
    },
    {
      "cell_type": "code",
      "metadata": {
        "id": "CMT1mGD8bS64",
        "outputId": "512a7c27-4cab-47f1-b010-56336bba7a75",
        "colab": {
          "base_uri": "https://localhost:8080/",
          "height": 50
        }
      },
      "source": [
        "# Compute Coherence Score\n",
        "coherence_model_ldamallet = CoherenceModel(model=ldamallet, texts=data_lemmatized, dictionary=id2word, coherence='c_v')\n",
        "coherence_ldamallet = coherence_model_ldamallet.get_coherence()\n",
        "print('\\nCoherence Score: ', coherence_ldamallet)"
      ],
      "execution_count": 182,
      "outputs": [
        {
          "output_type": "stream",
          "text": [
            "\n",
            "Coherence Score:  0.7786503113064759\n"
          ],
          "name": "stdout"
        }
      ]
    },
    {
      "cell_type": "code",
      "metadata": {
        "id": "b_RpplOs2VTE"
      },
      "source": [
        "def compute_coherence_values(dictionary, corpus, texts, start, limit, step):\n",
        "    \"\"\"\n",
        "    Compute c_v coherence for various number of topics\n",
        "\n",
        "    Parameters:\n",
        "    ----------\n",
        "    dictionary : Gensim dictionary\n",
        "    corpus : Gensim corpus\n",
        "    texts : List of input texts\n",
        "    limit : Max num of topics\n",
        "\n",
        "    Returns:\n",
        "    -------\n",
        "    model_list : List of LDA topic models\n",
        "    coherence_values : Coherence values corresponding to the LDA model with respective number of topics\n",
        "    \"\"\"\n",
        "    coherence_values = []\n",
        "    model_list = []\n",
        "    for num_topics in range(start, limit, step):\n",
        "        model = gensim.models.wrappers.LdaMallet(mallet_path, corpus=corpus, num_topics=num_topics, id2word=id2word)\n",
        "        model_list.append(model)\n",
        "        coherencemodel = CoherenceModel(model=model, texts=texts, dictionary=dictionary, coherence='c_v')\n",
        "        coherence_values.append(coherencemodel.get_coherence())\n",
        "\n",
        "    return model_list, coherence_values"
      ],
      "execution_count": 198,
      "outputs": []
    },
    {
      "cell_type": "code",
      "metadata": {
        "id": "ZHzGfaRU2d-U"
      },
      "source": [
        "model_list, coherence_values_lda = compute_coherence_values(dictionary=id2word, corpus=corpus, texts=data_lemmatized, start=2, limit=40, step=6)"
      ],
      "execution_count": 199,
      "outputs": []
    },
    {
      "cell_type": "code",
      "metadata": {
        "id": "ndNSQymJ3kj_"
      },
      "source": [
        "# Show graph\n",
        "limit=40; start=2; step=6;\n",
        "x = range(start, limit, step)"
      ],
      "execution_count": 200,
      "outputs": []
    },
    {
      "cell_type": "code",
      "metadata": {
        "id": "hgiVZsJK2yy5",
        "outputId": "dea6b2f0-22e8-4a28-8fea-0e19d2377841",
        "colab": {
          "base_uri": "https://localhost:8080/",
          "height": 134
        }
      },
      "source": [
        "for m, cv in zip(x, coherence_values_lda):\n",
        "    print(\"Num Topics =\", m, \" has Coherence Value of\", round(cv, 4))"
      ],
      "execution_count": 186,
      "outputs": [
        {
          "output_type": "stream",
          "text": [
            "Num Topics = 2  has Coherence Value of 0.6823\n",
            "Num Topics = 8  has Coherence Value of 0.7721\n",
            "Num Topics = 14  has Coherence Value of 0.7539\n",
            "Num Topics = 20  has Coherence Value of 0.7661\n",
            "Num Topics = 26  has Coherence Value of 0.7542\n",
            "Num Topics = 32  has Coherence Value of 0.7388\n",
            "Num Topics = 38  has Coherence Value of 0.7274\n"
          ],
          "name": "stdout"
        }
      ]
    },
    {
      "cell_type": "markdown",
      "metadata": {
        "id": "uFI05v9Wbo0r"
      },
      "source": [
        "**Here the coherence score is increasing for every topic. Hence the model is realtively acceptable**"
      ]
    },
    {
      "cell_type": "code",
      "metadata": {
        "id": "DNfchqKfZIoh",
        "outputId": "a1f0099c-41af-43d2-fc8b-ffc284156969",
        "colab": {
          "base_uri": "https://localhost:8080/",
          "height": 279
        }
      },
      "source": [
        "plt.plot(x, coherence_values_lda)\n",
        "plt.xlabel(\"Number of Topics\")\n",
        "plt.ylabel(\"Coherence score\")\n",
        "plt.legend((\"coherence_values\"), loc='best')\n",
        "plt.show()"
      ],
      "execution_count": 187,
      "outputs": [
        {
          "output_type": "display_data",
          "data": {
            "image/png": "[encoded data removed]",
            "text/plain": [
              "<Figure size 432x288 with 1 Axes>"
            ]
          },
          "metadata": {
            "tags": [],
            "needs_background": "light"
          }
        }
      ]
    },
    {
      "cell_type": "markdown",
      "metadata": {
        "id": "TfthhwCGehmW"
      },
      "source": [
        "**The coherence value is maximum at the value 13**\n"
      ]
    },
    {
      "cell_type": "code",
      "metadata": {
        "id": "hgIPle2h26TD",
        "outputId": "41a7d052-5a95-454b-86fa-52bb6e295e18",
        "colab": {
          "base_uri": "https://localhost:8080/",
          "height": 958
        }
      },
      "source": [
        "# Select the model and print the topics\n",
        "optimal_model = model_list[2]\n",
        "model_topics = optimal_model.show_topics(formatted=False)\n",
        "pprint(optimal_model.print_topics(num_words=10))"
      ],
      "execution_count": 202,
      "outputs": [
        {
          "output_type": "stream",
          "text": [
            "[(0,\n",
            "  '0.214*\"mining\" + 0.107*\"management\" + 0.071*\"change\" + 0.036*\"fair\" + '\n",
            "  '0.036*\"natural\" + 0.036*\"link\" + 0.036*\"plan\" + 0.036*\"investment\" + '\n",
            "  '0.036*\"section\" + 0.036*\"holographic\"'),\n",
            " (1,\n",
            "  '0.056*\"generation\" + 0.056*\"mission\" + 0.056*\"wise\" + 0.056*\"key\" + '\n",
            "  '0.056*\"resolution\" + 0.056*\"design\" + 0.056*\"qualitative\" + '\n",
            "  '0.056*\"citation\" + 0.056*\"increasingly\" + 0.056*\"infrastructure\"'),\n",
            " (2,\n",
            "  '0.364*\"datum\" + 0.212*\"big\" + 0.061*\"analyze\" + 0.030*\"master\" + '\n",
            "  '0.030*\"gateway\" + 0.030*\"transform\" + 0.030*\"decay\" + 0.030*\"make\" + '\n",
            "  '0.030*\"econometric\" + 0.030*\"mineralogical\"'),\n",
            " (3,\n",
            "  '0.190*\"model\" + 0.095*\"fair\" + 0.048*\"base\" + 0.048*\"technique\" + '\n",
            "  '0.048*\"construct\" + 0.048*\"citation\" + 0.048*\"social\" + 0.048*\"list\" + '\n",
            "  '0.048*\"dimensionality\" + 0.048*\"processing\"'),\n",
            " (4,\n",
            "  '0.125*\"protein\" + 0.125*\"science\" + 0.062*\"network\" + 0.062*\"comprehensive\" '\n",
            "  '+ 0.062*\"management\" + 0.031*\"message\" + 0.031*\"solution\" + 0.031*\"system\" '\n",
            "  '+ 0.031*\"customer\" + 0.031*\"create\"'),\n",
            " (5,\n",
            "  '0.306*\"data\" + 0.111*\"structure\" + 0.056*\"large\" + 0.056*\"nuclear\" + '\n",
            "  '0.056*\"vii\" + 0.028*\"fabricate\" + 0.028*\"cloud\" + 0.028*\"miss\" + '\n",
            "  '0.028*\"computational\" + 0.028*\"predictability\"'),\n",
            " (6,\n",
            "  '0.135*\"research\" + 0.081*\"cluster\" + 0.081*\"analytic\" + 0.081*\"algorithm\" + '\n",
            "  '0.054*\"knowledge\" + 0.054*\"derive\" + 0.027*\"miss\" + 0.027*\"concept\" + '\n",
            "  '0.027*\"social\" + 0.027*\"pipeline\"'),\n",
            " (7,\n",
            "  '0.146*\"datum\" + 0.073*\"information\" + 0.049*\"endf\" + 0.049*\"discovery\" + '\n",
            "  '0.024*\"text\" + 0.024*\"imputation\" + 0.024*\"high\" + 0.024*\"guide\" + '\n",
            "  '0.024*\"handbook\" + 0.024*\"alternative\"'),\n",
            " (8,\n",
            "  '0.132*\"analysis\" + 0.079*\"citizen\" + 0.079*\"global\" + 0.053*\"product\" + '\n",
            "  '0.026*\"hirise\" + 0.026*\"story\" + 0.026*\"form\" + 0.026*\"tap\" + '\n",
            "  '0.026*\"orientation\" + 0.026*\"problem\"'),\n",
            " (9,\n",
            "  '0.333*\"datum\" + 0.083*\"introduction\" + 0.028*\"summarize\" + '\n",
            "  '0.028*\"multivariate\" + 0.028*\"revolution\" + 0.028*\"ranking\" + '\n",
            "  '0.028*\"eukaryote\" + 0.028*\"school\" + 0.028*\"predict\" + 0.028*\"genomic\"'),\n",
            " (10,\n",
            "  '0.425*\"science\" + 0.100*\"scientific\" + 0.050*\"age\" + 0.050*\"technology\" + '\n",
            "  '0.025*\"reconnaissance\" + 0.025*\"multiple\" + 0.025*\"incomplete\" + '\n",
            "  '0.025*\"neural\" + 0.025*\"link\" + 0.025*\"tool\"'),\n",
            " (11,\n",
            "  '0.500*\"science\" + 0.053*\"analytic\" + 0.053*\"workflow\" + 0.026*\"principle\" + '\n",
            "  '0.026*\"combined\" + 0.026*\"omega\" + 0.026*\"integration\" + 0.026*\"potential\" '\n",
            "  '+ 0.026*\"visualize\" + 0.026*\"challenge\"'),\n",
            " (12,\n",
            "  '0.357*\"datum\" + 0.048*\"relationship\" + 0.024*\"enable\" + 0.024*\"image\" + '\n",
            "  '0.024*\"implication\" + 0.024*\"opportunistic\" + 0.024*\"nuclear\" + '\n",
            "  '0.024*\"local\" + 0.024*\"reduce\" + 0.024*\"point\"'),\n",
            " (13,\n",
            "  '0.195*\"science\" + 0.073*\"method\" + 0.049*\"network\" + 0.049*\"climate\" + '\n",
            "  '0.024*\"political\" + 0.024*\"develop\" + 0.024*\"monitoring\" + 0.024*\"evil\" + '\n",
            "  '0.024*\"cipre\" + 0.024*\"correlated\"')]\n"
          ],
          "name": "stdout"
        }
      ]
    },
    {
      "cell_type": "markdown",
      "metadata": {
        "id": "XciJyTTUce-_"
      },
      "source": [
        "**Graph for topics**"
      ]
    },
    {
      "cell_type": "code",
      "metadata": {
        "id": "IHBk-zdeceXu",
        "outputId": "75ce0e7b-2b5e-4b2b-fef4-927ad252e274",
        "colab": {
          "base_uri": "https://localhost:8080/",
          "height": 881
        }
      },
      "source": [
        "pyLDAvis.enable_notebook()\n",
        "vis = pyLDAvis.gensim.prepare(lda_model, corpus, id2word)\n",
        "vis"
      ],
      "execution_count": 201,
      "outputs": [
        {
          "output_type": "execute_result",
          "data": {
            "text/html": [
              "\n",
              "<link rel=\"stylesheet\" type=\"text/css\" href=\"https://cdn.rawgit.com/bmabey/pyLDAvis/files/ldavis.v1.0.0.css\">\n",
              "\n",
              "\n",
              "<div id=\"ldavis_el5971399763541992569601282034\"></div>\n",
              "<script type=\"text/javascript\">\n",
              "\n",
              "var ldavis_el5971399763541992569601282034_data = {\"mdsDat\": {\"x\": [-0.14099825166664987, -0.09952080744982077, 0.07709382112176291, 0.113290065178788, 0.026258081245754582, 0.07505226374669746, 0.02176220075554746, -0.09149470624901145, -0.017659256604664293, 0.0247718318507683, -0.006478713968383669, 0.01900214337428838, -0.0010786713350770263], \"y\": [0.03262191050037435, -0.06605478662625897, -0.16747292499114902, 0.05864864074402349, -0.05490099716137262, 0.06515814352930858, 0.007299000891702654, -0.013163188785377316, -0.011009788633139072, -0.024070778738496994, 0.10140238517704579, 0.030712432220656803, 0.04082995187268239], \"topics\": [1, 2, 3, 4, 5, 6, 7, 8, 9, 10, 11, 12, 13], \"cluster\": [1, 1, 1, 1, 1, 1, 1, 1, 1, 1, 1, 1, 1], \"Freq\": [12.220358713695461, 11.799446596335377, 11.469872232411038, 10.520231278068513, 10.11868250164419, 8.346211663986294, 8.236420785635104, 7.1355824327448785, 6.4155331078131965, 4.583298956027233, 4.522885502389276, 3.2687479660833754, 1.3627282631660604]}, \"tinfo\": {\"Term\": [\"datum\", \"data\", \"structure\", \"new\", \"science\", \"analysis\", \"nuclear\", \"network\", \"global\", \"knowledge\", \"big\", \"research\", \"model\", \"analytic\", \"mining\", \"management\", \"information\", \"scientific\", \"social\", \"derive\", \"age\", \"administrative\", \"truth\", \"construct\", \"socially\", \"fundamental\", \"algorithm\", \"analyze\", \"natural\", \"political\", \"global\", \"cloud\", \"potential\", \"guide\", \"revisit\", \"solution\", \"unrealized\", \"increasingly\", \"european\", \"tap\", \"local\", \"biodiversity\", \"resolution\", \"reconnaissance\", \"orbiter\", \"experiment\", \"high\", \"image\", \"hirise\", \"vision\", \"terrestrial\", \"qualitative\", \"education\", \"sixth\", \"control\", \"fisherie\", \"international\", \"result\", \"change\", \"fair\", \"research\", \"science\", \"big\", \"datum\", \"citizen\", \"open\", \"principle\", \"product\", \"workflow\", \"customer\", \"compete\", \"update\", \"win\", \"scientist\", \"stewardship\", \"art\", \"master\", \"eukaryote\", \"review\", \"many\", \"fabricate\", \"systematic\", \"falsify\", \"combined\", \"space\", \"guiding\", \"orientation\", \"time\", \"phylogeny\", \"grid\", \"distribution\", \"action\", \"investment\", \"engineering\", \"assimilation\", \"predictability\", \"scientific\", \"next\", \"new\", \"science\", \"management\", \"datum\", \"analytic\", \"mining\", \"principle\", \"fair\", \"introduction\", \"research\", \"relationship\", \"base\", \"citation\", \"ranking\", \"web\", \"source\", \"drive\", \"count\", \"decision\", \"making\", \"faculty\", \"interaction\", \"genomic\", \"predict\", \"discover\", \"dimensionality\", \"reduce\", \"technique\", \"multivariate\", \"summarize\", \"integration\", \"neural\", \"far\", \"story\", \"text\", \"share\", \"mining\", \"protein\", \"link\", \"challenge\", \"approach\", \"network\", \"datum\", \"big\", \"science\", \"impact\", \"relationship\", \"knowledge\", \"introduction\", \"cluster\", \"data\", \"cross\", \"covariance\", \"yield\", \"decay\", \"fission\", \"section\", \"signaling\", \"cell\", \"causal\", \"monitoring\", \"promise\", \"enable\", \"single\", \"archive\", \"sense\", \"machine\", \"statistical\", \"online\", \"use\", \"enhance\", \"handbook\", \"analysis\", \"algorithm\", \"derive\", \"age\", \"vii\", \"computer\", \"endf\", \"technology\", \"make\", \"datum\", \"science\", \"product\", \"nuclear\", \"open\", \"free\", \"protein\", \"network\", \"climate\", \"know\", \"thinking\", \"nee\", \"evil\", \"wise\", \"deletion\", \"list\", \"vegetation\", \"association\", \"detect\", \"novel\", \"set\", \"message\", \"projection\", \"point\", \"pass\", \"mapping\", \"visualize\", \"calibration\", \"hype\", \"concept\", \"political\", \"comprehensive\", \"miss\", \"large\", \"base\", \"business\", \"report\", \"analytic\", \"data\", \"datum\", \"science\", \"system\", \"mining\", \"management\", \"change\", \"structure\", \"fundamental\", \"phylogenetic\", \"cipre\", \"create\", \"inference\", \"tree\", \"gateway\", \"problem\", \"objective\", \"biological\", \"key\", \"quantified\", \"opportunistic\", \"value\", \"social\", \"analyze\", \"processing\", \"discovery\", \"application\", \"large\", \"miss\", \"self\", \"data\", \"system\", \"algorithm\", \"product\", \"network\", \"analysis\", \"science\", \"datum\", \"study\", \"teach\", \"distil\", \"law\", \"experimental\", \"conceptual\", \"community\", \"expert\", \"school\", \"define\", \"form\", \"idea\", \"topic\", \"early\", \"plan\", \"correlated\", \"career\", \"facility\", \"ancillary\", \"consumer\", \"storage\", \"color\", \"holographic\", \"multilevel\", \"information\", \"model\", \"natural\", \"free\", \"stream\", \"approach\", \"science\", \"datum\", \"knowledge\", \"cluster\", \"reference\", \"industry\", \"statistic\", \"medicine\", \"material\", \"biomaterial\", \"benefit\", \"ecological\", \"trick\", \"econometric\", \"person\", \"integrative\", \"geographical\", \"dawn\", \"intensive\", \"perspective\", \"tool\", \"application\", \"discovery\", \"comprehensive\", \"challenge\", \"new\", \"information\", \"introduction\", \"citizen\", \"scientific\", \"method\", \"research\", \"mining\", \"big\", \"science\", \"datum\", \"acquisition\", \"literacy\", \"theoretical\", \"role\", \"instruction\", \"framework\", \"expand\", \"develop\", \"start\", \"pipeline\", \"mission\", \"hipe\", \"prediction\", \"knowledge\", \"tool\", \"processing\", \"link\", \"run\", \"quality\", \"implication\", \"system\", \"model\", \"scientific\", \"science\", \"datum\", \"socially\", \"construct\", \"truth\", \"administrative\", \"aqueous\", \"calibration\", \"perspective\", \"handbook\", \"citation\", \"data\", \"supply\", \"incomplete\", \"transform\", \"predictive\", \"design\", \"chain\", \"imputation\", \"alternative\", \"multiple\", \"revolution\", \"trap\", \"analyze\", \"political\", \"analysis\", \"management\", \"analytic\", \"big\", \"datum\", \"construct\", \"socially\", \"truth\", \"administrative\", \"aqueous\", \"omega\", \"history\", \"life\", \"come\", \"mineralogical\", \"computational\", \"infrastructure\", \"science\", \"mining\", \"data\", \"distribution\", \"pipeline\", \"promise\", \"hipe\", \"mission\", \"color\", \"time\", \"space\", \"orientation\", \"generation\", \"evaluate\", \"unnatural\", \"instructional\", \"nature\", \"infrastructure\", \"nuclear\", \"natural\", \"make\", \"vii\", \"technology\", \"endf\", \"computer\", \"next\", \"practice\", \"new\", \"data\", \"science\", \"socially\", \"construct\", \"truth\", \"administrative\", \"aqueous\", \"life\", \"history\", \"omega\", \"come\", \"computational\", \"mineralogical\", \"trap\", \"datum\", \"algorithm\", \"promise\", \"monitoring\", \"free\", \"machine\", \"sense\", \"enable\", \"archive\", \"introduction\", \"theoretical\", \"discover\", \"mineralogical\", \"computational\", \"omega\", \"history\", \"life\", \"come\", \"aqueous\", \"social\", \"derive\", \"age\", \"global\", \"network\", \"construct\", \"truth\", \"socially\", \"administrative\", \"infrastructure\", \"nature\", \"instructional\", \"unnatural\", \"evaluate\", \"generation\", \"trap\", \"revolution\", \"multiple\", \"alternative\", \"imputation\", \"transform\", \"predictive\", \"design\", \"chain\", \"incomplete\", \"datum\", \"science\", \"implication\", \"acquisition\", \"enable\", \"archive\", \"sense\", \"make\", \"reference\", \"statistic\", \"data\", \"objective\", \"processing\", \"system\", \"framework\", \"instruction\", \"machine\", \"algorithm\", \"administrative\", \"truth\", \"socially\", \"construct\", \"aqueous\", \"life\", \"omega\", \"come\", \"history\", \"computational\", \"mineralogical\", \"infrastructure\", \"nature\", \"instructional\", \"unnatural\", \"generation\", \"evaluate\", \"trap\", \"revolution\", \"imputation\", \"alternative\", \"multiple\", \"design\", \"predictive\", \"incomplete\", \"transform\", \"chain\", \"supply\", \"prediction\", \"hipe\", \"pipeline\", \"science\", \"datum\", \"consumer\", \"workflow\", \"structure\", \"model\", \"information\", \"ancillary\", \"research\", \"result\", \"global\", \"report\", \"projection\", \"climate\", \"change\", \"engineering\", \"tool\", \"international\", \"dawn\", \"control\", \"quality\", \"link\", \"stream\", \"investment\", \"cluster\"], \"Freq\": [30.0, 7.0, 3.0, 3.0, 32.0, 3.0, 2.0, 3.0, 2.0, 3.0, 5.0, 4.0, 3.0, 3.0, 4.0, 3.0, 2.0, 3.0, 1.0, 1.0, 1.0, 0.0, 0.0, 0.0, 0.0, 1.0, 2.0, 1.0, 1.0, 1.0, 1.5084465125720277, 0.7821505669091927, 0.7821505669091927, 0.7821505669091927, 0.7821505103451452, 0.7821505103451452, 0.7821505103451452, 0.7821505103451452, 0.7821505103451452, 0.7821503972170502, 0.7821503972170502, 0.7821503406530026, 0.7821502275249075, 0.7821502275249075, 0.7821502275249075, 0.7821502275249075, 0.7821502275249075, 0.7821500578327649, 0.7821500578327649, 0.7821499447046698, 0.7821499447046698, 0.7821490396799093, 0.7821490396799093, 0.782148247783244, 0.7821481346551489, 0.7821481346551489, 0.7821480780911013, 0.7821480780911013, 1.5084465125720277, 1.508447078212503, 2.234741213825817, 5.87263734143566, 1.5084460600596474, 1.508445494419172, 0.7821505669091927, 0.7821503972170502, 0.7821503406530026, 0.7821500578327649, 1.4741595002584535, 0.764372512992692, 0.7643724583769091, 0.7643724583769091, 0.7643724583769091, 0.7643723491453435, 0.7643723491453435, 0.7643723491453435, 0.7643722945295606, 0.7643722945295606, 0.7643722945295606, 0.7643722945295606, 0.7643721852979948, 0.7643721852979948, 0.7643721852979948, 0.764372130682212, 0.764372130682212, 0.764372130682212, 0.764372130682212, 0.7643720214506462, 0.7643720214506462, 0.7643718576032976, 0.7643718576032976, 0.7643706014402916, 0.764368744503674, 0.7643686352721082, 0.7643686352721082, 0.7643686352721082, 1.474160155647848, 0.7643706014402916, 1.4741603741109797, 7.14616234941906, 1.4741604833425452, 3.6035178951139435, 0.764372512992692, 0.764372512992692, 0.7643721852979948, 0.7643721852979948, 0.7643724583769091, 0.7643721852979948, 0.7643724583769091, 0.7643719668348633, 1.458103495271885, 0.7616599635328757, 0.7616599635328757, 0.761659857352294, 0.761659857352294, 0.761659857352294, 0.7616598042620032, 0.7616598042620032, 0.7616596980814215, 0.7616596980814215, 0.7616596980814215, 0.7616596449911307, 0.7616593795396766, 0.7616590609979316, 0.7616590609979316, 0.7616590609979316, 0.7616590609979316, 0.7616590609979316, 0.7616589548173499, 0.7616589548173499, 0.761658636275605, 0.7616585300950234, 0.7616578399212426, 0.7616559817610636, 2.1761911953170685, 1.4689282870298044, 0.7616586893658958, 0.7616591140882224, 0.7616596980814215, 1.468928074668641, 9.956125021626148, 1.468928074668641, 1.468927756126896, 0.7616599635328757, 0.761659857352294, 0.7616592733590949, 0.7616593795396766, 0.7616591140882224, 0.7616590609979316, 0.7546331693311678, 0.7546331693311678, 0.7546331693311678, 0.7546331693311678, 0.7546331693311678, 0.7546330719417415, 0.7546327310787495, 0.7546327310787495, 0.7546327310787495, 0.7546327310787495, 0.7546327310787495, 0.7546327310787495, 0.7546326336893232, 0.7546325849946101, 0.7546324876051838, 0.7546323902157575, 0.7546320493527655, 0.7546318058791998, 0.7546317571844866, 0.7546316597950603, 0.7546227973572687, 2.1561150265182887, 1.4553746335665727, 0.7546326336893232, 0.754632244131618, 0.7546331693311678, 0.7546320493527655, 0.7546330719417415, 0.7546330719417415, 0.7546324876051838, 4.258337081878273, 2.156115416075994, 0.7546332180258809, 0.7546332180258809, 0.7546328284681757, 0.7546326336893232, 0.7546327310787495, 0.7546325849946101, 1.4388386971796712, 0.746058911870414, 0.7460588181982639, 0.7460588181982639, 0.7460587245261138, 0.7460586308539636, 0.7460586308539636, 0.7460585840178886, 0.7460584903457385, 0.7460583030014383, 0.7460583030014383, 0.7460583030014383, 0.7460583030014383, 0.746058162493213, 0.746058068821063, 0.7460579751489128, 0.7460578814767627, 0.7460552586565593, 0.7460551649844093, 0.7460491231307266, 0.7437861444920758, 0.7435449855415943, 0.7460583966735883, 0.7460583966735883, 0.7460586308539636, 0.7460583030014383, 0.7460584903457385, 0.746058911870414, 0.746058162493213, 1.435813086730826, 2.8243961133387323, 3.5145045094348197, 2.131616936898451, 0.7460585840178886, 0.7460587245261138, 0.7460583966735883, 0.7460583030014383, 2.6483777781561133, 1.3550165165544934, 0.7025966554017538, 0.7025966554017538, 0.7025966554017538, 0.7025966554017538, 0.7025966554017538, 0.7025965781379804, 0.7025965008742069, 0.7025964236104335, 0.7025964236104335, 0.7025964236104335, 0.7025962690828867, 0.7025957282364729, 0.7025952646538325, 0.7025965008742069, 0.7025965008742069, 0.7025962690828867, 0.7025961918191134, 0.7025958055002464, 0.7025965781379804, 0.7025951873900591, 0.7025963463466601, 2.64837746910102, 0.7025964236104335, 0.7025951101262857, 0.7025963463466601, 0.7025950328625123, 0.7025964236104335, 2.659854848112052, 1.3550151258065724, 0.6923362387724321, 0.6923362387724321, 0.6923361625250308, 0.6923361625250308, 0.6923360862776297, 0.6923360100302285, 0.6923360100302285, 0.6923360100302285, 0.6923360100302285, 0.6923360100302285, 0.6923360100302285, 0.6923358575354261, 0.6923354000510189, 0.6923354000510189, 0.6923354000510189, 0.6923354000510189, 0.6923353238036177, 0.6923348663192106, 0.6923347900718093, 0.6923336463607914, 0.6923335701133903, 0.6923335701133903, 0.6923334176185878, 0.6923227429824205, 1.3352284777862393, 1.3352239029421678, 0.6923360100302285, 0.6923360862776297, 0.6923348663192106, 0.6923360100302285, 3.2639020686842124, 1.9805971561434845, 0.6923358575354261, 0.6923348663192106, 0.6628732109772721, 0.662873144920713, 0.6628729467510357, 0.6628726164682401, 0.6628726164682401, 0.6628726164682401, 0.662872550411681, 0.662872550411681, 0.6628722861854445, 0.6628722201288854, 0.6628718898460898, 0.6628718237895307, 0.6628718237895307, 0.6628718237895307, 0.6628716256198534, 0.6628660768688878, 0.6628726164682401, 0.6628732109772721, 0.6628718237895307, 0.662873144920713, 0.662872550411681, 1.2784052713948746, 0.6628718237895307, 0.662872550411681, 0.6628716256198534, 0.6628716256198534, 0.6628732109772721, 0.662872550411681, 0.6628730788641539, 0.6628721540723262, 2.509468335325134, 0.662872550411681, 0.6526179086637611, 0.6526178492729482, 0.6526178492729482, 0.6526178492729482, 0.6526178492729482, 0.6526177898821351, 0.6526177898821351, 0.6526177898821351, 0.6526176117096961, 0.6526176117096961, 0.6526176117096961, 0.6526176117096961, 0.652616661456688, 1.258627095093067, 0.6526177898821351, 0.6526177898821351, 0.652617017801566, 0.6526177898821351, 0.6526171365831921, 0.6526178492729482, 0.6526177898821351, 0.652617017801566, 0.6526176711005092, 2.47064332988241, 1.8646344404071695, 0.046616038440233105, 0.046616038440233105, 0.046616038440233105, 0.046616038440233105, 0.046616038440233105, 0.046616049576010544, 0.046616049576010544, 0.046616049576010544, 0.04661605328793636, 0.04661605328793636, 0.5756400838655658, 0.5756400414363791, 0.5756400414363791, 0.5756400414363791, 0.5756400414363791, 0.5756400414363791, 0.5756399565780059, 0.5756399565780059, 0.5756399565780059, 0.5756399141488194, 0.5756395747153267, 0.5756399565780059, 0.5756400414363791, 0.5756395747153267, 0.5756399141488194, 0.5756399141488194, 0.575639447427767, 1.6446947791724258, 0.041117493584681405, 0.04111749093285724, 0.04111749093285724, 0.04111749093285724, 0.04111749093285724, 0.04111749093285724, 0.04111749093285724, 0.04111749093285724, 0.04111749093285724, 0.04111749093285724, 0.04111749093285724, 0.041117493584681405, 0.5756395747153267, 0.04111750949562638, 0.04111750154015389, 0.04111749093285724, 0.04111749093285724, 0.04111749093285724, 0.04111749093285724, 0.04111749093285724, 0.041117493584681405, 0.04111749093285724, 0.04111749093285724, 0.04111749093285724, 0.5680523219588091, 0.5680523219588091, 0.5680521963490541, 0.5680521963490541, 0.5680521544791358, 0.5680507727718316, 1.095534451611571, 0.5680521963490541, 0.5680521963490541, 0.5680524056986457, 0.5680523219588091, 0.5680522800888907, 0.5680507727718316, 0.5680523219588091, 0.5680521544791358, 0.56805056342224, 0.5680523219588091, 1.6230150320773555, 0.04057550716880259, 0.04057550716880259, 0.04057550716880259, 0.04057550716880259, 0.04057550716880259, 0.04057550716880259, 0.04057550716880259, 0.04057550716880259, 0.04057550716880259, 0.04057550716880259, 0.04057550716880259, 0.04057550716880259, 0.040575559506200475, 0.040575512402542376, 0.04057550716880259, 0.04057550716880259, 0.040575512402542376, 0.04057550716880259, 0.04057550716880259, 0.04057550716880259, 0.04057550716880259, 0.040575512402542376, 0.04057550716880259, 0.04057550716880259, 0.49122797420077113, 0.49122797420077113, 0.49122791368090596, 0.49122791368090596, 0.49122791368090596, 0.49122791368090596, 0.4912278229011083, 0.49122791368090596, 0.49122797420077113, 0.4912278229011083, 0.49122791368090596, 0.49122785316104084, 0.035087969111983114, 0.035087969111983114, 0.035087965329491544, 0.035087965329491544, 0.035087969111983114, 0.035087965329491544, 0.035087965329491544, 0.035087965329491544, 0.035087965329491544, 0.035087965329491544, 0.035087965329491544, 0.035087965329491544, 0.035087965329491544, 0.035087965329491544, 0.035087965329491544, 0.035087965329491544, 0.035087965329491544, 0.035087965329491544, 0.035087965329491544, 0.035087965329491544, 0.49122764134151287, 0.49122758082164775, 0.035087969111983114, 0.035087965329491544, 0.035087965329491544, 0.035087965329491544, 0.035087965329491544, 0.035087965329491544, 0.035087965329491544, 0.035087965329491544, 0.035087972894474684, 0.035087965329491544, 0.035087965329491544, 0.035087969111983114, 0.035087965329491544, 0.035087965329491544, 0.035087965329491544, 0.035087969111983114, 0.28473931153853344, 0.28473926107754255, 0.2847392358470471, 0.2847392358470471, 0.020338636691071065, 0.020338636691071065, 0.020338636691071065, 0.020338636691071065, 0.020338636691071065, 0.020338636691071065, 0.020338636691071065, 0.020338639844882996, 0.020338636691071065, 0.020338636691071065, 0.020338636691071065, 0.020338636691071065, 0.020338636691071065, 0.020338636691071065, 0.020338636691071065, 0.020338636691071065, 0.020338636691071065, 0.020338636691071065, 0.020338636691071065, 0.020338636691071065, 0.020338636691071065, 0.020338636691071065, 0.020338636691071065, 0.020338636691071065, 0.020338636691071065, 0.020338636691071065, 0.020338636691071065, 0.020338671383002317, 0.020338660344660555, 0.020338639844882996, 0.020338639844882996, 0.020338641421788962, 0.020338641421788962, 0.020338639844882996, 0.020338639844882996, 0.020338639844882996, 0.020338639844882996, 0.020338639844882996, 0.020338639844882996, 0.020338639844882996, 0.020338639844882996, 0.020338639844882996, 0.020338639844882996, 0.020338639844882996, 0.020338639844882996, 0.020338639844882996, 0.020338639844882996, 0.020338639844882996, 0.020338639844882996, 0.020338639844882996, 0.020338639844882996, 0.020338639844882996], \"Total\": [30.0, 7.0, 3.0, 3.0, 32.0, 3.0, 2.0, 3.0, 2.0, 3.0, 5.0, 4.0, 3.0, 3.0, 4.0, 3.0, 2.0, 3.0, 1.0, 1.0, 1.0, 0.0, 0.0, 0.0, 0.0, 1.0, 2.0, 1.0, 1.0, 1.0, 2.511507873547537, 1.3290719315089041, 1.3290719315089041, 1.3290719315089041, 1.3290718749448565, 1.3290718749448565, 1.3290718749448565, 1.3290718749448565, 1.3290718749448565, 1.3290717618167616, 1.3290717618167616, 1.329071705252714, 1.3290715921246188, 1.3290715921246188, 1.3290715921246188, 1.3290715921246188, 1.3290715921246188, 1.3290714224324762, 1.3290714224324762, 1.329071309304381, 1.329071309304381, 1.329070410915907, 1.3290704177428798, 1.329069636361606, 1.329069544281376, 1.3290695479079233, 1.3290694944976875, 1.3290694944976875, 2.7481355720354115, 2.7651417273221113, 4.106959837570522, 32.3895492409572, 5.312485868252455, 30.900885915606064, 2.654366700031141, 2.0298014662789425, 2.03884500146245, 2.6822118002734237, 2.0223507902493445, 1.3125637544684279, 1.3125636998526449, 1.3125636998526449, 1.3125636998526449, 1.3125635906210793, 1.3125635906210793, 1.3125635906210793, 1.3125635360052963, 1.3125635360052963, 1.3125635360052963, 1.3125635360052963, 1.3125634267737305, 1.3125634267737305, 1.3125634267737305, 1.3125633721579477, 1.3125633721579477, 1.3125633721579477, 1.3125633721579477, 1.312563262926382, 1.312563262926382, 1.3125630990790333, 1.3125631039080192, 1.3125618661021337, 1.3125600278582785, 1.312559925262999, 1.312559925262999, 1.312559925262999, 3.2438760890385843, 1.840038700987449, 3.7808834344615145, 32.3895492409572, 3.9503695601237667, 30.900885915606064, 3.958697224913716, 4.742642499957078, 2.03884500146245, 2.7651417273221113, 2.6353419383984904, 4.106959837570522, 2.019818438871408, 2.005331083098317, 2.017346301116675, 1.3100449932688145, 1.3100449932688145, 1.3100448870882329, 1.3100448870882329, 1.3100448870882329, 1.310044833997942, 1.310044833997942, 1.3100447278173604, 1.3100447278173604, 1.3100447278173604, 1.3100446747270695, 1.3100444092756154, 1.3100440907338704, 1.3100440907338704, 1.3100440907338704, 1.3100440907338704, 1.3100440954993329, 1.3100439893822746, 1.3100439929175276, 1.310043683800149, 1.3100435793273817, 1.310042918363023, 1.3100410602028438, 4.742642499957078, 3.4278161837190058, 1.916044743457083, 1.925568127990834, 1.9529275408373616, 3.826591451748015, 30.900885915606064, 5.312485868252455, 32.3895492409572, 2.0363259480573586, 2.019818438871408, 3.164938050879427, 2.6353419383984904, 2.645693162655703, 7.918854093058964, 1.303520193394643, 1.303520193394643, 1.303520193394643, 1.303520193394643, 1.303520193394643, 1.3035200960052167, 1.3035197551422246, 1.3035197551422246, 1.3035197551422246, 1.3035197551422246, 1.3035197551422246, 1.3035197551422246, 1.3035196577527983, 1.3035196090580852, 1.3035195116686589, 1.3035194142792326, 1.3035190734162407, 1.303518829942675, 1.3035187927132341, 1.3035187031713111, 1.3035099435781938, 3.8919345465982786, 2.6566707232427347, 1.7596596749883169, 1.7596591712395069, 1.830997091924486, 1.8309943830408186, 1.8309968689253049, 1.8309969107952233, 1.8309962104433588, 30.900885915606064, 32.3895492409572, 2.6822118002734237, 2.3584791995321606, 2.0298014662789425, 1.946402556550482, 3.4278161837190058, 3.826591451748015, 1.9883382034908168, 1.2955583999952431, 1.295558306323093, 1.295558306323093, 1.2955582126509428, 1.2955581189787928, 1.2955581189787928, 1.2955580721427178, 1.2955579784705675, 1.2955577911262675, 1.2955577911262675, 1.2955577911262675, 1.2955577911262675, 1.2955576506180422, 1.2955575806547146, 1.2955574632737419, 1.2955573946451542, 1.2955548021235164, 1.2955547084513663, 1.2955487276450386, 1.29539383990173, 1.2953764289500578, 1.830080451086433, 1.9110824419735917, 1.947967257177271, 1.9479682743249875, 2.005331083098317, 2.021839391538012, 2.021838801862041, 3.958697224913716, 7.918854093058964, 30.900885915606064, 32.3895492409572, 2.5539701868742597, 4.742642499957078, 3.9503695601237667, 2.7481355720354115, 3.2122891509860083, 1.907620615432382, 1.2552007037665003, 1.2552007037665003, 1.2552007037665003, 1.2552007037665003, 1.2552007037665003, 1.255200626502727, 1.2552005492389535, 1.2552004719751801, 1.2552004719751801, 1.2552004719751801, 1.2552003174476334, 1.2551997994237853, 1.2551993351032993, 1.7113404975903679, 1.7897230305188325, 1.8612020931703943, 1.8707234995356834, 1.8707244808544594, 1.9479682743249875, 1.947967257177271, 1.981481371902555, 7.918854093058964, 2.5539701868742597, 2.6566707232427347, 2.6822118002734237, 3.826591451748015, 3.8919345465982786, 32.3895492409572, 30.900885915606064, 1.2456731802095824, 1.2456731802095824, 1.2456731039621811, 1.2456731039621811, 1.2456730277147798, 1.2456729514673788, 1.2456729514673788, 1.2456729514673788, 1.2456729514673788, 1.2456729514673788, 1.2456729514673788, 1.2456727989725764, 1.2456723414881692, 1.2456723414881692, 1.2456723414881692, 1.245672344641981, 1.2456722802159952, 1.2456718395972624, 1.245671773721386, 1.245670638374607, 1.245670562127206, 1.245670562127206, 1.2456704096324034, 1.245661164053231, 2.5040886931550976, 3.1952909878614975, 1.7731496591763918, 1.946402556550482, 1.9464002906458269, 1.9529275408373616, 32.3895492409572, 30.900885915606064, 3.164938050879427, 2.645693162655703, 1.218314748224427, 1.2183146821678679, 1.2183144839981905, 1.218314153715395, 1.218314153715395, 1.218314153715395, 1.2183140913707615, 1.2183140913707615, 1.2183138295194385, 1.2183137932146835, 1.2183134302470566, 1.2183133962215142, 1.2183134038627268, 1.2183134061634393, 1.2183132088468611, 1.2183077361865708, 1.8243159255568597, 1.8707244808544594, 1.8707234995356834, 1.9110824419735917, 1.925568127990834, 3.7808834344615145, 2.5040886931550976, 2.6353419383984904, 2.654366700031141, 3.2438760890385843, 3.337902761751818, 4.106959837570522, 4.742642499957078, 5.312485868252455, 32.3895492409572, 30.900885915606064, 1.2087920182929974, 1.2087919589021845, 1.2087919589021845, 1.2087919589021845, 1.2087919589021845, 1.2087918995113713, 1.2087918995113713, 1.2087918995113713, 1.2087917213389323, 1.2087917213389323, 1.2087917213389323, 1.2087917213389323, 1.208790794501772, 3.164938050879427, 1.8243159255568597, 1.8612020931703943, 1.916044743457083, 1.9350712987917116, 1.9350706454927684, 1.9350730787572892, 2.5539701868742597, 3.1952909878614975, 3.2438760890385843, 32.3895492409572, 30.900885915606064, 0.867190752054431, 0.8671907838318093, 0.8671907858605243, 0.8671908229169316, 1.058930005641086, 1.2955487276450386, 1.2183077361865708, 1.3035099435781938, 2.017346301116675, 7.918854093058964, 1.1373127410021777, 1.137312698572991, 1.137312698572991, 1.137312698572991, 1.137312698572991, 1.137312698572991, 1.137312613714618, 1.137312613714618, 1.137312613714618, 1.1373125712854315, 1.1373122318519386, 1.7897230305188325, 1.830080451086433, 3.8919345465982786, 3.9503695601237667, 3.958697224913716, 5.312485868252455, 30.900885915606064, 0.8671907838318093, 0.867190752054431, 0.8671907858605243, 0.8671908229169316, 1.058930005641086, 1.0589300964208836, 1.0589300964208836, 1.0589300964208836, 1.0589300964208836, 1.058930156940749, 1.058930156940749, 1.1302654637808864, 32.3895492409572, 4.742642499957078, 7.918854093058964, 1.3125631039080192, 1.2087917213389323, 1.3035197551422246, 1.2087917213389323, 1.2087917213389323, 1.245670562127206, 1.312563262926382, 1.3125633721579477, 1.3125633721579477, 1.1302669628594757, 1.1302669628594757, 1.1302668372497209, 1.1302668372497209, 1.1302667953798025, 1.1302654637808864, 2.3584791995321606, 1.7731496591763918, 1.8309962104433588, 1.830997091924486, 1.8309969107952233, 1.8309968689253049, 1.8309943830408186, 1.840038700987449, 1.8565477737778473, 3.7808834344615145, 7.918854093058964, 32.3895492409572, 0.867190752054431, 0.8671907838318093, 0.8671907858605243, 0.8671908229169316, 1.058930005641086, 1.0589300964208836, 1.0589300964208836, 1.0589300964208836, 1.0589300964208836, 1.058930156940749, 1.058930156940749, 1.1373122318519386, 30.900885915606064, 2.6566707232427347, 1.3035197551422246, 1.3035197551422246, 1.946402556550482, 1.3035194142792326, 1.3035195116686589, 1.3035197551422246, 1.3035196090580852, 2.6353419383984904, 1.2087919589021845, 1.3100444092756154, 1.058930156940749, 1.058930156940749, 1.0589300964208836, 1.0589300964208836, 1.0589300964208836, 1.0589300964208836, 1.058930005641086, 1.7113404975903679, 1.7596596749883169, 1.7596591712395069, 2.511507873547537, 3.826591451748015, 0.8671907838318093, 0.8671907858605243, 0.867190752054431, 0.8671908229169316, 1.1302654637808864, 1.1302667953798025, 1.1302668372497209, 1.1302668372497209, 1.1302669628594757, 1.1302669628594757, 1.1373122318519386, 1.1373125712854315, 1.137312613714618, 1.137312613714618, 1.137312613714618, 1.137312698572991, 1.137312698572991, 1.137312698572991, 1.137312698572991, 1.137312698572991, 30.900885915606064, 32.3895492409572, 1.9350730787572892, 1.2087920182929974, 1.3035197551422246, 1.3035196090580852, 1.3035195116686589, 1.8309962104433588, 1.218314748224427, 1.2183144839981905, 7.918854093058964, 1.2552004719751801, 1.8612020931703943, 2.5539701868742597, 1.2087918995113713, 1.2087919589021845, 1.3035194142792326, 2.6566707232427347, 0.8671908229169316, 0.8671907858605243, 0.867190752054431, 0.8671907838318093, 1.058930005641086, 1.0589300964208836, 1.0589300964208836, 1.0589300964208836, 1.0589300964208836, 1.058930156940749, 1.058930156940749, 1.1302654637808864, 1.1302667953798025, 1.1302668372497209, 1.1302668372497209, 1.1302669628594757, 1.1302669628594757, 1.1373122318519386, 1.1373125712854315, 1.137312613714618, 1.137312613714618, 1.137312613714618, 1.137312698572991, 1.137312698572991, 1.137312698572991, 1.137312698572991, 1.137312698572991, 1.1373127410021777, 1.208790794501772, 1.2087917213389323, 1.2087917213389323, 32.3895492409572, 30.900885915606064, 1.245670638374607, 2.0223507902493445, 3.2122891509860083, 3.1952909878614975, 2.5040886931550976, 1.245671773721386, 4.106959837570522, 1.3290694944976875, 2.511507873547537, 2.021838801862041, 1.2955575806547146, 1.9883382034908168, 2.7481355720354115, 1.312559925262999, 1.8243159255568597, 1.3290694944976875, 1.2183134061634393, 1.329069544281376, 1.9350706454927684, 1.916044743457083, 1.9464002906458269, 1.3125600278582785, 2.645693162655703], \"Category\": [\"Default\", \"Default\", \"Default\", \"Default\", \"Default\", \"Default\", \"Default\", \"Default\", \"Default\", \"Default\", \"Default\", \"Default\", \"Default\", \"Default\", \"Default\", \"Default\", \"Default\", \"Default\", \"Default\", \"Default\", \"Default\", \"Default\", \"Default\", \"Default\", \"Default\", \"Default\", \"Default\", \"Default\", \"Default\", \"Default\", \"Topic1\", \"Topic1\", \"Topic1\", \"Topic1\", \"Topic1\", \"Topic1\", \"Topic1\", \"Topic1\", \"Topic1\", \"Topic1\", \"Topic1\", \"Topic1\", \"Topic1\", \"Topic1\", \"Topic1\", \"Topic1\", \"Topic1\", \"Topic1\", \"Topic1\", \"Topic1\", \"Topic1\", \"Topic1\", \"Topic1\", \"Topic1\", \"Topic1\", \"Topic1\", \"Topic1\", \"Topic1\", \"Topic1\", \"Topic1\", \"Topic1\", \"Topic1\", \"Topic1\", \"Topic1\", \"Topic1\", \"Topic1\", \"Topic1\", \"Topic1\", \"Topic2\", \"Topic2\", \"Topic2\", \"Topic2\", \"Topic2\", \"Topic2\", \"Topic2\", \"Topic2\", \"Topic2\", \"Topic2\", \"Topic2\", \"Topic2\", \"Topic2\", \"Topic2\", \"Topic2\", \"Topic2\", \"Topic2\", \"Topic2\", \"Topic2\", \"Topic2\", \"Topic2\", \"Topic2\", \"Topic2\", \"Topic2\", \"Topic2\", \"Topic2\", \"Topic2\", \"Topic2\", \"Topic2\", \"Topic2\", \"Topic2\", \"Topic2\", \"Topic2\", \"Topic2\", \"Topic2\", \"Topic2\", \"Topic2\", \"Topic2\", \"Topic2\", \"Topic2\", \"Topic2\", \"Topic2\", \"Topic3\", \"Topic3\", \"Topic3\", \"Topic3\", \"Topic3\", \"Topic3\", \"Topic3\", \"Topic3\", \"Topic3\", \"Topic3\", \"Topic3\", \"Topic3\", \"Topic3\", \"Topic3\", \"Topic3\", \"Topic3\", \"Topic3\", \"Topic3\", \"Topic3\", \"Topic3\", \"Topic3\", \"Topic3\", \"Topic3\", \"Topic3\", \"Topic3\", \"Topic3\", \"Topic3\", \"Topic3\", \"Topic3\", \"Topic3\", \"Topic3\", \"Topic3\", \"Topic3\", \"Topic3\", \"Topic3\", \"Topic3\", \"Topic3\", \"Topic3\", \"Topic3\", \"Topic4\", \"Topic4\", \"Topic4\", \"Topic4\", \"Topic4\", \"Topic4\", \"Topic4\", \"Topic4\", \"Topic4\", \"Topic4\", \"Topic4\", \"Topic4\", \"Topic4\", \"Topic4\", \"Topic4\", \"Topic4\", \"Topic4\", \"Topic4\", \"Topic4\", \"Topic4\", \"Topic4\", \"Topic4\", \"Topic4\", \"Topic4\", \"Topic4\", \"Topic4\", \"Topic4\", \"Topic4\", \"Topic4\", \"Topic4\", \"Topic4\", \"Topic4\", \"Topic4\", \"Topic4\", \"Topic4\", \"Topic4\", \"Topic4\", \"Topic4\", \"Topic5\", \"Topic5\", \"Topic5\", \"Topic5\", \"Topic5\", \"Topic5\", \"Topic5\", \"Topic5\", \"Topic5\", \"Topic5\", \"Topic5\", \"Topic5\", \"Topic5\", \"Topic5\", \"Topic5\", \"Topic5\", \"Topic5\", \"Topic5\", \"Topic5\", \"Topic5\", \"Topic5\", \"Topic5\", \"Topic5\", \"Topic5\", \"Topic5\", \"Topic5\", \"Topic5\", \"Topic5\", \"Topic5\", \"Topic5\", \"Topic5\", \"Topic5\", \"Topic5\", \"Topic5\", \"Topic5\", \"Topic5\", \"Topic5\", \"Topic6\", \"Topic6\", \"Topic6\", \"Topic6\", \"Topic6\", \"Topic6\", \"Topic6\", \"Topic6\", \"Topic6\", \"Topic6\", \"Topic6\", \"Topic6\", \"Topic6\", \"Topic6\", \"Topic6\", \"Topic6\", \"Topic6\", \"Topic6\", \"Topic6\", \"Topic6\", \"Topic6\", \"Topic6\", \"Topic6\", \"Topic6\", \"Topic6\", \"Topic6\", \"Topic6\", \"Topic6\", \"Topic6\", \"Topic6\", \"Topic6\", \"Topic7\", \"Topic7\", \"Topic7\", \"Topic7\", \"Topic7\", \"Topic7\", \"Topic7\", \"Topic7\", \"Topic7\", \"Topic7\", \"Topic7\", \"Topic7\", \"Topic7\", \"Topic7\", \"Topic7\", \"Topic7\", \"Topic7\", \"Topic7\", \"Topic7\", \"Topic7\", \"Topic7\", \"Topic7\", \"Topic7\", \"Topic7\", \"Topic7\", \"Topic7\", \"Topic7\", \"Topic7\", \"Topic7\", \"Topic7\", \"Topic7\", \"Topic7\", \"Topic7\", \"Topic7\", \"Topic8\", \"Topic8\", \"Topic8\", \"Topic8\", \"Topic8\", \"Topic8\", \"Topic8\", \"Topic8\", \"Topic8\", \"Topic8\", \"Topic8\", \"Topic8\", \"Topic8\", \"Topic8\", \"Topic8\", \"Topic8\", \"Topic8\", \"Topic8\", \"Topic8\", \"Topic8\", \"Topic8\", \"Topic8\", \"Topic8\", \"Topic8\", \"Topic8\", \"Topic8\", \"Topic8\", \"Topic8\", \"Topic8\", \"Topic8\", \"Topic8\", \"Topic8\", \"Topic9\", \"Topic9\", \"Topic9\", \"Topic9\", \"Topic9\", \"Topic9\", \"Topic9\", \"Topic9\", \"Topic9\", \"Topic9\", \"Topic9\", \"Topic9\", \"Topic9\", \"Topic9\", \"Topic9\", \"Topic9\", \"Topic9\", \"Topic9\", \"Topic9\", \"Topic9\", \"Topic9\", \"Topic9\", \"Topic9\", \"Topic9\", \"Topic9\", \"Topic9\", \"Topic9\", \"Topic9\", \"Topic9\", \"Topic9\", \"Topic9\", \"Topic9\", \"Topic9\", \"Topic9\", \"Topic9\", \"Topic10\", \"Topic10\", \"Topic10\", \"Topic10\", \"Topic10\", \"Topic10\", \"Topic10\", \"Topic10\", \"Topic10\", \"Topic10\", \"Topic10\", \"Topic10\", \"Topic10\", \"Topic10\", \"Topic10\", \"Topic10\", \"Topic10\", \"Topic10\", \"Topic10\", \"Topic10\", \"Topic10\", \"Topic10\", \"Topic10\", \"Topic10\", \"Topic10\", \"Topic10\", \"Topic10\", \"Topic10\", \"Topic10\", \"Topic10\", \"Topic10\", \"Topic10\", \"Topic10\", \"Topic10\", \"Topic10\", \"Topic10\", \"Topic10\", \"Topic10\", \"Topic10\", \"Topic10\", \"Topic10\", \"Topic10\", \"Topic11\", \"Topic11\", \"Topic11\", \"Topic11\", \"Topic11\", \"Topic11\", \"Topic11\", \"Topic11\", \"Topic11\", \"Topic11\", \"Topic11\", \"Topic11\", \"Topic11\", \"Topic11\", \"Topic11\", \"Topic11\", \"Topic11\", \"Topic11\", \"Topic11\", \"Topic11\", \"Topic11\", \"Topic11\", \"Topic11\", \"Topic11\", \"Topic11\", \"Topic11\", \"Topic11\", \"Topic11\", \"Topic11\", \"Topic11\", \"Topic11\", \"Topic11\", \"Topic11\", \"Topic11\", \"Topic11\", \"Topic11\", \"Topic11\", \"Topic11\", \"Topic11\", \"Topic11\", \"Topic11\", \"Topic11\", \"Topic12\", \"Topic12\", \"Topic12\", \"Topic12\", \"Topic12\", \"Topic12\", \"Topic12\", \"Topic12\", \"Topic12\", \"Topic12\", \"Topic12\", \"Topic12\", \"Topic12\", \"Topic12\", \"Topic12\", \"Topic12\", \"Topic12\", \"Topic12\", \"Topic12\", \"Topic12\", \"Topic12\", \"Topic12\", \"Topic12\", \"Topic12\", \"Topic12\", \"Topic12\", \"Topic12\", \"Topic12\", \"Topic12\", \"Topic12\", \"Topic12\", \"Topic12\", \"Topic12\", \"Topic12\", \"Topic12\", \"Topic12\", \"Topic12\", \"Topic12\", \"Topic12\", \"Topic12\", \"Topic12\", \"Topic12\", \"Topic12\", \"Topic12\", \"Topic12\", \"Topic12\", \"Topic12\", \"Topic12\", \"Topic12\", \"Topic12\", \"Topic13\", \"Topic13\", \"Topic13\", \"Topic13\", \"Topic13\", \"Topic13\", \"Topic13\", \"Topic13\", \"Topic13\", \"Topic13\", \"Topic13\", \"Topic13\", \"Topic13\", \"Topic13\", \"Topic13\", \"Topic13\", \"Topic13\", \"Topic13\", \"Topic13\", \"Topic13\", \"Topic13\", \"Topic13\", \"Topic13\", \"Topic13\", \"Topic13\", \"Topic13\", \"Topic13\", \"Topic13\", \"Topic13\", \"Topic13\", \"Topic13\", \"Topic13\", \"Topic13\", \"Topic13\", \"Topic13\", \"Topic13\", \"Topic13\", \"Topic13\", \"Topic13\", \"Topic13\", \"Topic13\", \"Topic13\", \"Topic13\", \"Topic13\", \"Topic13\", \"Topic13\", \"Topic13\", \"Topic13\", \"Topic13\", \"Topic13\", \"Topic13\", \"Topic13\", \"Topic13\", \"Topic13\", \"Topic13\", \"Topic13\"], \"logprob\": [30.0, 29.0, 28.0, 27.0, 26.0, 25.0, 24.0, 23.0, 22.0, 21.0, 20.0, 19.0, 18.0, 17.0, 16.0, 15.0, 14.0, 13.0, 12.0, 11.0, 10.0, 9.0, 8.0, 7.0, 6.0, 5.0, 4.0, 3.0, 2.0, 1.0, -3.6953999996185303, -4.352200031280518, -4.352200031280518, -4.352200031280518, -4.352200031280518, -4.352200031280518, -4.352200031280518, -4.352200031280518, -4.352200031280518, -4.352200031280518, -4.352200031280518, -4.352200031280518, -4.352200031280518, -4.352200031280518, -4.352200031280518, -4.352200031280518, -4.352200031280518, -4.352200031280518, -4.352200031280518, -4.352200031280518, -4.352200031280518, -4.352200031280518, -4.352200031280518, -4.352200031280518, -4.352200031280518, -4.352200031280518, -4.352200031280518, -4.352200031280518, -3.6953999996185303, -3.6953999996185303, -3.3024001121520996, -2.336199998855591, -3.6953999996185303, -3.6953999996185303, -4.352200031280518, -4.352200031280518, -4.352200031280518, -4.352200031280518, -3.6833999156951904, -4.340199947357178, -4.340199947357178, -4.340199947357178, -4.340199947357178, -4.340199947357178, -4.340199947357178, -4.340199947357178, -4.340199947357178, -4.340199947357178, -4.340199947357178, -4.340199947357178, -4.340199947357178, -4.340199947357178, -4.340199947357178, -4.340199947357178, -4.340199947357178, -4.340199947357178, -4.340199947357178, -4.340199947357178, -4.340199947357178, -4.340199947357178, -4.340199947357178, -4.340199947357178, -4.340199947357178, -4.340199947357178, -4.340199947357178, -4.340199947357178, -3.6833999156951904, -4.340199947357178, -3.6833999156951904, -2.1048998832702637, -3.6833999156951904, -2.789599895477295, -4.340199947357178, -4.340199947357178, -4.340199947357178, -4.340199947357178, -4.340199947357178, -4.340199947357178, -4.340199947357178, -4.340199947357178, -3.6659998893737793, -4.315400123596191, -4.315400123596191, -4.315400123596191, -4.315400123596191, -4.315400123596191, -4.315400123596191, -4.315400123596191, -4.315400123596191, -4.315400123596191, -4.315400123596191, -4.315400123596191, -4.315400123596191, -4.315400123596191, -4.315400123596191, -4.315400123596191, -4.315400123596191, -4.315400123596191, -4.315400123596191, -4.315400123596191, -4.315400123596191, -4.315400123596191, -4.315400123596191, -4.315400123596191, -3.2655999660491943, -3.658600091934204, -4.315400123596191, -4.315400123596191, -4.315400123596191, -3.658600091934204, -1.7450000047683716, -3.658600091934204, -3.658600091934204, -4.315400123596191, -4.315400123596191, -4.315400123596191, -4.315400123596191, -4.315400123596191, -4.315400123596191, -4.2382001876831055, -4.2382001876831055, -4.2382001876831055, -4.2382001876831055, -4.2382001876831055, -4.2382001876831055, -4.2382001876831055, -4.2382001876831055, -4.2382001876831055, -4.2382001876831055, -4.2382001876831055, -4.2382001876831055, -4.2382001876831055, -4.2382001876831055, -4.2382001876831055, -4.2382001876831055, -4.2382001876831055, -4.2382001876831055, -4.2382001876831055, -4.2382001876831055, -4.23829984664917, -3.1884000301361084, -3.5815000534057617, -4.2382001876831055, -4.2382001876831055, -4.2382001876831055, -4.2382001876831055, -4.2382001876831055, -4.2382001876831055, -4.2382001876831055, -2.5078001022338867, -3.1884000301361084, -4.2382001876831055, -4.2382001876831055, -4.2382001876831055, -4.2382001876831055, -4.2382001876831055, -4.2382001876831055, -3.553999900817871, -4.2108001708984375, -4.2108001708984375, -4.2108001708984375, -4.2108001708984375, -4.2108001708984375, -4.2108001708984375, -4.2108001708984375, -4.2108001708984375, -4.2108001708984375, -4.2108001708984375, -4.2108001708984375, -4.2108001708984375, -4.2108001708984375, -4.2108001708984375, -4.2108001708984375, -4.2108001708984375, -4.2108001708984375, -4.2108001708984375, -4.2108001708984375, -4.213799953460693, -4.214099884033203, -4.2108001708984375, -4.2108001708984375, -4.2108001708984375, -4.2108001708984375, -4.2108001708984375, -4.2108001708984375, -4.2108001708984375, -3.5560998916625977, -2.879499912261963, -2.660900115966797, -3.160900115966797, -4.2108001708984375, -4.2108001708984375, -4.2108001708984375, -4.2108001708984375, -2.751300096511841, -3.4214000701904297, -4.078199863433838, -4.078199863433838, -4.078199863433838, -4.078199863433838, -4.078199863433838, -4.078199863433838, -4.078199863433838, -4.078199863433838, -4.078199863433838, -4.078199863433838, -4.078199863433838, -4.078199863433838, -4.078199863433838, -4.078199863433838, -4.078199863433838, -4.078199863433838, -4.078199863433838, -4.078199863433838, -4.078199863433838, -4.078199863433838, -4.078199863433838, -2.751300096511841, -4.078199863433838, -4.078199863433838, -4.078199863433838, -4.078199863433838, -4.078199863433838, -2.746999979019165, -3.4214000701904297, -4.079699993133545, -4.079699993133545, -4.079699993133545, -4.079699993133545, -4.079699993133545, -4.079699993133545, -4.079699993133545, -4.079699993133545, -4.079699993133545, -4.079699993133545, -4.079699993133545, -4.079699993133545, -4.079699993133545, -4.079699993133545, -4.079699993133545, -4.079699993133545, -4.079699993133545, -4.079699993133545, -4.079699993133545, -4.079699993133545, -4.079699993133545, -4.079699993133545, -4.079699993133545, -4.079699993133545, -3.4228999614715576, -3.4228999614715576, -4.079699993133545, -4.079699993133545, -4.079699993133545, -4.079699993133545, -2.529099941253662, -3.028599977493286, -4.079699993133545, -4.079699993133545, -3.9797000885009766, -3.9797000885009766, -3.9797000885009766, -3.9797000885009766, -3.9797000885009766, -3.9797000885009766, -3.9797000885009766, -3.9797000885009766, -3.9797000885009766, -3.9797000885009766, -3.9797000885009766, -3.9797000885009766, -3.9797000885009766, -3.9797000885009766, -3.9797000885009766, -3.9797000885009766, -3.9797000885009766, -3.9797000885009766, -3.9797000885009766, -3.9797000885009766, -3.9797000885009766, -3.3229000568389893, -3.9797000885009766, -3.9797000885009766, -3.9797000885009766, -3.9797000885009766, -3.9797000885009766, -3.9797000885009766, -3.9797000885009766, -3.9797000885009766, -2.648400068283081, -3.9797000885009766, -3.8889000415802, -3.8889000415802, -3.8889000415802, -3.8889000415802, -3.8889000415802, -3.8889000415802, -3.8889000415802, -3.8889000415802, -3.8889000415802, -3.8889000415802, -3.8889000415802, -3.8889000415802, -3.8889000415802, -3.232100009918213, -3.8889000415802, -3.8889000415802, -3.8889000415802, -3.8889000415802, -3.8889000415802, -3.8889000415802, -3.8889000415802, -3.8889000415802, -3.8889000415802, -2.5576999187469482, -2.839099884033203, -6.5279998779296875, -6.5279998779296875, -6.5279998779296875, -6.5279998779296875, -6.5279998779296875, -6.5279998779296875, -6.5279998779296875, -6.5279998779296875, -6.5279998779296875, -6.5279998779296875, -3.678100109100342, -3.678100109100342, -3.678100109100342, -3.678100109100342, -3.678100109100342, -3.678100109100342, -3.678100109100342, -3.678100109100342, -3.678100109100342, -3.678100109100342, -3.678100109100342, -3.678100109100342, -3.678100109100342, -3.678100109100342, -3.678100109100342, -3.678100109100342, -3.678100109100342, -2.6282999515533447, -6.317200183868408, -6.317200183868408, -6.317200183868408, -6.317200183868408, -6.317200183868408, -6.317200183868408, -6.317200183868408, -6.317200183868408, -6.317200183868408, -6.317200183868408, -6.317200183868408, -6.317200183868408, -3.678100109100342, -6.317200183868408, -6.317200183868408, -6.317200183868408, -6.317200183868408, -6.317200183868408, -6.317200183868408, -6.317200183868408, -6.317200183868408, -6.317200183868408, -6.317200183868408, -6.317200183868408, -3.678100109100342, -3.678100109100342, -3.678100109100342, -3.678100109100342, -3.678100109100342, -3.678100109100342, -3.0213000774383545, -3.678100109100342, -3.678100109100342, -3.678100109100342, -3.678100109100342, -3.678100109100342, -3.678100109100342, -3.678100109100342, -3.678100109100342, -3.678100109100342, -3.678100109100342, -2.6282999515533447, -6.317200183868408, -6.317200183868408, -6.317200183868408, -6.317200183868408, -6.317200183868408, -6.317200183868408, -6.317200183868408, -6.317200183868408, -6.317200183868408, -6.317200183868408, -6.317200183868408, -6.317200183868408, -6.317200183868408, -6.317200183868408, -6.317200183868408, -6.317200183868408, -6.317200183868408, -6.317200183868408, -6.317200183868408, -6.317200183868408, -6.317200183868408, -6.317200183868408, -6.317200183868408, -6.317200183868408, -3.498699903488159, -3.498699903488159, -3.498699903488159, -3.498699903488159, -3.498699903488159, -3.498699903488159, -3.498699903488159, -3.498699903488159, -3.498699903488159, -3.498699903488159, -3.498699903488159, -3.498699903488159, -6.137700080871582, -6.137700080871582, -6.137700080871582, -6.137700080871582, -6.137700080871582, -6.137700080871582, -6.137700080871582, -6.137700080871582, -6.137700080871582, -6.137700080871582, -6.137700080871582, -6.137700080871582, -6.137700080871582, -6.137700080871582, -6.137700080871582, -6.137700080871582, -6.137700080871582, -6.137700080871582, -6.137700080871582, -6.137700080871582, -3.498699903488159, -3.498699903488159, -6.137700080871582, -6.137700080871582, -6.137700080871582, -6.137700080871582, -6.137700080871582, -6.137700080871582, -6.137700080871582, -6.137700080871582, -6.137700080871582, -6.137700080871582, -6.137700080871582, -6.137700080871582, -6.137700080871582, -6.137700080871582, -6.137700080871582, -6.137700080871582, -3.169100046157837, -3.169100046157837, -3.169100046157837, -3.169100046157837, -5.80810022354126, -5.80810022354126, -5.80810022354126, -5.80810022354126, -5.80810022354126, -5.80810022354126, -5.80810022354126, -5.80810022354126, -5.80810022354126, -5.80810022354126, -5.80810022354126, -5.80810022354126, -5.80810022354126, -5.80810022354126, -5.80810022354126, -5.80810022354126, -5.80810022354126, -5.80810022354126, -5.80810022354126, -5.80810022354126, -5.80810022354126, -5.80810022354126, -5.80810022354126, -5.80810022354126, -5.80810022354126, -5.80810022354126, -5.80810022354126, -5.80810022354126, -5.80810022354126, -5.80810022354126, -5.80810022354126, -5.80810022354126, -5.80810022354126, -5.80810022354126, -5.80810022354126, -5.80810022354126, -5.80810022354126, -5.80810022354126, -5.80810022354126, -5.80810022354126, -5.80810022354126, -5.80810022354126, -5.80810022354126, -5.80810022354126, -5.80810022354126, -5.80810022354126, -5.80810022354126, -5.80810022354126, -5.80810022354126, -5.80810022354126, -5.80810022354126, -5.80810022354126], \"loglift\": [30.0, 29.0, 28.0, 27.0, 26.0, 25.0, 24.0, 23.0, 22.0, 21.0, 20.0, 19.0, 18.0, 17.0, 16.0, 15.0, 14.0, 13.0, 12.0, 11.0, 10.0, 9.0, 8.0, 7.0, 6.0, 5.0, 4.0, 3.0, 2.0, 1.0, 1.5923, 1.5719, 1.5719, 1.5719, 1.5719, 1.5719, 1.5719, 1.5719, 1.5719, 1.5719, 1.5719, 1.5719, 1.5719, 1.5719, 1.5719, 1.5719, 1.5719, 1.5719, 1.5719, 1.5719, 1.5719, 1.5719, 1.5719, 1.5719, 1.5719, 1.5719, 1.5719, 1.5719, 1.5022, 1.4961, 1.4935, 0.3945, 0.8431, -0.9176, 0.8802, 1.1484, 1.144, 0.8697, 1.8209, 1.5964, 1.5964, 1.5964, 1.5964, 1.5964, 1.5964, 1.5964, 1.5964, 1.5964, 1.5964, 1.5964, 1.5964, 1.5964, 1.5964, 1.5964, 1.5964, 1.5964, 1.5964, 1.5964, 1.5964, 1.5964, 1.5964, 1.5964, 1.5964, 1.5964, 1.5964, 1.5964, 1.3484, 1.2586, 1.1952, 0.6259, 1.1514, -0.0118, 0.4925, 0.3118, 1.156, 0.8513, 0.8994, 0.4557, 1.1654, 1.1726, 1.8408, 1.6231, 1.6231, 1.6231, 1.6231, 1.6231, 1.6231, 1.6231, 1.6231, 1.6231, 1.6231, 1.6231, 1.6231, 1.6231, 1.6231, 1.6231, 1.6231, 1.6231, 1.6231, 1.6231, 1.6231, 1.6231, 1.6231, 1.6231, 1.3864, 1.3181, 1.2429, 1.238, 1.2239, 1.208, 1.0328, 0.8799, -0.9279, 1.182, 1.1902, 0.7411, 0.9242, 0.9203, -0.1761, 1.7053, 1.7053, 1.7053, 1.7053, 1.7053, 1.7053, 1.7053, 1.7053, 1.7053, 1.7053, 1.7053, 1.7053, 1.7053, 1.7053, 1.7053, 1.7053, 1.7053, 1.7053, 1.7053, 1.7053, 1.7053, 1.6613, 1.6501, 1.4052, 1.4052, 1.3655, 1.3655, 1.3655, 1.3655, 1.3655, 0.27, -0.4577, 0.9837, 1.1123, 1.2624, 1.3044, 0.7384, 0.6284, 1.9673, 1.7389, 1.7389, 1.7389, 1.7389, 1.7389, 1.7389, 1.7389, 1.7389, 1.7389, 1.7389, 1.7389, 1.7389, 1.7389, 1.7389, 1.7389, 1.7389, 1.7389, 1.7389, 1.7389, 1.736, 1.7357, 1.3935, 1.3502, 1.331, 1.331, 1.302, 1.2938, 1.2938, 1.2766, 1.2598, 0.1169, -0.4302, 1.0602, 0.4412, 0.624, 0.9869, 2.2903, 2.1413, 1.9031, 1.9031, 1.9031, 1.9031, 1.9031, 1.9031, 1.9031, 1.9031, 1.9031, 1.9031, 1.9031, 1.9031, 1.9031, 1.5931, 1.5483, 1.5092, 1.5041, 1.5041, 1.4636, 1.4636, 1.4465, 1.3881, 1.1927, 1.1533, 1.1437, 0.7884, 0.7715, -0.0162, -0.6436, 1.9092, 1.9092, 1.9092, 1.9092, 1.9092, 1.9092, 1.9092, 1.9092, 1.9092, 1.9092, 1.9092, 1.9092, 1.9092, 1.9092, 1.9092, 1.9092, 1.9092, 1.9092, 1.9092, 1.9092, 1.9092, 1.9092, 1.9092, 1.9092, 1.8678, 1.624, 1.5562, 1.4629, 1.4629, 1.4596, 0.2017, -0.2508, 0.9768, 1.156, 2.0314, 2.0314, 2.0314, 2.0314, 2.0314, 2.0314, 2.0314, 2.0314, 2.0314, 2.0314, 2.0314, 2.0314, 2.0314, 2.0314, 2.0314, 2.0314, 1.6277, 1.6026, 1.6026, 1.5812, 1.5737, 1.5557, 1.311, 1.2599, 1.2527, 1.0521, 1.0236, 0.8162, 0.6723, 0.5588, 0.0823, -1.2019, 2.1301, 2.1301, 2.1301, 2.1301, 2.1301, 2.1301, 2.1301, 2.1301, 2.1301, 2.1301, 2.1301, 2.1301, 2.1301, 1.8243, 1.7185, 1.6985, 1.6694, 1.6595, 1.6595, 1.6595, 1.382, 1.158, 1.1429, 0.1731, -0.0613, -0.1769, -0.1769, -0.1769, -0.1769, -0.3766, -0.5783, -0.5168, -0.5844, -1.0211, -2.3886, 2.4018, 2.4018, 2.4018, 2.4018, 2.4018, 2.4018, 2.4018, 2.4018, 2.4018, 2.4018, 2.4018, 1.9484, 1.9261, 1.1716, 1.1567, 1.1546, 0.8604, 0.1495, 0.0339, 0.0339, 0.0339, 0.0339, -0.1658, -0.1658, -0.1658, -0.1658, -0.1658, -0.1658, -0.1658, -0.231, -0.9474, -1.6652, -2.1778, -0.3806, -0.2982, -0.3736, -0.2982, -0.2982, -0.3282, -0.3806, -0.3806, -0.3806, 2.408, 2.408, 2.408, 2.408, 2.408, 2.408, 2.3292, 1.9577, 1.9256, 1.9256, 1.9256, 1.9256, 1.9256, 1.9207, 1.9118, 1.2005, 0.4612, 0.1025, 0.0339, 0.0339, 0.0339, 0.0339, -0.1658, -0.1658, -0.1658, -0.1658, -0.1658, -0.1658, -0.1658, -0.2372, -3.5394, -1.0856, -0.3736, -0.3736, -0.7746, -0.3736, -0.3736, -0.3736, -0.3736, -1.0776, -0.2982, -0.3786, 2.6527, 2.6527, 2.6527, 2.6527, 2.6527, 2.6527, 2.6527, 2.1726, 2.1448, 2.1448, 1.789, 1.3679, 0.2134, 0.2134, 0.2134, 0.2134, -0.0516, -0.0516, -0.0516, -0.0516, -0.0516, -0.0516, -0.0578, -0.0578, -0.0578, -0.0578, -0.0578, -0.0578, -0.0578, -0.0578, -0.0578, -0.0578, -0.7209, -0.7679, -0.5893, -0.1188, -0.1942, -0.1942, -0.1942, -0.534, -0.1266, -0.1266, -1.9984, -0.1564, -0.5504, -0.8668, -0.1188, -0.1188, -0.1942, -0.9062, 3.182, 3.182, 3.182, 3.182, 0.3432, 0.3432, 0.3432, 0.3432, 0.3432, 0.3432, 0.3432, 0.278, 0.278, 0.278, 0.278, 0.278, 0.278, 0.2718, 0.2718, 0.2718, 0.2718, 0.2718, 0.2718, 0.2718, 0.2718, 0.2718, 0.2718, 0.2718, 0.2108, 0.2108, 0.2108, -3.0774, -3.0303, 0.1808, -0.3038, -0.7665, -0.7612, -0.5175, 0.1808, -1.0122, 0.116, -0.5204, -0.3036, 0.1415, -0.2869, -0.6105, 0.1285, -0.2008, 0.116, 0.203, 0.116, -0.2597, -0.2498, -0.2655, 0.1285, -0.5725]}, \"token.table\": {\"Topic\": [9, 2, 4, 4, 6, 10, 4, 6, 10, 1, 2, 5, 10, 6, 10, 7, 6, 8, 3, 7, 4, 2, 2, 5, 2, 5, 8, 1, 3, 5, 8, 10, 1, 6, 8, 1, 5, 5, 7, 4, 4, 10, 3, 8, 1, 5, 6, 3, 1, 2, 8, 5, 1, 3, 5, 7, 7, 2, 7, 2, 5, 8, 4, 11, 5, 7, 7, 1, 7, 3, 4, 6, 4, 2, 3, 4, 5, 6, 11, 1, 2, 3, 4, 5, 6, 7, 8, 9, 10, 8, 4, 3, 7, 5, 4, 10, 5, 9, 3, 3, 6, 8, 7, 2, 3, 7, 8, 8, 1, 4, 4, 11, 2, 4, 2, 1, 11, 5, 9, 1, 7, 7, 2, 7, 3, 1, 2, 2, 3, 1, 4, 7, 9, 4, 7, 6, 6, 11, 3, 8, 1, 2, 1, 2, 4, 1, 9, 1, 7, 5, 7, 1, 1, 3, 1, 9, 10, 10, 1, 8, 6, 7, 8, 11, 9, 11, 3, 8, 8, 3, 1, 2, 3, 8, 2, 6, 5, 3, 7, 9, 5, 6, 7, 3, 9, 5, 9, 1, 4, 4, 11, 3, 2, 4, 5, 10, 2, 5, 2, 8, 8, 5, 1, 4, 5, 8, 2, 3, 5, 8, 5, 6, 9, 4, 7, 9, 4, 7, 10, 3, 7, 11, 11, 5, 3, 4, 6, 3, 2, 8, 11, 2, 11, 5, 4, 11, 6, 4, 1, 4, 6, 1, 2, 5, 8, 8, 6, 2, 9, 7, 5, 5, 10, 1, 1, 11, 3, 2, 9, 10, 1, 2, 6, 6, 9, 1, 4, 6, 5, 4, 2, 3, 4, 1, 1, 9, 6, 3, 1, 3, 8, 2, 3, 1, 5, 1, 2, 8, 1, 1, 2, 1, 10, 9, 1, 9, 7, 1, 2, 3, 4, 5, 6, 7, 8, 9, 10, 11, 2, 8, 9, 2, 4, 1, 6, 4, 5, 3, 4, 4, 1, 6, 1, 3, 2, 9, 8, 4, 2, 7, 3, 4, 7, 6, 7, 3, 10, 5, 6, 9, 2, 1, 7, 3, 4, 11, 1, 3, 9, 5, 2, 8, 9, 7, 10, 10, 6, 8, 11, 1, 2, 4, 6, 5, 4, 11, 1, 5, 3, 2, 5, 2, 4], \"Freq\": [0.8272721732661303, 0.761868850395344, 0.5682918694394655, 0.37641096852958844, 0.37641096852958844, 0.8792657251323924, 0.5138832567850062, 0.2569416283925031, 0.2569416283925031, 0.2526083565337069, 0.2526083565337069, 0.2526083565337069, 0.2526083565337069, 0.558745673463287, 0.558745673463287, 0.8027796897191841, 0.5345522604928155, 0.5345522604928155, 0.5120517679684252, 0.5120517679684252, 0.7671537835342527, 0.7618678494097338, 0.7618699769457223, 0.7718683078820203, 0.49867077233698476, 0.49867077233698476, 0.8208063972032615, 0.3764715896849813, 0.18823579484249064, 0.18823579484249064, 0.18823579484249064, 0.18823579484249064, 0.7524048522347083, 0.7966854875591328, 0.8208063552002414, 0.49459912799468236, 0.49459912799468236, 0.7718737077668494, 0.8027793633062169, 0.7671536975601048, 0.7671536975601048, 0.8792656595276919, 0.5193272496898952, 0.5193272496898952, 0.7277661336477285, 0.36388306682386423, 0.796685340439409, 0.4957007130835511, 0.3767376979180262, 0.3767376979180262, 0.3767376979180262, 0.5029325485193387, 0.7524047241481455, 0.37797278010735624, 0.37797278010735624, 0.37797278010735624, 0.8027804705381498, 0.7618679762150674, 0.8027789307153368, 0.761867786007083, 0.5232636635849635, 0.5232636635849635, 0.54615132043128, 0.54615132043128, 0.7719763750916253, 0.8027789307153368, 0.8027804214000208, 0.7524060755907976, 0.8027793217865893, 0.7633326230696162, 0.7671534396377765, 0.796685340439409, 0.7671534396377765, 0.7618677543057615, 0.12628089724200378, 0.12628089724200378, 0.3788426917260113, 0.3788426917260113, 0.12628089724200378, 0.06472306345721718, 0.12944612691443436, 0.3236153172860859, 0.12944612691443436, 0.12944612691443436, 0.03236153172860859, 0.06472306345721718, 0.03236153172860859, 0.06472306345721718, 0.06472306345721718, 0.8208068588435511, 0.7671534396377765, 0.7633326540040926, 0.8027789307153368, 0.7718681125538678, 0.5682917067509883, 0.8792656595276919, 0.7718683078820203, 0.8272722545578184, 0.763333087087025, 0.7633329014799938, 0.5345525409009945, 0.5345525409009945, 0.8027788324394617, 0.7618681319188424, 0.7633326230696162, 0.8027793238190779, 0.8208063972032615, 0.8208065980779603, 0.7524055811115485, 0.7671536975601048, 0.546150578939518, 0.546150578939518, 0.7618699769457223, 0.7671543166715713, 0.7618678811110634, 0.7524047561697822, 0.8847467305158493, 0.7718680567458424, 0.8272722545578184, 0.7524049162780061, 0.8027788815773963, 0.8027789307153368, 0.7618679445137302, 0.8027796472651333, 0.7633327158730528, 0.7232902314692169, 0.36164511573460845, 0.7618679445137302, 0.7633333241981821, 0.7524060735377552, 0.7671534396377765, 0.8027789307153368, 0.8272722545578184, 0.5137683346307627, 0.5137683346307627, 0.5242132486460572, 0.7966853894793109, 0.8847467305158493, 0.7633327158730528, 0.8208068603935961, 0.7963343539811303, 0.7618681347217937, 0.7524047241481455, 0.7618679762150674, 0.767159471952285, 0.7524049162780061, 0.8272723764953802, 0.7524050123429731, 0.8027805688144262, 0.7719659992175516, 0.802779028991236, 0.7524050123429731, 0.4910805173179634, 0.4910805173179634, 0.5167763486442608, 0.5167763486442608, 0.8792657251323924, 0.8792656595276919, 0.7524047561697822, 0.820805999169772, 0.796685340439409, 0.3993468772625708, 0.3993468772625708, 0.8847479039613124, 0.8272722139119723, 0.8847468288402592, 0.7633331461423141, 0.8208068655416636, 0.8208069917804671, 0.7633327158730528, 0.7524061037740867, 0.37945739997888267, 0.37945739997888267, 0.37945739997888267, 0.7618699173947215, 0.7966854875591328, 0.7718679451298156, 0.31596195057345106, 0.31596195057345106, 0.31596195057345106, 0.5133553832371943, 0.5133553832371943, 0.8027788324394617, 0.5219084801723988, 0.5219084801723988, 0.7718681404578834, 0.8272722139119723, 0.7524048202130634, 0.7671538981664799, 0.546150775351883, 0.546150775351883, 0.7633326540040926, 0.2531408732221675, 0.2531408732221675, 0.2531408732221675, 0.2531408732221675, 0.7618678811110634, 0.7718700886762345, 0.7618678811110634, 0.8208063552002414, 0.8208063552002414, 0.771868391594116, 0.29958931442184195, 0.29958931442184195, 0.29958931442184195, 0.29958931442184195, 0.21085291586052504, 0.4217058317210501, 0.21085291586052504, 0.21085291586052504, 0.5133556512900858, 0.5133556512900858, 0.8272723764953802, 0.31296054218500674, 0.31296054218500674, 0.31296054218500674, 0.7671536975601048, 0.8027865272335543, 0.8792657251323924, 0.763333087087025, 0.5639681878090814, 0.5639681878090814, 0.8847468616150675, 0.7718680009378248, 0.26132917835876956, 0.26132917835876956, 0.26132917835876956, 0.7633331440824017, 0.2644884502085749, 0.2644884502085749, 0.2644884502085749, 0.5434668300527343, 0.5434668300527343, 0.7718683078820203, 0.42400204343475445, 0.42400204343475445, 0.7966854875591328, 0.7671542420633671, 0.49265901942282686, 0.49265901942282686, 0.7966859144329549, 0.7524049162780061, 0.7618679762150674, 0.7718685440978817, 0.8208068426178428, 0.8208106788602553, 0.796685340439409, 0.7618680396177501, 0.8272723764953802, 0.8027793238190779, 0.7718685032102719, 0.546424065349885, 0.546424065349885, 0.7524047241481455, 0.5386341327296537, 0.5386341327296537, 0.7633327468075367, 0.7618699769457223, 0.8272730108042977, 0.8792656595276919, 0.4904737727893521, 0.4904737727893521, 0.7966854385192188, 0.5372871670784487, 0.5372871670784487, 0.3728266350547188, 0.3728266350547188, 0.3728266350547188, 0.7718684332769266, 0.7671536975601048, 0.29173092908239057, 0.29173092908239057, 0.29173092908239057, 0.7524055849763944, 0.5167769984673343, 0.5167769984673343, 0.7966855856389788, 0.7633325612006711, 0.7524049162780061, 0.763333087087025, 0.820805954665985, 0.49509400486449623, 0.49509400486449623, 0.4945992722461533, 0.4945992722461533, 0.4869782221155352, 0.2434891110577676, 0.2434891110577676, 0.7524049162780061, 0.7524061037740867, 0.7618678811110634, 0.7524047561697822, 0.8792657579347462, 0.8272722139119723, 0.5167768239983795, 0.5167768239983795, 0.8027789307153368, 0.18524493673449724, 0.21611909285691344, 0.03087415612241621, 0.06174831224483242, 0.06174831224483242, 0.09262246836724862, 0.09262246836724862, 0.09262246836724862, 0.06174831224483242, 0.03087415612241621, 0.06174831224483242, 0.30827318077256727, 0.30827318077256727, 0.30827318077256727, 0.7618678494097338, 0.7671534969538345, 0.5046729251054387, 0.5046729251054387, 0.7671538408503621, 0.7718683078820203, 0.7633348529130547, 0.7671536975601048, 0.7671537548762013, 0.7524060234628109, 0.5843372498973979, 0.7524047561697822, 0.7633326230696162, 0.7618679762150674, 0.8272723764953802, 0.8208061326811619, 0.7671540987729599, 0.7618678494097338, 0.8027804705381498, 0.7633333850721454, 0.5137689327348971, 0.5137689327348971, 0.9339134364909689, 0.8027787833015332, 0.7633330843102978, 0.8792656267253453, 0.39154724872645247, 0.39154724872645247, 0.39154724872645247, 0.7618679445137302, 0.7524048202130634, 0.8027787833015332, 0.763333087087025, 0.5461505664505399, 0.5461505664505399, 0.752405076386298, 0.7633337702016357, 0.8272722139119723, 0.7718680009378248, 0.7618680396177501, 0.5481506717071261, 0.5481506717071261, 0.8027793238190779, 0.8792656595276919, 0.879266020353666, 0.796685340439409, 0.8208065736185955, 0.8847468288402592, 0.7524047561697822, 0.761867786007083, 0.767154263973848, 0.7966862091411981, 0.7718681962659211, 0.5461505124232289, 0.5461505124232289, 0.752405076386298, 0.7718701444845537, 0.7633325612006711, 0.761867786007083, 0.7718681125538678, 0.49447405703374814, 0.7671534396377765], \"Term\": [\"acquisition\", \"action\", \"age\", \"algorithm\", \"algorithm\", \"alternative\", \"analysis\", \"analysis\", \"analysis\", \"analytic\", \"analytic\", \"analytic\", \"analytic\", \"analyze\", \"analyze\", \"ancillary\", \"application\", \"application\", \"approach\", \"approach\", \"archive\", \"art\", \"assimilation\", \"association\", \"base\", \"base\", \"benefit\", \"big\", \"big\", \"big\", \"big\", \"big\", \"biodiversity\", \"biological\", \"biomaterial\", \"business\", \"business\", \"calibration\", \"career\", \"causal\", \"cell\", \"chain\", \"challenge\", \"challenge\", \"change\", \"change\", \"cipre\", \"citation\", \"citizen\", \"citizen\", \"citizen\", \"climate\", \"cloud\", \"cluster\", \"cluster\", \"cluster\", \"color\", \"combined\", \"community\", \"compete\", \"comprehensive\", \"comprehensive\", \"computer\", \"computer\", \"concept\", \"conceptual\", \"consumer\", \"control\", \"correlated\", \"count\", \"covariance\", \"create\", \"cross\", \"customer\", \"data\", \"data\", \"data\", \"data\", \"data\", \"datum\", \"datum\", \"datum\", \"datum\", \"datum\", \"datum\", \"datum\", \"datum\", \"datum\", \"datum\", \"dawn\", \"decay\", \"decision\", \"define\", \"deletion\", \"derive\", \"design\", \"detect\", \"develop\", \"dimensionality\", \"discover\", \"discovery\", \"discovery\", \"distil\", \"distribution\", \"drive\", \"early\", \"ecological\", \"econometric\", \"education\", \"enable\", \"endf\", \"endf\", \"engineering\", \"enhance\", \"eukaryote\", \"european\", \"evaluate\", \"evil\", \"expand\", \"experiment\", \"experimental\", \"expert\", \"fabricate\", \"facility\", \"faculty\", \"fair\", \"fair\", \"falsify\", \"far\", \"fisherie\", \"fission\", \"form\", \"framework\", \"free\", \"free\", \"fundamental\", \"gateway\", \"generation\", \"genomic\", \"geographical\", \"global\", \"grid\", \"guide\", \"guiding\", \"handbook\", \"high\", \"hipe\", \"hirise\", \"holographic\", \"hype\", \"idea\", \"image\", \"impact\", \"impact\", \"implication\", \"implication\", \"imputation\", \"incomplete\", \"increasingly\", \"industry\", \"inference\", \"information\", \"information\", \"infrastructure\", \"instruction\", \"instructional\", \"integration\", \"integrative\", \"intensive\", \"interaction\", \"international\", \"introduction\", \"introduction\", \"introduction\", \"investment\", \"key\", \"know\", \"knowledge\", \"knowledge\", \"knowledge\", \"large\", \"large\", \"law\", \"link\", \"link\", \"list\", \"literacy\", \"local\", \"machine\", \"make\", \"make\", \"making\", \"management\", \"management\", \"management\", \"management\", \"many\", \"mapping\", \"master\", \"material\", \"medicine\", \"message\", \"method\", \"method\", \"method\", \"method\", \"mining\", \"mining\", \"mining\", \"mining\", \"miss\", \"miss\", \"mission\", \"model\", \"model\", \"model\", \"monitoring\", \"multilevel\", \"multiple\", \"multivariate\", \"natural\", \"natural\", \"nature\", \"nee\", \"network\", \"network\", \"network\", \"neural\", \"new\", \"new\", \"new\", \"next\", \"next\", \"novel\", \"nuclear\", \"nuclear\", \"objective\", \"online\", \"open\", \"open\", \"opportunistic\", \"orbiter\", \"orientation\", \"pass\", \"person\", \"perspective\", \"phylogenetic\", \"phylogeny\", \"pipeline\", \"plan\", \"point\", \"political\", \"political\", \"potential\", \"practice\", \"practice\", \"predict\", \"predictability\", \"prediction\", \"predictive\", \"principle\", \"principle\", \"problem\", \"processing\", \"processing\", \"product\", \"product\", \"product\", \"projection\", \"promise\", \"protein\", \"protein\", \"protein\", \"qualitative\", \"quality\", \"quality\", \"quantified\", \"ranking\", \"reconnaissance\", \"reduce\", \"reference\", \"relationship\", \"relationship\", \"report\", \"report\", \"research\", \"research\", \"research\", \"resolution\", \"result\", \"review\", \"revisit\", \"revolution\", \"role\", \"run\", \"run\", \"school\", \"science\", \"science\", \"science\", \"science\", \"science\", \"science\", \"science\", \"science\", \"science\", \"science\", \"science\", \"scientific\", \"scientific\", \"scientific\", \"scientist\", \"section\", \"self\", \"self\", \"sense\", \"set\", \"share\", \"signaling\", \"single\", \"sixth\", \"social\", \"solution\", \"source\", \"space\", \"start\", \"statistic\", \"statistical\", \"stewardship\", \"storage\", \"story\", \"stream\", \"stream\", \"structure\", \"study\", \"summarize\", \"supply\", \"system\", \"system\", \"system\", \"systematic\", \"tap\", \"teach\", \"technique\", \"technology\", \"technology\", \"terrestrial\", \"text\", \"theoretical\", \"thinking\", \"time\", \"tool\", \"tool\", \"topic\", \"transform\", \"trap\", \"tree\", \"trick\", \"unnatural\", \"unrealized\", \"update\", \"use\", \"value\", \"vegetation\", \"vii\", \"vii\", \"vision\", \"visualize\", \"web\", \"win\", \"wise\", \"workflow\", \"yield\"]}, \"R\": 30, \"lambda.step\": 0.01, \"plot.opts\": {\"xlab\": \"PC1\", \"ylab\": \"PC2\"}, \"topic.order\": [4, 8, 3, 11, 6, 12, 1, 5, 9, 7, 2, 10, 13]};\n",
              "\n",
              "function LDAvis_load_lib(url, callback){\n",
              "  var s = document.createElement('script');\n",
              "  s.src = url;\n",
              "  s.async = true;\n",
              "  s.onreadystatechange = s.onload = callback;\n",
              "  s.onerror = function(){console.warn(\"failed to load library \" + url);};\n",
              "  document.getElementsByTagName(\"head\")[0].appendChild(s);\n",
              "}\n",
              "\n",
              "if(typeof(LDAvis) !== \"undefined\"){\n",
              "   // already loaded: just create the visualization\n",
              "   !function(LDAvis){\n",
              "       new LDAvis(\"#\" + \"ldavis_el5971399763541992569601282034\", ldavis_el5971399763541992569601282034_data);\n",
              "   }(LDAvis);\n",
              "}else if(typeof define === \"function\" && define.amd){\n",
              "   // require.js is available: use it to load d3/LDAvis\n",
              "   require.config({paths: {d3: \"https://cdnjs.cloudflare.com/ajax/libs/d3/3.5.5/d3.min\"}});\n",
              "   require([\"d3\"], function(d3){\n",
              "      window.d3 = d3;\n",
              "      LDAvis_load_lib(\"https://cdn.rawgit.com/bmabey/pyLDAvis/files/ldavis.v1.0.0.js\", function(){\n",
              "        new LDAvis(\"#\" + \"ldavis_el5971399763541992569601282034\", ldavis_el5971399763541992569601282034_data);\n",
              "      });\n",
              "    });\n",
              "}else{\n",
              "    // require.js not available: dynamically load d3 & LDAvis\n",
              "    LDAvis_load_lib(\"https://cdnjs.cloudflare.com/ajax/libs/d3/3.5.5/d3.min.js\", function(){\n",
              "         LDAvis_load_lib(\"https://cdn.rawgit.com/bmabey/pyLDAvis/files/ldavis.v1.0.0.js\", function(){\n",
              "                 new LDAvis(\"#\" + \"ldavis_el5971399763541992569601282034\", ldavis_el5971399763541992569601282034_data);\n",
              "            })\n",
              "         });\n",
              "}\n",
              "</script>"
            ],
            "text/plain": [
              "PreparedData(topic_coordinates=              x         y  topics  cluster       Freq\n",
              "topic                                                \n",
              "3     -0.140998  0.032622       1        1  12.220359\n",
              "7     -0.099521 -0.066055       2        1  11.799447\n",
              "2      0.077094 -0.167473       3        1  11.469872\n",
              "10     0.113290  0.058649       4        1  10.520231\n",
              "5      0.026258 -0.054901       5        1  10.118683\n",
              "11     0.075052  0.065158       6        1   8.346212\n",
              "0      0.021762  0.007299       7        1   8.236421\n",
              "4     -0.091495 -0.013163       8        1   7.135582\n",
              "8     -0.017659 -0.011010       9        1   6.415533\n",
              "6      0.024772 -0.024071      10        1   4.583299\n",
              "1     -0.006479  0.101402      11        1   4.522886\n",
              "9      0.019002  0.030712      12        1   3.268748\n",
              "12    -0.001079  0.040830      13        1   1.362728, topic_info=           Term       Freq      Total Category  logprob  loglift\n",
              "1         datum  30.000000  30.000000  Default  30.0000  30.0000\n",
              "73         data   7.000000   7.000000  Default  29.0000  29.0000\n",
              "146   structure   3.000000   3.000000  Default  28.0000  28.0000\n",
              "122         new   3.000000   3.000000  Default  27.0000  27.0000\n",
              "2       science  32.000000  32.000000  Default  26.0000  26.0000\n",
              "..          ...        ...        ...      ...      ...      ...\n",
              "158     quality   0.020339   1.935071  Topic13  -5.8081  -0.2597\n",
              "161        link   0.020339   1.916045  Topic13  -5.8081  -0.2498\n",
              "162      stream   0.020339   1.946400  Topic13  -5.8081  -0.2655\n",
              "163  investment   0.020339   1.312560  Topic13  -5.8081   0.1285\n",
              "170     cluster   0.020339   2.645693  Topic13  -5.8081  -0.5725\n",
              "\n",
              "[546 rows x 6 columns], token_table=      Topic      Freq         Term\n",
              "term                              \n",
              "77        9  0.827272  acquisition\n",
              "0         2  0.761869       action\n",
              "225       4  0.568292          age\n",
              "90        4  0.376411    algorithm\n",
              "90        6  0.376411    algorithm\n",
              "...     ...       ...          ...\n",
              "114       3  0.763333          web\n",
              "206       2  0.761868          win\n",
              "126       5  0.771868         wise\n",
              "148       2  0.494474     workflow\n",
              "63        4  0.767153        yield\n",
              "\n",
              "[373 rows x 3 columns], R=30, lambda_step=0.01, plot_opts={'xlab': 'PC1', 'ylab': 'PC2'}, topic_order=[4, 8, 3, 11, 6, 12, 1, 5, 9, 7, 2, 10, 13])"
            ]
          },
          "metadata": {
            "tags": []
          },
          "execution_count": 201
        }
      ]
    },
    {
      "cell_type": "markdown",
      "metadata": {
        "id": "8vhJ3eITgrvu"
      },
      "source": [
        "**Summarized topics results**\n",
        "\n",
        "\n",
        "\n",
        "1.   Investment in change of mining concepts to increase a fair change in revenue\n",
        "2.   Design of qualitative infrastructure which increases the demands for the generations\n",
        "3.   Transform Big data to analyze the economic startagies\n",
        "4.   Construct a fair model for dimensionality reduction technique\n",
        "5.   Comprehensive network solution for customer management\n",
        "6.   Analyze large data structures for creating acheiving fair computational predictions\n",
        "7.   Analyze the global problems and delevelop products for community growth\n",
        "8.   Hand guide for information and knowledge discovery\n",
        "9.   Introduction for multivarient data handling. \n",
        "\n",
        "\n",
        "\n"
      ]
    },
    {
      "cell_type": "code",
      "metadata": {
        "id": "kylKGsNKgrC6"
      },
      "source": [
        ""
      ],
      "execution_count": null,
      "outputs": []
    },
    {
      "cell_type": "markdown",
      "metadata": {
        "id": "5HBXmJa_dR5Y"
      },
      "source": [
        "## (2) (8 points) Generate K topics by using LSA, the number of topics K should be decided by the coherence score, then summarize what are the topics. You may refer the code here:\n",
        "\n",
        "https://www.datacamp.com/community/tutorials/discovering-hidden-topics-python"
      ]
    },
    {
      "cell_type": "code",
      "metadata": {
        "id": "KJwVdSYq56dM"
      },
      "source": [
        "number_of_topics = 7"
      ],
      "execution_count": 205,
      "outputs": []
    },
    {
      "cell_type": "code",
      "metadata": {
        "id": "pDeD8ZtQ2bTS"
      },
      "source": [
        "def prepare_corpus(doc_clean):\n",
        "    \"\"\"\n",
        "    Input  : clean document\n",
        "    Purpose: create term dictionary of our courpus and Converting list of documents (corpus) into Document Term Matrix\n",
        "    Output : term dictionary and Document Term Matrix\n",
        "    \"\"\"\n",
        "    # Creating the term dictionary of our courpus, where every unique term is assigned an index. dictionary = corpora.Dictionary(doc_clean)\n",
        "    dictionary = corpora.Dictionary(doc_clean)\n",
        "    # Converting list of documents (corpus) into Document Term Matrix using dictionary prepared above.\n",
        "    doc_term_matrix = [dictionary.doc2bow(doc) for doc in doc_clean]\n",
        "    # generate LDA model \n",
        "    return dictionary,doc_term_matrix"
      ],
      "execution_count": 206,
      "outputs": []
    },
    {
      "cell_type": "code",
      "metadata": {
        "id": "bKq23MBUlvFP"
      },
      "source": [
        "from gensim.models import LsiModel\n",
        "def create_gensim_lsa_model(doc_clean,number_of_topics,words):\n",
        "    \"\"\"\n",
        "    Input  : clean document, number of topics and number of words associated with each topic\n",
        "    Purpose: create LSA model using gensim\n",
        "    Output : return LSA model\n",
        "    \"\"\"\n",
        "    dictionary,doc_term_matrix=prepare_corpus(doc_clean)\n",
        "    # generate LSA model\n",
        "    lsamodel = LsiModel(doc_term_matrix, num_topics=number_of_topics, id2word = dictionary)  # train model\n",
        "    print(lsamodel.print_topics(num_topics=number_of_topics, num_words=words))\n",
        "    return lsamodel"
      ],
      "execution_count": 207,
      "outputs": []
    },
    {
      "cell_type": "code",
      "metadata": {
        "id": "6W5qN0zNk5cP"
      },
      "source": [
        "def compute_coherence_values(dictionary, doc_term_matrix, doc_clean, stop, start, step):\n",
        "    \"\"\"\n",
        "    Input   : dictionary : Gensim dictionary\n",
        "              corpus : Gensim corpus\n",
        "              texts : List of input texts\n",
        "              stop : Max num of topics\n",
        "    purpose : Compute c_v coherence for various number of topics\n",
        "    Output  : model_list : List of LSA topic models\n",
        "              coherence_values : Coherence values corresponding to the LDA model with respective number of topics\n",
        "    \"\"\"\n",
        "    coherence_values = []\n",
        "    model_list = []\n",
        "    for num_topics in range(start, stop, step):\n",
        "        # generate LSA model\n",
        "        model = LsiModel(doc_term_matrix, num_topics=number_of_topics, id2word = dictionary)  # train model\n",
        "        model_list.append(model)\n",
        "        coherencemodel = CoherenceModel(model=model, texts=doc_clean, dictionary=dictionary, coherence='c_v')\n",
        "        coherence_values.append(coherencemodel.get_coherence())\n",
        "    return model_list, coherence_values"
      ],
      "execution_count": 208,
      "outputs": []
    },
    {
      "cell_type": "code",
      "metadata": {
        "id": "3-u4DRez5B9J"
      },
      "source": [
        "dictionary,doc_term_matrix=prepare_corpus(data_lemmatized)\n",
        "model_list_lsa, coherence_values_lsa = compute_coherence_values(dictionary, doc_term_matrix,data_lemmatized,40,2,6)"
      ],
      "execution_count": 216,
      "outputs": []
    },
    {
      "cell_type": "code",
      "metadata": {
        "id": "SKnseznnUTeg",
        "outputId": "dda7ccbb-4f41-4714-f4c6-9b2858616ad7",
        "colab": {
          "base_uri": "https://localhost:8080/",
          "height": 279
        }
      },
      "source": [
        "plt.plot(x, coherence_values_lsa)\n",
        "plt.xlabel(\"Number of Topics\")\n",
        "plt.ylabel(\"Coherence score\")\n",
        "plt.legend((\"coherence_values\"), loc='best')\n",
        "plt.show()"
      ],
      "execution_count": 217,
      "outputs": [
        {
          "output_type": "display_data",
          "data": {
            "image/png": "[encoded data removed]",
            "text/plain": [
              "<Figure size 432x288 with 1 Axes>"
            ]
          },
          "metadata": {
            "tags": [],
            "needs_background": "light"
          }
        }
      ]
    },
    {
      "cell_type": "code",
      "metadata": {
        "id": "xk4D8HOEdR5a",
        "outputId": "73214293-db63-41fa-8e50-ab62cd3e4795",
        "colab": {
          "base_uri": "https://localhost:8080/",
          "height": 134
        }
      },
      "source": [
        "# Write your code here\n",
        "for m, cv in zip(x, coherence_values_lsa):\n",
        "    print(\"Num Topics =\", m, \" has Coherence Value of\", round(cv, 4))"
      ],
      "execution_count": 218,
      "outputs": [
        {
          "output_type": "stream",
          "text": [
            "Num Topics = 2  has Coherence Value of 0.4457\n",
            "Num Topics = 8  has Coherence Value of 0.4457\n",
            "Num Topics = 14  has Coherence Value of 0.3669\n",
            "Num Topics = 20  has Coherence Value of 0.4457\n",
            "Num Topics = 26  has Coherence Value of 0.4457\n",
            "Num Topics = 32  has Coherence Value of 0.4457\n",
            "Num Topics = 38  has Coherence Value of 0.4457\n"
          ],
          "name": "stdout"
        }
      ]
    },
    {
      "cell_type": "code",
      "metadata": {
        "id": "Cgkt5RH-6ujR",
        "outputId": "51073593-a407-45cb-eea7-aca577f8fdc1",
        "colab": {
          "base_uri": "https://localhost:8080/",
          "height": 487
        }
      },
      "source": [
        "# Select the model and print the topics\n",
        "optimal_model_lsa = model_list_lsa[2]\n",
        "model_topics_lsa = optimal_model_lsa.show_topics(formatted=False)\n",
        "pprint(optimal_model_lsa.print_topics(num_words=10))"
      ],
      "execution_count": 219,
      "outputs": [
        {
          "output_type": "stream",
          "text": [
            "[(0,\n",
            "  '0.755*\"datum\" + 0.562*\"science\" + 0.106*\"mining\" + 0.096*\"big\" + '\n",
            "  '0.082*\"analytic\" + 0.063*\"knowledge\" + 0.055*\"relationship\" + 0.054*\"data\" '\n",
            "  '+ 0.053*\"management\" + 0.050*\"business\"'),\n",
            " (1,\n",
            "  '0.744*\"science\" + -0.538*\"datum\" + -0.128*\"big\" + 0.085*\"research\" + '\n",
            "  '0.079*\"change\" + -0.077*\"protein\" + -0.069*\"analytic\" + -0.069*\"mining\" + '\n",
            "  '0.053*\"scientific\" + 0.052*\"citizen\"'),\n",
            " (2,\n",
            "  '0.622*\"data\" + 0.372*\"nuclear\" + 0.234*\"endf\" + 0.234*\"technology\" + '\n",
            "  '0.234*\"vii\" + 0.158*\"structure\" + 0.144*\"product\" + 0.139*\"next\" + '\n",
            "  '0.138*\"evaluate\" + 0.138*\"generation\"'),\n",
            " (3,\n",
            "  '-0.388*\"data\" + -0.378*\"big\" + -0.276*\"analytic\" + -0.245*\"new\" + '\n",
            "  '0.232*\"nuclear\" + 0.178*\"technology\" + 0.178*\"endf\" + 0.178*\"vii\" + '\n",
            "  '0.174*\"protein\" + -0.125*\"structure\"'),\n",
            " (4,\n",
            "  '-0.293*\"protein\" + -0.292*\"data\" + 0.274*\"big\" + -0.263*\"network\" + '\n",
            "  '0.245*\"analytic\" + 0.242*\"new\" + 0.220*\"nuclear\" + -0.186*\"fair\" + '\n",
            "  '0.161*\"technology\" + 0.161*\"endf\"'),\n",
            " (5,\n",
            "  '-0.341*\"research\" + 0.329*\"fair\" + -0.283*\"protein\" + -0.261*\"global\" + '\n",
            "  '-0.254*\"change\" + -0.233*\"network\" + 0.198*\"principle\" + -0.165*\"citizen\" + '\n",
            "  '0.154*\"open\" + -0.139*\"local\"'),\n",
            " (6,\n",
            "  '0.349*\"research\" + 0.333*\"fair\" + 0.259*\"global\" + 0.252*\"change\" + '\n",
            "  '-0.230*\"protein\" + -0.220*\"network\" + 0.204*\"principle\" + 0.146*\"citizen\" + '\n",
            "  '0.145*\"management\" + 0.143*\"biodiversity\"')]\n"
          ],
          "name": "stdout"
        }
      ]
    },
    {
      "cell_type": "code",
      "metadata": {
        "id": "u4ybArwHRRRb",
        "outputId": "e02d748b-f326-4fb1-d455-2610fe4d0238",
        "colab": {
          "base_uri": "https://localhost:8080/",
          "height": 70
        }
      },
      "source": [
        "number_of_topics=7\n",
        "words=10\n",
        "model=create_gensim_lsa_model(data_lemmatized,number_of_topics,words)\n",
        "pprint(model)"
      ],
      "execution_count": 220,
      "outputs": [
        {
          "output_type": "stream",
          "text": [
            "[(0, '0.755*\"datum\" + 0.562*\"science\" + 0.106*\"mining\" + 0.096*\"big\" + 0.082*\"analytic\" + 0.063*\"knowledge\" + 0.055*\"relationship\" + 0.054*\"data\" + 0.053*\"management\" + 0.050*\"business\"'), (1, '0.744*\"science\" + -0.538*\"datum\" + -0.128*\"big\" + 0.085*\"research\" + 0.079*\"change\" + -0.077*\"protein\" + -0.069*\"analytic\" + -0.069*\"mining\" + 0.053*\"scientific\" + 0.052*\"citizen\"'), (2, '-0.622*\"data\" + -0.372*\"nuclear\" + -0.234*\"vii\" + -0.234*\"endf\" + -0.234*\"technology\" + -0.158*\"structure\" + -0.144*\"product\" + -0.139*\"next\" + -0.138*\"evaluate\" + -0.138*\"generation\"'), (3, '0.388*\"data\" + 0.378*\"big\" + 0.276*\"analytic\" + 0.245*\"new\" + -0.232*\"nuclear\" + -0.178*\"technology\" + -0.178*\"endf\" + -0.178*\"vii\" + -0.174*\"protein\" + 0.125*\"structure\"'), (4, '0.293*\"protein\" + 0.292*\"data\" + -0.274*\"big\" + 0.263*\"network\" + -0.245*\"analytic\" + -0.242*\"new\" + -0.220*\"nuclear\" + 0.186*\"fair\" + -0.161*\"endf\" + -0.161*\"vii\"'), (5, '0.341*\"research\" + -0.329*\"fair\" + 0.283*\"protein\" + 0.261*\"global\" + 0.254*\"change\" + 0.233*\"network\" + -0.198*\"principle\" + 0.165*\"citizen\" + -0.154*\"open\" + 0.139*\"unrealized\"'), (6, '-0.349*\"research\" + -0.333*\"fair\" + -0.259*\"global\" + -0.252*\"change\" + 0.230*\"protein\" + 0.220*\"network\" + -0.204*\"principle\" + -0.146*\"citizen\" + -0.145*\"management\" + -0.143*\"biodiversity\"')]\n",
            "<gensim.models.lsimodel.LsiModel object at 0x7f4ecc05d080>\n"
          ],
          "name": "stdout"
        }
      ]
    },
    {
      "cell_type": "markdown",
      "metadata": {
        "id": "Vi_cBbRSpUwz"
      },
      "source": [
        "**Summarized topics**\n",
        "\n",
        "1.   Data Management for business analytics and Knowledge management\n",
        "2.   Data mining and analytics for big data research\n",
        "3.   Data Structures.\n",
        "4.   Big data analytics for technology and management\n",
        "5.   Analysis of Protien structure\n",
        "6.   Research for change in protien structure\n",
        "7.   Change in biodiversity. Management of networks"
      ]
    },
    {
      "cell_type": "markdown",
      "metadata": {
        "id": "X10_2JbvdR5l"
      },
      "source": [
        "## (3) (4 points) Compare the results generated by the two topic modeling algorithms, which one is better? You should explain the reasons in details."
      ]
    },
    {
      "cell_type": "markdown",
      "metadata": {
        "id": "9u82ayqydjI-"
      },
      "source": [
        "**LSA**\n",
        "\n",
        "\n",
        "\n",
        "LSA is used for identifying themes in database of text. The core idea is to convert the data to matrix which contains the terms and the topics. Based on the matric we can effectively perform Topic modelling\n",
        "by decomposing the terms to a seperate topic-term matrix and document-term matrix. We acheived a choherance score around .45"
      ]
    },
    {
      "cell_type": "markdown",
      "metadata": {
        "id": "x33SIxFAeMJQ"
      },
      "source": [
        "**LDA**\n",
        "\n",
        "LDA is used for solving topic modelling problems. The core idea is to process the document term matrix and the topic term matrix and perfom the topic modelling. LDA uses the training data set and learns from the Unstructured groups. So most of the topics are quite similar. We acheived coherence score around .73"
      ]
    },
    {
      "cell_type": "markdown",
      "metadata": {
        "id": "OvMitUA1uvTa"
      },
      "source": [
        "We got more number of topics for LDA than LSA with more coherence score. The increase in coherence scores gives the increas ein effeciency. Hence we can say that LDA is better for topic modelling . In real case scenario also LSA mainly focuses on dimentionality reduction"
      ]
    }
  ]
}