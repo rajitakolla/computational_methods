{
  "nbformat": 4,
  "nbformat_minor": 0,
  "metadata": {
    "colab": {
      "name": "Biterm model for user analysis.ipynb",
      "provenance": [],
      "authorship_tag": "ABX9TyMCc9VfDUpplG5vhxaMz0LD",
      "include_colab_link": true
    },
    "kernelspec": {
      "name": "python3",
      "display_name": "Python 3"
    }
  },
  "cells": [
    {
      "cell_type": "markdown",
      "metadata": {
        "id": "view-in-github",
        "colab_type": "text"
      },
      "source": [
        "<a href=\"https://colab.research.google.com/github/rajitakolla/computational_methods/blob/master/Biterm_model_for_user_analysis.ipynb\" target=\"_parent\"><img src=\"https://colab.research.google.com/assets/colab-badge.svg\" alt=\"Open In Colab\"/></a>"
      ]
    },
    {
      "cell_type": "code",
      "metadata": {
        "id": "SBTc6YpHTg4n",
        "outputId": "f7fd0941-e2e1-4541-d770-0bc421498b39",
        "colab": {
          "base_uri": "https://localhost:8080/"
        }
      },
      "source": [
        "!apt-get update\n",
        "!apt install chromium-chromedriver\n",
        "!cp /usr/lib/chromium-browser/chromedriver /usr/bin\n",
        "!pip install selenium"
      ],
      "execution_count": 2,
      "outputs": [
        {
          "output_type": "stream",
          "text": [
            "Ign:1 https://developer.download.nvidia.com/compute/cuda/repos/ubuntu1804/x86_64  InRelease\n",
            "Get:2 http://security.ubuntu.com/ubuntu bionic-security InRelease [88.7 kB]\n",
            "Get:3 http://ppa.launchpad.net/c2d4u.team/c2d4u4.0+/ubuntu bionic InRelease [15.9 kB]\n",
            "Get:4 https://cloud.r-project.org/bin/linux/ubuntu bionic-cran40/ InRelease [3,626 B]\n",
            "Ign:5 https://developer.download.nvidia.com/compute/machine-learning/repos/ubuntu1804/x86_64  InRelease\n",
            "Hit:6 http://archive.ubuntu.com/ubuntu bionic InRelease\n",
            "Get:7 https://developer.download.nvidia.com/compute/cuda/repos/ubuntu1804/x86_64  Release [697 B]\n",
            "Hit:8 https://developer.download.nvidia.com/compute/machine-learning/repos/ubuntu1804/x86_64  Release\n",
            "Get:9 https://developer.download.nvidia.com/compute/cuda/repos/ubuntu1804/x86_64  Release.gpg [836 B]\n",
            "Get:10 http://archive.ubuntu.com/ubuntu bionic-updates InRelease [88.7 kB]\n",
            "Get:11 http://ppa.launchpad.net/graphics-drivers/ppa/ubuntu bionic InRelease [21.3 kB]\n",
            "Get:12 https://cloud.r-project.org/bin/linux/ubuntu bionic-cran40/ Packages [40.3 kB]\n",
            "Get:13 http://archive.ubuntu.com/ubuntu bionic-backports InRelease [74.6 kB]\n",
            "Ign:15 https://developer.download.nvidia.com/compute/cuda/repos/ubuntu1804/x86_64  Packages\n",
            "Get:15 https://developer.download.nvidia.com/compute/cuda/repos/ubuntu1804/x86_64  Packages [405 kB]\n",
            "Get:16 http://ppa.launchpad.net/c2d4u.team/c2d4u4.0+/ubuntu bionic/main Sources [1,687 kB]\n",
            "Get:17 http://security.ubuntu.com/ubuntu bionic-security/universe amd64 Packages [1,354 kB]\n",
            "Get:18 http://archive.ubuntu.com/ubuntu bionic-updates/universe amd64 Packages [2,119 kB]\n",
            "Get:19 http://security.ubuntu.com/ubuntu bionic-security/main amd64 Packages [1,750 kB]\n",
            "Get:20 http://ppa.launchpad.net/c2d4u.team/c2d4u4.0+/ubuntu bionic/main amd64 Packages [864 kB]\n",
            "Get:21 http://archive.ubuntu.com/ubuntu bionic-updates/main amd64 Packages [2,167 kB]\n",
            "Get:22 http://ppa.launchpad.net/graphics-drivers/ppa/ubuntu bionic/main amd64 Packages [48.9 kB]\n",
            "Fetched 10.7 MB in 3s (3,289 kB/s)\n",
            "Reading package lists... Done\n",
            "Reading package lists... Done\n",
            "Building dependency tree       \n",
            "Reading state information... Done\n",
            "The following additional packages will be installed:\n",
            "  chromium-browser chromium-browser-l10n chromium-codecs-ffmpeg-extra\n",
            "Suggested packages:\n",
            "  webaccounts-chromium-extension unity-chromium-extension adobe-flashplugin\n",
            "The following NEW packages will be installed:\n",
            "  chromium-browser chromium-browser-l10n chromium-chromedriver\n",
            "  chromium-codecs-ffmpeg-extra\n",
            "0 upgraded, 4 newly installed, 0 to remove and 35 not upgraded.\n",
            "Need to get 80.1 MB of archives.\n",
            "After this operation, 271 MB of additional disk space will be used.\n",
            "Get:1 http://archive.ubuntu.com/ubuntu bionic-updates/universe amd64 chromium-codecs-ffmpeg-extra amd64 86.0.4240.75-0ubuntu0.18.04.1 [1,127 kB]\n",
            "Get:2 http://archive.ubuntu.com/ubuntu bionic-updates/universe amd64 chromium-browser amd64 86.0.4240.75-0ubuntu0.18.04.1 [70.9 MB]\n",
            "Get:3 http://archive.ubuntu.com/ubuntu bionic-updates/universe amd64 chromium-browser-l10n all 86.0.4240.75-0ubuntu0.18.04.1 [3,579 kB]\n",
            "Get:4 http://archive.ubuntu.com/ubuntu bionic-updates/universe amd64 chromium-chromedriver amd64 86.0.4240.75-0ubuntu0.18.04.1 [4,486 kB]\n",
            "Fetched 80.1 MB in 3s (23.6 MB/s)\n",
            "Selecting previously unselected package chromium-codecs-ffmpeg-extra.\n",
            "(Reading database ... 144628 files and directories currently installed.)\n",
            "Preparing to unpack .../chromium-codecs-ffmpeg-extra_86.0.4240.75-0ubuntu0.18.04.1_amd64.deb ...\n",
            "Unpacking chromium-codecs-ffmpeg-extra (86.0.4240.75-0ubuntu0.18.04.1) ...\n",
            "Selecting previously unselected package chromium-browser.\n",
            "Preparing to unpack .../chromium-browser_86.0.4240.75-0ubuntu0.18.04.1_amd64.deb ...\n",
            "Unpacking chromium-browser (86.0.4240.75-0ubuntu0.18.04.1) ...\n",
            "Selecting previously unselected package chromium-browser-l10n.\n",
            "Preparing to unpack .../chromium-browser-l10n_86.0.4240.75-0ubuntu0.18.04.1_all.deb ...\n",
            "Unpacking chromium-browser-l10n (86.0.4240.75-0ubuntu0.18.04.1) ...\n",
            "Selecting previously unselected package chromium-chromedriver.\n",
            "Preparing to unpack .../chromium-chromedriver_86.0.4240.75-0ubuntu0.18.04.1_amd64.deb ...\n",
            "Unpacking chromium-chromedriver (86.0.4240.75-0ubuntu0.18.04.1) ...\n",
            "Setting up chromium-codecs-ffmpeg-extra (86.0.4240.75-0ubuntu0.18.04.1) ...\n",
            "Setting up chromium-browser (86.0.4240.75-0ubuntu0.18.04.1) ...\n",
            "update-alternatives: using /usr/bin/chromium-browser to provide /usr/bin/x-www-browser (x-www-browser) in auto mode\n",
            "update-alternatives: using /usr/bin/chromium-browser to provide /usr/bin/gnome-www-browser (gnome-www-browser) in auto mode\n",
            "Setting up chromium-chromedriver (86.0.4240.75-0ubuntu0.18.04.1) ...\n",
            "Setting up chromium-browser-l10n (86.0.4240.75-0ubuntu0.18.04.1) ...\n",
            "Processing triggers for hicolor-icon-theme (0.17-2) ...\n",
            "Processing triggers for mime-support (3.60ubuntu1) ...\n",
            "Processing triggers for man-db (2.8.3-2ubuntu0.1) ...\n",
            "cp: '/usr/lib/chromium-browser/chromedriver' and '/usr/bin/chromedriver' are the same file\n",
            "Collecting selenium\n",
            "\u001b[?25l  Downloading https://files.pythonhosted.org/packages/80/d6/4294f0b4bce4de0abf13e17190289f9d0613b0a44e5dd6a7f5ca98459853/selenium-3.141.0-py2.py3-none-any.whl (904kB)\n",
            "\u001b[K     |████████████████████████████████| 911kB 2.8MB/s \n",
            "\u001b[?25hRequirement already satisfied: urllib3 in /usr/local/lib/python3.6/dist-packages (from selenium) (1.24.3)\n",
            "Installing collected packages: selenium\n",
            "Successfully installed selenium-3.141.0\n"
          ],
          "name": "stdout"
        }
      ]
    },
    {
      "cell_type": "code",
      "metadata": {
        "id": "2cAhHr0HUkiM"
      },
      "source": [
        "# Write your code here\n",
        "import urllib.request\n",
        "import requests \n",
        "from bs4 import BeautifulSoup\n",
        "import pandas as pd\n",
        "from selenium import webdriver\n",
        "options = webdriver.ChromeOptions()\n",
        "options.add_argument('-headless')\n",
        "options.add_argument('-no-sandbox')\n",
        "options.add_argument('-disable-dev-shm-usage')\n",
        "driver = webdriver.Chrome('chromedriver',options=options)"
      ],
      "execution_count": 1,
      "outputs": []
    },
    {
      "cell_type": "code",
      "metadata": {
        "id": "b0AnNcmZUqqj"
      },
      "source": [
        "from selenium.webdriver.support.ui import WebDriverWait\n",
        "from selenium.webdriver.support import expected_conditions as EC\n",
        "from selenium.webdriver.common.by import By"
      ],
      "execution_count": 2,
      "outputs": []
    },
    {
      "cell_type": "code",
      "metadata": {
        "id": "mIGEvmiGVAhx"
      },
      "source": [
        "def fetch_data(driver, class_name_val, css_selector_val):\n",
        "  result = list()\n",
        "  values = driver.find_elements_by_class_name(class_name_val)\n",
        "  for value in values:\n",
        "    result.append(value.find_element_by_css_selector(css_selector_val).text)\n",
        "  return result\n",
        "  pass"
      ],
      "execution_count": 3,
      "outputs": []
    },
    {
      "cell_type": "code",
      "metadata": {
        "id": "p93eUKnnVCwu"
      },
      "source": [
        "import time\n",
        "driver.get(\"https://www.imdb.com/title/tt7286456/reviews?sort=userRating&dir=desc&ratingFilter=0\")\n",
        "#activate the button load_more and run the loop 4 times so to make sure we have 100 words\n",
        "i=0\n",
        "while(i<3):\n",
        "  button = driver.find_element_by_xpath('//*[@id =\"load-more-trigger\"]').click()\n",
        "  i = i+1\n",
        "  time.sleep(2)\n",
        "\n",
        "reviews = fetch_data(driver, \"content\", \".text.show-more__control\")\n",
        "user_names = fetch_data(driver, \"display-name-date\",\"a\")"
      ],
      "execution_count": 4,
      "outputs": []
    },
    {
      "cell_type": "code",
      "metadata": {
        "id": "OL-KE_ndVOmd",
        "outputId": "b01f059f-0f9d-492f-b055-f549527f6310",
        "colab": {
          "base_uri": "https://localhost:8080/",
          "height": 402
        }
      },
      "source": [
        "\n",
        "#create a data frame of usernames and reviews\n",
        "required_df = pd.concat([pd.DataFrame(user_names,columns=['User Names']),pd.DataFrame(reviews,columns=['Reviews'])],axis=1)\n",
        "required_df"
      ],
      "execution_count": 5,
      "outputs": [
        {
          "output_type": "execute_result",
          "data": {
            "text/html": [
              "<div>\n",
              "<style scoped>\n",
              "    .dataframe tbody tr th:only-of-type {\n",
              "        vertical-align: middle;\n",
              "    }\n",
              "\n",
              "    .dataframe tbody tr th {\n",
              "        vertical-align: top;\n",
              "    }\n",
              "\n",
              "    .dataframe thead th {\n",
              "        text-align: right;\n",
              "    }\n",
              "</style>\n",
              "<table border=\"1\" class=\"dataframe\">\n",
              "  <thead>\n",
              "    <tr style=\"text-align: right;\">\n",
              "      <th></th>\n",
              "      <th>User Names</th>\n",
              "      <th>Reviews</th>\n",
              "    </tr>\n",
              "  </thead>\n",
              "  <tbody>\n",
              "    <tr>\n",
              "      <th>0</th>\n",
              "      <td>morino-59166</td>\n",
              "      <td>When I saw the magnificent Heath ledger a few ...</td>\n",
              "    </tr>\n",
              "    <tr>\n",
              "      <th>1</th>\n",
              "      <td>asassandroo</td>\n",
              "      <td>I can say that i'm really grateful that movies...</td>\n",
              "    </tr>\n",
              "    <tr>\n",
              "      <th>2</th>\n",
              "      <td>samanehdds</td>\n",
              "      <td>I'm not a fan of Batman movies but went to see...</td>\n",
              "    </tr>\n",
              "    <tr>\n",
              "      <th>3</th>\n",
              "      <td>guillevica</td>\n",
              "      <td>What a master piece, it so so wondeful, all in...</td>\n",
              "    </tr>\n",
              "    <tr>\n",
              "      <th>4</th>\n",
              "      <td>ahurworth</td>\n",
              "      <td>Has to be the best movie I've seen in years. I...</td>\n",
              "    </tr>\n",
              "    <tr>\n",
              "      <th>...</th>\n",
              "      <td>...</td>\n",
              "      <td>...</td>\n",
              "    </tr>\n",
              "    <tr>\n",
              "      <th>95</th>\n",
              "      <td>shinginharig</td>\n",
              "      <td>Absolutely great performance. Phoenix owns thi...</td>\n",
              "    </tr>\n",
              "    <tr>\n",
              "      <th>96</th>\n",
              "      <td>afnansaeed-76293</td>\n",
              "      <td>One of the best movies. I really recommend it ...</td>\n",
              "    </tr>\n",
              "    <tr>\n",
              "      <th>97</th>\n",
              "      <td>legorocks-30147</td>\n",
              "      <td></td>\n",
              "    </tr>\n",
              "    <tr>\n",
              "      <th>98</th>\n",
              "      <td>tusharshanker-96210</td>\n",
              "      <td>This movie is truly a masterpiece. The acting,...</td>\n",
              "    </tr>\n",
              "    <tr>\n",
              "      <th>99</th>\n",
              "      <td>a_z_love-28027</td>\n",
              "      <td>One of the best movies in my life .. story .. ...</td>\n",
              "    </tr>\n",
              "  </tbody>\n",
              "</table>\n",
              "<p>100 rows × 2 columns</p>\n",
              "</div>"
            ],
            "text/plain": [
              "             User Names                                            Reviews\n",
              "0          morino-59166  When I saw the magnificent Heath ledger a few ...\n",
              "1           asassandroo  I can say that i'm really grateful that movies...\n",
              "2            samanehdds  I'm not a fan of Batman movies but went to see...\n",
              "3            guillevica  What a master piece, it so so wondeful, all in...\n",
              "4             ahurworth  Has to be the best movie I've seen in years. I...\n",
              "..                  ...                                                ...\n",
              "95         shinginharig  Absolutely great performance. Phoenix owns thi...\n",
              "96     afnansaeed-76293  One of the best movies. I really recommend it ...\n",
              "97      legorocks-30147                                                   \n",
              "98  tusharshanker-96210  This movie is truly a masterpiece. The acting,...\n",
              "99       a_z_love-28027  One of the best movies in my life .. story .. ...\n",
              "\n",
              "[100 rows x 2 columns]"
            ]
          },
          "metadata": {
            "tags": []
          },
          "execution_count": 5
        }
      ]
    },
    {
      "cell_type": "code",
      "metadata": {
        "id": "ng66wCAqVv6R"
      },
      "source": [
        "import string\n",
        "required_df[\"Punctuations\"]=required_df['Reviews'].apply(lambda x:''.join([i for i in x if i not in string.punctuation]))\n",
        "required_df[\"spl chars\"] = required_df[\"Punctuations\"].apply(lambda x:''.join([i for i in x if i.isalnum() or i == \" \"]))\n",
        "required_df[\"numbers\"] = required_df['spl chars'].apply(lambda x:''.join([i for i in x if i == \" \" or i.isalpha()]))"
      ],
      "execution_count": 6,
      "outputs": []
    },
    {
      "cell_type": "code",
      "metadata": {
        "id": "7-vEP7-VVwtV",
        "outputId": "587c25fe-336d-4a8c-90ac-2d2e1f01ef84",
        "colab": {
          "base_uri": "https://localhost:8080/"
        }
      },
      "source": [
        "import nltk\n",
        "from nltk.corpus import stopwords\n",
        "nltk.download('stopwords')"
      ],
      "execution_count": 7,
      "outputs": [
        {
          "output_type": "stream",
          "text": [
            "[nltk_data] Downloading package stopwords to /root/nltk_data...\n",
            "[nltk_data]   Package stopwords is already up-to-date!\n"
          ],
          "name": "stdout"
        },
        {
          "output_type": "execute_result",
          "data": {
            "text/plain": [
              "True"
            ]
          },
          "metadata": {
            "tags": []
          },
          "execution_count": 7
        }
      ]
    },
    {
      "cell_type": "code",
      "metadata": {
        "id": "wIfb8er1V7J0"
      },
      "source": [
        "list_of_words = set(stopwords.words('english'))"
      ],
      "execution_count": 8,
      "outputs": []
    },
    {
      "cell_type": "code",
      "metadata": {
        "id": "mMXSUx1jV8D1",
        "outputId": "fd86b96f-4388-4c0e-d02b-dd3863fa043a",
        "colab": {
          "base_uri": "https://localhost:8080/"
        }
      },
      "source": [
        "nltk.download('punkt')"
      ],
      "execution_count": 9,
      "outputs": [
        {
          "output_type": "stream",
          "text": [
            "[nltk_data] Downloading package punkt to /root/nltk_data...\n",
            "[nltk_data]   Package punkt is already up-to-date!\n"
          ],
          "name": "stdout"
        },
        {
          "output_type": "execute_result",
          "data": {
            "text/plain": [
              "True"
            ]
          },
          "metadata": {
            "tags": []
          },
          "execution_count": 9
        }
      ]
    },
    {
      "cell_type": "code",
      "metadata": {
        "id": "3yxt-_J5WBcr"
      },
      "source": [
        "\n",
        "from nltk.stem import PorterStemmer \n",
        "from nltk.tokenize import word_tokenize \n",
        "   \n",
        "ps = PorterStemmer()"
      ],
      "execution_count": 10,
      "outputs": []
    },
    {
      "cell_type": "code",
      "metadata": {
        "id": "gDsAh49ZWECq",
        "outputId": "e7ad6fb2-9c92-458e-a5d6-d143cd897343",
        "colab": {
          "base_uri": "https://localhost:8080/"
        }
      },
      "source": [
        "nltk.download('wordnet')\n",
        "import textblob"
      ],
      "execution_count": 11,
      "outputs": [
        {
          "output_type": "stream",
          "text": [
            "[nltk_data] Downloading package wordnet to /root/nltk_data...\n",
            "[nltk_data]   Package wordnet is already up-to-date!\n"
          ],
          "name": "stdout"
        }
      ]
    },
    {
      "cell_type": "code",
      "metadata": {
        "id": "ITlLgyysWIlF"
      },
      "source": [
        "required_df[\"stop_words\"]=required_df['numbers'].apply(lambda x:' '.join([i for i in x.split() if i not in list_of_words]))\n",
        "required_df[\"lower_case\"]=required_df['stop_words'].apply(lambda x: x.lower())\n",
        "required_df[\"tokenisation\"]=required_df[\"lower_case\"].apply(lambda x : word_tokenize(str(x)))\n",
        "required_df[\"stemming\"]=required_df[\"tokenisation\"].apply(lambda x: ' '.join([ps.stem(i) for i in x]))\n",
        "required_df[\"tokenisation1\"]=required_df[\"stemming\"].apply(lambda x : word_tokenize(str(x)))\n",
        "required_df[\"lemmitization\"]=required_df['tokenisation1'].apply(lambda x: ' '.join([textblob.Word(i).lemmatize() for i in x]))"
      ],
      "execution_count": 19,
      "outputs": []
    },
    {
      "cell_type": "code",
      "metadata": {
        "id": "Mi5gbhwMWgZ6",
        "outputId": "9b4bde05-00d1-4ddf-b412-2f710da72fb4",
        "colab": {
          "base_uri": "https://localhost:8080/",
          "height": 402
        }
      },
      "source": [
        "texts = required_df[[\"lower_case\"]]\n",
        "texts"
      ],
      "execution_count": 21,
      "outputs": [
        {
          "output_type": "execute_result",
          "data": {
            "text/html": [
              "<div>\n",
              "<style scoped>\n",
              "    .dataframe tbody tr th:only-of-type {\n",
              "        vertical-align: middle;\n",
              "    }\n",
              "\n",
              "    .dataframe tbody tr th {\n",
              "        vertical-align: top;\n",
              "    }\n",
              "\n",
              "    .dataframe thead th {\n",
              "        text-align: right;\n",
              "    }\n",
              "</style>\n",
              "<table border=\"1\" class=\"dataframe\">\n",
              "  <thead>\n",
              "    <tr style=\"text-align: right;\">\n",
              "      <th></th>\n",
              "      <th>lower_case</th>\n",
              "    </tr>\n",
              "  </thead>\n",
              "  <tbody>\n",
              "    <tr>\n",
              "      <th>0</th>\n",
              "      <td>when i saw magnificent heath ledger years go e...</td>\n",
              "    </tr>\n",
              "    <tr>\n",
              "      <th>1</th>\n",
              "      <td>i say im really grateful movies like one haven...</td>\n",
              "    </tr>\n",
              "    <tr>\n",
              "      <th>2</th>\n",
              "      <td>im fan batman movies went see teenage son its ...</td>\n",
              "    </tr>\n",
              "    <tr>\n",
              "      <th>3</th>\n",
              "      <td>what master piece wondeful movie great constru...</td>\n",
              "    </tr>\n",
              "    <tr>\n",
              "      <th>4</th>\n",
              "      <td>has best movie ive seen years it feel taxi dri...</td>\n",
              "    </tr>\n",
              "    <tr>\n",
              "      <th>...</th>\n",
              "      <td>...</td>\n",
              "    </tr>\n",
              "    <tr>\n",
              "      <th>95</th>\n",
              "      <td>absolutely great performance phoenix owns role...</td>\n",
              "    </tr>\n",
              "    <tr>\n",
              "      <th>96</th>\n",
              "      <td>one best movies i really recommend gys</td>\n",
              "    </tr>\n",
              "    <tr>\n",
              "      <th>97</th>\n",
              "      <td></td>\n",
              "    </tr>\n",
              "    <tr>\n",
              "      <th>98</th>\n",
              "      <td>this movie truly masterpiece the acting cenima...</td>\n",
              "    </tr>\n",
              "    <tr>\n",
              "      <th>99</th>\n",
              "      <td>one best movies life story acting director sou...</td>\n",
              "    </tr>\n",
              "  </tbody>\n",
              "</table>\n",
              "<p>100 rows × 1 columns</p>\n",
              "</div>"
            ],
            "text/plain": [
              "                                           lower_case\n",
              "0   when i saw magnificent heath ledger years go e...\n",
              "1   i say im really grateful movies like one haven...\n",
              "2   im fan batman movies went see teenage son its ...\n",
              "3   what master piece wondeful movie great constru...\n",
              "4   has best movie ive seen years it feel taxi dri...\n",
              "..                                                ...\n",
              "95  absolutely great performance phoenix owns role...\n",
              "96             one best movies i really recommend gys\n",
              "97                                                   \n",
              "98  this movie truly masterpiece the acting cenima...\n",
              "99  one best movies life story acting director sou...\n",
              "\n",
              "[100 rows x 1 columns]"
            ]
          },
          "metadata": {
            "tags": []
          },
          "execution_count": 21
        }
      ]
    },
    {
      "cell_type": "code",
      "metadata": {
        "id": "VZuGoyOYWg2K",
        "outputId": "aae1d80c-8797-4afe-df97-c2cdcb968fa5",
        "colab": {
          "base_uri": "https://localhost:8080/"
        }
      },
      "source": [
        "!pip install pyLDAvis"
      ],
      "execution_count": 22,
      "outputs": [
        {
          "output_type": "stream",
          "text": [
            "Requirement already satisfied: pyLDAvis in /usr/local/lib/python3.6/dist-packages (2.1.2)\n",
            "Requirement already satisfied: pandas>=0.17.0 in /usr/local/lib/python3.6/dist-packages (from pyLDAvis) (1.1.4)\n",
            "Requirement already satisfied: pytest in /usr/local/lib/python3.6/dist-packages (from pyLDAvis) (3.6.4)\n",
            "Requirement already satisfied: jinja2>=2.7.2 in /usr/local/lib/python3.6/dist-packages (from pyLDAvis) (2.11.2)\n",
            "Requirement already satisfied: joblib>=0.8.4 in /usr/local/lib/python3.6/dist-packages (from pyLDAvis) (0.17.0)\n",
            "Requirement already satisfied: funcy in /usr/local/lib/python3.6/dist-packages (from pyLDAvis) (1.15)\n",
            "Requirement already satisfied: wheel>=0.23.0 in /usr/local/lib/python3.6/dist-packages (from pyLDAvis) (0.35.1)\n",
            "Requirement already satisfied: numexpr in /usr/local/lib/python3.6/dist-packages (from pyLDAvis) (2.7.1)\n",
            "Requirement already satisfied: numpy>=1.9.2 in /usr/local/lib/python3.6/dist-packages (from pyLDAvis) (1.18.5)\n",
            "Requirement already satisfied: future in /usr/local/lib/python3.6/dist-packages (from pyLDAvis) (0.16.0)\n",
            "Requirement already satisfied: scipy>=0.18.0 in /usr/local/lib/python3.6/dist-packages (from pyLDAvis) (1.4.1)\n",
            "Requirement already satisfied: pytz>=2017.2 in /usr/local/lib/python3.6/dist-packages (from pandas>=0.17.0->pyLDAvis) (2018.9)\n",
            "Requirement already satisfied: python-dateutil>=2.7.3 in /usr/local/lib/python3.6/dist-packages (from pandas>=0.17.0->pyLDAvis) (2.8.1)\n",
            "Requirement already satisfied: six>=1.10.0 in /usr/local/lib/python3.6/dist-packages (from pytest->pyLDAvis) (1.15.0)\n",
            "Requirement already satisfied: more-itertools>=4.0.0 in /usr/local/lib/python3.6/dist-packages (from pytest->pyLDAvis) (8.6.0)\n",
            "Requirement already satisfied: py>=1.5.0 in /usr/local/lib/python3.6/dist-packages (from pytest->pyLDAvis) (1.9.0)\n",
            "Requirement already satisfied: pluggy<0.8,>=0.5 in /usr/local/lib/python3.6/dist-packages (from pytest->pyLDAvis) (0.7.1)\n",
            "Requirement already satisfied: attrs>=17.4.0 in /usr/local/lib/python3.6/dist-packages (from pytest->pyLDAvis) (20.2.0)\n",
            "Requirement already satisfied: setuptools in /usr/local/lib/python3.6/dist-packages (from pytest->pyLDAvis) (50.3.2)\n",
            "Requirement already satisfied: atomicwrites>=1.0 in /usr/local/lib/python3.6/dist-packages (from pytest->pyLDAvis) (1.4.0)\n",
            "Requirement already satisfied: MarkupSafe>=0.23 in /usr/local/lib/python3.6/dist-packages (from jinja2>=2.7.2->pyLDAvis) (1.1.1)\n"
          ],
          "name": "stdout"
        }
      ]
    },
    {
      "cell_type": "code",
      "metadata": {
        "id": "RyRJNcFvWg7r",
        "outputId": "56e9ed59-21b5-48ba-aae3-89be45238842",
        "colab": {
          "base_uri": "https://localhost:8080/"
        }
      },
      "source": [
        "!pip install biterm"
      ],
      "execution_count": 23,
      "outputs": [
        {
          "output_type": "stream",
          "text": [
            "Requirement already satisfied: biterm in /usr/local/lib/python3.6/dist-packages (0.1.5)\n",
            "Requirement already satisfied: nltk in /usr/local/lib/python3.6/dist-packages (from biterm) (3.2.5)\n",
            "Requirement already satisfied: cython in /usr/local/lib/python3.6/dist-packages (from biterm) (0.29.21)\n",
            "Requirement already satisfied: tqdm in /usr/local/lib/python3.6/dist-packages (from biterm) (4.41.1)\n",
            "Requirement already satisfied: numpy in /usr/local/lib/python3.6/dist-packages (from biterm) (1.18.5)\n",
            "Requirement already satisfied: six in /usr/local/lib/python3.6/dist-packages (from nltk->biterm) (1.15.0)\n"
          ],
          "name": "stdout"
        }
      ]
    },
    {
      "cell_type": "code",
      "metadata": {
        "id": "CvGTnRXkWgr5"
      },
      "source": [
        ""
      ],
      "execution_count": 23,
      "outputs": []
    },
    {
      "cell_type": "code",
      "metadata": {
        "id": "iGfHmbMhPv7C",
        "outputId": "3a7ce2f6-f401-43cc-a962-e59ba2998687",
        "colab": {
          "base_uri": "https://localhost:8080/"
        }
      },
      "source": [
        "import numpy as np\n",
        "import pyLDAvis\n",
        "from biterm.btm import oBTM \n",
        "from sklearn.feature_extraction.text import CountVectorizer\n",
        "from biterm.utility import vec_to_biterms, topic_summuary # helper functions\n",
        "\n",
        "if __name__ == \"__main__\":\n",
        "\n",
        "    # vectorize texts\n",
        "    vec = CountVectorizer(stop_words='english')\n",
        "    X = vec.fit_transform(texts[\"lower_case\"].values.tolist()[:50]).toarray()\n",
        "\n",
        "    # get vocabulary\n",
        "    vocab = np.array(vec.get_feature_names())\n",
        "    # get biterms\n",
        "    biterms = vec_to_biterms(X)\n",
        "\n",
        "    # create btm\n",
        "    btm = oBTM(num_topics=20, V=vocab)\n",
        "\n",
        "    print(\"\\n\\n Train Online BTM ..\")\n",
        "    for i in range(0, len(biterms), 100): # prozess chunk of 200 texts\n",
        "        biterms_chunk = biterms[i:i + 100]\n",
        "        btm.fit(biterms_chunk, iterations=50)\n",
        "    topics = btm.transform(biterms)\n",
        "    \n",
        "    # print(\"\\n\\n Visualize Topics ..\")\n",
        "    # vis = pyLDAvis.prepare(btm.phi_wz.T, topics, np.count_nonzero(X, axis=1), vocab, np.sum(X, axis=0)[:None])\n",
        "    # pyLDAvis.save_html(vis, '/content/online_btm.html')  # path to output\n",
        "\n",
        "    print(\"\\n\\n Topic coherence ..\")\n",
        "    topic_summuary(btm.phi_wz.T, X, vocab, 10)\n"
      ],
      "execution_count": 30,
      "outputs": [
        {
          "output_type": "stream",
          "text": [
            "\n",
            "\n",
            " Train Online BTM ..\n"
          ],
          "name": "stdout"
        },
        {
          "output_type": "stream",
          "text": [
            "100%|██████████| 50/50 [05:49<00:00,  6.98s/it]\n",
            "/usr/local/lib/python3.6/dist-packages/biterm/btm.py:76: RuntimeWarning: invalid value encountered in true_divide\n",
            "  P_zd[i] = P_zb.sum(axis=0) / P_zb.sum(axis=0).sum()\n"
          ],
          "name": "stderr"
        },
        {
          "output_type": "stream",
          "text": [
            "\n",
            "\n",
            " Topic coherence ..\n",
            "Topic 0 | Coherence=-31.55 | Top words= seen truly watch masterpiece society best mental illness like film\n",
            "Topic 1 | Coherence=-28.99 | Top words= illness mental story person make makes thats batman incredible struggles\n",
            "Topic 2 | Coherence=-40.62 | Top words= phoenix movie best joker dark todd superb life film joaquin\n",
            "Topic 3 | Coherence=21.49 | Top words= early affected nominate wild raw social smile fleckin depressed life\n",
            "Topic 4 | Coherence=-45.20 | Top words= movie watch like thing really know im dont masterpiece went\n",
            "Topic 5 | Coherence=-45.94 | Top words= movie seen joaquin know twisted watched joker movies past man\n",
            "Topic 6 | Coherence=-53.31 | Top words= movie best years acting ive seen work mental film rise\n",
            "Topic 7 | Coherence=-29.23 | Top words= movie performance iconic piercing classicand transformation moments drawn thats focused\n",
            "Topic 8 | Coherence=-42.60 | Top words= best design incredible film phoenix great writing oscars hes phenomenal\n",
            "Topic 9 | Coherence=-40.78 | Top words= film thought oscar stunning best experience arthur big overrated fleck\n",
            "Topic 10 | Coherence=-31.11 | Top words= phoenixs acting best music cinematography book comic great movie arthur\n",
            "Topic 11 | Coherence=-55.04 | Top words= amazing movie film real joker finally penny comedian really said\n",
            "Topic 12 | Coherence=-47.52 | Top words= performance character work phoenix joker extremely high feel journey absolutely\n",
            "Topic 13 | Coherence=-2.22 | Top words= finally real said comedian penny film gotham dream really character\n",
            "Topic 14 | Coherence=-36.76 | Top words= just movie say movies awesome trailers joker theater mr came\n",
            "Topic 15 | Coherence=-41.90 | Top words= phoenix film performance joker joaquin character dc movie mind level\n",
            "Topic 16 | Coherence=-24.03 | Top words= story masterpiece interesting universe great truly acting dc work movie\n",
            "Topic 17 | Coherence=-40.30 | Top words= joker joaquin heath make new masterpiece really movie level point\n",
            "Topic 18 | Coherence=-7.57 | Top words= perfect terms society brilliantly classthe recent air outright boring eye\n",
            "Topic 19 | Coherence=-32.03 | Top words= pity scorsese phoenix film movie movies absolutely beauty make comic\n"
          ],
          "name": "stdout"
        }
      ]
    },
    {
      "cell_type": "code",
      "metadata": {
        "id": "PFYn-3FJgXnx"
      },
      "source": [
        "topics_data = texts[\"lower_case\"].values.tolist()"
      ],
      "execution_count": 33,
      "outputs": []
    },
    {
      "cell_type": "code",
      "metadata": {
        "id": "m90uQ7Iyf72s",
        "outputId": "acb4b771-a46f-40f2-da04-0013ffe16111",
        "colab": {
          "base_uri": "https://localhost:8080/"
        }
      },
      "source": [
        "    print(\"\\n\\n Texts & Topics ..\")\n",
        "    for i in range(len(topics)):\n",
        "      print(\"{} (topic: {})\".format(topics_data[i], topics[i].argmax()))"
      ],
      "execution_count": 37,
      "outputs": [
        {
          "output_type": "stream",
          "text": [
            "\n",
            "\n",
            " Texts & Topics ..\n",
            "when i saw magnificent heath ledger years go excellent role joker i doubted one make amazing performance heath years heath tragic death break hearts joaquin phoenix bring tears eyes masterpiece i cant really find words describe phoenix great cinematography absolutely amazing music outstanding i know phoenix great actor especially beautiful role her actually new role ajoker i think put new standard i doubt years one could reach (topic: 17)\n",
            "i say im really grateful movies like one havent died yet i waited long movie wishing bad one i went theater much hope reviews i finished movie completely silence really thought see even though i never really kind feeling since interstellar its masterpiece everything excellent done passion thanks joaquin and tod movie im speechless its pure drama friends dont miss go watch put happy face silent one could say (topic: 4)\n",
            "im fan batman movies went see teenage son its truly one best movies i ever seen i never felt movie perfect movie truly i they dont make movies like anymore perfect story script cinematography score acting it revered cinematic masterpiece and i appreciate political statement making its condoning violence its trying reveal harm mental illness ignored society even bullied ridiculed just saw second time tonight will watch (topic: 0)\n",
            "what master piece wondeful movie great construction movie ending performances amazing just honest i wantt go watch one time marvelous (topic: 7)\n",
            "has best movie ive seen years it feel taxi driver de niro joaquin phoenix superb plays part well the movies pace right watch crazy guy also nice guy become slowly criminal movie make understand empathise happens i want see movie (topic: 6)\n",
            "nice movie great performance joaquin deserve oscar doubt great cinematography great music movie take comics cinema another level (topic: 17)\n",
            "going rd view tomorrowhr film time flies mesmerizing performance phoenix (topic: 9)\n",
            "even i didnt love character joker i would still love movie just came cinema complain nothingbrilliant scenery superb acting the way cut trailers fantastic relationship actual movie just watch (topic: 5)\n",
            "my god film freaking amazing phoenix gives best performance ever think heath genius deserved oscar go way polar opposite interpretations but flawless deserving awards see film if phoenix get oscar i riot amazing (topic: 15)\n",
            "there isnt much else say joker one absorbing powerful films ever made the cinematography remarkable score perfectly potent understated this thrillaminute movie designed keep entertained throughout it heavy allconsuming character study invites reluctance fascination mind severely disturbed outcast i dont remember movie leaving feeling emotionally disoriented i left cinemathe performance joaquin phoenix something special indeed we spend nearly full two hours watching close every second exhilarating rarely ever character utterly captivating desperate tragic his physical acting writhing anguish dancing warped delight utterly mesmerising and ever lay thick to portray level pain fury without indulging excess morbidity melodrama quite achievementforget masterpiece fits world dc comics batman movies joker standalone film deservedly takes place amongst greats (topic: 15)\n",
            "this truly perfect film joaquin phoenix takes audience journey madness phoenix puts one best performances ive ever seen movie history it really felt like witnessing man go insane i high expectations disappoint (topic: 0)\n",
            "there moments lights joaquin phoenixs arthurs eyes piercing focused totally drawn performance transformation joker there many iconic scenes movie many make film instant classicand thats joker (topic: 7)\n",
            "society cant treat us gamers way longer gamers oppressed group history shows joker modern masterpiece nicker nation rise (topic: 6)\n",
            "amazing amazing brilliant acting fantastic scrip keep captivated throughout the best film ive seen years thought provoking mental health good thing dont look beyond film reasoning behind downfall fantastic piece work (topic: 6)\n",
            "its obvious i would say movie amazing gave feels guys pls dont let movie diminish rating movies came least one endgame tried almost succeeded lets leave joker pls (topic: 11)\n",
            "this film definitely masterpiece this probably realistic film ive seen since the dark knight the color grading soundtracks costumes overall everything phenomenal truly oscar worthy performance joaquin phoenix robert de niro others this film mainly depicts mental illness rich vs poor would happen person society doesnt treat himher well no joke you should watch this film (topic: 0)\n",
            "joker contemporary example chefdoeuvre its monumental piece art in essence masterpiece joker stars joaquin phoenix lifetime portrayal iconic comic book villain barring connection source material joker stands film upheld annals decades best filmsjoker stars joaquin phoenix arthur fleck mentally unstable man trying find place society rejects phoenixs portrayal arthur perfection phoenix captures essence life mental illness in career many masterful character portrayals one viewers cite phoenixs crown jewel the emotion within film supersedes great acting taking step reality arthur fleck character written well real hurts where much media stigmatizes mental illness character arthur fleck humanizes itthe cinematography movie incredible year great camera work film spearheads year there many iconic scenes layered throughout film phenomenally shot as movie progresses film grows exceptionally terms cinematography at times hard tell whether movie shot digitally film essentially movie bridges gaps new wave cinema contemporary cinema graceful manner the lighting used within film atmospheric successfully matches arthurs mood throughout film the cinematography masterfulthis film dramatic psychological thriller great twist the writing insanely clever the suspense uncanny the ending satisfying chilling the supporting cast great they add weight arthurs emotion successfully building progressing development the soundtrack iconic the music enhances overall experience opposed watering noise this film damn near perfection todd philips joaquin phoenix created modern masterpieceoverall joker classic making it challenges stigma surrounding mental illness presenting narrative coupled classism this movie important in zeitgeist mental instability common issue film gives voice voiceless (topic: 10)\n",
            "one best movies ever oscar worth phoenix (topic: 15)\n",
            "this rendition joker absolutely nuts that simply rational way describe i went movie high expectations may i say expectations exceeded the way phoenix portrays incredible scariest part managed humanize psychopath almost make pity i left movie theater state shock completely comprehending beauty i saw another thing done beautifully movie way strayed away dcu comic book movies whole if film could closely related film prior would taxi driver martin scorsese all incredible movie likely make serious noise upcoming oscars (topic: 19)\n",
            "arthur joker rather clown finally know joker distort mind (topic: 13)\n",
            "joaquin phoenix absolutely superb film im exaggerating i say best acting i ever seen he adopts character like i never seen beforethe film dark twisted extremely clever quite hard watch times the laughing harrowing (topic: 5)\n",
            "first let start review saying i thought joker overrated seeing people immediately go next trendy thing moment i went either way good time friends fuss underrated yes much i liked second joaquin was joker wasnt acting unbelievable see someone reincarnate evil character feeling feels audience undoubtedly feeling hardships life i cant wait sequel know holds (topic: 4)\n",
            "its mindblowing see far cinema changed portrayal mentally ill individuals a dark beautifully macabre film always leaves guessing theres lot unpack i highly recommend film something sit focus incredibly thought provoking (topic: 9)\n",
            "first please compare joaquin phoenixs joker heath ledgers joker we lucky see two actors playing difficult character joker brilliantly ways they good legendsin terms movie joker origin story something new much needed it always emphasized dc world gotham irredeemable people corrupted city beyond saving but reason behind never shown the story always told batmans point view this storytelling brilliant really sympathize understand joker if see dark knight jokers love chaos make total senseits good see realistic cinema characters much depth the level acting movie making legendary hats offyes hype real do miss masterpiece (topic: 17)\n",
            "phoenix best hes ever the best anyones ever the score soundtrack fantastic the cinematography great the writing amazing the set costume production design incredible the film phenomenal gets snubbed oscars officially unnecessary completely commercial critical film award ceremony (topic: 8)\n",
            "speechless words cannot express much i love movie numbers so (topic: 17)\n",
            " (topic: 0)\n",
            "ive watched film twice far i know im gonna watch times movie deserves praise already (topic: 5)\n",
            "joker oscar worthy joaquin pheonixs stunning performance also well written directed story brought big screen i thought hype ridiculous movie overrated watching i consider one best films time a film never gripped emotional experience maintaining perspective disturbed arthur fleck start finish (topic: 9)\n",
            "great atmospheric movie interesting story full bright colors great work worthy dc universe (topic: 16)\n",
            "just saw movie midnight premiere local favorite movie theater i say thank thank mr phoenix truly awesome lovable emotional performance thank mr phillips creativity writing when comes batman gothams citizens movies im always pretty sceptic wether theyll played portrait right mr phoenix announced next joker i knew need worry came first teasers trailers hope grew bigger i say thank (topic: 14)\n",
            "everyone watch movie i would describe one word masterpiece im sute phoenix win oscar foe (topic: 0)\n",
            "this one best films ever made hq todd phillips teaches produce film heroes universe deep he entered mental issues generation suffer nowadays (topic: 6)\n",
            "awesome movie one best movies ive ever seen past years just incredible (topic: 0)\n",
            "many us years attached thrilled clown prince crime dc comic fans know one joker and weve seen different takes spins romeros camp ledgers dark wild crazy turn man one jack played clown vanity brought proper turn bad guy funnicholsons joker like late early joker dc comics enter phoenix whos much different creepy origin storyset early gotham city gritty raw social political climate gutter getting tough and tip toeing dancing way thru drama arthur fleckin hell turn joaquin least nominate golden globe oscar lonely depressed mommies boy whos skinny starving clown cant fit hes society misfit its really somewhat sad character studyhowever hope possible form fleck wanting get away clown children real dream standup comedian smile crazy lasting laugh always present as laughter cure pain his hope escape appear late night talk show hosted murray franklinrobert de niro arthur hopes showcase talents also wild card pleasure life dating single mom named sophiezazie beetz apartment building and sick mother penny keeps arthur hanging love hope keeps hanging ononly secrets ghost past painful memories destroy fragile mind arthur even connection millionaire thomas wayne revealed even shattering connection events lead the dark knight great excellent work director todd phillips despite making stand alone dark character study still connects things others dc universemany might see picture dark tragedy i think take spin one affected life take different role years abused mistreated world people still film excellent unique finally glad stand alone movie celebrates the jokerthe greatest comic book bad guy ever as joaquins performance raw gritty lashing payback society wow enough said best dc comics character study ever made (topic: 3)\n",
            " (topic: 0)\n",
            "simply words perfect performance stunning movie (topic: 9)\n",
            "joker one kind comic book movie packed top notch cinematography phoenixs career best acting movie best come years (topic: 6)\n",
            "this movie dark morbid come dont expect film anything batman even joker they couldve made film random person struggles mental health issues wouldve winner yes film joker came theres much darker yet relatable story tells its almost documentary real illness many us face scared reveal breaking point the addition joker well thats bonus its often film make sympathise villain especially gruesome acts yet somehow end cant help side actually makes feel little uncomfortable movies brilliant film incredible acting certainly plays mind (topic: 1)\n",
            "joaquin phoenix actor evolved created name he radar since signs every movie amazed repertoire talent a movie etched memory her so expectations i watched joker i disappointed this closest best origin story i initially thought would ordinary action flick pleasing everyone considering director todd phillips known the hangover i wrong this movie every one relate dark side felt lonely find society absurd though conform the way joaquin breathes life character arthur failed comedian slow transformation joker definitely going taught film schoolsthe finest piece acting i seen ages with joker surpassed de niro dicaprio acting every aspect movie superb haunting music dialogues way shot every way relatable happening today pandemic chaos watch repeat (topic: 2)\n",
            "this movie amazing this storyline seems really realistic possible i like deals health topics nobody wants publicly talk (topic: 11)\n",
            "oscar movie acting congrats everyone delivered masterpiece us joaquim best actor nothing (topic: 16)\n",
            "joaquin phoenix amazing role in arthur fleck gives full creeps takes journey mind madman makes pity the film gritty early scorsese feel hours well spent dont take word go see if joaquin isnt oscar role ill shocked (topic: 19)\n",
            "joker huge breath fresh air movie industry moment the amount mundane films released recent years become somewhat tiresome this film set bar filmsjoker educational film real eye opener current state affairs terms oppression society specifically lower classthe film paced brilliantly perfect length never boring outright engaging so captivating heart wrenching watch really leaves feeling stunnedcannot recommend film enough (topic: 18)\n",
            "i was expecting movie masterpiece every single level it truly movie transporting psyche someone make relate person strange way im speechless incredible i taken surprise we knew phoenix great actor twisted vilain since gladiator going impossible imagine joker without playing there depth acting raw interpretation mental illness im baffled able carry movie level intensity first minute last one almost stand alone performance very impressive performance make a list actors look like amateur play as origin story joker brings much depth dc character thinking joker previous batman movie make become interesting vilainas final note i loved twisted birth batman kept previous work done batman begins coherent slightly differenti thought dc poor job transposing universe character big screen except batman begins man movie changed mind congrats team work making move reality standing ovation mr phoenix granting us acting performance already classic (topic: 16)\n",
            "joker masterpiece unlike cbmcomic book movie come itit touches topics extremely relevant todays society mental health modernday crime corruption moral bankruptcy journey main character arthur fleck he man high hopes dreams beginning film struggles make things work due mental instability inability fit all unfortunate events take place transform arthur infamous big bad gotham know jokerjoaquin phoenix absolutely kills movie his poignant performance gave movie needed telling dark gritty story arguably best joker performance ever the musical score spot gave movie melancholic feel sought instill viewers the film aesthetically striking beauty watchthis film whose main character i heavily sympathized one made reflect treat regard less fortunate the film delivers powerful message modern society (topic: 12)\n",
            "watched day one two months i still goosebumps the movie isnt original isnt something havent seen original purpose vision todd joaquin whole working team made one iconic movies time portraying different original version joker know hes metal ill twisted suffering man tries loved understood wants tears dried wants one us cant knows cant hell become something else choosing path seems accept joker earns stars magnificent movie easily recognisable stuck minds icons movies past done mind last least oscarworthy allin (topic: 5)\n",
            "i dont know call movie this like biblical its like hearing pastor preach bible stories one day god shows reveals actually really happened blows mind away levels never imagined thats it revealing im sure director producers would done masterpiece they laid strokes no one follow today they watch eat drink go security they done envy hell thing congratulations film well done opinion unmatched the ones comes close amadeus the matrix (topic: 4)\n",
            "this movie masterpiece the acting character development one kind not typical kid friendly action hero movie i hoping wouldnt instead tells story deeply disturbed man rise power a psychological work arta must see (topic: 6)\n",
            "phoenixs mesmerizing act great unique story great design the best movie could see year (topic: 8)\n"
          ],
          "name": "stdout"
        }
      ]
    },
    {
      "cell_type": "code",
      "metadata": {
        "id": "XuvtstC2huI9"
      },
      "source": [
        ""
      ],
      "execution_count": null,
      "outputs": []
    }
  ]
}