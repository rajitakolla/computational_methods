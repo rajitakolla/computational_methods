{
  "nbformat": 4,
  "nbformat_minor": 0,
  "metadata": {
    "colab": {
      "name": "INFO5731_Assignment_Two.ipynb",
      "provenance": [],
      "collapsed_sections": [],
      "toc_visible": true,
      "include_colab_link": true
    },
    "kernelspec": {
      "display_name": "Python 3",
      "language": "python",
      "name": "python3"
    },
    "language_info": {
      "codemirror_mode": {
        "name": "ipython",
        "version": 3
      },
      "file_extension": ".py",
      "mimetype": "text/x-python",
      "name": "python",
      "nbconvert_exporter": "python",
      "pygments_lexer": "ipython3",
      "version": "3.7.4"
    }
  },
  "cells": [
    {
      "cell_type": "markdown",
      "metadata": {
        "id": "view-in-github",
        "colab_type": "text"
      },
      "source": [
        "<a href=\"https://colab.research.google.com/github/rajitakolla/computational_methods/blob/master/INFO5731_Assignment_Two.ipynb\" target=\"_parent\"><img src=\"https://colab.research.google.com/assets/colab-badge.svg\" alt=\"Open In Colab\"/></a>"
      ]
    },
    {
      "cell_type": "markdown",
      "metadata": {
        "id": "USSdXHuqnwv9"
      },
      "source": [
        "# **INFO5731 Assignment Two**\n",
        "\n",
        "In this assignment, you will try to gather text data from open data source via web scraping or API. After that you need to clean the text data and syntactic analysis of the data."
      ]
    },
    {
      "cell_type": "markdown",
      "metadata": {
        "id": "YWxodXh5n4xF"
      },
      "source": [
        "# **Question 1**"
      ]
    },
    {
      "cell_type": "markdown",
      "metadata": {
        "id": "TenBkDJ5n95k"
      },
      "source": [
        "(40 points). Write a python program to collect text data from **either of the following sources** and save the data into a **csv file**:\n",
        "\n",
        "(1) Collect all the customer reviews of the product [2019 Dell labtop](https://www.amazon.com/Dell-Inspiron-5000-5570-Laptop/dp/B07N49F51N/ref=sr_1_11?crid=1IJ7UWF2F4GHH&keywords=dell%2Bxps%2B15&qid=1580173569&sprefix=dell%2Caps%2C181&sr=8-11&th=1) on amazon.\n",
        "\n",
        "(2) Collect the top 100 User Reviews of the film [Joker](https://www.imdb.com/title/tt7286456/reviews?ref_=tt_urv) from IMDB.\n",
        "\n",
        "(3) Collect the abstracts of the top 100 research papers by using the query [natural language processing](https://citeseerx.ist.psu.edu/search?q=natural+language+processing&submit.x=0&submit.y=0&sort=rlv&t=doc) from CiteSeerX.\n",
        "\n",
        "(4) Collect the top 100 tweets by using hashtag [\"#CovidVaccine\"](https://twitter.com/hashtag/CovidVaccine) from Twitter. \n"
      ]
    },
    {
      "cell_type": "code",
      "metadata": {
        "id": "t6POUaFO5ZkZ",
        "outputId": "e744674d-63b0-470c-8740-0fd332b25c5d",
        "colab": {
          "base_uri": "https://localhost:8080/",
          "height": 353
        }
      },
      "source": [
        "!apt-get update\n",
        "!apt install chromium-chromedriver\n",
        "!cp /usr/lib/chromium-browser/chromedriver /usr/bin\n",
        "!pip install selenium"
      ],
      "execution_count": 112,
      "outputs": [
        {
          "output_type": "stream",
          "text": [
            "\r0% [Working]\r            \rHit:1 http://security.ubuntu.com/ubuntu bionic-security InRelease\n",
            "\r0% [Connecting to archive.ubuntu.com (91.189.88.142)] [Connected to cloud.r-pro\r0% [1 InRelease gpgv 88.7 kB] [Connecting to archive.ubuntu.com (91.189.88.142)\r                                                                               \rIgn:2 https://developer.download.nvidia.com/compute/cuda/repos/ubuntu1804/x86_64  InRelease\n",
            "\r0% [1 InRelease gpgv 88.7 kB] [Waiting for headers] [Waiting for headers] [Wait\r                                                                               \rHit:3 https://cloud.r-project.org/bin/linux/ubuntu bionic-cran40/ InRelease\n",
            "\r0% [1 InRelease gpgv 88.7 kB] [Waiting for headers] [Waiting for headers] [Wait\r                                                                               \rIgn:4 https://developer.download.nvidia.com/compute/machine-learning/repos/ubuntu1804/x86_64  InRelease\n",
            "\r                                                                               \r0% [1 InRelease gpgv 88.7 kB] [Waiting for headers] [Waiting for headers]\r                                                                         \rHit:5 http://ppa.launchpad.net/c2d4u.team/c2d4u4.0+/ubuntu bionic InRelease\n",
            "\r0% [1 InRelease gpgv 88.7 kB] [Waiting for headers] [Connecting to ppa.launchpa\r                                                                               \rHit:6 http://archive.ubuntu.com/ubuntu bionic InRelease\n",
            "Hit:7 https://developer.download.nvidia.com/compute/cuda/repos/ubuntu1804/x86_64  Release\n",
            "Hit:8 https://developer.download.nvidia.com/compute/machine-learning/repos/ubuntu1804/x86_64  Release\n",
            "Hit:9 http://archive.ubuntu.com/ubuntu bionic-updates InRelease\n",
            "Hit:10 http://ppa.launchpad.net/graphics-drivers/ppa/ubuntu bionic InRelease\n",
            "Hit:11 http://archive.ubuntu.com/ubuntu bionic-backports InRelease\n",
            "Reading package lists... Done\n",
            "Reading package lists... Done\n",
            "Building dependency tree       \n",
            "Reading state information... Done\n",
            "chromium-chromedriver is already the newest version (85.0.4183.83-0ubuntu0.18.04.2).\n",
            "0 upgraded, 0 newly installed, 0 to remove and 23 not upgraded.\n",
            "cp: '/usr/lib/chromium-browser/chromedriver' and '/usr/bin/chromedriver' are the same file\n",
            "Requirement already satisfied: selenium in /usr/local/lib/python3.6/dist-packages (3.141.0)\n",
            "Requirement already satisfied: urllib3 in /usr/local/lib/python3.6/dist-packages (from selenium) (1.24.3)\n"
          ],
          "name": "stdout"
        }
      ]
    },
    {
      "cell_type": "code",
      "metadata": {
        "id": "PuFPKhC0m1fd"
      },
      "source": [
        "# Write your code here\n",
        "import urllib.request\n",
        "import requests \n",
        "from bs4 import BeautifulSoup\n",
        "import pandas as pd\n",
        "from selenium import webdriver\n",
        "options = webdriver.ChromeOptions()\n",
        "options.add_argument('-headless')\n",
        "options.add_argument('-no-sandbox')\n",
        "options.add_argument('-disable-dev-shm-usage')\n",
        "driver = webdriver.Chrome('chromedriver',options=options)\n"
      ],
      "execution_count": 113,
      "outputs": []
    },
    {
      "cell_type": "code",
      "metadata": {
        "id": "JJ8YIB6GjFy6"
      },
      "source": [
        "from selenium.webdriver.support.ui import WebDriverWait\n",
        "from selenium.webdriver.support import expected_conditions as EC\n",
        "from selenium.webdriver.common.by import By"
      ],
      "execution_count": 114,
      "outputs": []
    },
    {
      "cell_type": "code",
      "metadata": {
        "id": "EYj08bzbpTj-"
      },
      "source": [
        "def fetch_data(driver, class_name_val, css_selector_val):\n",
        "  result = list()\n",
        "  values = driver.find_elements_by_class_name(class_name_val)\n",
        "  for value in values:\n",
        "    result.append(value.find_element_by_css_selector(css_selector_val).text)\n",
        "  return result\n",
        "  pass"
      ],
      "execution_count": 115,
      "outputs": []
    },
    {
      "cell_type": "code",
      "metadata": {
        "id": "5KU1FKlTnC-M"
      },
      "source": [
        "import time\n",
        "driver.get(\"https://www.imdb.com/title/tt7286456/reviews?sort=userRating&dir=desc&ratingFilter=0\")\n",
        "#activate the button load_more and run the loop 4 times so to make sure we have 100 words\n",
        "i=0\n",
        "while(i<3):\n",
        "  button = driver.find_element_by_xpath('//*[@id =\"load-more-trigger\"]').click()\n",
        "  i = i+1\n",
        "  time.sleep(2)\n",
        "\n",
        "reviews = fetch_data(driver, \"content\", \".text.show-more__control\")\n",
        "user_names = fetch_data(driver, \"display-name-date\",\"a\")"
      ],
      "execution_count": 116,
      "outputs": []
    },
    {
      "cell_type": "code",
      "metadata": {
        "id": "NhRcd3Arx7fw",
        "outputId": "1a72d62c-b135-417e-f656-e57acdca86a9",
        "colab": {
          "base_uri": "https://localhost:8080/",
          "height": 402
        }
      },
      "source": [
        "#create a data frame of usernames and reviews\n",
        "required_df = pd.concat([pd.DataFrame(user_names,columns=['User Names']),pd.DataFrame(reviews,columns=['Reviews'])],axis=1)\n",
        "required_df"
      ],
      "execution_count": 117,
      "outputs": [
        {
          "output_type": "execute_result",
          "data": {
            "text/html": [
              "<div>\n",
              "<style scoped>\n",
              "    .dataframe tbody tr th:only-of-type {\n",
              "        vertical-align: middle;\n",
              "    }\n",
              "\n",
              "    .dataframe tbody tr th {\n",
              "        vertical-align: top;\n",
              "    }\n",
              "\n",
              "    .dataframe thead th {\n",
              "        text-align: right;\n",
              "    }\n",
              "</style>\n",
              "<table border=\"1\" class=\"dataframe\">\n",
              "  <thead>\n",
              "    <tr style=\"text-align: right;\">\n",
              "      <th></th>\n",
              "      <th>User Names</th>\n",
              "      <th>Reviews</th>\n",
              "    </tr>\n",
              "  </thead>\n",
              "  <tbody>\n",
              "    <tr>\n",
              "      <th>0</th>\n",
              "      <td>morino-59166</td>\n",
              "      <td>When I saw the magnificent Heath ledger a few ...</td>\n",
              "    </tr>\n",
              "    <tr>\n",
              "      <th>1</th>\n",
              "      <td>asassandroo</td>\n",
              "      <td>I can say that i'm really grateful that movies...</td>\n",
              "    </tr>\n",
              "    <tr>\n",
              "      <th>2</th>\n",
              "      <td>samanehdds</td>\n",
              "      <td>I'm not a fan of Batman movies but went to see...</td>\n",
              "    </tr>\n",
              "    <tr>\n",
              "      <th>3</th>\n",
              "      <td>guillevica</td>\n",
              "      <td>What a master piece, it so so wondeful, all in...</td>\n",
              "    </tr>\n",
              "    <tr>\n",
              "      <th>4</th>\n",
              "      <td>ahurworth</td>\n",
              "      <td>Has to be the best movie I've seen in years. I...</td>\n",
              "    </tr>\n",
              "    <tr>\n",
              "      <th>...</th>\n",
              "      <td>...</td>\n",
              "      <td>...</td>\n",
              "    </tr>\n",
              "    <tr>\n",
              "      <th>95</th>\n",
              "      <td>shinginharig</td>\n",
              "      <td>Absolutely great performance. Phoenix owns thi...</td>\n",
              "    </tr>\n",
              "    <tr>\n",
              "      <th>96</th>\n",
              "      <td>afnansaeed-76293</td>\n",
              "      <td>One of the best movies. I really recommend it ...</td>\n",
              "    </tr>\n",
              "    <tr>\n",
              "      <th>97</th>\n",
              "      <td>legorocks-30147</td>\n",
              "      <td></td>\n",
              "    </tr>\n",
              "    <tr>\n",
              "      <th>98</th>\n",
              "      <td>tusharshanker-96210</td>\n",
              "      <td>This movie is truly a masterpiece. The acting,...</td>\n",
              "    </tr>\n",
              "    <tr>\n",
              "      <th>99</th>\n",
              "      <td>treaceisbae</td>\n",
              "      <td>Joaquin Phoenix shows his full range in this p...</td>\n",
              "    </tr>\n",
              "  </tbody>\n",
              "</table>\n",
              "<p>100 rows × 2 columns</p>\n",
              "</div>"
            ],
            "text/plain": [
              "             User Names                                            Reviews\n",
              "0          morino-59166  When I saw the magnificent Heath ledger a few ...\n",
              "1           asassandroo  I can say that i'm really grateful that movies...\n",
              "2            samanehdds  I'm not a fan of Batman movies but went to see...\n",
              "3            guillevica  What a master piece, it so so wondeful, all in...\n",
              "4             ahurworth  Has to be the best movie I've seen in years. I...\n",
              "..                  ...                                                ...\n",
              "95         shinginharig  Absolutely great performance. Phoenix owns thi...\n",
              "96     afnansaeed-76293  One of the best movies. I really recommend it ...\n",
              "97      legorocks-30147                                                   \n",
              "98  tusharshanker-96210  This movie is truly a masterpiece. The acting,...\n",
              "99          treaceisbae  Joaquin Phoenix shows his full range in this p...\n",
              "\n",
              "[100 rows x 2 columns]"
            ]
          },
          "metadata": {
            "tags": []
          },
          "execution_count": 117
        }
      ]
    },
    {
      "cell_type": "code",
      "metadata": {
        "id": "RBm5wPckCoxS"
      },
      "source": [
        "required_df.to_csv(\"output1.csv\")"
      ],
      "execution_count": 118,
      "outputs": []
    },
    {
      "cell_type": "markdown",
      "metadata": {
        "id": "AfpMRCrRwN6Z"
      },
      "source": [
        "# **Question 2**"
      ]
    },
    {
      "cell_type": "markdown",
      "metadata": {
        "id": "1dCQEbDawWCw"
      },
      "source": [
        "(30 points). Write a python program to **clean the text data** you collected above and save the data in a new column in the csv file. The data cleaning steps include:\n",
        "\n",
        "(1) Remove noise, such as special characters and punctuations.\n",
        "\n",
        "(2) Remove numbers.\n",
        "\n",
        "(3) Remove stopwords by using the [stopwords list](https://gist.github.com/sebleier/554280).\n",
        "\n",
        "(4) Lowercase all texts\n",
        "\n",
        "(5) Stemming. \n",
        "\n",
        "(6) Lemmatization."
      ]
    },
    {
      "cell_type": "code",
      "metadata": {
        "id": "vATjQNTY8buA",
        "outputId": "c6754192-6fe3-4349-f6e3-d1a60c1b491a",
        "colab": {
          "base_uri": "https://localhost:8080/",
          "height": 402
        }
      },
      "source": [
        "#removing noise and special characters\n",
        "import string\n",
        "punctuations = required_df['Reviews'].apply(lambda x:''.join([i for i in x if i not in string.punctuation])).to_frame().rename(columns={\"Reviews\":\"Punctuations\"})\n",
        "\n",
        "punctuations_and_special_characters_df = punctuations['Punctuations'].apply(lambda x:''.join([i for i in x if i.isalnum() or i == \" \"])).to_frame().rename(columns={\"Punctuations\":\"Punctuations and special characters\"})\n",
        "\n",
        "required_df_1 = pd.concat([required_df,punctuations_and_special_characters_df],axis=1)\n",
        "required_df_1"
      ],
      "execution_count": 119,
      "outputs": [
        {
          "output_type": "execute_result",
          "data": {
            "text/html": [
              "<div>\n",
              "<style scoped>\n",
              "    .dataframe tbody tr th:only-of-type {\n",
              "        vertical-align: middle;\n",
              "    }\n",
              "\n",
              "    .dataframe tbody tr th {\n",
              "        vertical-align: top;\n",
              "    }\n",
              "\n",
              "    .dataframe thead th {\n",
              "        text-align: right;\n",
              "    }\n",
              "</style>\n",
              "<table border=\"1\" class=\"dataframe\">\n",
              "  <thead>\n",
              "    <tr style=\"text-align: right;\">\n",
              "      <th></th>\n",
              "      <th>User Names</th>\n",
              "      <th>Reviews</th>\n",
              "      <th>Punctuations and special characters</th>\n",
              "    </tr>\n",
              "  </thead>\n",
              "  <tbody>\n",
              "    <tr>\n",
              "      <th>0</th>\n",
              "      <td>morino-59166</td>\n",
              "      <td>When I saw the magnificent Heath ledger a few ...</td>\n",
              "      <td>When I saw the magnificent Heath ledger a few ...</td>\n",
              "    </tr>\n",
              "    <tr>\n",
              "      <th>1</th>\n",
              "      <td>asassandroo</td>\n",
              "      <td>I can say that i'm really grateful that movies...</td>\n",
              "      <td>I can say that im really grateful that movies ...</td>\n",
              "    </tr>\n",
              "    <tr>\n",
              "      <th>2</th>\n",
              "      <td>samanehdds</td>\n",
              "      <td>I'm not a fan of Batman movies but went to see...</td>\n",
              "      <td>Im not a fan of Batman movies but went to see ...</td>\n",
              "    </tr>\n",
              "    <tr>\n",
              "      <th>3</th>\n",
              "      <td>guillevica</td>\n",
              "      <td>What a master piece, it so so wondeful, all in...</td>\n",
              "      <td>What a master piece it so so wondeful all in t...</td>\n",
              "    </tr>\n",
              "    <tr>\n",
              "      <th>4</th>\n",
              "      <td>ahurworth</td>\n",
              "      <td>Has to be the best movie I've seen in years. I...</td>\n",
              "      <td>Has to be the best movie Ive seen in years It ...</td>\n",
              "    </tr>\n",
              "    <tr>\n",
              "      <th>...</th>\n",
              "      <td>...</td>\n",
              "      <td>...</td>\n",
              "      <td>...</td>\n",
              "    </tr>\n",
              "    <tr>\n",
              "      <th>95</th>\n",
              "      <td>shinginharig</td>\n",
              "      <td>Absolutely great performance. Phoenix owns thi...</td>\n",
              "      <td>Absolutely great performance Phoenix owns this...</td>\n",
              "    </tr>\n",
              "    <tr>\n",
              "      <th>96</th>\n",
              "      <td>afnansaeed-76293</td>\n",
              "      <td>One of the best movies. I really recommend it ...</td>\n",
              "      <td>One of the best movies I really recommend it t...</td>\n",
              "    </tr>\n",
              "    <tr>\n",
              "      <th>97</th>\n",
              "      <td>legorocks-30147</td>\n",
              "      <td></td>\n",
              "      <td></td>\n",
              "    </tr>\n",
              "    <tr>\n",
              "      <th>98</th>\n",
              "      <td>tusharshanker-96210</td>\n",
              "      <td>This movie is truly a masterpiece. The acting,...</td>\n",
              "      <td>This movie is truly a masterpiece The acting c...</td>\n",
              "    </tr>\n",
              "    <tr>\n",
              "      <th>99</th>\n",
              "      <td>treaceisbae</td>\n",
              "      <td>Joaquin Phoenix shows his full range in this p...</td>\n",
              "      <td>Joaquin Phoenix shows his full range in this p...</td>\n",
              "    </tr>\n",
              "  </tbody>\n",
              "</table>\n",
              "<p>100 rows × 3 columns</p>\n",
              "</div>"
            ],
            "text/plain": [
              "             User Names  ...                Punctuations and special characters\n",
              "0          morino-59166  ...  When I saw the magnificent Heath ledger a few ...\n",
              "1           asassandroo  ...  I can say that im really grateful that movies ...\n",
              "2            samanehdds  ...  Im not a fan of Batman movies but went to see ...\n",
              "3            guillevica  ...  What a master piece it so so wondeful all in t...\n",
              "4             ahurworth  ...  Has to be the best movie Ive seen in years It ...\n",
              "..                  ...  ...                                                ...\n",
              "95         shinginharig  ...  Absolutely great performance Phoenix owns this...\n",
              "96     afnansaeed-76293  ...  One of the best movies I really recommend it t...\n",
              "97      legorocks-30147  ...                                                   \n",
              "98  tusharshanker-96210  ...  This movie is truly a masterpiece The acting c...\n",
              "99          treaceisbae  ...  Joaquin Phoenix shows his full range in this p...\n",
              "\n",
              "[100 rows x 3 columns]"
            ]
          },
          "metadata": {
            "tags": []
          },
          "execution_count": 119
        }
      ]
    },
    {
      "cell_type": "code",
      "metadata": {
        "id": "TLTTpFO41cQs",
        "outputId": "fcc27427-b1df-4cfd-efb1-d39ae20e0d57",
        "colab": {
          "base_uri": "https://localhost:8080/",
          "height": 469
        }
      },
      "source": [
        "#removing numbers\n",
        "numbers_df = required_df_1['Punctuations and special characters'].apply(lambda x:''.join([i for i in x if i == \" \" or i.isalpha()])).to_frame().rename(columns={\"Punctuations and special characters\":\"numbers\"})\n",
        "required_df_2 = pd.concat([required_df_1,numbers_df],axis=1)\n",
        "required_df_2"
      ],
      "execution_count": 120,
      "outputs": [
        {
          "output_type": "execute_result",
          "data": {
            "text/html": [
              "<div>\n",
              "<style scoped>\n",
              "    .dataframe tbody tr th:only-of-type {\n",
              "        vertical-align: middle;\n",
              "    }\n",
              "\n",
              "    .dataframe tbody tr th {\n",
              "        vertical-align: top;\n",
              "    }\n",
              "\n",
              "    .dataframe thead th {\n",
              "        text-align: right;\n",
              "    }\n",
              "</style>\n",
              "<table border=\"1\" class=\"dataframe\">\n",
              "  <thead>\n",
              "    <tr style=\"text-align: right;\">\n",
              "      <th></th>\n",
              "      <th>User Names</th>\n",
              "      <th>Reviews</th>\n",
              "      <th>Punctuations and special characters</th>\n",
              "      <th>numbers</th>\n",
              "    </tr>\n",
              "  </thead>\n",
              "  <tbody>\n",
              "    <tr>\n",
              "      <th>0</th>\n",
              "      <td>morino-59166</td>\n",
              "      <td>When I saw the magnificent Heath ledger a few ...</td>\n",
              "      <td>When I saw the magnificent Heath ledger a few ...</td>\n",
              "      <td>When I saw the magnificent Heath ledger a few ...</td>\n",
              "    </tr>\n",
              "    <tr>\n",
              "      <th>1</th>\n",
              "      <td>asassandroo</td>\n",
              "      <td>I can say that i'm really grateful that movies...</td>\n",
              "      <td>I can say that im really grateful that movies ...</td>\n",
              "      <td>I can say that im really grateful that movies ...</td>\n",
              "    </tr>\n",
              "    <tr>\n",
              "      <th>2</th>\n",
              "      <td>samanehdds</td>\n",
              "      <td>I'm not a fan of Batman movies but went to see...</td>\n",
              "      <td>Im not a fan of Batman movies but went to see ...</td>\n",
              "      <td>Im not a fan of Batman movies but went to see ...</td>\n",
              "    </tr>\n",
              "    <tr>\n",
              "      <th>3</th>\n",
              "      <td>guillevica</td>\n",
              "      <td>What a master piece, it so so wondeful, all in...</td>\n",
              "      <td>What a master piece it so so wondeful all in t...</td>\n",
              "      <td>What a master piece it so so wondeful all in t...</td>\n",
              "    </tr>\n",
              "    <tr>\n",
              "      <th>4</th>\n",
              "      <td>ahurworth</td>\n",
              "      <td>Has to be the best movie I've seen in years. I...</td>\n",
              "      <td>Has to be the best movie Ive seen in years It ...</td>\n",
              "      <td>Has to be the best movie Ive seen in years It ...</td>\n",
              "    </tr>\n",
              "    <tr>\n",
              "      <th>...</th>\n",
              "      <td>...</td>\n",
              "      <td>...</td>\n",
              "      <td>...</td>\n",
              "      <td>...</td>\n",
              "    </tr>\n",
              "    <tr>\n",
              "      <th>95</th>\n",
              "      <td>shinginharig</td>\n",
              "      <td>Absolutely great performance. Phoenix owns thi...</td>\n",
              "      <td>Absolutely great performance Phoenix owns this...</td>\n",
              "      <td>Absolutely great performance Phoenix owns this...</td>\n",
              "    </tr>\n",
              "    <tr>\n",
              "      <th>96</th>\n",
              "      <td>afnansaeed-76293</td>\n",
              "      <td>One of the best movies. I really recommend it ...</td>\n",
              "      <td>One of the best movies I really recommend it t...</td>\n",
              "      <td>One of the best movies I really recommend it t...</td>\n",
              "    </tr>\n",
              "    <tr>\n",
              "      <th>97</th>\n",
              "      <td>legorocks-30147</td>\n",
              "      <td></td>\n",
              "      <td></td>\n",
              "      <td></td>\n",
              "    </tr>\n",
              "    <tr>\n",
              "      <th>98</th>\n",
              "      <td>tusharshanker-96210</td>\n",
              "      <td>This movie is truly a masterpiece. The acting,...</td>\n",
              "      <td>This movie is truly a masterpiece The acting c...</td>\n",
              "      <td>This movie is truly a masterpiece The acting c...</td>\n",
              "    </tr>\n",
              "    <tr>\n",
              "      <th>99</th>\n",
              "      <td>treaceisbae</td>\n",
              "      <td>Joaquin Phoenix shows his full range in this p...</td>\n",
              "      <td>Joaquin Phoenix shows his full range in this p...</td>\n",
              "      <td>Joaquin Phoenix shows his full range in this p...</td>\n",
              "    </tr>\n",
              "  </tbody>\n",
              "</table>\n",
              "<p>100 rows × 4 columns</p>\n",
              "</div>"
            ],
            "text/plain": [
              "             User Names  ...                                            numbers\n",
              "0          morino-59166  ...  When I saw the magnificent Heath ledger a few ...\n",
              "1           asassandroo  ...  I can say that im really grateful that movies ...\n",
              "2            samanehdds  ...  Im not a fan of Batman movies but went to see ...\n",
              "3            guillevica  ...  What a master piece it so so wondeful all in t...\n",
              "4             ahurworth  ...  Has to be the best movie Ive seen in years It ...\n",
              "..                  ...  ...                                                ...\n",
              "95         shinginharig  ...  Absolutely great performance Phoenix owns this...\n",
              "96     afnansaeed-76293  ...  One of the best movies I really recommend it t...\n",
              "97      legorocks-30147  ...                                                   \n",
              "98  tusharshanker-96210  ...  This movie is truly a masterpiece The acting c...\n",
              "99          treaceisbae  ...  Joaquin Phoenix shows his full range in this p...\n",
              "\n",
              "[100 rows x 4 columns]"
            ]
          },
          "metadata": {
            "tags": []
          },
          "execution_count": 120
        }
      ]
    },
    {
      "cell_type": "code",
      "metadata": {
        "id": "jDP_m9a34kei",
        "outputId": "6fced0cc-4e1c-498e-d2cf-27c409eabc46",
        "colab": {
          "base_uri": "https://localhost:8080/",
          "height": 67
        }
      },
      "source": [
        "import nltk\n",
        "from nltk.corpus import stopwords\n",
        "nltk.download('stopwords')"
      ],
      "execution_count": 121,
      "outputs": [
        {
          "output_type": "stream",
          "text": [
            "[nltk_data] Downloading package stopwords to /root/nltk_data...\n",
            "[nltk_data]   Package stopwords is already up-to-date!\n"
          ],
          "name": "stdout"
        },
        {
          "output_type": "execute_result",
          "data": {
            "text/plain": [
              "True"
            ]
          },
          "metadata": {
            "tags": []
          },
          "execution_count": 121
        }
      ]
    },
    {
      "cell_type": "code",
      "metadata": {
        "id": "qZzwZVkU4m_9"
      },
      "source": [
        "list_of_words = set(stopwords.words('english')) "
      ],
      "execution_count": 122,
      "outputs": []
    },
    {
      "cell_type": "code",
      "metadata": {
        "id": "vBcky4JQ389E",
        "outputId": "0171ff48-55b7-4015-9c4a-12d9c1973777",
        "colab": {
          "base_uri": "https://localhost:8080/",
          "height": 586
        }
      },
      "source": [
        "#Removing stop words\n",
        "\n",
        "stop_words_df =  required_df_2['numbers'].apply(lambda x:' '.join([i for i in x.split() if i not in list_of_words])).to_frame().rename(columns={\"numbers\":\"stop_words\"})\n",
        "result_df_3 = pd.concat([required_df_2,stop_words_df],axis=1)\n",
        "result_df_3"
      ],
      "execution_count": 123,
      "outputs": [
        {
          "output_type": "execute_result",
          "data": {
            "text/html": [
              "<div>\n",
              "<style scoped>\n",
              "    .dataframe tbody tr th:only-of-type {\n",
              "        vertical-align: middle;\n",
              "    }\n",
              "\n",
              "    .dataframe tbody tr th {\n",
              "        vertical-align: top;\n",
              "    }\n",
              "\n",
              "    .dataframe thead th {\n",
              "        text-align: right;\n",
              "    }\n",
              "</style>\n",
              "<table border=\"1\" class=\"dataframe\">\n",
              "  <thead>\n",
              "    <tr style=\"text-align: right;\">\n",
              "      <th></th>\n",
              "      <th>User Names</th>\n",
              "      <th>Reviews</th>\n",
              "      <th>Punctuations and special characters</th>\n",
              "      <th>numbers</th>\n",
              "      <th>stop_words</th>\n",
              "    </tr>\n",
              "  </thead>\n",
              "  <tbody>\n",
              "    <tr>\n",
              "      <th>0</th>\n",
              "      <td>morino-59166</td>\n",
              "      <td>When I saw the magnificent Heath ledger a few ...</td>\n",
              "      <td>When I saw the magnificent Heath ledger a few ...</td>\n",
              "      <td>When I saw the magnificent Heath ledger a few ...</td>\n",
              "      <td>When I saw magnificent Heath ledger years go e...</td>\n",
              "    </tr>\n",
              "    <tr>\n",
              "      <th>1</th>\n",
              "      <td>asassandroo</td>\n",
              "      <td>I can say that i'm really grateful that movies...</td>\n",
              "      <td>I can say that im really grateful that movies ...</td>\n",
              "      <td>I can say that im really grateful that movies ...</td>\n",
              "      <td>I say im really grateful movies like one haven...</td>\n",
              "    </tr>\n",
              "    <tr>\n",
              "      <th>2</th>\n",
              "      <td>samanehdds</td>\n",
              "      <td>I'm not a fan of Batman movies but went to see...</td>\n",
              "      <td>Im not a fan of Batman movies but went to see ...</td>\n",
              "      <td>Im not a fan of Batman movies but went to see ...</td>\n",
              "      <td>Im fan Batman movies went see teenage son Its ...</td>\n",
              "    </tr>\n",
              "    <tr>\n",
              "      <th>3</th>\n",
              "      <td>guillevica</td>\n",
              "      <td>What a master piece, it so so wondeful, all in...</td>\n",
              "      <td>What a master piece it so so wondeful all in t...</td>\n",
              "      <td>What a master piece it so so wondeful all in t...</td>\n",
              "      <td>What master piece wondeful movie great constru...</td>\n",
              "    </tr>\n",
              "    <tr>\n",
              "      <th>4</th>\n",
              "      <td>ahurworth</td>\n",
              "      <td>Has to be the best movie I've seen in years. I...</td>\n",
              "      <td>Has to be the best movie Ive seen in years It ...</td>\n",
              "      <td>Has to be the best movie Ive seen in years It ...</td>\n",
              "      <td>Has best movie Ive seen years It feel Taxi Dri...</td>\n",
              "    </tr>\n",
              "    <tr>\n",
              "      <th>...</th>\n",
              "      <td>...</td>\n",
              "      <td>...</td>\n",
              "      <td>...</td>\n",
              "      <td>...</td>\n",
              "      <td>...</td>\n",
              "    </tr>\n",
              "    <tr>\n",
              "      <th>95</th>\n",
              "      <td>shinginharig</td>\n",
              "      <td>Absolutely great performance. Phoenix owns thi...</td>\n",
              "      <td>Absolutely great performance Phoenix owns this...</td>\n",
              "      <td>Absolutely great performance Phoenix owns this...</td>\n",
              "      <td>Absolutely great performance Phoenix owns role...</td>\n",
              "    </tr>\n",
              "    <tr>\n",
              "      <th>96</th>\n",
              "      <td>afnansaeed-76293</td>\n",
              "      <td>One of the best movies. I really recommend it ...</td>\n",
              "      <td>One of the best movies I really recommend it t...</td>\n",
              "      <td>One of the best movies I really recommend it t...</td>\n",
              "      <td>One best movies I really recommend gys</td>\n",
              "    </tr>\n",
              "    <tr>\n",
              "      <th>97</th>\n",
              "      <td>legorocks-30147</td>\n",
              "      <td></td>\n",
              "      <td></td>\n",
              "      <td></td>\n",
              "      <td></td>\n",
              "    </tr>\n",
              "    <tr>\n",
              "      <th>98</th>\n",
              "      <td>tusharshanker-96210</td>\n",
              "      <td>This movie is truly a masterpiece. The acting,...</td>\n",
              "      <td>This movie is truly a masterpiece The acting c...</td>\n",
              "      <td>This movie is truly a masterpiece The acting c...</td>\n",
              "      <td>This movie truly masterpiece The acting cenima...</td>\n",
              "    </tr>\n",
              "    <tr>\n",
              "      <th>99</th>\n",
              "      <td>treaceisbae</td>\n",
              "      <td>Joaquin Phoenix shows his full range in this p...</td>\n",
              "      <td>Joaquin Phoenix shows his full range in this p...</td>\n",
              "      <td>Joaquin Phoenix shows his full range in this p...</td>\n",
              "      <td>Joaquin Phoenix shows full range performance p...</td>\n",
              "    </tr>\n",
              "  </tbody>\n",
              "</table>\n",
              "<p>100 rows × 5 columns</p>\n",
              "</div>"
            ],
            "text/plain": [
              "             User Names  ...                                         stop_words\n",
              "0          morino-59166  ...  When I saw magnificent Heath ledger years go e...\n",
              "1           asassandroo  ...  I say im really grateful movies like one haven...\n",
              "2            samanehdds  ...  Im fan Batman movies went see teenage son Its ...\n",
              "3            guillevica  ...  What master piece wondeful movie great constru...\n",
              "4             ahurworth  ...  Has best movie Ive seen years It feel Taxi Dri...\n",
              "..                  ...  ...                                                ...\n",
              "95         shinginharig  ...  Absolutely great performance Phoenix owns role...\n",
              "96     afnansaeed-76293  ...             One best movies I really recommend gys\n",
              "97      legorocks-30147  ...                                                   \n",
              "98  tusharshanker-96210  ...  This movie truly masterpiece The acting cenima...\n",
              "99          treaceisbae  ...  Joaquin Phoenix shows full range performance p...\n",
              "\n",
              "[100 rows x 5 columns]"
            ]
          },
          "metadata": {
            "tags": []
          },
          "execution_count": 123
        }
      ]
    },
    {
      "cell_type": "code",
      "metadata": {
        "id": "-k4YvG-w4uB9",
        "outputId": "d5d119fe-51d1-40fd-ed9b-f07b510f1c42",
        "colab": {
          "base_uri": "https://localhost:8080/",
          "height": 603
        }
      },
      "source": [
        "#lower case all the texts\n",
        "\n",
        "\n",
        "lower_case_df =  result_df_3['stop_words'].apply(lambda x: x.lower()).to_frame().rename(columns={\"stop_words\":\"lower_case\"})\n",
        "result_df_4 = pd.concat([result_df_3,lower_case_df],axis=1)\n",
        "result_df_4"
      ],
      "execution_count": 124,
      "outputs": [
        {
          "output_type": "execute_result",
          "data": {
            "text/html": [
              "<div>\n",
              "<style scoped>\n",
              "    .dataframe tbody tr th:only-of-type {\n",
              "        vertical-align: middle;\n",
              "    }\n",
              "\n",
              "    .dataframe tbody tr th {\n",
              "        vertical-align: top;\n",
              "    }\n",
              "\n",
              "    .dataframe thead th {\n",
              "        text-align: right;\n",
              "    }\n",
              "</style>\n",
              "<table border=\"1\" class=\"dataframe\">\n",
              "  <thead>\n",
              "    <tr style=\"text-align: right;\">\n",
              "      <th></th>\n",
              "      <th>User Names</th>\n",
              "      <th>Reviews</th>\n",
              "      <th>Punctuations and special characters</th>\n",
              "      <th>numbers</th>\n",
              "      <th>stop_words</th>\n",
              "      <th>lower_case</th>\n",
              "    </tr>\n",
              "  </thead>\n",
              "  <tbody>\n",
              "    <tr>\n",
              "      <th>0</th>\n",
              "      <td>morino-59166</td>\n",
              "      <td>When I saw the magnificent Heath ledger a few ...</td>\n",
              "      <td>When I saw the magnificent Heath ledger a few ...</td>\n",
              "      <td>When I saw the magnificent Heath ledger a few ...</td>\n",
              "      <td>When I saw magnificent Heath ledger years go e...</td>\n",
              "      <td>when i saw magnificent heath ledger years go e...</td>\n",
              "    </tr>\n",
              "    <tr>\n",
              "      <th>1</th>\n",
              "      <td>asassandroo</td>\n",
              "      <td>I can say that i'm really grateful that movies...</td>\n",
              "      <td>I can say that im really grateful that movies ...</td>\n",
              "      <td>I can say that im really grateful that movies ...</td>\n",
              "      <td>I say im really grateful movies like one haven...</td>\n",
              "      <td>i say im really grateful movies like one haven...</td>\n",
              "    </tr>\n",
              "    <tr>\n",
              "      <th>2</th>\n",
              "      <td>samanehdds</td>\n",
              "      <td>I'm not a fan of Batman movies but went to see...</td>\n",
              "      <td>Im not a fan of Batman movies but went to see ...</td>\n",
              "      <td>Im not a fan of Batman movies but went to see ...</td>\n",
              "      <td>Im fan Batman movies went see teenage son Its ...</td>\n",
              "      <td>im fan batman movies went see teenage son its ...</td>\n",
              "    </tr>\n",
              "    <tr>\n",
              "      <th>3</th>\n",
              "      <td>guillevica</td>\n",
              "      <td>What a master piece, it so so wondeful, all in...</td>\n",
              "      <td>What a master piece it so so wondeful all in t...</td>\n",
              "      <td>What a master piece it so so wondeful all in t...</td>\n",
              "      <td>What master piece wondeful movie great constru...</td>\n",
              "      <td>what master piece wondeful movie great constru...</td>\n",
              "    </tr>\n",
              "    <tr>\n",
              "      <th>4</th>\n",
              "      <td>ahurworth</td>\n",
              "      <td>Has to be the best movie I've seen in years. I...</td>\n",
              "      <td>Has to be the best movie Ive seen in years It ...</td>\n",
              "      <td>Has to be the best movie Ive seen in years It ...</td>\n",
              "      <td>Has best movie Ive seen years It feel Taxi Dri...</td>\n",
              "      <td>has best movie ive seen years it feel taxi dri...</td>\n",
              "    </tr>\n",
              "    <tr>\n",
              "      <th>...</th>\n",
              "      <td>...</td>\n",
              "      <td>...</td>\n",
              "      <td>...</td>\n",
              "      <td>...</td>\n",
              "      <td>...</td>\n",
              "      <td>...</td>\n",
              "    </tr>\n",
              "    <tr>\n",
              "      <th>95</th>\n",
              "      <td>shinginharig</td>\n",
              "      <td>Absolutely great performance. Phoenix owns thi...</td>\n",
              "      <td>Absolutely great performance Phoenix owns this...</td>\n",
              "      <td>Absolutely great performance Phoenix owns this...</td>\n",
              "      <td>Absolutely great performance Phoenix owns role...</td>\n",
              "      <td>absolutely great performance phoenix owns role...</td>\n",
              "    </tr>\n",
              "    <tr>\n",
              "      <th>96</th>\n",
              "      <td>afnansaeed-76293</td>\n",
              "      <td>One of the best movies. I really recommend it ...</td>\n",
              "      <td>One of the best movies I really recommend it t...</td>\n",
              "      <td>One of the best movies I really recommend it t...</td>\n",
              "      <td>One best movies I really recommend gys</td>\n",
              "      <td>one best movies i really recommend gys</td>\n",
              "    </tr>\n",
              "    <tr>\n",
              "      <th>97</th>\n",
              "      <td>legorocks-30147</td>\n",
              "      <td></td>\n",
              "      <td></td>\n",
              "      <td></td>\n",
              "      <td></td>\n",
              "      <td></td>\n",
              "    </tr>\n",
              "    <tr>\n",
              "      <th>98</th>\n",
              "      <td>tusharshanker-96210</td>\n",
              "      <td>This movie is truly a masterpiece. The acting,...</td>\n",
              "      <td>This movie is truly a masterpiece The acting c...</td>\n",
              "      <td>This movie is truly a masterpiece The acting c...</td>\n",
              "      <td>This movie truly masterpiece The acting cenima...</td>\n",
              "      <td>this movie truly masterpiece the acting cenima...</td>\n",
              "    </tr>\n",
              "    <tr>\n",
              "      <th>99</th>\n",
              "      <td>treaceisbae</td>\n",
              "      <td>Joaquin Phoenix shows his full range in this p...</td>\n",
              "      <td>Joaquin Phoenix shows his full range in this p...</td>\n",
              "      <td>Joaquin Phoenix shows his full range in this p...</td>\n",
              "      <td>Joaquin Phoenix shows full range performance p...</td>\n",
              "      <td>joaquin phoenix shows full range performance p...</td>\n",
              "    </tr>\n",
              "  </tbody>\n",
              "</table>\n",
              "<p>100 rows × 6 columns</p>\n",
              "</div>"
            ],
            "text/plain": [
              "             User Names  ...                                         lower_case\n",
              "0          morino-59166  ...  when i saw magnificent heath ledger years go e...\n",
              "1           asassandroo  ...  i say im really grateful movies like one haven...\n",
              "2            samanehdds  ...  im fan batman movies went see teenage son its ...\n",
              "3            guillevica  ...  what master piece wondeful movie great constru...\n",
              "4             ahurworth  ...  has best movie ive seen years it feel taxi dri...\n",
              "..                  ...  ...                                                ...\n",
              "95         shinginharig  ...  absolutely great performance phoenix owns role...\n",
              "96     afnansaeed-76293  ...             one best movies i really recommend gys\n",
              "97      legorocks-30147  ...                                                   \n",
              "98  tusharshanker-96210  ...  this movie truly masterpiece the acting cenima...\n",
              "99          treaceisbae  ...  joaquin phoenix shows full range performance p...\n",
              "\n",
              "[100 rows x 6 columns]"
            ]
          },
          "metadata": {
            "tags": []
          },
          "execution_count": 124
        }
      ]
    },
    {
      "cell_type": "code",
      "metadata": {
        "id": "frPWUVQY7xOG",
        "outputId": "72d1d082-f10f-495a-b50d-e00b85ef7215",
        "colab": {
          "base_uri": "https://localhost:8080/",
          "height": 67
        }
      },
      "source": [
        "nltk.download('punkt')"
      ],
      "execution_count": 135,
      "outputs": [
        {
          "output_type": "stream",
          "text": [
            "[nltk_data] Downloading package punkt to /root/nltk_data...\n",
            "[nltk_data]   Unzipping tokenizers/punkt.zip.\n"
          ],
          "name": "stdout"
        },
        {
          "output_type": "execute_result",
          "data": {
            "text/plain": [
              "True"
            ]
          },
          "metadata": {
            "tags": []
          },
          "execution_count": 135
        }
      ]
    },
    {
      "cell_type": "code",
      "metadata": {
        "id": "9WTPnb-S5yf9"
      },
      "source": [
        "from nltk.stem import PorterStemmer \n",
        "from nltk.tokenize import word_tokenize \n",
        "   \n",
        "ps = PorterStemmer()"
      ],
      "execution_count": 108,
      "outputs": []
    },
    {
      "cell_type": "code",
      "metadata": {
        "id": "u3qxpVeU5cma",
        "outputId": "8a3ab418-44b3-4901-c418-91b59e5264f0",
        "colab": {
          "base_uri": "https://localhost:8080/",
          "height": 738
        }
      },
      "source": [
        "#stemming\n",
        "tokenisation = result_df_4[\"lower_case\"].apply(lambda x : word_tokenize(str(x))).to_frame().rename(columns = {\"lower_case\":\"tokenisation\"})\n",
        "stemming_df = tokenisation['tokenisation'].apply(lambda x: ' '.join([ps.stem(i) for i in x])).to_frame().rename(columns={\"tokenisation\":\"stemming\"})\n",
        "result_df_5 = pd.concat([result_df_4,stemming_df],axis=1)\n",
        "result_df_5"
      ],
      "execution_count": 143,
      "outputs": [
        {
          "output_type": "execute_result",
          "data": {
            "text/html": [
              "<div>\n",
              "<style scoped>\n",
              "    .dataframe tbody tr th:only-of-type {\n",
              "        vertical-align: middle;\n",
              "    }\n",
              "\n",
              "    .dataframe tbody tr th {\n",
              "        vertical-align: top;\n",
              "    }\n",
              "\n",
              "    .dataframe thead th {\n",
              "        text-align: right;\n",
              "    }\n",
              "</style>\n",
              "<table border=\"1\" class=\"dataframe\">\n",
              "  <thead>\n",
              "    <tr style=\"text-align: right;\">\n",
              "      <th></th>\n",
              "      <th>User Names</th>\n",
              "      <th>Reviews</th>\n",
              "      <th>Punctuations and special characters</th>\n",
              "      <th>numbers</th>\n",
              "      <th>stop_words</th>\n",
              "      <th>lower_case</th>\n",
              "      <th>stemming</th>\n",
              "    </tr>\n",
              "  </thead>\n",
              "  <tbody>\n",
              "    <tr>\n",
              "      <th>0</th>\n",
              "      <td>morino-59166</td>\n",
              "      <td>When I saw the magnificent Heath ledger a few ...</td>\n",
              "      <td>When I saw the magnificent Heath ledger a few ...</td>\n",
              "      <td>When I saw the magnificent Heath ledger a few ...</td>\n",
              "      <td>When I saw magnificent Heath ledger years go e...</td>\n",
              "      <td>when i saw magnificent heath ledger years go e...</td>\n",
              "      <td>when i saw magnific heath ledger year go excel...</td>\n",
              "    </tr>\n",
              "    <tr>\n",
              "      <th>1</th>\n",
              "      <td>asassandroo</td>\n",
              "      <td>I can say that i'm really grateful that movies...</td>\n",
              "      <td>I can say that im really grateful that movies ...</td>\n",
              "      <td>I can say that im really grateful that movies ...</td>\n",
              "      <td>I say im really grateful movies like one haven...</td>\n",
              "      <td>i say im really grateful movies like one haven...</td>\n",
              "      <td>i say im realli grate movi like one havent die...</td>\n",
              "    </tr>\n",
              "    <tr>\n",
              "      <th>2</th>\n",
              "      <td>samanehdds</td>\n",
              "      <td>I'm not a fan of Batman movies but went to see...</td>\n",
              "      <td>Im not a fan of Batman movies but went to see ...</td>\n",
              "      <td>Im not a fan of Batman movies but went to see ...</td>\n",
              "      <td>Im fan Batman movies went see teenage son Its ...</td>\n",
              "      <td>im fan batman movies went see teenage son its ...</td>\n",
              "      <td>im fan batman movi went see teenag son it trul...</td>\n",
              "    </tr>\n",
              "    <tr>\n",
              "      <th>3</th>\n",
              "      <td>guillevica</td>\n",
              "      <td>What a master piece, it so so wondeful, all in...</td>\n",
              "      <td>What a master piece it so so wondeful all in t...</td>\n",
              "      <td>What a master piece it so so wondeful all in t...</td>\n",
              "      <td>What master piece wondeful movie great constru...</td>\n",
              "      <td>what master piece wondeful movie great constru...</td>\n",
              "      <td>what master piec wond movi great construct mov...</td>\n",
              "    </tr>\n",
              "    <tr>\n",
              "      <th>4</th>\n",
              "      <td>ahurworth</td>\n",
              "      <td>Has to be the best movie I've seen in years. I...</td>\n",
              "      <td>Has to be the best movie Ive seen in years It ...</td>\n",
              "      <td>Has to be the best movie Ive seen in years It ...</td>\n",
              "      <td>Has best movie Ive seen years It feel Taxi Dri...</td>\n",
              "      <td>has best movie ive seen years it feel taxi dri...</td>\n",
              "      <td>ha best movi ive seen year it feel taxi driver...</td>\n",
              "    </tr>\n",
              "    <tr>\n",
              "      <th>...</th>\n",
              "      <td>...</td>\n",
              "      <td>...</td>\n",
              "      <td>...</td>\n",
              "      <td>...</td>\n",
              "      <td>...</td>\n",
              "      <td>...</td>\n",
              "      <td>...</td>\n",
              "    </tr>\n",
              "    <tr>\n",
              "      <th>95</th>\n",
              "      <td>shinginharig</td>\n",
              "      <td>Absolutely great performance. Phoenix owns thi...</td>\n",
              "      <td>Absolutely great performance Phoenix owns this...</td>\n",
              "      <td>Absolutely great performance Phoenix owns this...</td>\n",
              "      <td>Absolutely great performance Phoenix owns role...</td>\n",
              "      <td>absolutely great performance phoenix owns role...</td>\n",
              "      <td>absolut great perform phoenix own role the cha...</td>\n",
              "    </tr>\n",
              "    <tr>\n",
              "      <th>96</th>\n",
              "      <td>afnansaeed-76293</td>\n",
              "      <td>One of the best movies. I really recommend it ...</td>\n",
              "      <td>One of the best movies I really recommend it t...</td>\n",
              "      <td>One of the best movies I really recommend it t...</td>\n",
              "      <td>One best movies I really recommend gys</td>\n",
              "      <td>one best movies i really recommend gys</td>\n",
              "      <td>one best movi i realli recommend gy</td>\n",
              "    </tr>\n",
              "    <tr>\n",
              "      <th>97</th>\n",
              "      <td>legorocks-30147</td>\n",
              "      <td></td>\n",
              "      <td></td>\n",
              "      <td></td>\n",
              "      <td></td>\n",
              "      <td></td>\n",
              "      <td></td>\n",
              "    </tr>\n",
              "    <tr>\n",
              "      <th>98</th>\n",
              "      <td>tusharshanker-96210</td>\n",
              "      <td>This movie is truly a masterpiece. The acting,...</td>\n",
              "      <td>This movie is truly a masterpiece The acting c...</td>\n",
              "      <td>This movie is truly a masterpiece The acting c...</td>\n",
              "      <td>This movie truly masterpiece The acting cenima...</td>\n",
              "      <td>this movie truly masterpiece the acting cenima...</td>\n",
              "      <td>thi movi truli masterpiec the act cenimatograp...</td>\n",
              "    </tr>\n",
              "    <tr>\n",
              "      <th>99</th>\n",
              "      <td>treaceisbae</td>\n",
              "      <td>Joaquin Phoenix shows his full range in this p...</td>\n",
              "      <td>Joaquin Phoenix shows his full range in this p...</td>\n",
              "      <td>Joaquin Phoenix shows his full range in this p...</td>\n",
              "      <td>Joaquin Phoenix shows full range performance p...</td>\n",
              "      <td>joaquin phoenix shows full range performance p...</td>\n",
              "      <td>joaquin phoenix show full rang perform prove t...</td>\n",
              "    </tr>\n",
              "  </tbody>\n",
              "</table>\n",
              "<p>100 rows × 7 columns</p>\n",
              "</div>"
            ],
            "text/plain": [
              "             User Names  ...                                           stemming\n",
              "0          morino-59166  ...  when i saw magnific heath ledger year go excel...\n",
              "1           asassandroo  ...  i say im realli grate movi like one havent die...\n",
              "2            samanehdds  ...  im fan batman movi went see teenag son it trul...\n",
              "3            guillevica  ...  what master piec wond movi great construct mov...\n",
              "4             ahurworth  ...  ha best movi ive seen year it feel taxi driver...\n",
              "..                  ...  ...                                                ...\n",
              "95         shinginharig  ...  absolut great perform phoenix own role the cha...\n",
              "96     afnansaeed-76293  ...                one best movi i realli recommend gy\n",
              "97      legorocks-30147  ...                                                   \n",
              "98  tusharshanker-96210  ...  thi movi truli masterpiec the act cenimatograp...\n",
              "99          treaceisbae  ...  joaquin phoenix show full rang perform prove t...\n",
              "\n",
              "[100 rows x 7 columns]"
            ]
          },
          "metadata": {
            "tags": []
          },
          "execution_count": 143
        }
      ]
    },
    {
      "cell_type": "code",
      "metadata": {
        "id": "XzEA_D119KoK",
        "outputId": "c3221ae8-f933-48ff-d5e1-9dbd5a720d56",
        "colab": {
          "base_uri": "https://localhost:8080/",
          "height": 67
        }
      },
      "source": [
        "nltk.download('wordnet')"
      ],
      "execution_count": 139,
      "outputs": [
        {
          "output_type": "stream",
          "text": [
            "[nltk_data] Downloading package wordnet to /root/nltk_data...\n",
            "[nltk_data]   Unzipping corpora/wordnet.zip.\n"
          ],
          "name": "stdout"
        },
        {
          "output_type": "execute_result",
          "data": {
            "text/plain": [
              "True"
            ]
          },
          "metadata": {
            "tags": []
          },
          "execution_count": 139
        }
      ]
    },
    {
      "cell_type": "code",
      "metadata": {
        "id": "9fljWcX28kcv",
        "outputId": "39aea8e9-7e99-4f05-b5e3-df415c07035e",
        "colab": {
          "base_uri": "https://localhost:8080/",
          "height": 771
        }
      },
      "source": [
        "#lemmetization\n",
        "\n",
        "import textblob\n",
        "lemmetization_df = tokenisation['tokenisation'].apply(lambda x: ' '.join([textblob.Word(i).lemmatize() for i in x])).to_frame().rename(columns={\"tokenisation\":\"lemmitization\"})\n",
        "filtered_data_df = pd.concat([result_df_5,lemmetization_df],axis=1)\n",
        "filtered_data_df"
      ],
      "execution_count": 147,
      "outputs": [
        {
          "output_type": "execute_result",
          "data": {
            "text/html": [
              "<div>\n",
              "<style scoped>\n",
              "    .dataframe tbody tr th:only-of-type {\n",
              "        vertical-align: middle;\n",
              "    }\n",
              "\n",
              "    .dataframe tbody tr th {\n",
              "        vertical-align: top;\n",
              "    }\n",
              "\n",
              "    .dataframe thead th {\n",
              "        text-align: right;\n",
              "    }\n",
              "</style>\n",
              "<table border=\"1\" class=\"dataframe\">\n",
              "  <thead>\n",
              "    <tr style=\"text-align: right;\">\n",
              "      <th></th>\n",
              "      <th>User Names</th>\n",
              "      <th>Reviews</th>\n",
              "      <th>Punctuations and special characters</th>\n",
              "      <th>numbers</th>\n",
              "      <th>stop_words</th>\n",
              "      <th>lower_case</th>\n",
              "      <th>stemming</th>\n",
              "      <th>lemmitization</th>\n",
              "    </tr>\n",
              "  </thead>\n",
              "  <tbody>\n",
              "    <tr>\n",
              "      <th>0</th>\n",
              "      <td>morino-59166</td>\n",
              "      <td>When I saw the magnificent Heath ledger a few ...</td>\n",
              "      <td>When I saw the magnificent Heath ledger a few ...</td>\n",
              "      <td>When I saw the magnificent Heath ledger a few ...</td>\n",
              "      <td>When I saw magnificent Heath ledger years go e...</td>\n",
              "      <td>when i saw magnificent heath ledger years go e...</td>\n",
              "      <td>when i saw magnific heath ledger year go excel...</td>\n",
              "      <td>when i saw magnificent heath ledger year go ex...</td>\n",
              "    </tr>\n",
              "    <tr>\n",
              "      <th>1</th>\n",
              "      <td>asassandroo</td>\n",
              "      <td>I can say that i'm really grateful that movies...</td>\n",
              "      <td>I can say that im really grateful that movies ...</td>\n",
              "      <td>I can say that im really grateful that movies ...</td>\n",
              "      <td>I say im really grateful movies like one haven...</td>\n",
              "      <td>i say im really grateful movies like one haven...</td>\n",
              "      <td>i say im realli grate movi like one havent die...</td>\n",
              "      <td>i say im really grateful movie like one havent...</td>\n",
              "    </tr>\n",
              "    <tr>\n",
              "      <th>2</th>\n",
              "      <td>samanehdds</td>\n",
              "      <td>I'm not a fan of Batman movies but went to see...</td>\n",
              "      <td>Im not a fan of Batman movies but went to see ...</td>\n",
              "      <td>Im not a fan of Batman movies but went to see ...</td>\n",
              "      <td>Im fan Batman movies went see teenage son Its ...</td>\n",
              "      <td>im fan batman movies went see teenage son its ...</td>\n",
              "      <td>im fan batman movi went see teenag son it trul...</td>\n",
              "      <td>im fan batman movie went see teenage son it tr...</td>\n",
              "    </tr>\n",
              "    <tr>\n",
              "      <th>3</th>\n",
              "      <td>guillevica</td>\n",
              "      <td>What a master piece, it so so wondeful, all in...</td>\n",
              "      <td>What a master piece it so so wondeful all in t...</td>\n",
              "      <td>What a master piece it so so wondeful all in t...</td>\n",
              "      <td>What master piece wondeful movie great constru...</td>\n",
              "      <td>what master piece wondeful movie great constru...</td>\n",
              "      <td>what master piec wond movi great construct mov...</td>\n",
              "      <td>what master piece wondeful movie great constru...</td>\n",
              "    </tr>\n",
              "    <tr>\n",
              "      <th>4</th>\n",
              "      <td>ahurworth</td>\n",
              "      <td>Has to be the best movie I've seen in years. I...</td>\n",
              "      <td>Has to be the best movie Ive seen in years It ...</td>\n",
              "      <td>Has to be the best movie Ive seen in years It ...</td>\n",
              "      <td>Has best movie Ive seen years It feel Taxi Dri...</td>\n",
              "      <td>has best movie ive seen years it feel taxi dri...</td>\n",
              "      <td>ha best movi ive seen year it feel taxi driver...</td>\n",
              "      <td>ha best movie ive seen year it feel taxi drive...</td>\n",
              "    </tr>\n",
              "    <tr>\n",
              "      <th>...</th>\n",
              "      <td>...</td>\n",
              "      <td>...</td>\n",
              "      <td>...</td>\n",
              "      <td>...</td>\n",
              "      <td>...</td>\n",
              "      <td>...</td>\n",
              "      <td>...</td>\n",
              "      <td>...</td>\n",
              "    </tr>\n",
              "    <tr>\n",
              "      <th>95</th>\n",
              "      <td>shinginharig</td>\n",
              "      <td>Absolutely great performance. Phoenix owns thi...</td>\n",
              "      <td>Absolutely great performance Phoenix owns this...</td>\n",
              "      <td>Absolutely great performance Phoenix owns this...</td>\n",
              "      <td>Absolutely great performance Phoenix owns role...</td>\n",
              "      <td>absolutely great performance phoenix owns role...</td>\n",
              "      <td>absolut great perform phoenix own role the cha...</td>\n",
              "      <td>absolutely great performance phoenix owns role...</td>\n",
              "    </tr>\n",
              "    <tr>\n",
              "      <th>96</th>\n",
              "      <td>afnansaeed-76293</td>\n",
              "      <td>One of the best movies. I really recommend it ...</td>\n",
              "      <td>One of the best movies I really recommend it t...</td>\n",
              "      <td>One of the best movies I really recommend it t...</td>\n",
              "      <td>One best movies I really recommend gys</td>\n",
              "      <td>one best movies i really recommend gys</td>\n",
              "      <td>one best movi i realli recommend gy</td>\n",
              "      <td>one best movie i really recommend gy</td>\n",
              "    </tr>\n",
              "    <tr>\n",
              "      <th>97</th>\n",
              "      <td>legorocks-30147</td>\n",
              "      <td></td>\n",
              "      <td></td>\n",
              "      <td></td>\n",
              "      <td></td>\n",
              "      <td></td>\n",
              "      <td></td>\n",
              "      <td></td>\n",
              "    </tr>\n",
              "    <tr>\n",
              "      <th>98</th>\n",
              "      <td>tusharshanker-96210</td>\n",
              "      <td>This movie is truly a masterpiece. The acting,...</td>\n",
              "      <td>This movie is truly a masterpiece The acting c...</td>\n",
              "      <td>This movie is truly a masterpiece The acting c...</td>\n",
              "      <td>This movie truly masterpiece The acting cenima...</td>\n",
              "      <td>this movie truly masterpiece the acting cenima...</td>\n",
              "      <td>thi movi truli masterpiec the act cenimatograp...</td>\n",
              "      <td>this movie truly masterpiece the acting cenima...</td>\n",
              "    </tr>\n",
              "    <tr>\n",
              "      <th>99</th>\n",
              "      <td>treaceisbae</td>\n",
              "      <td>Joaquin Phoenix shows his full range in this p...</td>\n",
              "      <td>Joaquin Phoenix shows his full range in this p...</td>\n",
              "      <td>Joaquin Phoenix shows his full range in this p...</td>\n",
              "      <td>Joaquin Phoenix shows full range performance p...</td>\n",
              "      <td>joaquin phoenix shows full range performance p...</td>\n",
              "      <td>joaquin phoenix show full rang perform prove t...</td>\n",
              "      <td>joaquin phoenix show full range performance pr...</td>\n",
              "    </tr>\n",
              "  </tbody>\n",
              "</table>\n",
              "<p>100 rows × 8 columns</p>\n",
              "</div>"
            ],
            "text/plain": [
              "             User Names  ...                                      lemmitization\n",
              "0          morino-59166  ...  when i saw magnificent heath ledger year go ex...\n",
              "1           asassandroo  ...  i say im really grateful movie like one havent...\n",
              "2            samanehdds  ...  im fan batman movie went see teenage son it tr...\n",
              "3            guillevica  ...  what master piece wondeful movie great constru...\n",
              "4             ahurworth  ...  ha best movie ive seen year it feel taxi drive...\n",
              "..                  ...  ...                                                ...\n",
              "95         shinginharig  ...  absolutely great performance phoenix owns role...\n",
              "96     afnansaeed-76293  ...               one best movie i really recommend gy\n",
              "97      legorocks-30147  ...                                                   \n",
              "98  tusharshanker-96210  ...  this movie truly masterpiece the acting cenima...\n",
              "99          treaceisbae  ...  joaquin phoenix show full range performance pr...\n",
              "\n",
              "[100 rows x 8 columns]"
            ]
          },
          "metadata": {
            "tags": []
          },
          "execution_count": 147
        }
      ]
    },
    {
      "cell_type": "code",
      "metadata": {
        "id": "RoXxPQ-m9w72"
      },
      "source": [
        "#filtered data output only 3 columns\n",
        "filtered_data_df[['User Names','Reviews','lemmitization']].to_csv(\"output2.csv\")\n"
      ],
      "execution_count": 149,
      "outputs": []
    },
    {
      "cell_type": "markdown",
      "metadata": {
        "id": "E5mmYIfN8eYV"
      },
      "source": [
        "# **Question 3**"
      ]
    },
    {
      "cell_type": "markdown",
      "metadata": {
        "id": "hsi2y4z88ngX"
      },
      "source": [
        "(30 points). Write a python program to conduct **syntax and structure analysis** of the clean text you just saved above. The syntax and structure analysis includes: \n",
        "\n",
        "(1) Parts of Speech (POS) Tagging: Tag Parts of Speech of each word in the text, and calculate the total number of N(oun), V(erb), Adj(ective), Adv(erb), respectively.\n",
        "\n",
        "(2) Constituency Parsing and Dependency Parsing: print out the constituency parsing trees and dependency parsing trees of all the sentences. Using one sentence as an example to explain your understanding about the constituency parsing tree and dependency parsing tree.\n",
        "\n",
        "(3) Named Entity Recognition: Extract all the entities such as person names, organizations, locations, product names, and date from the clean texts, calculate the count of each entity."
      ]
    },
    {
      "cell_type": "code",
      "metadata": {
        "id": "QQKnPjPDHJHr"
      },
      "source": [
        "# Write your code here\n",
        "\n",
        "\n",
        "\n",
        "\n"
      ],
      "execution_count": null,
      "outputs": []
    },
    {
      "cell_type": "markdown",
      "metadata": {
        "id": "xWOtvT2rHNWy"
      },
      "source": [
        "**Write your explanations of the constituency parsing tree and dependency parsing tree here (Question 3-2):** "
      ]
    },
    {
      "cell_type": "code",
      "metadata": {
        "id": "MJZu53Zvu2Qn",
        "outputId": "a5cb12f7-2b3a-46a2-a635-2139bfe9ba46"
      },
      "source": [
        "'''\n",
        "Write your explanations of the constituency parsing tree and dependency parsing tree here\n",
        "\n",
        "\n",
        "\n",
        "'''"
      ],
      "execution_count": null,
      "outputs": [
        {
          "output_type": "execute_result",
          "data": {
            "text/plain": [
              "'\\nWrite your explanations of the constituency parsing tree and dependency parsing tree here\\n\\n\\n\\n'"
            ]
          },
          "metadata": {
            "tags": []
          },
          "execution_count": 1
        }
      ]
    }
  ]
}