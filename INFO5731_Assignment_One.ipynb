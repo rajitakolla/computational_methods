{
  "nbformat": 4,
  "nbformat_minor": 0,
  "metadata": {
    "colab": {
      "name": "INFO5731_Assignment_One.ipynb",
      "provenance": [],
      "collapsed_sections": [],
      "include_colab_link": true
    },
    "kernelspec": {
      "name": "python3",
      "display_name": "Python 3"
    }
  },
  "cells": [
    {
      "cell_type": "markdown",
      "metadata": {
        "id": "view-in-github",
        "colab_type": "text"
      },
      "source": [
        "<a href=\"https://colab.research.google.com/github/rajitakolla/computational_methods/blob/master/INFO5731_Assignment_One.ipynb\" target=\"_parent\"><img src=\"https://colab.research.google.com/assets/colab-badge.svg\" alt=\"Open In Colab\"/></a>"
      ]
    },
    {
      "cell_type": "markdown",
      "metadata": {
        "id": "Ryk8D1Q4Wsrp",
        "colab_type": "text"
      },
      "source": [
        "# **INFO5731 Assignment One**"
      ]
    },
    {
      "cell_type": "markdown",
      "metadata": {
        "id": "90_NR8c5XGWc",
        "colab_type": "text"
      },
      "source": [
        "# Question 1\n",
        "\n",
        "(20 points). Write a Python program to generate 12 random numbers between 1 and 100. Sort the list of numbers in ascending order and print it out. Sort the list of numbers in descending order and print it out. Calculate the average for the group and print it out."
      ]
    },
    {
      "cell_type": "code",
      "metadata": {
        "id": "5QX6bJjGWXY9",
        "colab_type": "code",
        "colab": {
          "base_uri": "https://localhost:8080/",
          "height": 67
        },
        "outputId": "bee5cac0-2da7-49e2-e04e-4038f383da38"
      },
      "source": [
        "# Your code here\n",
        "\n",
        "import numpy as np\n",
        "\n",
        "\n",
        "\n",
        "def generate_numbers(start, end, numbers):\n",
        "  # generate random numbers without duplicates\n",
        "  return np.random.permutation(np.arange(start,end))[:numbers]\n",
        "  pass\n",
        "\n",
        "\n",
        "def sort_the_numbers(list_of_numbers):\n",
        "  #sort the list\n",
        "  return sorted(list_of_numbers,reverse= True)\n",
        "  pass\n",
        "\n",
        "\n",
        "list_of_numbers = generate_numbers(1,100,12)\n",
        "print(\"List of random numbers : \",list_of_numbers)\n",
        "sorted_list = sort_the_numbers(list_of_numbers)\n",
        "print(\"Sorted list : \", sorted_list)\n",
        "average_result = np.average(sorted_list)\n",
        "print(\"Average result : \", average_result)\n",
        "\n",
        "\n"
      ],
      "execution_count": null,
      "outputs": [
        {
          "output_type": "stream",
          "text": [
            "List of random numbers :  [25  5 37 29 62 50 84 45 19  6 69 75]\n",
            "Sorted list :  [84, 75, 69, 62, 50, 45, 37, 29, 25, 19, 6, 5]\n",
            "Average result :  42.166666666666664\n"
          ],
          "name": "stdout"
        }
      ]
    },
    {
      "cell_type": "markdown",
      "metadata": {
        "id": "1F_PZdH9Sh49",
        "colab_type": "text"
      },
      "source": [
        "# Question 2\n",
        "(25 points). Write a program that will do the following string formatting tasks:\n",
        "\n",
        "(1) Ask the user to enter two sentences.\n",
        "\n",
        "(2) Make each sentence into a list. Each element in the list should correspond to a word in the sentence. For example, if the sentence is \"Alas! Am I alive? This is my first python program\", the program should print out ['Alas, '!', 'Am', 'I', 'alive, '?', 'This', 'is', 'my', 'first', 'python', 'program'].\n",
        "\n",
        "(3) Compare the two sentences. Print out a list of words that occur in both sentences.\n",
        "\n",
        "(4) Remove any punctuation from the sentence and print it back out. It should remove at least the following characters, but it can remove more: period(“.”), comma (“,”), semicolon (“;”), and colon (“:”)\n",
        "\n",
        "(5) Count the number of vowels in the sentences. Print out each vowel and the number of times it appears in the sentences, such as: a:2, e:1, i:0, etc"
      ]
    },
    {
      "cell_type": "code",
      "metadata": {
        "id": "Y0oOSlsOS0cq",
        "colab_type": "code",
        "colab": {
          "base_uri": "https://localhost:8080/",
          "height": 168
        },
        "outputId": "2166188a-2913-47c4-fb5b-2ff67c93e917"
      },
      "source": [
        "# Your code here\n",
        "\n",
        "import re\n",
        "import string\n",
        "\n",
        "#question 2\n",
        "def parse_the_string_to_list(sentence):\n",
        "  #compare witg the regular expression\n",
        "  p = re.compile(r'\\w+|[^\\w\\s]')\n",
        "  return p.findall(sentence)\n",
        "  pass\n",
        "\n",
        "#question 1\n",
        "sentence1 = input(\"Enter sentence 1 : \")\n",
        "sentence2 = input(\"Enter sentence 2 : \")\n",
        "\n",
        "\n",
        "list1 = parse_the_string_to_list(sentence1)\n",
        "print(\"List1 output : \",list1)\n",
        "list2 = parse_the_string_to_list(sentence2)\n",
        "print(\"List2 output : \",list2)\n",
        "\n",
        "#question 3\n",
        "def find_the_common_words(l1, l2):\n",
        "  return (set(l1).intersection(set(l2)))\n",
        "  pass\n",
        "\n",
        "print(\"common words : :\",find_the_common_words(list1,list2))\n",
        "\n",
        "\n",
        "#question 4\n",
        "\n",
        "print(\"Sentence 1 after removing punctuations : \", sentence1.translate(str.maketrans('','',string.punctuation)))\n",
        "print(\"Sentence 2 after removing punctuations : \", sentence2.translate(str.maketrans('','',string.punctuation)))\n",
        "\n",
        "vowels = ['a','e','i','o','u','A','E','I','O','U']\n",
        "#question 5\n",
        "def count_the_number_of_vowels(sentence):\n",
        "  res = dict()\n",
        "  for i in vowels:\n",
        "    n = sentence.count(i)\n",
        "    if(n > 0):\n",
        "      res[i] = n\n",
        "  return res\n",
        "\n",
        "print(\"Number of vowels in sentence 1 : \",count_the_number_of_vowels(sentence1))\n",
        "print(\"Number of vowels in sentence 2 : \",count_the_number_of_vowels(sentence2))\n"
      ],
      "execution_count": null,
      "outputs": [
        {
          "output_type": "stream",
          "text": [
            "Enter sentence 1 : hello\n",
            "Enter sentence 2 : world\n",
            "List1 output :  ['hello']\n",
            "List2 output :  ['world']\n",
            "common words : : set()\n",
            "Sentence 1 after removing punctuations :  hello\n",
            "Sentence 2 after removing punctuations :  world\n",
            "Number of vowels in sentence 1 :  {'e': 1, 'o': 1}\n",
            "Number of vowels in sentence 2 :  {'o': 1}\n"
          ],
          "name": "stdout"
        }
      ]
    },
    {
      "cell_type": "markdown",
      "metadata": {
        "id": "CmFoI4jDS9nx",
        "colab_type": "text"
      },
      "source": [
        "# Question 3 \n",
        "\n",
        "(15 points). The formula that describes the volume V of a sphere with radius r is the following:\n",
        "\n",
        "$ V=\\frac{4}{3}\\ast\\ \\pi\\ast\\ r^3 $\n",
        "\n",
        "Write a program to calculate the value of V when r is in the range of 1–10. Output the result in the following format:\n",
        "\n",
        "\tr\tV\n",
        "\t1\t…\n",
        "\t2\t…\n",
        "\t3\t…\n"
      ]
    },
    {
      "cell_type": "code",
      "metadata": {
        "id": "pEyqeioAT95b",
        "colab_type": "code",
        "colab": {
          "base_uri": "https://localhost:8080/",
          "height": 202
        },
        "outputId": "a123c844-0f1d-4fe3-8ccb-f8443684f508"
      },
      "source": [
        "# Your code here\n",
        "#compute the volume of sphere\n",
        "import math\n",
        "def  volume_of_sphere():\n",
        "  print(\"r    v\")\n",
        "  for i in range(1,11):\n",
        "    print(i,\"  \",4*(math.pi)*pow(i,3)/3)\n",
        "  pass\n",
        "volume_of_sphere()"
      ],
      "execution_count": null,
      "outputs": [
        {
          "output_type": "stream",
          "text": [
            "r    v\n",
            "1    4.1887902047863905\n",
            "2    33.510321638291124\n",
            "3    113.09733552923255\n",
            "4    268.082573106329\n",
            "5    523.5987755982989\n",
            "6    904.7786842338604\n",
            "7    1436.755040241732\n",
            "8    2144.660584850632\n",
            "9    3053.6280592892786\n",
            "10    4188.790204786391\n"
          ],
          "name": "stdout"
        }
      ]
    },
    {
      "cell_type": "markdown",
      "metadata": {
        "id": "z3tBE7E-Xn5X",
        "colab_type": "text"
      },
      "source": [
        "# Question 4\n",
        "\n",
        "(40 points). In the field of Data Science, data is often formatted as a comma-delimited (CSV) file, where each line in a file corresponds to a field's value. Refer to Chapter 9 (p. 106) for more information on comma-delimited files. To answer this question, you will need to download the file [Assignment1_denton_housing.csv](https://github.com/unt-iialab/INFO5731_FALL2020/blob/master/Assignments/Assignment1_denton_housing.csv) included with this assignment. The [file Assignment1_denton_housing.csv](https://github.com/unt-iialab/INFO5731_FALL2020/blob/master/Assignments/Assignment1_denton_housing.csv) contains statistics about housing in the city of Denton from 2008 to 2014. Write a program to implement the following questions.\n",
        "\n",
        "(1) (10 pts) Calculate the difference in the number of Occupied Housing Units from year to year and print it. The difference must be calculated for the consecutive years such as 2008-2009, 2009-2010 etc. Finally, print the values in the ascending order.\n",
        "\n",
        "(2) (10 pts) For all the years, calculate the percentage of housing units which are vacant an occupied. Print the results in the following format:\n",
        "\n",
        "Year Vacant Housing Units Occupied Housing Units\n",
        "\n",
        "    2008  30%   70%                          \n",
        "\t2009 ----- -----\n",
        "\t2010 ----- -----\n",
        "    2011 ----- -----\n",
        "\t2012 ----- -----\n",
        "    2013 ----- -----\n",
        "\t2014 ----- -----\n",
        "  \n",
        "  \n",
        "\n",
        "(3) (10 pts) Calculate and print the valued and years in which the highest number of housing units were vacant and occupied. Print the results in the following format:  \n",
        "\n",
        "                              Year\tValue\n",
        "\tVacant Housing Units\t  -----   -----\n",
        "\tOccupied Housing Units\t-----   -----\n",
        "\n",
        "(4) (10 pts) Calculate the harmonic mean of the total housing units and print it out. You can find the information about harmonic mean here: https://ncalculators.com/statistics/harmonic-mean-calculator.htm"
      ]
    },
    {
      "cell_type": "code",
      "metadata": {
        "id": "lqGYuHBhcsRH",
        "colab_type": "code",
        "colab": {
          "base_uri": "https://localhost:8080/",
          "height": 134
        },
        "outputId": "987dded2-25d7-4544-e1a0-d4708b0925b9"
      },
      "source": [
        "# Your code here\n",
        "import pandas as pd\n",
        "\n",
        "\n",
        "data = pd.read_csv(\"https://raw.githubusercontent.com/unt-iialab/INFO5731_FALL2020/master/Assignments/Assignment1_denton_housing.csv\",skip_blank_lines=True)\n",
        "\n",
        "#question 1\n",
        "#filter the dataset basing on title field = occupied housing units\n",
        "data_occupied_housing_units = data[(data[\"title_field\"]==\"Occupied Housing Units\")].sort_values(by='year',ascending=True)\n",
        "#compute the difference, sort the values  and drop the NaN fields if any\n",
        "print(data_occupied_housing_units['value'].diff().sort_values().dropna())\n",
        "\n"
      ],
      "execution_count": 1,
      "outputs": [
        {
          "output_type": "stream",
          "text": [
            "17    -795.0\n",
            "11    -303.0\n",
            "8     1404.0\n",
            "5     1565.0\n",
            "2     2622.0\n",
            "14    5091.0\n",
            "Name: value, dtype: float64\n"
          ],
          "name": "stdout"
        }
      ]
    },
    {
      "cell_type": "code",
      "metadata": {
        "id": "RAVKWaiI9BYf",
        "colab_type": "code",
        "colab": {
          "base_uri": "https://localhost:8080/",
          "height": 151
        },
        "outputId": "29998f33-8b4e-4dde-e737-473b4eb23af1"
      },
      "source": [
        "#question 2\n",
        "\n",
        "#extract the values to list\n",
        "data_occupied_housing_units_value = data_occupied_housing_units[\"value\"].to_list()\n",
        "data_vacant_housing_units_value = data[(data[\"title_field\"]==\"Vacant Housing Units\")].sort_values(by='year',ascending=True)[\"value\"].to_list()\n",
        "total_field_unit_value = data[(data[\"title_field\"]==\"Total Housing Units\")].sort_values(by='year',ascending=True)[\"value\"].to_list()\n",
        "data_year = sorted(data['year'].unique())\n",
        "\n",
        "#compute percentage\n",
        "def fetch_percentages(val,tot):\n",
        "  l = len(val)\n",
        "  res = list()\n",
        "  for i in range(l):\n",
        "    res.append(str(round(val[i]*100/tot[i],2))+\"%\")\n",
        "  return res\n",
        "  pass\n",
        "\n",
        "occupied_units_percentage = fetch_percentages(data_occupied_housing_units_value,total_field_unit_value)\n",
        "vacant_units_percentage = fetch_percentages(data_vacant_housing_units_value,total_field_unit_value)\n",
        "\n",
        "df_row = pd.concat([pd.DataFrame(data_year,columns=['year']),\n",
        "                    pd.DataFrame(vacant_units_percentage,columns=['| vacant housing percentage']), \n",
        "                    pd.DataFrame(occupied_units_percentage,columns=['| occupied housing percentage'])],axis=1)\n",
        "print(df_row)\n"
      ],
      "execution_count": 2,
      "outputs": [
        {
          "output_type": "stream",
          "text": [
            "   year | vacant housing percentage | occupied housing percentage\n",
            "0  2008                      10.88%                        89.12%\n",
            "1  2009                       9.07%                        90.93%\n",
            "2  2010                       8.14%                        91.86%\n",
            "3  2011                       9.38%                        90.62%\n",
            "4  2012                       6.68%                        93.32%\n",
            "5  2013                        8.8%                         91.2%\n",
            "6  2014                       5.73%                        94.27%\n"
          ],
          "name": "stdout"
        }
      ]
    },
    {
      "cell_type": "code",
      "metadata": {
        "id": "zPKCfS2NvrIS",
        "colab_type": "code",
        "colab": {
          "base_uri": "https://localhost:8080/",
          "height": 106
        },
        "outputId": "05d0d12e-c0b8-4bcf-8fbb-8b7c53994c3d"
      },
      "source": [
        "#question 3\n",
        "\n",
        "def fetch_the_year(housing_unit,max_units):\n",
        "  return data_year[housing_unit.index(max_units)]\n",
        "  pass\n",
        "\n",
        "val = [\"Vacant Housing Units\",\"Occupied Housing Units\"]\n",
        "years = list()\n",
        "units = list()\n",
        "max_vacant_units = max(data_vacant_housing_units_value)\n",
        "units.append(max_vacant_units)\n",
        "years.append(fetch_the_year(data_vacant_housing_units_value,max_vacant_units))\n",
        "max_occupied_units = max(data_occupied_housing_units_value)\n",
        "units.append(max_occupied_units)\n",
        "years.append(fetch_the_year(data_occupied_housing_units_value,max_occupied_units))\n",
        "df_row = pd.concat([pd.DataFrame(val,columns=['']),\n",
        "                    pd.DataFrame(years,columns=['year']), \n",
        "                    pd.DataFrame(units,columns=['units'])],axis=1)\n",
        "\n",
        "df_row"
      ],
      "execution_count": 5,
      "outputs": [
        {
          "output_type": "execute_result",
          "data": {
            "text/html": [
              "<div>\n",
              "<style scoped>\n",
              "    .dataframe tbody tr th:only-of-type {\n",
              "        vertical-align: middle;\n",
              "    }\n",
              "\n",
              "    .dataframe tbody tr th {\n",
              "        vertical-align: top;\n",
              "    }\n",
              "\n",
              "    .dataframe thead th {\n",
              "        text-align: right;\n",
              "    }\n",
              "</style>\n",
              "<table border=\"1\" class=\"dataframe\">\n",
              "  <thead>\n",
              "    <tr style=\"text-align: right;\">\n",
              "      <th></th>\n",
              "      <th></th>\n",
              "      <th>year</th>\n",
              "      <th>units</th>\n",
              "    </tr>\n",
              "  </thead>\n",
              "  <tbody>\n",
              "    <tr>\n",
              "      <th>0</th>\n",
              "      <td>Vacant Housing Units</td>\n",
              "      <td>2008</td>\n",
              "      <td>4483</td>\n",
              "    </tr>\n",
              "    <tr>\n",
              "      <th>1</th>\n",
              "      <td>Occupied Housing Units</td>\n",
              "      <td>2014</td>\n",
              "      <td>46295</td>\n",
              "    </tr>\n",
              "  </tbody>\n",
              "</table>\n",
              "</div>"
            ],
            "text/plain": [
              "                           year  units\n",
              "0    Vacant Housing Units  2008   4483\n",
              "1  Occupied Housing Units  2014  46295"
            ]
          },
          "metadata": {
            "tags": []
          },
          "execution_count": 5
        }
      ]
    },
    {
      "cell_type": "code",
      "metadata": {
        "id": "TxaHF7VXzpzb",
        "colab_type": "code",
        "colab": {
          "base_uri": "https://localhost:8080/",
          "height": 34
        },
        "outputId": "2bea65c0-d04d-4c3c-d426-d893f83e3b3f"
      },
      "source": [
        "#question 4\n",
        "from scipy import stats\n",
        "print('harmonic mean of total housing units =', round(stats.hmean(total_field_unit_value),2))"
      ],
      "execution_count": null,
      "outputs": [
        {
          "output_type": "stream",
          "text": [
            "harmonic mean of total housing units = 44398.29\n"
          ],
          "name": "stdout"
        }
      ]
    }
  ]
}