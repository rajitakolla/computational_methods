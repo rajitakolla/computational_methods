{
  "nbformat": 4,
  "nbformat_minor": 0,
  "metadata": {
    "colab": {
      "name": "In_class_exercise_02.ipynb",
      "provenance": [],
      "collapsed_sections": [],
      "toc_visible": true
    },
    "kernelspec": {
      "display_name": "Python 3",
      "language": "python",
      "name": "python3"
    },
    "language_info": {
      "codemirror_mode": {
        "name": "ipython",
        "version": 3
      },
      "file_extension": ".py",
      "mimetype": "text/x-python",
      "name": "python",
      "nbconvert_exporter": "python",
      "pygments_lexer": "ipython3",
      "version": "3.7.4"
    }
  },
  "cells": [
    {
      "cell_type": "markdown",
      "metadata": {
        "colab_type": "text",
        "id": "view-in-github"
      },
      "source": [
        "<a href=\"https://colab.research.google.com/github/unt-iialab/INFO5731_Spring2020/blob/master/In_class_exercise/In_class_exercise_02.ipynb\" target=\"_parent\"><img src=\"https://colab.research.google.com/assets/colab-badge.svg\" alt=\"Open In Colab\"/></a>"
      ]
    },
    {
      "cell_type": "markdown",
      "metadata": {
        "colab_type": "text",
        "id": "oo5bsEh2eeWi"
      },
      "source": [
        "# **The second In-class-exercise (9/9/2020, 20 points in total)**\n"
      ]
    },
    {
      "cell_type": "markdown",
      "metadata": {
        "colab_type": "text",
        "id": "2sPQ58dIeqgp"
      },
      "source": [
        "(1) Write a Python program to find the duplicate elements in a given array of integers. Return -1 If there are no such elements. (4 points)"
      ]
    },
    {
      "cell_type": "code",
      "metadata": {
        "colab_type": "code",
        "id": "mnrvKMFTeoJR",
        "colab": {
          "base_uri": "https://localhost:8080/",
          "height": 67
        },
        "outputId": "537c9e5a-4da2-4c44-a507-af46a13fc8bc"
      },
      "source": [
        "# write your answer here\n",
        "\n",
        "from collections import Counter\n",
        "def check_for_duplicates(ip):\n",
        "  ip_set = set(ip)\n",
        "  if len(ip)==len(ip_set):\n",
        "    return -1\n",
        "  else:\n",
        "    val = dict(Counter(ip))\n",
        "    print(val)\n",
        "    res = [i for i in val.keys() if val.get(i)>1]\n",
        "    return res\n",
        "  pass\n",
        "\n",
        "def display_result(ip):\n",
        "  if(ip == -1):\n",
        "    print(\"-1  There are no duplicates\")\n",
        "  else:\n",
        "    print(\"The duplicate elements are\",ip)\n",
        "\n",
        "  pass\n",
        "\n",
        "result = check_for_duplicates([1,2,3,4,4,4,5])\n",
        "display_result(result)\n",
        "\n",
        "\n",
        "result1 = check_for_duplicates([1,2,3,4,6,7,8,5])\n",
        "display_result(result1)"
      ],
      "execution_count": null,
      "outputs": [
        {
          "output_type": "stream",
          "text": [
            "{1: 1, 2: 1, 3: 1, 4: 3, 5: 1}\n",
            "The duplicate elements are [4]\n",
            "-1  There are no duplicates\n"
          ],
          "name": "stdout"
        }
      ]
    },
    {
      "cell_type": "markdown",
      "metadata": {
        "colab_type": "text",
        "id": "YYrH6n6IhZoQ"
      },
      "source": [
        "(2) Write a Python program to select all the Sundays of a specified year. (4 points)\n",
        "\n"
      ]
    },
    {
      "cell_type": "code",
      "metadata": {
        "colab_type": "code",
        "id": "OSfPLd23eLpX",
        "colab": {
          "base_uri": "https://localhost:8080/",
          "height": 87
        },
        "outputId": "7c2505ab-1d5d-4cfa-c1a4-f2d3ea15f54e"
      },
      "source": [
        "# write your answer here\n",
        "from datetime import date, timedelta\n",
        "\n",
        "# def all_sundays(year):\n",
        "# # January 1st of the given year\n",
        "#        dt = date(year, 1, 1)\n",
        "# # First Sunday of the given year       \n",
        "#        dt += timedelta(days = 6 - dt.weekday())  \n",
        "#        while dt.year == year:\n",
        "#           yield dt\n",
        "#           dt += timedelta(days = 7)\n",
        "          \n",
        "# for s in all_sundays(2020):\n",
        "#    print(s)\n",
        "\n",
        "def fetch_the_time_delta_value(date_value):\n",
        "  return timedelta(days = 6-date_value.weekday())\n",
        "  pass\n",
        "\n",
        "def fetch_all_sundays(year):\n",
        "  year = int(year)\n",
        "  res = []\n",
        "  if(year < 999 and year > 10000):\n",
        "    print(\"Error in year\")\n",
        "  else:\n",
        "    date_value = date(year,1,1)\n",
        "    date_value += fetch_the_time_delta_value(date_value)\n",
        "    while date_value.year == year:\n",
        "      res.append(date_value.strftime(\"%m/%d/%Y\"))\n",
        "      date_value+= timedelta(days = 7)\n",
        "  return res\n",
        "  pass\n",
        "year_value = input(\"Enter the year \")\n",
        "print(\"Sundays in \",year_value)\n",
        "print(fetch_all_sundays(year_value))"
      ],
      "execution_count": null,
      "outputs": [
        {
          "output_type": "stream",
          "text": [
            "Enter the year 2020\n",
            "Sundays in  2020\n",
            "['01/05/2020', '01/12/2020', '01/19/2020', '01/26/2020', '02/02/2020', '02/09/2020', '02/16/2020', '02/23/2020', '03/01/2020', '03/08/2020', '03/15/2020', '03/22/2020', '03/29/2020', '04/05/2020', '04/12/2020', '04/19/2020', '04/26/2020', '05/03/2020', '05/10/2020', '05/17/2020', '05/24/2020', '05/31/2020', '06/07/2020', '06/14/2020', '06/21/2020', '06/28/2020', '07/05/2020', '07/12/2020', '07/19/2020', '07/26/2020', '08/02/2020', '08/09/2020', '08/16/2020', '08/23/2020', '08/30/2020', '09/06/2020', '09/13/2020', '09/20/2020', '09/27/2020', '10/04/2020', '10/11/2020', '10/18/2020', '10/25/2020', '11/01/2020', '11/08/2020', '11/15/2020', '11/22/2020', '11/29/2020', '12/06/2020', '12/13/2020', '12/20/2020', '12/27/2020']\n"
          ],
          "name": "stdout"
        }
      ]
    },
    {
      "cell_type": "markdown",
      "metadata": {
        "colab_type": "text",
        "id": "UIpziZ6Sjie-"
      },
      "source": [
        "(3) Python files reading and writing. Download the “[exercise_02_data _collection.zip](https://github.com/unt-iialab/INFO5731_FALL2020/blob/master/In_class_exercise/exercise_02_data_collection.zip)” to your local and un-zip it.\n",
        "\n",
        "*   Write a program to read all the txt files and save the sentences in all the files into one csv file with two columns, the first column is sentence id (txt file name+sentence line number), the second column is the sentence text content. (4 points)\n",
        "*   Remove all the punctuations from the sentences, save the processed sentences into a new column in the same csv file. (4 points)\n",
        "*   Ask the user to enter a word, return all the sentences that include this word, three kinds of information should be returned: sentence id, sentence text content, the count that user input word appear in the sentence. (4 points)\n",
        "\n"
      ]
    },
    {
      "cell_type": "code",
      "metadata": {
        "colab_type": "code",
        "id": "f3CUsrWOj1Xy",
        "colab": {}
      },
      "source": [
        "# import zipfile\n",
        "# with zipfile.ZipFile(\"/content/exercise_02_data_collection.zip\", 'r') as zip_ref:\n",
        "#     zip_ref.extractall(\"/content/\")\n",
        "\n"
      ],
      "execution_count": null,
      "outputs": []
    },
    {
      "cell_type": "code",
      "metadata": {
        "id": "ib32Ze_T0113",
        "colab_type": "code",
        "colab": {}
      },
      "source": [
        "def getListOfFiles(dirName):\n",
        "    # create a list of file and sub directories \n",
        "    # names in the given directory \n",
        "    listOfFile = os.listdir(dirName)\n",
        "    allFiles = list()\n",
        "    # Iterate over all the entries\n",
        "    for entry in listOfFile:\n",
        "        # Create full path\n",
        "        fullPath = os.path.join(dirName, entry)\n",
        "        # If entry is a directory then get the list of files in this directory \n",
        "        if os.path.isdir(fullPath):\n",
        "            allFiles = allFiles + getListOfFiles(entry)\n",
        "        else:\n",
        "            allFiles.append(entry)\n",
        "                \n",
        "    return allFiles\n",
        "\n",
        "allFiles = getListOfFiles(\"/content/exercise_02_data_collection/\")"
      ],
      "execution_count": null,
      "outputs": []
    },
    {
      "cell_type": "code",
      "metadata": {
        "id": "JBqAx_8X1RBh",
        "colab_type": "code",
        "colab": {}
      },
      "source": [
        "'''Write a program to read all the txt files and save the sentences in all the files into one csv file with two columns, \n",
        "the first column is sentence id (txt file name+sentence line number), the second column is the sentence text content. (4 points)'''\n",
        "\n",
        "try:\n",
        "  final_result = open(\"/content/output.csv\",'w+')\n",
        "  for i in allFiles:\n",
        "    file1 = open(\"/content/exercise_02_data_collection/\"+i,'r')\n",
        "    lines = file1.readlines()\n",
        "    j = 0\n",
        "    for line in lines:\n",
        "      final_result.writelines(i.replace(\".txt\",\"-\")+str(j)+\",\"+line.replace(\",\",\"\"))\n",
        "      j=j+1\n",
        "except:\n",
        "  print(\"Error in file reading\")\n"
      ],
      "execution_count": null,
      "outputs": []
    },
    {
      "cell_type": "code",
      "metadata": {
        "id": "g0fdJMJf5HFn",
        "colab_type": "code",
        "colab": {}
      },
      "source": [
        "'''Remove all the punctuations from the sentences, save the processed sentences into a new column in the same csv file. '''\n",
        "\n",
        "import string\n",
        "file1 = open(\"/content/output.csv\",\"r\")\n",
        "\n",
        "result = file1.readlines()\n",
        "resultlist = []\n",
        "for line in result:\n",
        "  resultlist.append(line.replace(\"\\n\",\"\")+\",\"+(line.split(\",\")[1]).translate(str.maketrans('','',string.punctuation)))\n",
        "file2 = open(\"/content/output.csv\",\"w+\")\n",
        "file2.truncate()\n",
        "for line in resultlist:\n",
        "  file2.writelines(line)\n",
        "\n",
        "\n"
      ],
      "execution_count": null,
      "outputs": []
    },
    {
      "cell_type": "code",
      "metadata": {
        "id": "41TbxBJfIS16",
        "colab_type": "code",
        "colab": {
          "base_uri": "https://localhost:8080/",
          "height": 67
        },
        "outputId": "c7655614-3b07-4d56-c827-74b937d462bf"
      },
      "source": [
        "'''Ask the user to enter a word, return all the sentences that include this word, \n",
        "three kinds of information should be returned: sentence id, sentence text content, the count that user input word appear in the sentence.'''\n",
        "\n",
        "ip = input(\"Enter the word \")\n",
        "file3 = open(\"/content/output.csv\",\"r\")\n",
        "result = file3.readlines()\n",
        "\n",
        "for line in result:\n",
        "  test = \",\".join(line.split(\",\")[:2])\n",
        "  value = test.split(\",\")[1]\n",
        "  if value.find(ip+\" \") != -1 or value.find(\" \"+ip) != -1:\n",
        "    print(test.split(\",\")[0],value,str(value.count(ip)))\n",
        "\n"
      ],
      "execution_count": null,
      "outputs": [
        {
          "output_type": "stream",
          "text": [
            "Enter the word gut\n",
            "ARTHROTEC.65-0 Severe gut-renching abdominal pain jaundins diahrea sweats & hot flashes vaginal bleeding and now constipation. 1\n",
            "ARTHROTEC.2-0 heartburn nausea frequent feelings of voracious hunger & sharp unbearable cramping pains in lower gut. 1\n"
          ],
          "name": "stdout"
        }
      ]
    },
    {
      "cell_type": "markdown",
      "metadata": {
        "colab_type": "text",
        "id": "-12cqmJEpZOh"
      },
      "source": [
        "(4) Install packages nltk, numpy, scipy, pandas, and sklearn on Google Colab. Write a program to test whether they are installed successfully. (3 points for extra)"
      ]
    },
    {
      "cell_type": "code",
      "metadata": {
        "colab_type": "code",
        "id": "f1pn1Zl2qK77",
        "colab": {
          "base_uri": "https://localhost:8080/",
          "height": 50
        },
        "outputId": "a175673e-a29e-45e8-e5d3-5dbc6c98dd59"
      },
      "source": [
        "# write your answer here\n",
        "\n",
        "!pip install nltk\n",
        "\n"
      ],
      "execution_count": null,
      "outputs": [
        {
          "output_type": "stream",
          "text": [
            "Requirement already satisfied: nltk in /usr/local/lib/python3.6/dist-packages (3.2.5)\n",
            "Requirement already satisfied: six in /usr/local/lib/python3.6/dist-packages (from nltk) (1.15.0)\n"
          ],
          "name": "stdout"
        }
      ]
    },
    {
      "cell_type": "code",
      "metadata": {
        "id": "KjgZO7whSWZF",
        "colab_type": "code",
        "colab": {
          "base_uri": "https://localhost:8080/",
          "height": 34
        },
        "outputId": "6b596608-f82c-4dc5-d1b0-105024212249"
      },
      "source": [
        "!pip install numpy"
      ],
      "execution_count": null,
      "outputs": [
        {
          "output_type": "stream",
          "text": [
            "Requirement already satisfied: numpy in /usr/local/lib/python3.6/dist-packages (1.18.5)\n"
          ],
          "name": "stdout"
        }
      ]
    },
    {
      "cell_type": "code",
      "metadata": {
        "id": "XmM5uHnnScLR",
        "colab_type": "code",
        "colab": {
          "base_uri": "https://localhost:8080/",
          "height": 50
        },
        "outputId": "29a1c257-11f0-49ec-c4e3-338238c03dd6"
      },
      "source": [
        "!pip install scipy"
      ],
      "execution_count": null,
      "outputs": [
        {
          "output_type": "stream",
          "text": [
            "Requirement already satisfied: scipy in /usr/local/lib/python3.6/dist-packages (1.4.1)\n",
            "Requirement already satisfied: numpy>=1.13.3 in /usr/local/lib/python3.6/dist-packages (from scipy) (1.18.5)\n"
          ],
          "name": "stdout"
        }
      ]
    },
    {
      "cell_type": "code",
      "metadata": {
        "id": "QpK3fHhQSibd",
        "colab_type": "code",
        "colab": {
          "base_uri": "https://localhost:8080/",
          "height": 101
        },
        "outputId": "937990e7-3f77-48d9-cc87-dc5f21743c4c"
      },
      "source": [
        "!pip install pandas"
      ],
      "execution_count": null,
      "outputs": [
        {
          "output_type": "stream",
          "text": [
            "Requirement already satisfied: pandas in /usr/local/lib/python3.6/dist-packages (1.0.5)\n",
            "Requirement already satisfied: numpy>=1.13.3 in /usr/local/lib/python3.6/dist-packages (from pandas) (1.18.5)\n",
            "Requirement already satisfied: pytz>=2017.2 in /usr/local/lib/python3.6/dist-packages (from pandas) (2018.9)\n",
            "Requirement already satisfied: python-dateutil>=2.6.1 in /usr/local/lib/python3.6/dist-packages (from pandas) (2.8.1)\n",
            "Requirement already satisfied: six>=1.5 in /usr/local/lib/python3.6/dist-packages (from python-dateutil>=2.6.1->pandas) (1.15.0)\n"
          ],
          "name": "stdout"
        }
      ]
    },
    {
      "cell_type": "code",
      "metadata": {
        "id": "uYzqjyn4SmsF",
        "colab_type": "code",
        "colab": {
          "base_uri": "https://localhost:8080/",
          "height": 101
        },
        "outputId": "0b110f9d-8eb0-43c4-9914-af944fef13f7"
      },
      "source": [
        "!pip install sklearn"
      ],
      "execution_count": null,
      "outputs": [
        {
          "output_type": "stream",
          "text": [
            "Requirement already satisfied: sklearn in /usr/local/lib/python3.6/dist-packages (0.0)\n",
            "Requirement already satisfied: scikit-learn in /usr/local/lib/python3.6/dist-packages (from sklearn) (0.22.2.post1)\n",
            "Requirement already satisfied: scipy>=0.17.0 in /usr/local/lib/python3.6/dist-packages (from scikit-learn->sklearn) (1.4.1)\n",
            "Requirement already satisfied: numpy>=1.11.0 in /usr/local/lib/python3.6/dist-packages (from scikit-learn->sklearn) (1.18.5)\n",
            "Requirement already satisfied: joblib>=0.11 in /usr/local/lib/python3.6/dist-packages (from scikit-learn->sklearn) (0.16.0)\n"
          ],
          "name": "stdout"
        }
      ]
    },
    {
      "cell_type": "code",
      "metadata": {
        "id": "tV_geMaRSqjQ",
        "colab_type": "code",
        "colab": {}
      },
      "source": [
        "pip list >> op.tsv"
      ],
      "execution_count": null,
      "outputs": []
    },
    {
      "cell_type": "code",
      "metadata": {
        "id": "dcwYURp1VHvz",
        "colab_type": "code",
        "colab": {
          "base_uri": "https://localhost:8080/",
          "height": 128
        },
        "outputId": "4928d7e2-7f4e-444d-dd88-78cd9c1353d8"
      },
      "source": [
        "lib = ['nltk','sklearn','pandas','scipy','numpy']\n"
      ],
      "execution_count": null,
      "outputs": [
        {
          "output_type": "error",
          "ename": "SyntaxError",
          "evalue": "ignored",
          "traceback": [
            "\u001b[0;36m  File \u001b[0;32m\"<ipython-input-169-9d7dc97d3bfd>\"\u001b[0;36m, line \u001b[0;32m2\u001b[0m\n\u001b[0;31m    pip search nltk\u001b[0m\n\u001b[0m             ^\u001b[0m\n\u001b[0;31mSyntaxError\u001b[0m\u001b[0;31m:\u001b[0m invalid syntax\n"
          ]
        }
      ]
    },
    {
      "cell_type": "code",
      "metadata": {
        "id": "yDH3uGYPVxnV",
        "colab_type": "code",
        "colab": {
          "base_uri": "https://localhost:8080/",
          "height": 1000
        },
        "outputId": "2154f0e1-cd74-476f-d014-3f59f7562622"
      },
      "source": [
        "pip search numpy"
      ],
      "execution_count": null,
      "outputs": [
        {
          "output_type": "stream",
          "text": [
            "numpy (1.19.1)                            - NumPy is the fundamental package for array computing with Python.\n",
            "  INSTALLED: 1.18.5\n",
            "  LATEST:    1.19.1\n",
            "numpy-cloud (0.0.5)                       - Numpy in the cloud\n",
            "numpy-ext (0.9.3)                         - numpy extension\n",
            "numpy-utils (0.1.6)                       - NumPy utilities.\n",
            "numpy-alignments (0.0.2)                  - Numpy Alignments\n",
            "numpy-demo (1.23.0)                       - NumPy-demo is a test package and is a clone of numpy.\n",
            "numpy-sugar (1.5.1)                       - Missing NumPy functionalities\n",
            "numpy-turtle (0.2)                        - Turtle graphics with NumPy\n",
            "numpy-ml (0.1.2)                          - Machine learning in NumPy\n",
            "marshmallow-numpy (0.3.0)                 - Marshmallow numpy field\n",
            "numpy-linreg (0.1.0)                      - Linear Regression with numpy only.\n",
            "root-numpy (4.8.0)                        - The interface between ROOT and NumPy\n",
            "numpy-quaternion (2020.9.5.14.42.2)       - Add a quaternion dtype to NumPy\n",
            "mapchete-numpy (0.1)                      - Mapchete NumPy read/write extension\n",
            "numpy-partition (1.18.9)                  - SQL PARTITION BY and window functions for NumPy\n",
            "sqlite-numpy (0.2.1)                      - Fast SQLite to numpy array loader\n",
            "msgpack-numpy (0.4.6.1)                   - Numpy data serialization using msgpack\n",
            "intel-numpy (1.15.1)                      - NumPy optimized with Intel(R) MKL library\n",
            "numpy-mips64 (1.17.4)                     - NumPy is the fundamental package for array computing with Python.\n",
            "numpy-aarch64 (1.16.4)                    - NumPy is the fundamental package for array computing with Python.\n",
            "numpy-posit (1.15.2.0.0.1.dev2)           - posit (unum type III) integrated NumPy.\n",
            "numpy-syncer (0.0.1)                      - Manage a Numpy data structure using Peewee-Sync\n",
            "numpy-unit (0.1.1)                        - A package providing an unit system for numpy multidimensionnal arrays.\n",
            "numpy-mkp2020 (1.14.5)                    - NumPy: array processing for numbers, strings, records, and objects.\n",
            "ccv-numpy (0.0.4)                         - Wrapper module for ccv using numpy arrays interface\n",
            "numpy-nn (0.2.6)                          - Numpy NN is a Deep Neural Network Package which is built on base Numpy operations. This project is under development and any contributions are welcome.\n",
            "nn-numpy (0.0.1)                          - A package which contains a simple implementation of neural network with numpy\n",
            "numpy-linalg (0.1)                        - Collection of wrapper classes to make it easier (more readable) to work with NumPy\n",
            "BSON-NumPy (0.1)                          - Module for converting directly from BSON to NumPy ndarrays and vice versa\n",
            "django-numpy (1.0.1)                      - Application for Django projects that adds some utilities and integration tools with Numpy.\n",
            "dicom-numpy (0.4.0)                       - Extract image data into a 3D numpy array from a set of DICOM files.\n",
            "dl-with-numpy (0.0.3)                     - Simple deep learning with numpy\n",
            "numpy-html (0.1.3)                        - A simple table renderer for numpy arrays. Provides a rich display hook for use with Jupyter Lab / Notebook.\n",
            "numpy-indexed (0.3.5)                     - This package contains functionality for indexed operations on numpy ndarrays, providing efficient vectorized functionality such as grouping and set operations.\n",
            "circular-buffer-numpy (0.0.8)             - Package for circular buffer numpy array\n",
            "build-requires-numpy (2019.12.2)          - Meta-package to install older versions of Numpy.\n",
            "image-to-numpy (1.0.0)                    - Load an image into a numpy array with proper Exif orientation handling\n",
            "oldest-supported-numpy (0.3)              - Meta-package that provides the oldest Numpy for given Python version and platform\n",
            "numpy-image-widget (2020.7.21)            - An easy-to-use Jupyter widget for displaying images from Numpy data arrays\n",
            "django-numpy-json-encoder (0.1.3)         - Django JSON encoder with numpy support.\n",
            "numpy-camera (0.0.2)                      - ???\n",
            "deuces-numpy (0.5)                        - \n",
            "numpy-financial (1.0.0)                   - Simple financial functions\n",
            "numpy-groupies (0.9.10)                   - Optimised tools for group-indexing operations: aggregated sum and more.\n",
            "hypothesis-numpy (2.0.0)                  - Adds support for generating datetime to Hypothesis\n",
            "numpy-fracadf (0.4.0)                     - Determine fractal order by the ADF test\n",
            "faster-numpy (0.1.2)                      - \n",
            "numpy-fracdiff (0.3.1)                    - Fractional Difference for Time Series\n",
            "numpy-stl (2.11.2)                        - Library to make reading, writing and modifying both binary and ascii STL files easy.\n",
            "test-numpy-setuptools (1.4)               - test_numpy_setuptools backpack\n",
            "zen-of-numpy (0.1)                        - \n",
            "numpy-reduced-flowcytometrytools (0.5.0)  - A python package for performing flow cytometry analysis\n",
            "test-numpy-compile-pyd (1.0)              - test_numpy_compile_pyd backpack\n",
            "gumpy (0.1)                               - Genetics with Numpy\n",
            "o243kgmvs924mtvd034mg (0.01)              - NumPy Testing\n",
            "npplus (0.9.8)                            - Enhancements to Numpy\n",
            "np (1.0.2)                                - np = numpy++: numpy with added convenience functionality\n",
            "ndarray (pre-alpha)                       - Tools for numpy ndarray\n",
            "wrapnumpy3 (0.0.3)                        - Wrapper of Numpy in Python3.\n",
            "vidsrc (2020.1.1)                         - Video Frameserver for Numpy\n",
            "numpyro (0.3.0)                           - Pyro PPL on NumPy\n",
            "flyingcircus-numeric (0.1.1.2)            - FlyingCircus with NumPy/SciPy.\n",
            "match-arrays (0.0.1)                      - Matching of Numpy arrays\n",
            "oldnumeric (1.0.4)                        - The oldnumeric numpy package\n",
            "numpyXtns (20.4.1)                        - Numpy extension functions.\n",
            "transforms-for-ndarray (0.0.4)            - transformations for numpy ndarray.\n",
            "nets (0.0.2)                              - Neural Network with NumPy.\n",
            "nptweak (0.1.0)                           - utility functions for numpy\n",
            "nptyping (1.3.0)                          - Type hints for Numpy.\n",
            "numpoly (1.0.6)                           - Polynomials as a numpy datatype\n",
            "jumpy (0.2.4)                             - Numpy and nd4j interop\n",
            "maskedarray (0.1)                         - NumPy Masked Array\n",
            "ktnumpy (0.1.5)                           - Kotlin bindings for Numpy\n",
            "array_collections (0.1.9)                 - A collection of numpy ndarray subclasses.\n",
            "pyache (0.2.0)                            - A simple numpy caching library\n",
            "opt-einsum (3.3.0)                        - Optimizing numpys einsum function\n",
            "  INSTALLED: 3.3.0 (latest)\n",
            "snuggs (1.4.7)                            - Snuggs are s-expressions for Numpy\n",
            "bohrium (0.11.0.post54)                   - Bohrium Python/NumPy Backend\n",
            "displayarray (1.2.1)                      - Tool for displaying numpy arrays.\n",
            "fewerbytes (0.0.1)                        - Compression techniques for numpy arrays\n",
            "numpy_ringbuffer (0.2.1)                  - Ring buffer implementation for numpy\n",
            "ntype (0.0.1)                             - Type Handler using NumPy\n",
            "fastfunc (0.2.3)                          - Fast numpy ufunc operations\n",
            "pyjet (1.6.0)                             - The interface between FastJet and NumPy\n",
            "numm (0.3)                                - numpy-based multimedia library\n",
            "rollingrank (0.3.1)                       - fast rolling rank for numpy\n",
            "numpythia (1.1.0)                         - The interface between PYTHIA and NumPy\n",
            "sompy (0.1.1)                             - Numpy based SOM Library\n",
            "spartan (0.06)                            - Distributed Numpy-like arrays.\n",
            "wendelin.core (0.13)                      - Out-of-core NumPy arrays\n",
            "sampyl-mcmc (0.3)                         - MCMC Samplers in Python & Numpy\n",
            "mnist-py (0.6)                            - Lighweight Numpy MNIST loader\n",
            "gsn_numpy_util (0.1.0)                    - Toolbox for working with Numpy arrays.\n",
            "homog (0.1.14)                            - Utilities for Homogeneous Coordinates with Numpy\n",
            "numpyprint (0.1.5)                        - prints numpy arrays nicely\n",
            "gnuplotlib (0.33)                         - Gnuplot-based plotting for numpy\n",
            "multipolyfit (0.0.1)                      - Multivariate Polynomial fitting with NumPy\n",
            "nppretty (1.0.0)                          - Pretty printer for numpy arrays.\n",
            "degas (0.1.4)                             - Fluent interface for numpy arrays.\n",
            "PyUblas (2017.1)                          - Seamless Numpy-UBlas interoperability\n"
          ],
          "name": "stdout"
        }
      ]
    },
    {
      "cell_type": "code",
      "metadata": {
        "id": "wR9hWgZnVuKb",
        "colab_type": "code",
        "colab": {
          "base_uri": "https://localhost:8080/",
          "height": 1000
        },
        "outputId": "57117ac4-5c14-406d-f719-581a3167db0a"
      },
      "source": [
        "pip search scipy"
      ],
      "execution_count": null,
      "outputs": [
        {
          "output_type": "stream",
          "text": [
            "scipy (1.5.2)                   - SciPy: Scientific Library for Python\n",
            "  INSTALLED: 1.4.1\n",
            "  LATEST:    1.5.2\n",
            "numba-scipy (0.2.0)             - numba-scipy extends Numba to make it aware of SciPy\n",
            "scipy-sugar (1.0.9)             - Missing SciPy functionalities\n",
            "scipy-mpmkp (1.4.1)             - SciPy: Scientific Library for Python\n",
            "scipy-stack (0.0.5)             - Helper to install the SciPy stack\n",
            "arma-scipy (1.1)                - Estimating coefficients of ARMA models with the Scipy package.\n",
            "intel-scipy (1.1.0)             - SciPy optimized with Intel(R) MKL library\n",
            "dolfin-navier-scipy (1.0.0)     - A Scipy-Fenics interface for incompressible Navier-Stokes\n",
            "scipy-extra (0.1)               - \n",
            "scipy-data_fitting (1.0.2)      - Complete pipeline for easy data fitting with Python.\n",
            "scipy-psdm (0.1.0)              - transform an ill-conditioned quadratic matrix to a positive semidefinite matrix\n",
            "traittypes (0.2.1)              - Scipy trait types\n",
            "austin (2016.0.1)               - austin scipy package\n",
            "flyingcircus-numeric (0.1.1.2)  - FlyingCircus with NumPy/SciPy.\n",
            "h5sparse (0.1.0)                - Scipy sparse matrix in HDF5.\n",
            "scikit-gstat (0.2.7)            - Geostatistical expansion in the scipy style\n",
            "hcluster (0.2.0)                - A hierarchical clustering package for Scipy.\n",
            "scikit-fuzzy (0.4.2)            - Fuzzy logic toolkit for SciPy\n",
            "scikit-gof (0.1.3)              - Variations on goodness of fit tests for SciPy.\n",
            "lsq_linear (0.1.0)              - Implementation of scipy.optimize.lsq_linear for old scipy version\n",
            "spicy (0.16.0)                  - Because spellchecker. SciPy at your fingertips\n",
            "scikits.statsmodels (0.3.1)     - Statistical computations and models for use with SciPy\n",
            "cscipy (0.0.1)                  - Some scipy functions rewritten in Cython\n",
            "pertdist (0.1.0)                - A scipy-like implementation of the PERT distribution\n",
            "qilum (1.0.0)                   - Statistical supplementary package to numpy, scipy, ...\n",
            "numba-special (0.2.0)           - Numba overloads for SciPy's special functions\n",
            "scikit-info (0.1.1)             - Scipy-styled expansion for information theory.\n",
            "scikits.fitting (0.7)           - Framework for fitting functions to data with SciPy\n",
            "cloudml (0.4.2)                 - Machine learning as a service scipy-trainer\n",
            "pyscience11 (0.5)               - C++11 wrapper for NumPy, SciPy and Matplotlib\n",
            "npnlp (0.0.2)                   - NumPy and SciPy based nonlinear programming and optimization.\n",
            "scipolate (0.1.3)               - helper for running different scipy 2D interpolations\n",
            "hydrobox (0.1.6)                - Hydrological toolbox build on top of scipy and pandas\n",
            "mdct (0.4)                      - A fast MDCT implementation using SciPy and FFTs\n",
            "kdense (1.0.0)                  - Efficient kernel density estimation for numpy+scipy.\n",
            "scikits.bootstrap (1.0.1)       - Bootstrap confidence interval estimation routines for SciPy\n",
            "ddeint (0.2)                    - Scipy-based Delay Differential Equations solver\n",
            "graf (0.1.2)                    - Light weight numpy, scipy, and matplotlib wrapper\n",
            "mathx (0.2.0)                   - Array handling and mathematics built on top of numpy and scipy.\n",
            "statspy (0.1.0a1)               - Python module for statistics built on top of NumPy/SciPy\n",
            "damescipy (0.0.6)               - Learning Scipy from Tests by David Arroyo Men&#233;ndez\n",
            "penaltymodel-lp (0.1.3)         - Generates penalty models using SciPy's linear programming.\n",
            "apgl (0.8.1)                    - A fast python graph library based on numpy and scipy.\n",
            "rasterio (1.1.5)                - Fast and direct raster I/O for use with Numpy and SciPy\n",
            "PXL (0.0.9)                     - Extra functions built on NumPy, SciPy, pandas, matplotlib, etc.\n",
            "pythreshold (0.3.1)             - Numpy/Scipy implementations of state-of-the-art image thresholding algorithms\n",
            "gilly-utilities (0.9.6)         - A data analysis package built upon Numpy, SciPy and Pandas\n",
            "py-dic (0.1.1)                  - A DIgital Image Correlation implementation in Python using the SciPy stack.\n",
            "atnlp (0.0.11)                  - A tool for natural language processing in python based on scipy and sklearn\n",
            "geoai-rasterio (1.0.27)         - Fast and direct raster I/O for use with Numpy and SciPy\n",
            "h5sparse-tensor (0.2.2)         - Scipy sparse matrices in HDF5. Sparse COO tensors in HDF5\n",
            "instakit (0.8.10)               - Image processors for django-imagekit - based on Pillow, SciPy, and scikit-image\n",
            "psopy (0.2.4)                   - A SciPy compatible super fast Python implementation for Particle Swarm Optimization.\n",
            "scikit-graph (0.1a0)            - A collection of tools and algorithms to augment those found in Scipy's csgraph module\n",
            "PyS3DE (1.0.5)                  - Python Solver via Sympy + SciPy/NumPy for Stochastic Differential Equations!\n",
            "dict-minimize (0.0.2)           - Access scipy optimizers from your favorite deep learning framework.\n",
            "pymlfunc (0.0.3)                - Implementation of some useful Matlab functions that are missing from numpy/scipy\n",
            "FITS_tools (0.2)                - Tools for manipulating FITS images using primarily scipy & native python routines\n",
            "overlap-save (1.1.2)            - Overlap-save method for fast convolution, like Scipy's fftconvolve, but memory-efficient\n",
            "piquant (0.1)                   - A Python package extending NumPy and SciPy to allow specification of numbers and arrays with physical units.\n",
            "mathstats (0.2.6.5)             - Statistical functions, goodness-of-fit tests and special and special distributions not implemented in scipy/numpy .\n",
            "nixpkgs (0.2.4)                 - Abuses Nix philosophy, allowing me to do `from nixpkgs import scipy` anytime\n",
            "idlwrap (0.1.0)                 - Provides an IDL-like interface to scipy/numpy for quick porting of IDL code to python.\n",
            "python-fit (1.0.0)              - A python module using scipy's orthogonal distance regression that makes fitting data easy.\n",
            "intergrid (2020.2.20)           - Interpolate data given on an Nd box grid, uniform or non-uniform, using numpy and scipy\n",
            "seaborn-image (0.3.2)           - seaborn-image: image data visualization and processing like seaborrn using matplotlib, scipy and scikit-image\n",
            "sparsemf (0.11)                 - A matrix factorization recommender which runs on top of NumPy and SciPy. Developed with a focus on speed, and highly sparse matrices.\n",
            "DESPOTIC (2.1)                  - a Python / numPy / sciPy package to perform calculations related to line emission and thermal behavior in cold interstellar clouds.\n",
            "mstatistics (0.1.2.post1)       - Provide a robust statistical library for Python to be used in conjunction with NumPy, SciPy, Pandas, and other common data science packages.\n",
            "scikit-geodesic (1.1)           - A SciPy tool for computing geodesics in an isotropic Riemannian manifold of arbitrary dimension. It implements the Birkhoff curve shortening algorithm for finding global geodesics.\n"
          ],
          "name": "stdout"
        }
      ]
    },
    {
      "cell_type": "code",
      "metadata": {
        "id": "ApU4UESvVqsG",
        "colab_type": "code",
        "colab": {
          "base_uri": "https://localhost:8080/",
          "height": 1000
        },
        "outputId": "32b2dd2a-fcc4-43b1-96f3-7a0d9ada8e5a"
      },
      "source": [
        "pip search pandas"
      ],
      "execution_count": null,
      "outputs": [
        {
          "output_type": "stream",
          "text": [
            "pandas-tfrecords (0.1.4)            - Converter pandas to tfrecords & tfrecords to pandas\n",
            "pandas-ext (0.5.1)                  - Python Pandas extensions for pandas dataframes\n",
            "pandas-cacher (0.1.3)               - Pandas cacher\n",
            "pandas-mapper (0.1.4)               - Pandas Mapper\n",
            "pandas-sets (0.2.1)                 - Pandas - Sets:  Set-oriented Operations in Pandas\n",
            "pandas-extensions (0.1)             - Extensions to the pandas package.\n",
            "pandas-parallel (0.1.7)             - pandas apply parallel\n",
            "sklearn-pandas (2.0.1)              - Pandas integration with sklearn\n",
            "  INSTALLED: 1.8.0\n",
            "  LATEST:    2.0.1\n",
            "xtalpi-pandas (0.1.5)               - XtalPi Pandas CMD\n",
            "pandas-msgpack (0.1.4)              - Pandas interface to msgpack\n",
            "pandas-path (0.1.2)                 - Pathlib functionality for pandas.\n",
            "pandas-should (0.1.0)               - pandas extension for asserting\n",
            "prometheus-pandas (0.1.0)           - Pandas integration for Prometheus\n",
            "pandas-multiprocessing (0.2.1)      - Pandas Multiprocessing Support\n",
            "pandas-redistrict (0.0.3)           - Redistricting of pandas dataframes\n",
            "simple-pandas (0.2.1)               - A much simpler pandas\n",
            "pandas-light (1.0.2)                - Some pandas extensions.\n",
            "pandas-lookup (0.1.4)               - pandas-lookup adds remote lookup tables to a Pandas DataFrame.\n",
            "ladybug-pandas (0.3.0)              - A ladybug extension powered by pandas\n",
            "pandas-ply (0.2.1)                  - functional data manipulation for pandas\n",
            "pandas-compat (0.1.1)               - Pandas API compatiblity layer\n",
            "pandas-td (0.10.0)                  - Pandas extension for Treasure Data\n",
            "pandas-linker (0.0.2)               - Linking rows of pandas dataframes\n",
            "pandas-jalali (0.1.2)               - Manipulate with Jalali date in pandas\n",
            "pandas-selectable (1.0.1)           - Add a select accessor to pandas\n",
            "pandas-helpers (0.1)                - Helper functions for working with pandas\n",
            "pandas-f (0.0.1)                    - pandas extension that adds a flatmap\n",
            "pandas-gbq (0.13.2)                 - Pandas interface to Google BigQuery\n",
            "  INSTALLED: 0.11.0\n",
            "  LATEST:    0.13.2\n",
            "pandas-util (0.0.1)                 - Some utils for working with pandas.\n",
            "pandas-summary (0.0.7)              - An extension to pandas describe function.\n",
            "pandas-multiprocess (0.1.2)         - Multiprocessing Support for Pandas DataFrame\n",
            "pandas-montecarlo (0.0.2)           - Monte Carlo Simulator for Pandas\n",
            "pandas-datareader (0.9.0)           - Data readers extracted from the pandas codebase,should be compatible with recent pandas versions\n",
            "  INSTALLED: 0.8.1\n",
            "  LATEST:    0.9.0\n",
            "fuzzy-pandas (0.1)                  - Fuzzy matching in pandas using csvmatch\n",
            "opulent-pandas (0.0.4)              - A package to validate the schema of a pandas dataframe\n",
            "pandas-dedupe (1.3.1)               - The Dedupe library made easy with Pandas.\n",
            "pandas-utility (0.1.4)              - Some useful Pandas utility functions\n",
            "pandas-transformers (0.2.3)         - Use pandas dataframes in sklearn pipelines\n",
            "pandas-weighting (0.0.2)            - General level weighting of Pandas Dataframes\n",
            "pandas-alive (0.2.2)                - Animated plotting extension for Pandas with Matplotlib\n",
            "pandas-profiling (2.9.0)            - Generate profile report for pandas DataFrame\n",
            "  INSTALLED: 1.4.1\n",
            "  LATEST:    2.9.0\n",
            "pandas-usaddress (0.21)             - The usaddress library made easy with Pandas.\n",
            "pandas-validation (0.5.0)           - A Python package for validating data with pandas\n",
            "logfmt-pandas (0.1.2)               - Read logfmt files into pandas dataframes.\n",
            "pandas-extras (0.0.1)               - Extension package for the popular Pandas library\n",
            "pandas-npi (0.45)                   - NPI validation made easy with Pandas.\n",
            "pandas-bamboo (0.1.5)               - Data manipulation for python using Pandas\n",
            "pandas-htools (0.0.6)               - Tools for Exploratory data analysis with Pandas\n",
            "pandas-ml (0.6.1)                   - pandas, scikit-learn and xgboost integration\n",
            "xdi-pandas (0.2.0)                  - Read XDI files to Pandas dataframes\n",
            "pandas-sql (0.1.10)                 - pandas to_sql by update, ignore or replace\n",
            "trash-pandas (0.2.5)                - Analytic tool for Pandas DataFrame exploration\n",
            "pandas-vet (0.2.2)                  - A flake8 plugin to lint pandas in an opinionated way\n",
            "pandas-io (0.0.1)                   - Blazing fast pandas i/o library\n",
            "eda-pandas (0.1.2)                  - An Exploratory Data Analysis tool for pandas dataframe\n",
            "pandas-vectors (0.1.1)              - convenience functions for dealing with vectors in panda dataframes\n",
            "pandas-ga (0.1)                     - Reading Google Analytics report into Pandas dataframe\n",
            "mmal-pandas (0.0.2)                 - Meteorological Middleware Application Layer pandas bindings\n",
            "quick-pandas (0.1.5)                - A monkey patch that makes pandas run faster\n",
            "pandas-cub (0.0.7)                  - A simple data analysis library similar to pandas\n",
            "otis-pandas (0.0.1)                 - Open Timeseries Interface Service pandas bindings\n",
            "pandas-zmq (0.0.3)                  - Communicate Pandas DataFrame over ZeroMQ connection\n",
            "hypothesis-pandas (0.2.7)           - Provides strategies for generating various `pandas` objects\n",
            "pandas-anaphora (0.1b0)             - Anaphoric functions for columns in Pandas data frames\n",
            "pandas-bokeh (0.5)                  - Bokeh plotting backend for Pandas, GeoPandas & Pyspark\n",
            "pandas-plink (2.0.5)                - Read PLINK files into Pandas data frames\n",
            "pandas-oracle (2.1.4)               - Tools for working with an Oracle database from Pandas\n",
            "pandas-datadict (0.2.0)             - Data dictionary functionality for pandas data frames\n",
            "root-pandas (0.7.0)                 - Read and save pandas DataFrames from and to ROOT files\n",
            "pandas-rs (0.1.6)                   - pandas extension for PostgreSQL and AWS RedShift (Not Officail library)\n",
            "pandas-connect (0.3.2)              - Pandas connection methods for multiple databases. SQL and NoSQL.\n",
            "pandas-explode (0.0.6)              - Explode utility for Pandas dataframes (similar to UNNEST or explode)\n",
            "pandas-zookeeper (0.0.1)            - Automate common data cleaning tasks for Pandas Dataframes\n",
            "tempodb-pandas (0.1.1)              - Pandas functions for converting between Tempo data types\n",
            "pandas-flavor (0.2.0)               - The easy way to write your own Pandas flavor.\n",
            "pandas-refract (1.2.5)              - Unofficial convenience functions that deal with fragmenting Pandas dataframes.\n",
            "pandas-appender (0.9.3)             - A helper class that makes appending to a Pandas DataFrame efficient\n",
            "sdi-pandas (0.0.37)                 - List of operators using the pandas module for processing the input\n",
            "pandas-multi (2019.3.12)            - Read multiple csvs or Excel files as a single pandas DataFrame.\n",
            "fast-pandas (1.0.0)                 - Simple library for applying Pandas row/column functions in parallel\n",
            "git-pandas (1.2.0)                  - A utility for interacting with data from git repositories as Pandas dataframes\n",
            "pandas-redshift (2.0.4)             - Load data from redshift into a pandas DataFrame and vice versa.\n",
            "es-pandas (0.0.16)                  - Read, write and update large scale pandas DataFrame with ElasticSearch\n",
            "pandas-mssql (0.7)                  - Pandas DataFrame methods for reading from and writing to SQL Server\n",
            "netdata-pandas (0.0.14)             - A helper library for pulling data from netdata into a pandas dataframe.\n",
            "pandas-ta (0.1.97b)                 - An easy to use Python 3 Pandas Extension with 100+ Technical Analysis Indicators. Can be called from a Pandas DataFrame or standalone like TA-Lib.\n",
            "pandas-log (0.1.7)                  - pandas-log provides feedback about basic pandas operations. It provides simple wrapper functions for the most common functions, such as apply, map, query and more.\n",
            "pandas-qt (0.2.0)                   - Utilities to use pandas (the data analysis / manipulation library for Python) with Qt.\n",
            "datacommons-pandas (0.0.1)          - A library to create pandas objects using the Data Commons Python API.\n",
            "pandas-toolkit (0.1.0)              - A collection of pandas accessors to help with common machine learning related functionality.\n",
            "pandas-charm (0.3.0)                - A small Python library for getting character matrices (alignments) into and out of pandas\n",
            "pandas-schema (0.3.5)               - A validation library for Pandas data frames using user-friendly schemas\n",
            "pandas-lite (0.1.2)                 - A lighter version of pandas. No Series, No hierarchical indexing, only one indexer [ ]\n",
            "Pint-Pandas-Fork (0.1.dev0)         - Pandas interface for Pint\n",
            "mbf-pandas-msgpack (0.2)            - Pandas interface to msgpack\n",
            "dagster-pandas (0.9.5)              - Utilities and examples for working with pandas and dagster, an opinionated framework for expressing data pipelines\n",
            "behave-pandas (0.4.0)               - Provides helper functions to help converting behave tables into pandas dataframes and vice versa.\n",
            "SQL-Pandas (0.1)                    - This is an idea to further simplify the process of fetching/storing data into structured databases using pandas\n",
            "gspread-pandas (2.2.3)              - A package to easily open an instance of a Google spreadsheet and interact with worksheets through Pandas DataFrames.\n",
            "streamlit-pandas-profiling (0.0.4)  - Pandas profiling component for Streamlit\n"
          ],
          "name": "stdout"
        }
      ]
    },
    {
      "cell_type": "code",
      "metadata": {
        "id": "93H6GSY1VoLa",
        "colab_type": "code",
        "colab": {
          "base_uri": "https://localhost:8080/",
          "height": 1000
        },
        "outputId": "5971f01e-0d1d-41e4-adfb-e74a563f7ad0"
      },
      "source": [
        "pip search sklearn"
      ],
      "execution_count": null,
      "outputs": [
        {
          "output_type": "stream",
          "text": [
            "sklearn-pandas (2.0.1)                       - Pandas integration with sklearn\n",
            "  INSTALLED: 1.8.0\n",
            "  LATEST:    2.0.1\n",
            "sklearn-xarray (0.4.0)                       - xarray integration with sklearn\n",
            "sklearn-ex (0.0.1)                           - self defined functions for sklearn\n",
            "sklearn-export (0.0.5)                       - Export sklearn models to Json.\n",
            "easy-sklearn (0.1.5)                         - This is a python library base on sklearn\n",
            "sklearn-fracdiff (0.1.0)                     - sklearn wrapper for numpy-fracdiff\n",
            "nbsvm-sklearn (0.0.6)                        - sklearn wrapper for NB-SVM algorithm\n",
            "sklearn-recommender (0.1.5)                  - Sklearn Extension to integration recommender functions\n",
            "sklearn-surrogatesearchcv (0.1.3)            - Surrogate adaptive randomized search for hyper parametersin sklearn.\n",
            "sklearn-glvq (1.0.3)                         - sklearn compatible Generalized Learning Vector Quantization implementation\n",
            "sklearn-fuzzy (0.0.8)                        - `sklearn_fuzzy` is a fork from `scikit-fuzzy` package with sklearn-ish methods.\n",
            "neurocombat-sklearn (0.1.3)                  - Harmonizing neuroimaging data across sites. Implementation of neurocombat using sklearn format\n",
            "sklearn-lvq (1.1.0)                          - sklearn compatible Generalized Learning Vector Quantization and Robust Soft Learning Vector Quantization implementation\n",
            "sklearn (0.0)                                - A set of python modules for machine learning and data mining\n",
            "  INSTALLED: 0.0 (latest)\n",
            "keras-sklearn-multihead-classifier (1.2)     - Keras Sklearn Multihead Classifier\n",
            "sklearn-nature-inspired-algorithms (0.4.6)   - Search using nature inspired algorithms over specified parameter values for an sklearn estimator.\n",
            "spark-sklearn (0.3.0)                        - Integration tools for running scikit-learn on Spark\n",
            "sklearn-gbmi (1.0.3)                         - Compute Friedman and Popescu's H statistics, in order to look for interactions among variables in scikit-learn gradient-boosting models.\n",
            "sklearn-sfa (0.1.1)                          - A scikit-learn compatible implementation of Slow Feature Analysis\n",
            "sklearn-rri (0.1.0)                          - scikit-learn compatible classifier based on RRI\n",
            "sklearn-pycrfsuite (0.4.0)                   - CRFsuite (python-crfsuite) wrapper which provides interface simlar to scikit-learn\n",
            "sklearn-deltatfidf (0.3)                     - DeltaTfidfVectorizer for scikit-learn\n",
            "sklearn-extensions (0.0.2)                   - A bundle of 3rd party extensions to scikit-learn\n",
            "sklearn-deap (0.2.4)                         - Use evolutionary algorithms instead of gridsearch in scikit-learn.\n",
            "sklearn-dummies (0.3)                        - Scikit-learn label binarizer with support for missing values\n",
            "sklearn-rvm (0.1.1)                          - An scikit-learn style implementation of Relevance Vector Machines (RVM).\n",
            "sklearn-crfsuite (0.3.6)                     - CRFsuite (python-crfsuite) wrapper which provides interface simlar to scikit-learn\n",
            "auto-sklearn (0.9.0)                         - Automated machine learning.\n",
            "sklearn-pmml (0.1.2)                         - A library that allows serialization of SciKit-Learn estimators into PMML\n",
            "sigopt-sklearn (2.2.0)                       - SigOpt + scikit-learn Integrations\n",
            "sklearn-plus (0.0.5)                         - A set of python modules for Natural Language Processing\n",
            "sklearn-stub (0.0.3)                         - A template for scikit-learn compatible packages\n",
            "sklearn-ranking (0.0.1)                      - This package is used for recommendation system\n",
            "sklearn-json (0.1.0)                         - A safe, transparent way to share and deploy scikit-learn models.\n",
            "sklearn-lmer (0.0.5)                         - Scikit-learn estimator wrappers for pymer4 wrapped LME4 mixed effects models\n",
            "tune-sklearn (0.0.7)                         - An experimental scikit-learn API on Tune\n",
            "sklearn-porter (0.7.4)                       - Transpile trained scikit-learn models to C, Java, JavaScript and others.\n",
            "sklearn-template (0.0.3)                     - A template for scikit-learn compatible packages\n",
            "sklearn-relief (1.0.0b2)                     - Implementation of the Relief family of algorithms for feature ranking\n",
            "sklearn-genetic (0.2)                        - Genetic feature selection module for scikit-learn\n",
            "sklearn-evaluation (0.5)                     - scikit-learn model evaluation made easy: plots, tables andmarkdown reports.\n",
            "sklearn-compiledtrees (1.2)                  - Compiled scikit-learn decision trees for faster evaluation\n",
            "sklearn-deap2 (0.2.2)                        - Use evolutionary algorithms instead of gridsearch in scikit-learn.\n",
            "sklearn-features (0.0.2)                     - Helpful tools for building feature extraction pipelines with scikit-learn\n",
            "sklearn-sequence-classifiers (0.2)           - Sequence classifiers for scikit-learn\n",
            "sklearn-contrib-lightning (0.5.0)            - Large-scale sparse linear classification, regression and ranking in Python\n",
            "sklearn-cv-pandas (0.0.2)                    - RandomizedSearchCV/GridSearchCV with pandas.DataFrame interface\n",
            "sklearn-neuro-evolution (1.0.0)              - scikit-learn compatible package for neuro evolution.\n",
            "sklearn-to-pfa (0.3.10)                      - Convert scikit-learn models to PFA\n",
            "sklearn-text-extensions (1.0.0)              - Scikit-learn compatible text feature extraction extensions\n",
            "sklearn-utils-turtle (0.4.1)                 - \n",
            "featuretools-sklearn-transformer (0.1.1)     - Featuretools Transformer for Scikit-Learn Pipeline use.\n",
            "sklearn-pmml-model (0.0.15)                  - A library to parse PMML models into Scikit-learn estimators.\n",
            "sklearn-hierarchical-classification (1.3.2)  - Hierarchical classification interface extensions for scikit-learn\n",
            "algomize (0.1.0)                             - Optimizers for sklearn\n",
            "sklearn_utils (0.0.15)                       - Sklearn utils\n",
            "apollo-ml (0.3)                              - sklearn wrapper\n",
            "sklearn-contrib-py-earth (0.1.0)             - A Python implementation of Jerome Friedman's Multivariate Adaptive Regression Splines.\n",
            "sktools (0.1.3)                              - Tools to extend sklearn\n",
            "hpsklearn (0.1.0)                            - Hyperparameter Optimization for sklearn\n",
            "persimmon (0.9.1.post2)                      - A visual dataflow language for sklearn\n",
            "pytorch-onfire (0.1.1)                       - PyTorch meets Sklearn Pipelines.\n",
            "hunga-bunga (0.1)                            - Brute-Force All of sklearn!\n",
            "jaradtransformers (0.1.4)                    - Custom transformers for SKLearn pipelines\n",
            "skippy (0.1.0)                               - Simplified analysis of sklearn datasets\n",
            "incremental-trees (0.4.0)                    - Sklearn forests with partial fits\n",
            "pandas-ex (0.0.1)                            - self defined functions for sklearn\n",
            "old-fashioned-nlp (0.0.7)                    - Sklearn base nlp models\n",
            "scikit2pmml (0.0.2)                          - Simple exporter of sklearn models into PMML.\n",
            "datefeatures (0.2.0)                         - Feature engineering sklearn transformer for dates\n",
            "salure-preprocessors (0.0.1)                 - Contains some more SKLearn Preprocessors\n",
            "ackeras (0.1.1)                              - Simple wrapper around Sklearn and Autokeras\n",
            "fasttrees (1.2.5)                            - A fast and frugal tree classifier for sklearn\n",
            "pandas-transformers (0.2.3)                  - Use pandas dataframes in sklearn pipelines\n",
            "pipelinetweak (0.5.0)                        - additional wrapper classes for the sklearn API\n",
            "fagroupa (0.28)                              - Try many sklearn algorithms in no time!\n",
            "pdtransform (0.2)                            - Sklearn transformers that work with Pandas dataframes\n",
            "scikit-learn-pipeline-utils (0.0.7)          - Custom Pipeline Transformers for Sklearn Pipelines\n",
            "ParametricModeling (0.1.9)                   - An Sklearn interface around scipy.optimize.least_squares for parametric modeling\n",
            "embeddingvectorizer (0.03)                   - Sklearn vectorizers using word embedding model\n",
            "ksvmlib (0.0.3)                              - Kernel SVM library based on sklearn and GPlib.\n",
            "stemtokenizer (0.1)                          - Adding stemming functionality to Sklearn text vectorizers.\n",
            "jax-random-projections (1.0.1)               - sklearn's random projection with JAX to run on a GPU\n",
            "chainlearn (0.0.2.dev0)                      - chainlearn: A sprinkle of syntax sugar for pandas/sklearn\n",
            "too-short (1.1)                              - Module to simplify supervised ml work with sklearn\n",
            "optiml (0.0.7)                               - Optimizers for/and sklearn compatible Machine Learning models\n",
            "candle (0.0.1)                               - a machine learning scaffolding tool based on sklearn\n",
            "rotation-forest (0.4)                        - Sklearn style implementation of the Rotation Forest Algorithm\n",
            "cquai-ml (1.0.7)                             - Implement machine learning algorithms with python without sklearn.\n",
            "cvextend (0.2.1)                             - Tools to extend sklearn's cross-validation classes and functions\n",
            "majorityvoting (0.1.5)                       - Majority Judgement Voting tool (fit for sklearn, etc.)\n",
            "category-encoders (2.2.2)                    - A collection sklearn transformers to encode categorical variables as numeric\n",
            "sklearn2vantage (0.1.9)                      - Module for converting sklearn model to Teradata Vantage model\n",
            "lazyml (0.0.1)                               - Train and Test your data on multiple sklearn models!\n",
            "quickregress (0.1.2)                         - Provides a low-effort wrapper for sklearn's polynomial regression\n",
            "binary-to-string (0.1)                       - This package transforms bytes into a string to integrate to a sklearn Pipeline\n",
            "sklearn_pipeline_utils (0.11)                - custom transformers for sklearn pipeline to make life easier\n",
            "ubergauss (0.0.6)                            - sklearn clustering, betweenGaussian and diagonal-max-dist kneepoint detection\n",
            "ml4bio (0.1.3)                               - A graphical interface for sklearn classification to introduce machine learning to biologists\n",
            "micromlgen (1.1.9)                           - Generate C code for microcontrollers from Python's sklearn classifiers\n"
          ],
          "name": "stdout"
        }
      ]
    },
    {
      "cell_type": "code",
      "metadata": {
        "id": "g3KNtZymVmA1",
        "colab_type": "code",
        "colab": {
          "base_uri": "https://localhost:8080/",
          "height": 524
        },
        "outputId": "744112e2-71cb-427b-fc22-7012748ae572"
      },
      "source": [
        "pip search nltk"
      ],
      "execution_count": null,
      "outputs": [
        {
          "output_type": "stream",
          "text": [
            "rake-nltk (1.0.4)                - Python implementation of the Rapid Automatic Keyword Extraction algorithm using NLTK\n",
            "nltk (3.5)                       - Natural Language Toolkit\n",
            "  INSTALLED: 3.2.5\n",
            "  LATEST:    3.5\n",
            "ko-nltk (0.1)                    - \n",
            "sauce-lib-nltk (1.0.0)           - gets synonyms and hypernyms of labels for an asset\n",
            "nltkdata (0.0.1)                 - NLTK Data\n",
            "nltkrest (0.12)                  - NLTK as a REST service\n",
            "nltk_tgrep (1.0.6)               - tgrep2 Searching for NLTK Trees\n",
            "soyuz (0.0.1)                    - NLTK API with SpaCy models.\n",
            "cnpt-leos (0.1.1)                - Custom NLTK part of speech tagger\n",
            "lektor-natural-language (0.3.1)  - Adds NLTK based template filters.\n",
            "nltkjsonnlp (0.0.5)              - The Python NLTK JSON-NLP package\n",
            "wordgrapher (0.3.1)              - Word Graph utility built with NLTK and TextBlob\n",
            "FastBLEU (0.0.41)                - A fast multithreaded C++ implementation of nltk BLEU.\n",
            "bluestocking (0.1.1)             - An information extraction toolkit built on top of NLTK.\n",
            "bookgen (1.0.0)                  - Generates books based on other books using nltk\n",
            "text_operations (0)              - A set of functions that piggyback off nltk to parse text.\n",
            "luvina (0.0.26)                  - High-level API for Natural Language Processing in NLTK\n",
            "SloPOS (1.0)                     - Part of speech tagger for Slovenian (SI) language based on NLTK\n",
            "smart-reading (1.1.6)            - An NLTK-based toolkit aimed at increasing the understanding of various texts.\n",
            "python-pkg (0.0.2)               - Un paquete de NLTK y Scrapy por SEO\n",
            "metanl (0.5.6)                   - Multilingual natural language tools, wrapping NLTK and other systems.\n",
            "fast-bleu (0.0.86)               - A fast multithreaded C++ implementation of nltk BLEU with python wrapper.\n",
            "namextracter (0.0.1)             - A lite library for extracting names from text using nltk wordnet\n",
            "pysummarize (0.6.0)              - Simple multi-language Python and NLTK-based implementation of text summarization\n",
            "damenltk (0.1.0)                 - Learning about Natural Language Tool Kit (NLTK) from tests\n",
            "bedrock (0.1.0.dev10)            - Bedrock is a high-level text pre-processing API, written in Python and can run on NLTK or Spacy as its backends.\n",
            "app-reviews-analysis (0.0.4)     - This library, based on NLTK library and sentience.jar package, is designed to help analyze App comment data, and can implement comment feature extraction, comment emotion analysis, comment star and comment emotion correlation analysis, and comment emotion score prediction\n"
          ],
          "name": "stdout"
        }
      ]
    },
    {
      "cell_type": "code",
      "metadata": {
        "id": "Bg_AtcGxTOJ1",
        "colab_type": "code",
        "colab": {
          "base_uri": "https://localhost:8080/",
          "height": 54
        },
        "outputId": "f9ba34e0-ee30-4a66-efdb-3de37d0e1ec5"
      },
      "source": [
        "fileNames = open(\"/content/op.tsv\")\n",
        "readlines = fileNames.readlines()\n",
        "lib = ['nltk','sklearn','pandas','scipy','numpy']\n",
        "res=[]\n",
        "for i in readlines:\n",
        "  res.append(i)\n",
        "print(res)\n",
        "\n",
        "  \n",
        "\n",
        "  \n"
      ],
      "execution_count": null,
      "outputs": [
        {
          "output_type": "stream",
          "text": [
            "['Package                       Version        \\n', '----------------------------- ---------------\\n', 'absl-py                       0.8.1          \\n', 'alabaster                     0.7.12         \\n', 'albumentations                0.1.12         \\n', 'altair                        4.1.0          \\n', 'argon2-cffi                   20.1.0         \\n', 'asgiref                       3.2.10         \\n', 'astor                         0.8.1          \\n', 'astropy                       4.0.1.post1    \\n', 'astunparse                    1.6.3          \\n', 'atari-py                      0.2.6          \\n', 'atomicwrites                  1.4.0          \\n', 'attrs                         20.1.0         \\n', 'audioread                     2.1.8          \\n', 'autograd                      1.3            \\n', 'Babel                         2.8.0          \\n', 'backcall                      0.2.0          \\n', 'beautifulsoup4                4.6.3          \\n', 'bleach                        3.1.5          \\n', 'blis                          0.4.1          \\n', 'bokeh                         2.1.1          \\n', 'boto                          2.49.0         \\n', 'boto3                         1.14.48        \\n', 'botocore                      1.17.48        \\n', 'Bottleneck                    1.3.2          \\n', 'branca                        0.4.1          \\n', 'bs4                           0.0.1          \\n', 'CacheControl                  0.12.6         \\n', 'cachetools                    4.1.1          \\n', 'catalogue                     1.0.0          \\n', 'certifi                       2020.6.20      \\n', 'cffi                          1.14.2         \\n', 'chainer                       7.4.0          \\n', 'chardet                       3.0.4          \\n', 'click                         7.1.2          \\n', 'cloudpickle                   1.3.0          \\n', 'cmake                         3.12.0         \\n', 'cmdstanpy                     0.4.0          \\n', 'colorlover                    0.3.0          \\n', 'community                     1.0.0b1        \\n', 'contextlib2                   0.5.5          \\n', 'convertdate                   2.2.1          \\n', 'coverage                      3.7.1          \\n', 'coveralls                     0.5            \\n', 'crcmod                        1.7            \\n', 'cufflinks                     0.17.3         \\n', 'cvxopt                        1.2.5          \\n', 'cvxpy                         1.0.31         \\n', 'cycler                        0.10.0         \\n', 'cymem                         2.0.3          \\n', 'Cython                        0.29.21        \\n', 'daft                          0.0.4          \\n', 'dask                          2.12.0         \\n', 'dataclasses                   0.7            \\n', 'datascience                   0.10.6         \\n', 'debugpy                       1.0.0rc2       \\n', 'decorator                     4.4.2          \\n', 'defusedxml                    0.6.0          \\n', 'descartes                     1.1.0          \\n', 'dill                          0.3.2          \\n', 'distributed                   1.25.3         \\n', 'Django                        3.1            \\n', 'dlib                          19.18.0        \\n', 'dm-tree                       0.1.5          \\n', 'docopt                        0.6.2          \\n', 'docutils                      0.15.2         \\n', 'dopamine-rl                   1.0.5          \\n', 'earthengine-api               0.1.232        \\n', 'easydict                      1.9            \\n', 'ecos                          2.0.7.post1    \\n', 'editdistance                  0.5.3          \\n', 'en-core-web-sm                2.2.5          \\n', 'entrypoints                   0.3            \\n', 'ephem                         3.7.7.1        \\n', 'et-xmlfile                    1.0.1          \\n', 'fa2                           0.3.5          \\n', 'fancyimpute                   0.4.3          \\n', 'fastai                        1.0.61         \\n', 'fastdtw                       0.3.4          \\n', 'fastprogress                  1.0.0          \\n', 'fastrlock                     0.5            \\n', 'fbprophet                     0.6            \\n', 'feather-format                0.4.1          \\n', 'filelock                      3.0.12         \\n', 'firebase-admin                4.1.0          \\n', 'fix-yahoo-finance             0.0.22         \\n', 'Flask                         1.1.2          \\n', 'folium                        0.8.3          \\n', 'future                        0.16.0         \\n', 'gast                          0.3.3          \\n', 'GDAL                          2.2.2          \\n', 'gdown                         3.6.4          \\n', 'gensim                        3.6.0          \\n', 'geographiclib                 1.50           \\n', 'geopy                         1.17.0         \\n', 'gin-config                    0.3.0          \\n', 'glob2                         0.7            \\n', 'google                        2.0.3          \\n', 'google-api-core               1.16.0         \\n', 'google-api-python-client      1.7.12         \\n', 'google-auth                   1.17.2         \\n', 'google-auth-httplib2          0.0.4          \\n', 'google-auth-oauthlib          0.4.1          \\n', 'google-cloud-bigquery         1.21.0         \\n', 'google-cloud-core             1.0.3          \\n', 'google-cloud-datastore        1.8.0          \\n', 'google-cloud-firestore        1.7.0          \\n', 'google-cloud-language         1.2.0          \\n', 'google-cloud-storage          1.18.1         \\n', 'google-cloud-translate        1.5.0          \\n', 'google-colab                  1.0.0          \\n', 'google-pasta                  0.2.0          \\n', 'google-resumable-media        0.4.1          \\n', 'googleapis-common-protos      1.52.0         \\n', 'googledrivedownloader         0.4            \\n', 'graphviz                      0.10.1         \\n', 'grpcio                        1.31.0         \\n', 'gspread                       3.0.1          \\n', 'gspread-dataframe             3.0.8          \\n', 'gym                           0.17.2         \\n', 'h5py                          2.10.0         \\n', 'HeapDict                      1.0.1          \\n', 'holidays                      0.9.12         \\n', 'holoviews                     1.13.3         \\n', 'html5lib                      1.0.1          \\n', 'httpimport                    0.5.18         \\n', 'httplib2                      0.17.4         \\n', 'httplib2shim                  0.0.3          \\n', 'humanize                      0.5.1          \\n', 'hyperopt                      0.1.2          \\n', 'ideep4py                      2.0.0.post3    \\n', 'idna                          2.10           \\n', 'image                         1.5.32         \\n', 'imageio                       2.4.1          \\n', 'imagesize                     1.2.0          \\n', 'imbalanced-learn              0.4.3          \\n', 'imblearn                      0.0            \\n', 'imgaug                        0.2.9          \\n', 'importlib-metadata            1.7.0          \\n', 'imutils                       0.5.3          \\n', 'inflect                       2.1.0          \\n', 'iniconfig                     1.0.1          \\n', 'intel-openmp                  2020.0.133     \\n', 'intervaltree                  2.1.0          \\n', 'ipykernel                     4.10.1         \\n', 'ipython                       5.5.0          \\n', 'ipython-genutils              0.2.0          \\n', 'ipython-sql                   0.3.9          \\n', 'ipywidgets                    7.5.1          \\n', 'itsdangerous                  1.1.0          \\n', 'jax                           0.1.75         \\n', 'jaxlib                        0.1.52         \\n', 'jdcal                         1.4.1          \\n', 'jedi                          0.17.2         \\n', 'jieba                         0.42.1         \\n', 'Jinja2                        2.11.2         \\n', 'jmespath                      0.10.0         \\n', 'joblib                        0.16.0         \\n', 'jpeg4py                       0.1.4          \\n', 'jsonschema                    2.6.0          \\n', 'jupyter                       1.0.0          \\n', 'jupyter-client                5.3.5          \\n', 'jupyter-console               5.2.0          \\n', 'jupyter-core                  4.6.3          \\n', 'kaggle                        1.5.6          \\n', 'kapre                         0.1.3.1        \\n', 'Keras                         2.4.3          \\n', 'Keras-Preprocessing           1.1.2          \\n', 'keras-vis                     0.4.1          \\n', 'kiwisolver                    1.2.0          \\n', 'knnimpute                     0.1.0          \\n', 'librosa                       0.6.3          \\n', 'lightgbm                      2.2.3          \\n', 'llvmlite                      0.31.0         \\n', 'lmdb                          0.99           \\n', 'lucid                         0.3.8          \\n', 'LunarCalendar                 0.0.9          \\n', 'lxml                          4.2.6          \\n', 'Markdown                      3.2.2          \\n', 'MarkupSafe                    1.1.1          \\n', 'matplotlib                    3.2.2          \\n', 'matplotlib-venn               0.11.5         \\n', 'missingno                     0.4.2          \\n', 'mistune                       0.8.4          \\n', 'mizani                        0.6.0          \\n', 'mkl                           2019.0         \\n', 'mlxtend                       0.14.0         \\n', 'more-itertools                8.4.0          \\n', 'moviepy                       0.2.3.5        \\n', 'mpmath                        1.1.0          \\n', 'msgpack                       1.0.0          \\n', 'multiprocess                  0.70.10        \\n', 'multitasking                  0.0.9          \\n', 'murmurhash                    1.0.2          \\n', 'music21                       5.5.0          \\n', 'natsort                       5.5.0          \\n', 'nbconvert                     5.6.1          \\n', 'nbformat                      5.0.7          \\n', 'networkx                      2.5            \\n', 'nibabel                       3.0.2          \\n', 'nltk                          3.2.5          \\n', 'notebook                      5.3.1          \\n', 'np-utils                      0.5.12.1       \\n', 'numba                         0.48.0         \\n', 'numexpr                       2.7.1          \\n', 'numpy                         1.18.5         \\n', 'nvidia-ml-py3                 7.352.0        \\n', 'oauth2client                  4.1.3          \\n', 'oauthlib                      3.1.0          \\n', 'okgrade                       0.4.3          \\n', 'opencv-contrib-python         4.1.2.30       \\n', 'opencv-python                 4.1.2.30       \\n', 'openpyxl                      2.5.9          \\n', 'opt-einsum                    3.3.0          \\n', 'osqp                          0.6.1          \\n', 'packaging                     20.4           \\n', 'palettable                    3.3.0          \\n', 'pandas                        1.0.5          \\n', 'pandas-datareader             0.8.1          \\n', 'pandas-gbq                    0.11.0         \\n', 'pandas-profiling              1.4.1          \\n', 'pandocfilters                 1.4.2          \\n', 'panel                         0.9.7          \\n', 'param                         1.9.3          \\n', 'parso                         0.7.1          \\n', 'pathlib                       1.0.1          \\n', 'patsy                         0.5.1          \\n', 'pexpect                       4.8.0          \\n', 'pickleshare                   0.7.5          \\n', 'Pillow                        7.0.0          \\n', 'pip                           19.3.1         \\n', 'pip-tools                     4.5.1          \\n', 'plac                          1.1.3          \\n', 'plotly                        4.4.1          \\n', 'plotnine                      0.6.0          \\n', 'pluggy                        0.7.1          \\n', 'portpicker                    1.3.1          \\n', 'prefetch-generator            1.0.1          \\n', 'preshed                       3.0.2          \\n', 'prettytable                   0.7.2          \\n', 'progressbar2                  3.38.0         \\n', 'prometheus-client             0.8.0          \\n', 'promise                       2.3            \\n', 'prompt-toolkit                1.0.18         \\n', 'protobuf                      3.12.4         \\n', 'psutil                        5.4.8          \\n', 'psycopg2                      2.7.6.1        \\n', 'ptyprocess                    0.6.0          \\n', 'py                            1.9.0          \\n', 'pyarrow                       0.14.1         \\n', 'pyasn1                        0.4.8          \\n', 'pyasn1-modules                0.2.8          \\n', 'pycocotools                   2.0.1          \\n', 'pycparser                     2.20           \\n', 'pyct                          0.4.6          \\n', 'pydata-google-auth            1.1.0          \\n', 'pydot                         1.3.0          \\n', 'pydot-ng                      2.0.0          \\n', 'pydotplus                     2.0.2          \\n', 'PyDrive                       1.3.1          \\n', 'pyemd                         0.5.1          \\n', 'pyglet                        1.5.0          \\n', 'Pygments                      2.1.3          \\n', 'pygobject                     3.26.1         \\n', 'pymc3                         3.7            \\n', 'PyMeeus                       0.3.7          \\n', 'pymongo                       3.11.0         \\n', 'pymystem3                     0.2.0          \\n', 'PyOpenGL                      3.1.5          \\n', 'pyparsing                     2.4.7          \\n', 'pyrsistent                    0.16.0         \\n', 'pysndfile                     1.3.8          \\n', 'PySocks                       1.7.1          \\n', 'pystan                        2.19.1.1       \\n', 'pytest                        3.6.4          \\n', 'python-apt                    1.6.5+ubuntu0.3\\n', 'python-chess                  0.23.11        \\n', 'python-dateutil               2.8.1          \\n', 'python-louvain                0.14           \\n', 'python-slugify                4.0.1          \\n', 'python-utils                  2.4.0          \\n', 'pytz                          2018.9         \\n', 'pyviz-comms                   0.7.6          \\n', 'PyWavelets                    1.1.1          \\n', 'PyYAML                        3.13           \\n', 'pyzmq                         19.0.2         \\n', 'qtconsole                     4.7.6          \\n', 'QtPy                          1.9.0          \\n', 'regex                         2019.12.20     \\n', 'requests                      2.23.0         \\n', 'requests-oauthlib             1.3.0          \\n', 'resampy                       0.2.2          \\n', 'retrying                      1.3.3          \\n', 'rpy2                          3.2.7          \\n', 'rsa                           4.6            \\n', 's3transfer                    0.3.3          \\n', 'scikit-image                  0.16.2         \\n', 'scikit-learn                  0.22.2.post1   \\n', 'scipy                         1.4.1          \\n', 'screen-resolution-extra       0.0.0          \\n', 'scs                           2.1.2          \\n', 'seaborn                       0.10.1         \\n', 'Send2Trash                    1.5.0          \\n', 'setuptools                    49.6.0         \\n', 'setuptools-git                1.2            \\n', 'Shapely                       1.7.1          \\n', 'simplegeneric                 0.8.1          \\n', 'six                           1.15.0         \\n', 'sklearn                       0.0            \\n', 'sklearn-pandas                1.8.0          \\n', 'smart-open                    2.1.0          \\n', 'snowballstemmer               2.0.0          \\n', 'sortedcontainers              2.2.2          \\n', 'spacy                         2.2.4          \\n', 'Sphinx                        1.8.5          \\n', 'sphinxcontrib-serializinghtml 1.1.4          \\n', 'sphinxcontrib-websupport      1.2.4          \\n', 'SQLAlchemy                    1.3.19         \\n', 'sqlparse                      0.3.1          \\n', 'srsly                         1.0.2          \\n', 'statsmodels                   0.10.2         \\n', 'sympy                         1.1.1          \\n', 'tables                        3.4.4          \\n', 'tabulate                      0.8.7          \\n', 'tblib                         1.7.0          \\n', 'tensorboard                   2.3.0          \\n', 'tensorboard-plugin-wit        1.7.0          \\n', 'tensorboardcolab              0.0.22         \\n', 'tensorflow                    2.3.0          \\n', 'tensorflow-addons             0.8.3          \\n', 'tensorflow-datasets           2.1.0          \\n', 'tensorflow-estimator          2.3.0          \\n', 'tensorflow-gcs-config         2.3.0          \\n', 'tensorflow-hub                0.9.0          \\n', 'tensorflow-metadata           0.23.0         \\n', 'tensorflow-privacy            0.2.2          \\n', 'tensorflow-probability        0.11.0         \\n', 'termcolor                     1.1.0          \\n', 'terminado                     0.8.3          \\n', 'testpath                      0.4.4          \\n', 'text-unidecode                1.3            \\n', 'textblob                      0.15.3         \\n', 'textgenrnn                    1.4.1          \\n', 'Theano                        1.0.5          \\n', 'thinc                         7.4.0          \\n', 'tifffile                      2020.8.25      \\n', 'toml                          0.10.1         \\n', 'toolz                         0.10.0         \\n', 'torch                         1.6.0+cu101    \\n', 'torchsummary                  1.5.1          \\n', 'torchtext                     0.3.1          \\n', 'torchvision                   0.7.0+cu101    \\n', 'tornado                       5.1.1          \\n', 'tqdm                          4.41.1         \\n', 'traitlets                     4.3.3          \\n', 'tweepy                        3.6.0          \\n', 'typeguard                     2.7.1          \\n', 'typing-extensions             3.7.4.3        \\n', 'tzlocal                       1.5.1          \\n', 'umap-learn                    0.4.6          \\n', 'uritemplate                   3.0.1          \\n', 'urllib3                       1.24.3         \\n', 'vega-datasets                 0.8.0          \\n', 'wasabi                        0.7.1          \\n', 'wcwidth                       0.2.5          \\n', 'webencodings                  0.5.1          \\n', 'Werkzeug                      1.0.1          \\n', 'wheel                         0.35.1         \\n', 'widgetsnbextension            3.5.1          \\n', 'wordcloud                     1.5.0          \\n', 'wrapt                         1.12.1         \\n', 'xarray                        0.15.1         \\n', 'xgboost                       0.90           \\n', 'xkit                          0.0.0          \\n', 'xlrd                          1.1.0          \\n', 'xlwt                          1.3.0          \\n', 'yellowbrick                   0.9.1          \\n', 'zict                          2.0.0          \\n', 'zipp                          3.1.0          \\n']\n"
          ],
          "name": "stdout"
        }
      ]
    }
  ]
}